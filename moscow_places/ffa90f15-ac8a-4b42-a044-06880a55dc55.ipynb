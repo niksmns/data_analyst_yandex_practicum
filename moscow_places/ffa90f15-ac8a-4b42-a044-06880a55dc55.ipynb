{
 "cells": [
  {
   "cell_type": "markdown",
   "id": "abb00a63",
   "metadata": {},
   "source": [
    "# **Рынок заведений общественного питания Москвы**\n",
    "\n",
    "Инвесторы из фонда «Shut Up and Take My Money» решили попробовать себя в новой области и открыть заведение общественного питания в Москве. Заказчики ещё не знают, что это будет за место: кафе, ресторан, пиццерия, паб или бар, — и какими будут расположение, меню и цены.\n",
    "Для начала они просят вас — аналитика — подготовить исследование рынка Москвы, найти интересные особенности и презентовать полученные результаты, которые в будущем помогут в выборе подходящего инвесторам места."
   ]
  },
  {
   "cell_type": "markdown",
   "id": "e3192957",
   "metadata": {},
   "source": [
    "**Цель исследования:** найти интересные особенности и презентовать полученные результаты, которые в будущем помогут в выборе подходящего инвесторам места\n",
    "\n",
    "**Ход исследования:**\n",
    "\n",
    "- Изучение общей информации датасета\n",
    "- Предобработка данных\n",
    "- Анализ данных\n",
    "- Детализация данных открытие кофейни\n"
   ]
  },
  {
   "cell_type": "markdown",
   "id": "d2ca911c",
   "metadata": {},
   "source": [
    "# **Описание данных**"
   ]
  },
  {
   "cell_type": "markdown",
   "id": "8f4cfae9",
   "metadata": {},
   "source": [
    "**Файл `moscow_places.csv`:**\n",
    "\n",
    "`name` — название заведения;\n",
    "\n",
    "`address` — адрес заведения;\n",
    "\n",
    "`category` — категория заведения, например «кафе», «пиццерия» или «кофейня»;\n",
    "\n",
    "`hours` — информация о днях и часах работы;\n",
    "\n",
    "`lat` — широта географической точки, в которой находится заведение;\n",
    "\n",
    "`lng` — долгота географической точки, в которой находится заведение;\n",
    "\n",
    "`rating` — рейтинг заведения по оценкам пользователей в Яндекс Картах (высшая оценка — 5.0);\n",
    "\n",
    "`price` — категория цен в заведении, например «средние», «ниже среднего», «выше среднего» и так далее;\n",
    "\n",
    "`avg_bill` — строка, которая хранит среднюю стоимость заказа в виде диапазона, например:\n",
    "  \n",
    "«Средний счёт: 1000–1500 ₽»;\n",
    "«Цена чашки капучино: 130–220 ₽»;\n",
    "«Цена бокала пива: 400–600 ₽».\n",
    "и так далее;\n",
    "\n",
    "`middle_avg_bill` — число с оценкой среднего чека, которое указано только для значений из столбца avg_bill, начинающихся с подстроки «Средний счёт»:\n",
    "  \n",
    "Если в строке указан ценовой диапазон из двух значений, в столбец войдёт медиана этих двух значений.\n",
    "Если в строке указано одно число — цена без диапазона, то в столбец войдёт это число.\n",
    "Если значения нет или оно не начинается с подстроки «Средний счёт», то в столбец ничего не войдёт.\n",
    "\n",
    "`middle_coffee_cup` — число с оценкой одной чашки капучино, которое указано только для значений из столбца avg_bill, начинающихся с подстроки «Цена одной чашки капучино»:\n",
    "  \n",
    "Если в строке указан ценовой диапазон из двух значений, в столбец войдёт медиана этих двух значений.\n",
    "Если в строке указано одно число — цена без диапазона, то в столбец войдёт это число.\n",
    "Если значения нет или оно не начинается с подстроки «Цена одной чашки капучино», то в столбец ничего не войдёт.\n",
    "\n",
    "`chain` — число, выраженное 0 или 1, которое показывает, является ли заведение сетевым (для маленьких сетей могут встречаться ошибки):\n",
    "0 — заведение не является сетевым\n",
    "1 — заведение является сетевым\n",
    "\n",
    "`district` — административный район, в котором находится заведение, например Центральный административный округ;\n",
    "\n",
    "`seats` — количество посадочных мест.\n"
   ]
  },
  {
   "cell_type": "markdown",
   "id": "f66a1770",
   "metadata": {},
   "source": [
    "## **Откроем файл и изучим общую информацию**"
   ]
  },
  {
   "cell_type": "code",
   "execution_count": null,
   "id": "a307f6b4",
   "metadata": {},
   "outputs": [],
   "source": [
    "import pandas as pd\n",
    "import matplotlib.pyplot as plt\n",
    "import seaborn as sns\n",
    "from plotly import graph_objects as go\n",
    "import plotly.express as px\n",
    "import warnings\n",
    "import folium\n",
    "import json\n",
    "from folium import Map, Choropleth, Marker\n",
    "from folium.plugins import MarkerCluster"
   ]
  },
  {
   "cell_type": "code",
   "execution_count": null,
   "id": "ae20e322",
   "metadata": {},
   "outputs": [],
   "source": [
    "try:\n",
    "    moscow_exp = pd.read_csv(r'C:\\Users\\niksmns\\Desktop\\moscow_places\\moscow_places.csv')\n",
    "    state_map = r'https://code.s3.yandex.net/data-analyst/admin_level_geomap.geojson'\n",
    "except:\n",
    "    moscow_exp = pd.read_csv('/datasets/moscow_places.csv')\n",
    "    state_map = '/datasets/admin_level_geomap.geojson'"
   ]
  },
  {
   "cell_type": "code",
   "execution_count": null,
   "id": "f736a98a",
   "metadata": {
    "scrolled": false
   },
   "outputs": [],
   "source": [
    "def general_info(data):\n",
    "    display(data.head(10))\n",
    "    display(data.info())\n",
    "    display(pd.DataFrame(round(data.isna().mean()*100,)).style.background_gradient('coolwarm'))\n",
    "    display('Количество дубликатов:', data.duplicated().sum())\n",
    "    display(data.columns)\n",
    "    display(data.describe())"
   ]
  },
  {
   "cell_type": "code",
   "execution_count": null,
   "id": "e902a0a0",
   "metadata": {
    "scrolled": false
   },
   "outputs": [],
   "source": [
    "general_info(moscow_exp)"
   ]
  },
  {
   "cell_type": "code",
   "execution_count": null,
   "id": "9492e143",
   "metadata": {},
   "outputs": [],
   "source": [
    "work = moscow_exp['lat']astype + moscow_exp['lng']\n",
    "work"
   ]
  },
  {
   "cell_type": "markdown",
   "id": "700836d8",
   "metadata": {},
   "source": [
    "<div style=\"border-radius: 15px; box-shadow: 4px 4px 4px; border: solid green 2px; padding: 20px\">\n",
    "    \n",
    "Изучили информацию о датасете, было найдено много пропусков.\n",
    "Также в ходе ручной проверки на достоверность данных было выявлено много некоректоной информации. Скорее всего этому послужила ошибка ввода данных и неверно настроенные алгоритмы программы\n",
    "</div>"
   ]
  },
  {
   "cell_type": "markdown",
   "id": "2acf3c9d",
   "metadata": {},
   "source": [
    "## **Предобработка данных**"
   ]
  },
  {
   "cell_type": "code",
   "execution_count": null,
   "id": "cac3da03",
   "metadata": {},
   "outputs": [],
   "source": [
    "# создадим колонку с улицами разделив строки методом split\n",
    "moscow_exp['street'] = moscow_exp['address'].str.split(',').str[1]\n",
    "moscow_exp['street']"
   ]
  },
  {
   "cell_type": "code",
   "execution_count": null,
   "id": "a57ad407",
   "metadata": {},
   "outputs": [],
   "source": [
    "# посмотрим какие есть значения\n",
    "moscow_exp['hours'].value_counts()"
   ]
  },
  {
   "cell_type": "code",
   "execution_count": null,
   "id": "84de7b29",
   "metadata": {},
   "outputs": [],
   "source": [
    "# функция для категорий графика работы 24/7\n",
    "def hours_category(row):\n",
    "    try:\n",
    "        if 'ежедневно' and 'круглосуточно' in row:\n",
    "            return True\n",
    "        else:\n",
    "            return False\n",
    "    except:\n",
    "        return 'неизвестно'"
   ]
  },
  {
   "cell_type": "code",
   "execution_count": null,
   "id": "7113111f",
   "metadata": {},
   "outputs": [],
   "source": [
    "# применяем нашу функцию \n",
    "moscow_exp['is_24/7'] = moscow_exp['hours'].apply(hours_category).astype('bool')\n",
    "# проверяем\n",
    "#moscow_exp[['hours', 'is_24/7']]"
   ]
  },
  {
   "cell_type": "code",
   "execution_count": null,
   "id": "24de0974",
   "metadata": {},
   "outputs": [],
   "source": [
    "# проверяем корректность функции\n",
    "#moscow_exp[['hours', 'is_24/7']].loc[moscow_exp['is_24/7'] == 'неизвестно'].head(5)"
   ]
  },
  {
   "cell_type": "code",
   "execution_count": null,
   "id": "44df92d7",
   "metadata": {},
   "outputs": [],
   "source": [
    "# ставим заглушки в пропусках \n",
    "moscow_exp['hours'] = moscow_exp['hours'].fillna('неизвестно')\n",
    "moscow_exp['price'] = moscow_exp['price'].fillna('неизвестно')\n",
    "moscow_exp['avg_bill'] = moscow_exp['avg_bill'].fillna('неизвестно')\n",
    "moscow_exp['seats'] = moscow_exp['seats'].astype(int, errors='ignore')\n",
    "moscow_exp['middle_avg_bill'] = moscow_exp['middle_avg_bill'].astype(int, errors='ignore')\n",
    "moscow_exp['middle_coffee_cup'] = moscow_exp['middle_coffee_cup'].astype(int, errors='ignore')"
   ]
  },
  {
   "cell_type": "code",
   "execution_count": null,
   "id": "2cf15c6e",
   "metadata": {},
   "outputs": [],
   "source": [
    "fig, axs = plt.subplots(1, 2, figsize=(16, 8))\n",
    "\n",
    "sns.boxplot(data=moscow_exp, x='category', y='seats', ax=axs[0])\n",
    "axs[0].tick_params(axis='x', rotation=25)\n",
    "axs[0].tick_params(axis='y', rotation=25)\n",
    "axs[0].set_title('График ящик с усами для количества мест по категориям заведения V1')\n",
    "axs[0].set_xlabel('Категория заведения')\n",
    "axs[0].set_ylabel('Кол-во мест')\n",
    "sns.boxplot(data=moscow_exp, x='category', y='seats', ax=axs[1]).set(ylim=(0, 400))\n",
    "axs[1].tick_params(axis='x', rotation=25)\n",
    "axs[1].tick_params(axis='y', rotation=25)\n",
    "axs[1].set_title('График ящик с усами для количества мест по категориям заведения V2')\n",
    "axs[1].set_xlabel('Категория заведения')\n",
    "axs[1].set_ylabel('Кол-во мест')\n",
    "plt.show()"
   ]
  },
  {
   "cell_type": "code",
   "execution_count": null,
   "id": "cd7b6ed3",
   "metadata": {},
   "outputs": [],
   "source": [
    "# создаем столбец для поиска неявных дубликатов\n",
    "moscow_exp['address'] = moscow_exp['address'].str.lower()\n",
    "moscow_exp['name'] = moscow_exp['name'].str.lower()\n",
    "moscow_exp['duplicate'] = moscow_exp['address'] + moscow_exp['name']"
   ]
  },
  {
   "cell_type": "code",
   "execution_count": null,
   "id": "62464259",
   "metadata": {},
   "outputs": [],
   "source": [
    "# смотрим неявные дубликаты\n",
    "moscow_exp[moscow_exp['duplicate'].duplicated() == True]['duplicate']"
   ]
  },
  {
   "cell_type": "code",
   "execution_count": null,
   "id": "6d26be02",
   "metadata": {},
   "outputs": [],
   "source": [
    "moscow_exp['duplicate'] = moscow_exp[moscow_exp['duplicate'].duplicated() == False]['duplicate']"
   ]
  },
  {
   "cell_type": "code",
   "execution_count": null,
   "id": "2f6f882b",
   "metadata": {},
   "outputs": [],
   "source": [
    "moscow_exp = moscow_exp.drop(labels=[215, 1511, 2420, 3109], axis=0)\n",
    "moscow_exp = moscow_exp.drop(columns='duplicate')"
   ]
  },
  {
   "cell_type": "code",
   "execution_count": null,
   "id": "03630727",
   "metadata": {},
   "outputs": [],
   "source": [
    "# выявляем неявные дубликаты\n",
    "moscow_exp[moscow_exp['name'].str.contains('домино')]['name'].unique()\n",
    "# исправляем \n",
    "moscow_exp['name'] = moscow_exp['name'].replace(['доминос пицца', \"домино'с\" ], \"домино'с пицца\")\n",
    "# проверяем\n",
    "moscow_exp[moscow_exp['name'].str.contains('домино')]['name'].unique()"
   ]
  },
  {
   "cell_type": "code",
   "execution_count": null,
   "id": "12736324",
   "metadata": {},
   "outputs": [],
   "source": [
    "# выявляем неявные дубликаты\n",
    "moscow_exp[moscow_exp['name'].str.contains('яндекс')]['name'].unique()\n",
    "# исправляем \n",
    "moscow_exp['name'] = moscow_exp['name'].replace('яндекс.лавка', 'яндекс лавка')\n",
    "# проверяем\n",
    "moscow_exp[moscow_exp['name'].str.contains('яндекс')]['name'].unique()"
   ]
  },
  {
   "cell_type": "markdown",
   "id": "73fef947",
   "metadata": {},
   "source": [
    "<div style=\"border-radius: 15px; box-shadow: 4px 4px 4px; border: solid green 2px; padding: 20px\">\n",
    "\n",
    "Поменяли тип данных у колонок где смогли. Заполнили пропуски заглушками. Также добавили столбцы улиц заведений и столбец работы 24/7 и удалили неявные дубликаты\n",
    "</div>"
   ]
  },
  {
   "cell_type": "markdown",
   "id": "4c1b880a",
   "metadata": {},
   "source": [
    "## **Анализ данных**"
   ]
  },
  {
   "cell_type": "markdown",
   "id": "53ed7c45",
   "metadata": {},
   "source": [
    "### *Количество заведений по категориям*"
   ]
  },
  {
   "cell_type": "code",
   "execution_count": null,
   "id": "94194029",
   "metadata": {},
   "outputs": [],
   "source": [
    "mos_category_cnt = (\n",
    "    moscow_exp.pivot_table(index='category', values='name', aggfunc='count')\n",
    "    .reset_index())\n",
    "mos_category_cnt.sort_values(by='name', ascending=False)\n",
    "mos_category_cnt['percent'] = round(mos_category_cnt['name'] / mos_category_cnt['name'].sum() * 100, 2)\n",
    "mos_category_cnt = mos_category_cnt.sort_values(by='percent', ascending=False)"
   ]
  },
  {
   "cell_type": "code",
   "execution_count": null,
   "id": "8b9830e7",
   "metadata": {},
   "outputs": [],
   "source": [
    "fig = px.bar(mos_category_cnt, x=mos_category_cnt['category'], y=mos_category_cnt['name'] ,text='percent')\n",
    "\n",
    "fig.update_traces(textposition='inside', textangle=0)\n",
    "fig.update_layout(title='Количество заведений по категориям и их доли',\n",
    "                  xaxis_title='Категория заведений',\n",
    "                  yaxis_title='Кол-во заведений')"
   ]
  },
  {
   "cell_type": "markdown",
   "id": "f58e70e3",
   "metadata": {},
   "source": [
    "<div style=\"border-radius: 15px; box-shadow: 4px 4px 4px; border: solid green 2px; padding: 20px\">\n",
    "Видим, что больше всего заведений в Москве - это кафе, рестораны и кофейни.\n",
    "Кафе и рестораны  занимают ~1/4 заведений Москвы, также видим, что у кофеен большая доля заведений, вероятно это связано с \"четвертой волной\", когда стало переосмысление кофе как продукта, и оно превратилось в науку, спорт и искусство.\n",
    "Люди стали чаще открывать кофейни и кофейные точки, где-то осталась философия этой четвертой волны, а где-то осталась только коммерция. Также открытие простенькой кофейни не столько финансово затратно, как открытие других категорий заведений.\n",
    "</div>"
   ]
  },
  {
   "cell_type": "markdown",
   "id": "ec126d3a",
   "metadata": {},
   "source": [
    "### *Посадочные места заведений по категориям*"
   ]
  },
  {
   "cell_type": "code",
   "execution_count": null,
   "id": "3bc384eb",
   "metadata": {},
   "outputs": [],
   "source": [
    "mos_seats = moscow_exp.pivot_table(index='category', values='seats', aggfunc='median').reset_index().sort_values(by='seats', ascending=False)\n",
    "fig = px.bar(mos_seats, x=mos_seats['category'], y=mos_seats['seats'], text_auto='.0f')\n",
    "\n",
    "fig.update_traces(textposition='inside', textangle=0)\n",
    "fig.update_layout(title='Среднее количество мест по категориям',\n",
    "                  xaxis_title='Категория заведений',\n",
    "                  yaxis_title='Среднее кол-во мест')"
   ]
  },
  {
   "cell_type": "markdown",
   "id": "06970d11",
   "metadata": {},
   "source": [
    "<div style=\"border-radius: 15px; box-shadow: 4px 4px 4px; border: solid green 2px; padding: 20px\">\n",
    "\n",
    "Поскольку в данных явно какие-то неккореткные аномальные сведения о количестве посадочных мест, выявлили среднее количество посадочных мест через медиану.\n",
    "Выяснилось, что больше всего мест имеют рестораны, бары/пабы и кофейни.\n",
    "</div>"
   ]
  },
  {
   "cell_type": "markdown",
   "id": "e99bac15",
   "metadata": {},
   "source": [
    "### *Сетевые и несетевые заведения*"
   ]
  },
  {
   "cell_type": "code",
   "execution_count": null,
   "id": "3fd2094b",
   "metadata": {},
   "outputs": [],
   "source": [
    "mos_chain = moscow_exp.pivot_table(index='chain', values='name', aggfunc='count').reset_index()\n",
    "fig = go.Figure(data=[go.Pie(labels=mos_chain['chain'].map({1: 'сетевые заведения', 0: 'несетевые заведения'}),\n",
    "                             values=mos_chain['name'])])\n",
    "fig.update_layout(title_text='Доли сетевых/несетевых заведений')\n",
    "fig.show()"
   ]
  },
  {
   "cell_type": "markdown",
   "id": "fe281e60",
   "metadata": {},
   "source": [
    "<div style=\"border-radius: 15px; box-shadow: 4px 4px 4px; border: solid green 2px; padding: 20px\">\n",
    "\n",
    "Несетевых заведений в Москве больше, процентная доля их составляет - 61.9%, сетевых же заведений поменьше, их доля составляет - 38.1%\n",
    "</div>"
   ]
  },
  {
   "cell_type": "code",
   "execution_count": null,
   "id": "e57f02cf",
   "metadata": {},
   "outputs": [],
   "source": [
    "mos_chain_categ = moscow_exp.pivot_table(index='category', values='name', columns='chain', aggfunc='count').reset_index()\n",
    "mos_chain_categ['total_cnt'] = mos_chain_categ[0] + mos_chain_categ[1]\n",
    "mos_chain_categ['percent_chain'] = round(mos_chain_categ[1] / mos_chain_categ['total_cnt'] * 100, 2)\n",
    "mos_chain_categ = mos_chain_categ.sort_values(by='percent_chain', ascending=False)\n",
    "mos_chain_categ"
   ]
  },
  {
   "cell_type": "code",
   "execution_count": null,
   "id": "84d95cc8",
   "metadata": {},
   "outputs": [],
   "source": [
    "fig = px.bar(mos_chain_categ, x=mos_chain_categ['category'], y=mos_chain_categ['percent_chain'], text_auto='.2f')\n",
    "\n",
    "fig.update_traces(textposition='inside', textangle=0)\n",
    "fig.update_layout(title='Доли сетевых заведений в рамках одной категории',\n",
    "                  xaxis_title='Категория заведения',\n",
    "                  yaxis_title='Процентные пункты')"
   ]
  },
  {
   "cell_type": "markdown",
   "id": "242e021c",
   "metadata": {},
   "source": [
    "<div style=\"border-radius: 15px; box-shadow: 4px 4px 4px; border: solid green 2px; padding: 20px\">\n",
    "\n",
    "Булочные, пиццерии и кофейни занимают большую часть сетевых заведений по отношению не к сетевым\n",
    "</div>"
   ]
  },
  {
   "cell_type": "markdown",
   "id": "9e835fab",
   "metadata": {},
   "source": [
    "### *Топ-15 сетевых заведений*"
   ]
  },
  {
   "cell_type": "code",
   "execution_count": null,
   "id": "4e0257e8",
   "metadata": {},
   "outputs": [],
   "source": [
    "mos_chain_top_15 = (\n",
    "    moscow_exp.query('chain == 1')\n",
    "    .groupby(['category','name']).agg({'name':'count'}))\n",
    "mos_chain_top_15.columns = ['count']\n",
    "mos_chain_top_15 = mos_chain_top_15.sort_values(by='count', ascending=False).head(15).reset_index()\n",
    "mos_chain_top_15"
   ]
  },
  {
   "cell_type": "code",
   "execution_count": null,
   "id": "407948f1",
   "metadata": {},
   "outputs": [],
   "source": [
    "fig = px.bar(mos_chain_top_15, x='name', y='count', text_auto='.2f', color='category')\n",
    "\n",
    "fig.update_traces(textposition='inside', textangle=0)\n",
    "fig.update_layout(title='Доли сетевых заведений в рамках одной категории',\n",
    "                  xaxis_title='Категория заведения',\n",
    "                  yaxis_title='Процентные пункты')"
   ]
  },
  {
   "cell_type": "markdown",
   "id": "1f8086da",
   "metadata": {},
   "source": [
    "<div style=\"border-radius: 15px; box-shadow: 4px 4px 4px; border: solid green 2px; padding: 20px\">\n",
    "\n",
    "Как видим, здесь очень много знакомых нам сетевых заведений, среди них очень много кофеен. Также большую часть занимает сетевые пицерии и рестораны\n",
    "</div>"
   ]
  },
  {
   "cell_type": "markdown",
   "id": "e32af066",
   "metadata": {},
   "source": [
    "### *Административные районы*"
   ]
  },
  {
   "cell_type": "code",
   "execution_count": null,
   "id": "6db5bc3d",
   "metadata": {},
   "outputs": [],
   "source": [
    "mos_district_categ = moscow_exp.pivot_table(index='district', columns='category', values='name', aggfunc='count')\n",
    "mos_district_categ['total'] = mos_district_categ[['бар,паб','булочная','быстрое питание','кафе', 'кофейня', 'пиццерия', 'ресторан', 'столовая']].sum(axis=1)\n",
    "mos_district_categ = mos_district_categ.sort_values(by='total', ascending=False)\n",
    "mos_district_categ"
   ]
  },
  {
   "cell_type": "code",
   "execution_count": null,
   "id": "65b30496",
   "metadata": {},
   "outputs": [],
   "source": [
    "mos_district_categ = mos_district_categ.drop(columns='total', axis=1)"
   ]
  },
  {
   "cell_type": "code",
   "execution_count": null,
   "id": "55341168",
   "metadata": {},
   "outputs": [],
   "source": [
    "fig = px.bar(mos_district_categ, text_auto='.0f', orientation='h')\n",
    "fig.update_traces(textposition='inside', textangle=0)\n",
    "fig.update_layout(title='Количество заведений по округам и категориям заведений',\n",
    "                  xaxis_title='Количество заведений',\n",
    "                  yaxis_title='Округа Москвы')"
   ]
  },
  {
   "cell_type": "markdown",
   "id": "3c505dc4",
   "metadata": {},
   "source": [
    "<div style=\"border-radius: 15px; box-shadow: 4px 4px 4px; border: solid green 2px; padding: 20px\">\n",
    "\n",
    "Можем заметить, что в центре больше всего количества заведений каждого типа, в других же округах плюс-минус распределение  одинаковое за исключением Северо-Западного административного округа, там меньше всего заведений почти всех категорий.\n",
    "</div>"
   ]
  },
  {
   "cell_type": "markdown",
   "id": "3c9544c4",
   "metadata": {},
   "source": [
    "### *Распределение средних рейтингов по категориям заведений*"
   ]
  },
  {
   "cell_type": "code",
   "execution_count": null,
   "id": "8bb44939",
   "metadata": {},
   "outputs": [],
   "source": [
    "moscow_exp.pivot_table(index='category', values='rating', aggfunc=['count', 'mean'])"
   ]
  },
  {
   "cell_type": "code",
   "execution_count": null,
   "id": "939eeadf",
   "metadata": {},
   "outputs": [],
   "source": [
    "with warnings.catch_warnings():# воспользуемся библиотекой warnings, чтобы убрать сообщения об ошибках\n",
    "    warnings.simplefilter(\"ignore\", category=UserWarning)\n",
    "    plt.figure(figsize=(16,8)) \n",
    "    ax = sns.swarmplot(y='rating', x='category', alpha=0.5, data=moscow_exp) # воспользуемся категориальной точечной диаграммой\n",
    "    ax.set_title('Распределение средних рейтингов по категориям заведений')\n",
    "    ax.set_xlabel('Категория заведения')\n",
    "    ax.set_ylabel('Рейтинг')\n",
    "    ax.tick_params(axis='x', rotation=45)\n",
    "    ax.tick_params(axis='y', rotation=45)"
   ]
  },
  {
   "cell_type": "markdown",
   "id": "f856d0ca",
   "metadata": {},
   "source": [
    "<div style=\"border-radius: 15px; box-shadow: 4px 4px 4px; border: solid green 2px; padding: 20px\">\n",
    "\n",
    "Видим, что основное количество оценок приходится на кафе, рестораны и кофейни. Разнообразие же в рейтинге обладают кафе, рестораны и заведения быстрого питания. Усредненные же рейтиги различаются не очень сильно по всем категориям, но булочные, столовые и заведения быстрого питания меньше всего получают самые высокие оценки.\n",
    "</div>"
   ]
  },
  {
   "cell_type": "markdown",
   "id": "375013a1",
   "metadata": {},
   "source": [
    "### *Фоновая картограмма*"
   ]
  },
  {
   "cell_type": "code",
   "execution_count": null,
   "id": "ccabf7f3",
   "metadata": {},
   "outputs": [],
   "source": [
    "# координаты центра Москвы\n",
    "moscow_lat, moscow_lng = 55.751244, 37.618423\n",
    "# создаем карту Москвы\n",
    "mos_map = Map(location=[moscow_lat, moscow_lng], zoom_start=10)\n",
    "\n",
    "# создаём хороплет с помощью конструктора Choropleth и добавляем его на карту\n",
    "Choropleth(\n",
    "    geo_data=state_map,\n",
    "    data=moscow_exp,\n",
    "    columns=['district', 'rating'],\n",
    "    key_on='feature.name',\n",
    "    fill_color='YlGn',\n",
    "    fill_opacity=0.8,\n",
    "    legend_name='Медианный рейтинг заведений по районам',\n",
    ").add_to(mos_map)\n",
    "\n",
    "marker_cluster = MarkerCluster().add_to(mos_map)\n",
    "\n",
    "# пишем функцию, которая принимает строку датафрейма,\n",
    "# создаёт маркер в текущей точке и добавляет его в кластер marker_cluster\n",
    "def create_clusters(row):\n",
    "    Marker(\n",
    "        [row['lat'], row['lng']],\n",
    "        popup=f\"{row['name']} {row['rating']}\",\n",
    "    ).add_to(marker_cluster)\n",
    "\n",
    "# применяем функцию create_clusters() к каждой строке датафрейма\n",
    "moscow_exp.apply(create_clusters, axis=1)\n",
    "\n",
    "# выводим нашу карту\n",
    "mos_map\n"
   ]
  },
  {
   "cell_type": "markdown",
   "id": "e88c4f28",
   "metadata": {},
   "source": [
    "<div style=\"border-radius: 15px; box-shadow: 4px 4px 4px; border: solid green 2px; padding: 20px\">\n",
    "\n",
    "Можем выделить, что почти все регионы имеет среднюю оценку в 4+. Выделяются у нас тут два региона: Северо-Восточный административный округ, который имеет больше всего положительных оценок заведений, и Восточный административный округ, который имеет меньше положительных оценок и средний рейтинг можно назвать удовлетворительным.\n",
    "</div>"
   ]
  },
  {
   "cell_type": "markdown",
   "id": "399d46ad",
   "metadata": {},
   "source": [
    "### *Топ-15 улиц по количеству заведений*"
   ]
  },
  {
   "cell_type": "code",
   "execution_count": null,
   "id": "ea6a32e2",
   "metadata": {},
   "outputs": [],
   "source": [
    "mos_street_top15 = (\n",
    "    moscow_exp.pivot_table(index='street', columns='category', values='name', aggfunc='count')\n",
    ")\n",
    "mos_street_top15['total'] = mos_street_top15[['бар,паб','булочная','быстрое питание','кафе', 'кофейня', 'пиццерия', 'ресторан', 'столовая']].sum(axis=1)\n",
    "mos_street_top15 = mos_street_top15.sort_values(by='total', ascending=False).head(15)\n",
    "mos_street_top15"
   ]
  },
  {
   "cell_type": "code",
   "execution_count": null,
   "id": "a51ade79",
   "metadata": {},
   "outputs": [],
   "source": [
    "mos_street_top15 = mos_street_top15.drop(columns=['total'], axis=1)\n",
    "fig = px.bar(mos_street_top15, text_auto='.0f', orientation='h')\n",
    "fig.update_traces(textposition='inside', textangle=0)\n",
    "fig.update_layout(title='Количество заведений по улицами и категориям',\n",
    "                  xaxis_title='Округа Москвы',\n",
    "                  yaxis_title='Сумма средних чеков')"
   ]
  },
  {
   "cell_type": "markdown",
   "id": "c4358c26",
   "metadata": {},
   "source": [
    "<div style=\"border-radius: 15px; box-shadow: 4px 4px 4px; border: solid green 2px; padding: 20px\">\n",
    "Больше всего находится заведений на проспекте Мира, меньше же всего находится на Пятницкой улицы.\n",
    "Думаю такое количество связано с местоположением и протяженностью улиц\n",
    "</div>"
   ]
  },
  {
   "cell_type": "markdown",
   "id": "bed45200",
   "metadata": {},
   "source": [
    "### *Улицы с одним объектом общепита*"
   ]
  },
  {
   "cell_type": "code",
   "execution_count": null,
   "id": "6054d46c",
   "metadata": {},
   "outputs": [],
   "source": [
    "msones = moscow_exp\n",
    "msones['name_cnt'] = moscow_exp['name']\n",
    "mos_one_street = msones.pivot_table(index='street', values='name_cnt', aggfunc='count')\n",
    "mos_one_street = mos_one_street.reset_index().query('name_cnt == 1')\n",
    "mac = moscow_exp[['name','lat', 'lng', 'street', 'rating', 'category', 'district']]\n",
    "merge_one_st = mos_one_street.merge(mac)\n",
    "merge_one_st"
   ]
  },
  {
   "cell_type": "code",
   "execution_count": null,
   "id": "ca2b310a",
   "metadata": {},
   "outputs": [],
   "source": [
    "moscow_lat, moscow_lng = 55.751244, 37.618423\n",
    "\n",
    "# создаём карту Москвы\n",
    "mos_map = Map(location=[moscow_lat, moscow_lng], zoom_start=10)\n",
    "# создаём пустой кластер, добавляем его на карту\n",
    "marker_cluster = MarkerCluster().add_to(mos_map)\n",
    "\n",
    "# пишем функцию, которая принимает строку датафрейма,\n",
    "# создаёт маркер в текущей точке и добавляет его в кластер marker_cluster\n",
    "\n",
    "Choropleth(\n",
    "    geo_data=state_map,\n",
    "    data=merge_one_st,\n",
    "    columns=['district', 'rating'],\n",
    "    key_on='feature.name',\n",
    "    fill_color='RdPu',\n",
    "    fill_opacity=0.8,\n",
    "    legend_name='Медианный рейтинг заведений по районам',\n",
    ").add_to(mos_map)\n",
    "\n",
    "marker_cluster = MarkerCluster().add_to(mos_map)\n",
    "\n",
    "def create_clusters(row):\n",
    "    Marker(\n",
    "        [row['lat'], row['lng']],\n",
    "        popup=f\"{row['name']} {row['category']} {row['rating']}\",\n",
    "    ).add_to(marker_cluster)\n",
    "\n",
    "# применяем функцию create_clusters() к каждой строке датафрейма\n",
    "merge_one_st.apply(create_clusters, axis=1)\n",
    "\n",
    "# выводим карту\n",
    "mos_map"
   ]
  },
  {
   "cell_type": "markdown",
   "id": "b9d98248",
   "metadata": {},
   "source": [
    "<div style=\"border-radius: 15px; box-shadow: 4px 4px 4px; border: solid green 2px; padding: 20px\">\n",
    "\n",
    "Как заметно, в центре больше всего скоплений одного заведения на одну улицу, скорее всего это связано с большим количеством коротких проездов и переулков, да еще и играет роль, что в центре естественно будет больше заведений. Далее по мере удаления от ЦФО, наблюдаем тенденцию уменьшения кол-ва заведения и улицы становятся длиннее из-за этого вероятность одного заведения на одной улице значительно уменьшается, да и заведений становится меньше. Также заметно, что в парковых, набережных и железнодорожных  зонах чаще бывает одно заведение.\n",
    "</div>"
   ]
  },
  {
   "cell_type": "markdown",
   "id": "74a1fca4",
   "metadata": {},
   "source": [
    "### *Значения средних чеков по округам*"
   ]
  },
  {
   "cell_type": "code",
   "execution_count": null,
   "id": "0f362863",
   "metadata": {},
   "outputs": [],
   "source": [
    "median_district = moscow_exp.pivot_table(index='district', values='middle_avg_bill', aggfunc='median').reset_index()\n",
    "median_district.columns = ['district', 'middle_avg_district']\n",
    "merge_median_dis = median_district.merge(moscow_exp)\n",
    "merge_median_dis"
   ]
  },
  {
   "cell_type": "code",
   "execution_count": null,
   "id": "64949747",
   "metadata": {},
   "outputs": [],
   "source": [
    "moscow_lat, moscow_lng = 55.751244, 37.618423\n",
    "\n",
    "# создаём карту Москвы\n",
    "mos_dis = Map(location=[moscow_lat, moscow_lng], zoom_start=10)\n",
    "# создаём пустой кластер, добавляем его на карту\n",
    "marker_cluster = MarkerCluster().add_to(mos_dis)\n",
    "\n",
    "# пишем функцию, которая принимает строку датафрейма,\n",
    "# создаёт маркер в текущей точке и добавляет его в кластер marker_cluster\n",
    "\n",
    "Choropleth(\n",
    "    geo_data=state_map,\n",
    "    data=merge_median_dis,\n",
    "    columns=['district', 'middle_avg_district'],\n",
    "    key_on='feature.name',\n",
    "    fill_color='RdPu',\n",
    "    fill_opacity=0.8,\n",
    "    legend_name='Медианный средний чек по районам',\n",
    ").add_to(mos_dis)\n",
    "\n",
    "marker_cluster = MarkerCluster().add_to(mos_dis)\n",
    "\n",
    "def create_clusters(row):\n",
    "    Marker(\n",
    "        [row['lat'], row['lng']],\n",
    "        popup=f\"{row['name']} {row['category']} {row['rating']} {row['avg_bill']}\",\n",
    "    ).add_to(marker_cluster)\n",
    "\n",
    "# применяем функцию create_clusters() к каждой строке датафрейма\n",
    "merge_median_dis.apply(create_clusters, axis=1)\n",
    "\n",
    "# выводим карту\n",
    "mos_dis"
   ]
  },
  {
   "cell_type": "code",
   "execution_count": null,
   "id": "c213e93a",
   "metadata": {},
   "outputs": [],
   "source": [
    "median_dis_categ = merge_median_dis.pivot_table(index='district', columns='category', values='middle_avg_bill', aggfunc='median')\n",
    "median_dis_categ"
   ]
  },
  {
   "cell_type": "code",
   "execution_count": null,
   "id": "35c4df7c",
   "metadata": {
    "scrolled": false
   },
   "outputs": [],
   "source": [
    "fig = px.bar(median_dis_categ, text_auto='.0f', orientation='h')\n",
    "fig.update_traces(textposition='inside', textangle=0)\n",
    "fig.update_layout(title='Средний чек по округам и категориям заведений',\n",
    "                  xaxis_title='Сумма средних чеков',\n",
    "                  yaxis_title='Округа Москвы')"
   ]
  },
  {
   "cell_type": "code",
   "execution_count": null,
   "id": "a6359564",
   "metadata": {},
   "outputs": [],
   "source": [
    "display(moscow_exp['seats'].corr(moscow_exp['middle_avg_bill']))\n",
    "display(moscow_exp['rating'].corr(moscow_exp['middle_avg_bill']))\n",
    "display(moscow_exp['lng'].corr(moscow_exp['middle_avg_bill']))\n",
    "display(moscow_exp['lat'].corr(moscow_exp['middle_avg_bill']))"
   ]
  },
  {
   "cell_type": "markdown",
   "id": "48fe4f28",
   "metadata": {},
   "source": [
    "<div style=\"border-radius: 15px; box-shadow: 4px 4px 4px; border: solid green 2px; padding: 20px\">\n",
    "\n",
    "Проверка пр корреляции особо ничего нам не дала, а значит средний чек зависит от особенностей районов Москвы.\n",
    "Видим, что ЦАО и ЗАО имеют наибольший средний чек, скорее всего это связано с тем, что это самые престижные округа в Москве, на них расположены много важных объектов и достопримечательностей. Из-за этого там живут чаще состоятельные люди, да и много людей приезжает в такие места. Самыми же худшими округами являются СВАО, ЮАО и ЮВАО в этих регионах. Они являются одними из самых густонаселенных округов где построено много новостроек, и имеет проблемы с экологией из-за предприятий. Поэтому в этих районах меньше дорогих ресторанов, да и покупательская способность другая\n",
    "</div>"
   ]
  },
  {
   "cell_type": "markdown",
   "id": "515e660c",
   "metadata": {},
   "source": [
    "<div style=\"border-radius: 15px; box-shadow: 4px 4px 4px; border: solid green 2px; padding: 20px\">\n",
    "\n",
    "<b>Итак, выяснили, что в Москве:</b>\n",
    "\n",
    "- больше всего заведений: кафе, рестораны, кофейни\n",
    "- больше всего мест в заведениях: рестораны, бары/пабы и столовые\n",
    "- больше всего несетевых заведений(61.9%), сетевых меньше(38.1%)\n",
    "- больше всего по количеству сетевых заведений являются кофейни, далее пиццерии, а за ними и рестораны\n",
    "- самая большая сетка из Топ-15 сетевых - Шоколадница, самая маленькая Кофемания\n",
    "- самый большой округ по заведениям Центральный административный округ, а самый маленький Северо-Западный административный округ\n",
    "- усредненные рейтиги различаются не очень сильно по всем категориям. Булочные, столовые и заведения быстрого питания меньше всего получают самые высокие оценки\n",
    "- северо-Восточный административный округ имеет больше всего положительных оценок заведений. Восточный административный округ, имеет меньше положительных оценок\n",
    "- местоположение и протяженность улиц влияет на количество заведений на них\n",
    "- на коротких улицах, проездах и переулках чаще можно встретить только одно заведение, особенно в центре\n",
    "- на средний чек в округах влияет особенности этих округов\n",
    "\n",
    "</div>"
   ]
  },
  {
   "cell_type": "markdown",
   "id": "49834548",
   "metadata": {},
   "source": [
    "## **Открытие кофейни**"
   ]
  },
  {
   "cell_type": "markdown",
   "id": "0753ff0a",
   "metadata": {},
   "source": [
    "### *Количество кофеен и их рейтинг по округам*"
   ]
  },
  {
   "cell_type": "code",
   "execution_count": null,
   "id": "7d9a6d60",
   "metadata": {},
   "outputs": [],
   "source": [
    "moscow_coffee = moscow_exp.query('category == \"кофейня\"')\n",
    "print('В Москве', moscow_coffee['name'].count(), 'кофеен')"
   ]
  },
  {
   "cell_type": "code",
   "execution_count": null,
   "id": "7bbe8c40",
   "metadata": {},
   "outputs": [],
   "source": [
    "mc_pivot_cnt = (\n",
    "    moscow_coffee.pivot_table(index='district', values='name', aggfunc='count')\n",
    "    .reset_index())\n",
    "\n",
    "mc_pivot_rating = (\n",
    "    moscow_coffee.pivot_table(index='district', values='rating', aggfunc=['mean','median'])\n",
    "    .reset_index()\n",
    "    .droplevel(1, axis=1))\n",
    "mc_pivot = mc_pivot_cnt.merge(mc_pivot_rating)\n",
    "mc_pivot.columns = ['Округ', 'Количество кофеен', 'Средний рейтинг', 'Медианный рейтинг']\n",
    "mc_pivot.sort_values(by='Средний рейтинг', ascending=False)"
   ]
  },
  {
   "cell_type": "code",
   "execution_count": null,
   "id": "f9ac281a",
   "metadata": {},
   "outputs": [],
   "source": [
    "moscow_lat, moscow_lng = 55.751244, 37.618423\n",
    "\n",
    "# создаём карту Москвы\n",
    "mos_cofeee = Map(location=[moscow_lat, moscow_lng], zoom_start=10)\n",
    "# создаём пустой кластер, добавляем его на карту\n",
    "\n",
    "marker_cluster = MarkerCluster().add_to(mos_cofeee)\n",
    "\n",
    "def create_clusters(row):\n",
    "    Marker(\n",
    "        [row['lat'], row['lng']],\n",
    "        popup=f\"{row['name']}  {row['rating']} {row['middle_coffee_cup']} {row['is_24/7']}\",\n",
    "    ).add_to(marker_cluster)\n",
    "\n",
    "# применяем функцию create_clusters() к каждой строке датафрейма\n",
    "moscow_coffee.apply(create_clusters, axis=1)\n",
    "\n",
    "heatmap = moscow_coffee[['lat', 'lng']]\n",
    "\n",
    "folium.plugins.HeatMap(heatmap).add_to(mos_cofeee)\n",
    "# выводим карту\n",
    "mos_cofeee"
   ]
  },
  {
   "cell_type": "markdown",
   "id": "da8a113e",
   "metadata": {},
   "source": [
    "<div style=\"border-radius: 15px; box-shadow: 4px 4px 4px; border: solid green 2px; padding: 20px\">\n",
    "\n",
    "Как видим, в Москве 1413 кофееен. Больше всего кофеен сосредоточено в Центральном, Северном и Северо-Восточном административном округе, меньше всего кофеен находится в Северо-Западном, Юго-Восточном, Юго-Западном административном округе.\n",
    "Из особенностей размещение видим, что много кофеен открывают у жилищного комплекса, ТЦ и ТРЦ, учебных заведений, бизнес-центрах и арт-пространств, то есть где всегда есть поток людей.\n",
    "Средний рейтинг округа больше всего в ЦАО, а меньше всего в ЗАО.\n",
    "</div>"
   ]
  },
  {
   "cell_type": "markdown",
   "id": "69d22421",
   "metadata": {},
   "source": [
    "### *Круглосуточные кофейни*"
   ]
  },
  {
   "cell_type": "code",
   "execution_count": null,
   "id": "d95f23db",
   "metadata": {},
   "outputs": [],
   "source": [
    "mos_cof_24_7 = moscow_exp[(moscow_exp['is_24/7'] == True) & (moscow_exp['category'] == 'кофейня')]\n",
    "print('Кофеен 24/7:', mos_cof_24_7['name'].count())"
   ]
  },
  {
   "cell_type": "code",
   "execution_count": null,
   "id": "3c791903",
   "metadata": {},
   "outputs": [],
   "source": [
    "mos_chain = mos_cof_24_7.pivot_table(index='district', columns='chain', values='name', aggfunc='count')\n",
    "mos_chain['total'] = mos_chain[[0, 1]].sum(axis=1)\n",
    "mos_chain.sort_values(by='total', ascending=False)"
   ]
  },
  {
   "cell_type": "code",
   "execution_count": null,
   "id": "d60650e8",
   "metadata": {},
   "outputs": [],
   "source": [
    "mos_chain = mos_chain.drop(columns='total', axis=1)"
   ]
  },
  {
   "cell_type": "code",
   "execution_count": null,
   "id": "6b702117",
   "metadata": {},
   "outputs": [],
   "source": [
    "fig = px.bar(mos_chain, text_auto='.0f', orientation='h')\n",
    "fig.update_traces(textposition='inside', textangle=0)\n",
    "fig.update_layout(title='Средний чек по округам и категориям заведений',\n",
    "                  xaxis_title='Количество кофеен',\n",
    "                  yaxis_title='Округа Москвы')"
   ]
  },
  {
   "cell_type": "code",
   "execution_count": null,
   "id": "fe53f3ba",
   "metadata": {},
   "outputs": [],
   "source": [
    "mos_chain_pie = mos_cof_24_7.pivot_table(index='chain', values='name', aggfunc='count').reset_index()\n",
    "fig = go.Figure(data=[go.Pie(labels=mos_chain_pie['chain'].map({1: 'сетевые заведения', 0: 'несетевые заведения'}),\n",
    "                             values=mos_chain_pie['name'])])\n",
    "fig.update_layout(title_text='Доли сетевых/несетевых заведений')\n",
    "fig.show() "
   ]
  },
  {
   "cell_type": "markdown",
   "id": "8cab75e0",
   "metadata": {},
   "source": [
    "<div style=\"border-radius: 15px; box-shadow: 4px 4px 4px; border: solid green 2px; padding: 20px\">\n",
    "\n",
    "91 - это число кофеен, которые работают 24/7. Из них видим, что сетевые кофейни занимают значительно большую часть - 80.2% в Центральном округе\n",
    "</div>"
   ]
  },
  {
   "cell_type": "markdown",
   "id": "860f6b03",
   "metadata": {},
   "source": [
    "### *Cтоимость чашки капучино при открытии*"
   ]
  },
  {
   "cell_type": "code",
   "execution_count": null,
   "id": "8b27992f",
   "metadata": {},
   "outputs": [],
   "source": [
    "mos_cof_cup = moscow_coffee.pivot_table(index='district', values='middle_coffee_cup', aggfunc='median').reset_index()\n",
    "mos_cof_cup.columns = ['district', 'median_coffee_cup_dis']\n",
    "mos_cof_merge = mos_cof_cup.merge(moscow_coffee)\n",
    "mos_cof_cup.sort_values(by='median_coffee_cup_dis', ascending=False)"
   ]
  },
  {
   "cell_type": "code",
   "execution_count": null,
   "id": "bb479d81",
   "metadata": {},
   "outputs": [],
   "source": [
    "moscow_lat, moscow_lng = 55.751244, 37.618423\n",
    "\n",
    "# создаём карту Москвы\n",
    "mos_cofeee = Map(location=[moscow_lat, moscow_lng], zoom_start=10)\n",
    "# создаём пустой кластер, добавляем его на карту\n",
    "marker_cluster = MarkerCluster().add_to(mos_map)\n",
    "\n",
    "# пишем функцию, которая принимает строку датафрейма,\n",
    "# создаёт маркер в текущей точке и добавляет его в кластер marker_cluster\n",
    "\n",
    "Choropleth(\n",
    "    geo_data=state_map,\n",
    "    data=mos_cof_merge,\n",
    "    columns=['district', 'median_coffee_cup_dis'],\n",
    "    key_on='feature.name',\n",
    "    fill_color='RdPu',\n",
    "    fill_opacity=0.8,\n",
    "    legend_name='Медианный рейтинг заведений по районам',\n",
    ").add_to(mos_cofeee)\n",
    "\n",
    "marker_cluster = MarkerCluster().add_to(mos_cofeee)\n",
    "\n",
    "def create_clusters(row):\n",
    "    Marker(\n",
    "        [row['lat'], row['lng']],\n",
    "        popup=f\"{row['name']}  {row['rating']} {row['middle_coffee_cup']} {row['is_24/7']}\",\n",
    "    ).add_to(marker_cluster)\n",
    "\n",
    "# применяем функцию create_clusters() к каждой строке датафрейма\n",
    "mos_cof_merge.apply(create_clusters, axis=1)\n",
    "\n",
    "# выводим карту\n",
    "mos_cofeee"
   ]
  },
  {
   "cell_type": "markdown",
   "id": "fe9c1bfd",
   "metadata": {},
   "source": [
    "<div style=\"border-radius: 15px; box-shadow: 4px 4px 4px; border: solid green 2px; padding: 20px\">\n",
    "\n",
    "Наблюдаем, что самые высокие цены за чашку капучино в ЦАО, ЗАО и ЮЗАО, а самые маленькие цены в ВАО.\n",
    "</div>"
   ]
  },
  {
   "cell_type": "markdown",
   "id": "3c2f7413",
   "metadata": {},
   "source": [
    "## **Вывод**"
   ]
  },
  {
   "cell_type": "markdown",
   "id": "bc5a2c7d",
   "metadata": {},
   "source": [
    "<div style=\"border-radius: 15px; box-shadow: 4px 4px 4px; border: solid green 2px; padding: 20px\">\n",
    "<br>\n",
    "<b>1. Открыли файлы и изучили данные</b>\n",
    "    \n",
    "- было обнаружено множество пропусков\n",
    "- были обнаружено много некорректных данных на первый взгляд\n",
    "\n",
    "<b>2. Провели предобработку</b>\n",
    "    \n",
    "- привели названия колонок к нижнему регистру и переименовали как удобно\n",
    "- заполнили пропуски заглушками где смогли\n",
    "- ввели два новых столбца `is_24/7` и `street`\n",
    "- избавились от неявных дубликатов, где смогли найти\n",
    "- исправили аномальные значения и заполнили пропуски медианой по категориям\n",
    "    \n",
    "<b>3. Проанализировали данные</b>\n",
    "\n",
    "- выяснили количество заведений по категориям\n",
    "- выяснили минимальную и максимальную дату и отрезок проведения эксперимента\n",
    "- выяснили наиболее часто встречающиеся количество мест в заведениях по категориям\n",
    "- выяснили доли сетевых/несетевых заведений\n",
    "- выяснили доли сетевых заведений по категориям\n",
    "- выяснили ТОП-15 сетевых заведений\n",
    "- выяснили какое количество заведений в категориях по административным округам\n",
    "- сделали распределение средних рейтингов по категориям заведений\n",
    "- построили фоновую картограмму заведений\n",
    "- выяснили ТОП-15 улиц по количеству заведений\n",
    "- выяснили какие улицы с одним объектом общепита\n",
    "- выяснили средние чеки по административным округам\n",
    "    \n",
    "<b>4. Детализировали исследование для открытия кофейни</b>\n",
    "\n",
    "- выяснили количество кофеен\n",
    "- выяснили рейтинг кофеен по административным округам\n",
    "- выяснили количество кофеен, которые работают 24/7\n",
    "- выяснили количество сетевых и несетевых кофеен, которые работают 24/7 и рассчитали их долю\n",
    "- выяснили какую стоимость определять для чашки капучино при открытие кофейни\n",
    "   \n",
    "\n",
    "    \n",
    "<br>\n",
    "<br>\n",
    "<b>Целью исследования было:</b> найти интересные особенности и презентовать полученные результаты, которые в будущем помогут в выборе подходящего инвесторам места\n",
    "    \n",
    "\n",
    "<br>\n",
    "<br>\n",
    "<b>В ходе проведения исследования сделали выводы:</b>\n",
    "\n",
    "1. Среди категорий заведений популярны такие категории: кафе, ресторан, кофейни. Рынок заведений полон этими категориями, следовательно там больше конкуренции.\n",
    "2. Рестораны, бары/пабы и кофейни обычно требуют больше всего посадочных мест, значит площадь заведения должна быть большая.\n",
    "3. Несетевых заведений в Москве больше, процентные пункты составляют `61.9%`\n",
    "4. Булочные, пиццерии и кофейни занимают большую часть сетевых заведений\n",
    "5. В Центральном административном округе больше всего количества заведений, то есть конкуренция там высокая. В Северо-Западном административном округе меньше всего заведений следовательно и конкуренции там будет меньше.\n",
    "4. Рейтинг заведения по категориям выглядит примерно одинаковым по всем категориям, но булочные, столовые и заведения быстрого питания меньше всего получают самые высокие оценки.\n",
    "5. Протяженность улицы зависит на количество на ней заведений, чем длиннее улица, тем больше заведений на ней.\n",
    "6. В парковых, набережных и зонах рядом железной дорогой чаще бывает одно заведение.\n",
    "7. Средний чек в заведениях чаще всего зависит от особенностей округа\n",
    "\n",
    "<br>\n",
    "<br>\n",
    "\n",
    "<div style=\"border-radius: 15px; box-shadow: 4px 4px 4px; border: solid orange 2px; padding: 20px\">\n",
    "<b>Рекомендации при открытие кофейни:</b>\n",
    "\n",
    "Кофейню лучше всего открывать в местах, где лучше всего проходимость. Проходимость в Центральном округе больше всего.\n",
    "    \n",
    "<b>Среди самых проходимых улиц(данные из исследования Геомаркетингового агенства One by One | 1by1):</b>\n",
    "- ул. Маросейка\n",
    "- пр. Мира\n",
    "- ул. Бауманская\n",
    "- ул. Тверская\n",
    "    \n",
    "\n",
    "Необязательно открывать кофейню именно на этих улицах, можно присмотреться к близлежайшим улицам, переулкам, проездам.\n",
    "    \n",
    "В Центральном административном округе средняя цена за чашку капучино 190р. Так как заведение будет новым, рекомендую снизить цену на 10-20 рублей, а в дальнейшем с течением времени уже обновить прайс.\n",
    "\n",
    "Делать круглосуточную кофейню не стоит, так как эту нишу заняли сетевые кофейные у которых уже все процессы настроены.\n",
    "Открываться по френчайзингу в теории можно, есть выгода за счёт настроенных процессов, рекламы, бренда, но вы лишаетесь индивидуальности и регламентов, которые могут быть неподходящими под вашу философию. При открытие открытие по френчайзингу - это заведение не будет вашим детищем, а вы там будете как инвестор с долей менеджмента.\n",
    "</div>\n",
    "<br>\n",
    "<br>\n",
    "<div style=\"border-radius: 15px; box-shadow: 4px 4px 4px; border: solid red 2px; padding: 20px\">\n",
    "<b>Ссылка на презентацию:</b>\n",
    "<a href=\"https://disk.yandex.ru/i/TC4cQtO8cfFlmw\">ТЫК</a>\n",
    "</div>\n",
    "</div>"
   ]
  }
 ],
 "metadata": {
  "ExecuteTimeLog": [
   {
    "duration": 1856,
    "start_time": "2023-02-02T09:08:38.565Z"
   },
   {
    "duration": 190,
    "start_time": "2023-02-02T09:08:40.422Z"
   },
   {
    "duration": 24,
    "start_time": "2023-02-02T09:08:40.614Z"
   },
   {
    "duration": 54,
    "start_time": "2023-02-02T09:08:40.639Z"
   },
   {
    "duration": 48,
    "start_time": "2023-02-02T09:08:40.695Z"
   },
   {
    "duration": 22,
    "start_time": "2023-02-02T09:08:40.749Z"
   },
   {
    "duration": 34,
    "start_time": "2023-02-02T09:08:40.773Z"
   },
   {
    "duration": 60,
    "start_time": "2023-02-02T09:08:40.808Z"
   },
   {
    "duration": 40,
    "start_time": "2023-02-02T09:08:40.870Z"
   },
   {
    "duration": 61,
    "start_time": "2023-02-02T09:08:40.912Z"
   },
   {
    "duration": 28,
    "start_time": "2023-02-02T09:08:40.975Z"
   },
   {
    "duration": 38,
    "start_time": "2023-02-02T09:08:41.005Z"
   },
   {
    "duration": 565,
    "start_time": "2023-02-02T09:08:41.044Z"
   },
   {
    "duration": 6,
    "start_time": "2023-02-02T09:08:41.612Z"
   },
   {
    "duration": 173,
    "start_time": "2023-02-02T09:08:41.619Z"
   },
   {
    "duration": 3,
    "start_time": "2023-02-02T09:08:41.793Z"
   },
   {
    "duration": 590,
    "start_time": "2023-02-02T09:08:41.797Z"
   },
   {
    "duration": 20,
    "start_time": "2023-02-02T09:08:42.389Z"
   },
   {
    "duration": 32,
    "start_time": "2023-02-02T09:08:42.411Z"
   },
   {
    "duration": 31,
    "start_time": "2023-02-02T09:08:42.452Z"
   },
   {
    "duration": 15,
    "start_time": "2023-02-02T09:08:42.485Z"
   },
   {
    "duration": 27,
    "start_time": "2023-02-02T09:08:42.502Z"
   },
   {
    "duration": 36,
    "start_time": "2023-02-02T09:08:42.531Z"
   },
   {
    "duration": 225,
    "start_time": "2023-02-02T09:08:42.570Z"
   },
   {
    "duration": 163,
    "start_time": "2023-02-02T09:08:42.796Z"
   },
   {
    "duration": 328,
    "start_time": "2023-02-02T09:08:42.962Z"
   },
   {
    "duration": 29,
    "start_time": "2023-02-02T09:08:43.292Z"
   },
   {
    "duration": 69,
    "start_time": "2023-02-02T09:08:43.323Z"
   },
   {
    "duration": 14,
    "start_time": "2023-02-02T09:08:43.394Z"
   },
   {
    "duration": 81,
    "start_time": "2023-02-02T09:08:43.410Z"
   },
   {
    "duration": 842,
    "start_time": "2023-02-02T09:08:43.493Z"
   },
   {
    "duration": 34,
    "start_time": "2023-02-02T09:08:44.339Z"
   },
   {
    "duration": 8,
    "start_time": "2023-02-02T09:08:44.375Z"
   },
   {
    "duration": 147,
    "start_time": "2023-02-02T09:08:44.384Z"
   },
   {
    "duration": 0,
    "start_time": "2023-02-02T09:08:44.534Z"
   },
   {
    "duration": 0,
    "start_time": "2023-02-02T09:08:44.543Z"
   },
   {
    "duration": 0,
    "start_time": "2023-02-02T09:08:44.544Z"
   },
   {
    "duration": 0,
    "start_time": "2023-02-02T09:08:44.545Z"
   },
   {
    "duration": 0,
    "start_time": "2023-02-02T09:08:44.549Z"
   },
   {
    "duration": 0,
    "start_time": "2023-02-02T09:08:44.550Z"
   },
   {
    "duration": 0,
    "start_time": "2023-02-02T09:08:44.552Z"
   },
   {
    "duration": 0,
    "start_time": "2023-02-02T09:08:44.552Z"
   },
   {
    "duration": 0,
    "start_time": "2023-02-02T09:08:44.553Z"
   },
   {
    "duration": 0,
    "start_time": "2023-02-02T09:08:44.554Z"
   },
   {
    "duration": 0,
    "start_time": "2023-02-02T09:08:44.555Z"
   },
   {
    "duration": 0,
    "start_time": "2023-02-02T09:08:44.556Z"
   },
   {
    "duration": 0,
    "start_time": "2023-02-02T09:08:44.556Z"
   },
   {
    "duration": 0,
    "start_time": "2023-02-02T09:08:44.557Z"
   },
   {
    "duration": 0,
    "start_time": "2023-02-02T09:08:44.558Z"
   },
   {
    "duration": 0,
    "start_time": "2023-02-02T09:08:44.558Z"
   },
   {
    "duration": 0,
    "start_time": "2023-02-02T09:08:44.559Z"
   },
   {
    "duration": 0,
    "start_time": "2023-02-02T09:08:44.559Z"
   },
   {
    "duration": 0,
    "start_time": "2023-02-02T09:08:44.560Z"
   },
   {
    "duration": 0,
    "start_time": "2023-02-02T09:08:44.561Z"
   },
   {
    "duration": 0,
    "start_time": "2023-02-02T09:08:44.561Z"
   },
   {
    "duration": 0,
    "start_time": "2023-02-02T09:08:44.562Z"
   },
   {
    "duration": 0,
    "start_time": "2023-02-02T09:08:44.565Z"
   },
   {
    "duration": 13,
    "start_time": "2023-02-02T09:25:19.897Z"
   },
   {
    "duration": 8,
    "start_time": "2023-02-02T09:25:34.180Z"
   },
   {
    "duration": 3,
    "start_time": "2023-02-02T09:55:08.065Z"
   },
   {
    "duration": 139,
    "start_time": "2023-02-02T09:55:08.070Z"
   },
   {
    "duration": 19,
    "start_time": "2023-02-02T09:55:08.211Z"
   },
   {
    "duration": 71,
    "start_time": "2023-02-02T09:55:08.233Z"
   },
   {
    "duration": 54,
    "start_time": "2023-02-02T09:55:08.306Z"
   },
   {
    "duration": 37,
    "start_time": "2023-02-02T09:55:08.361Z"
   },
   {
    "duration": 20,
    "start_time": "2023-02-02T09:55:08.521Z"
   },
   {
    "duration": 30,
    "start_time": "2023-02-02T09:55:08.543Z"
   },
   {
    "duration": 38,
    "start_time": "2023-02-02T09:55:08.574Z"
   },
   {
    "duration": 47,
    "start_time": "2023-02-02T09:55:08.614Z"
   },
   {
    "duration": 51,
    "start_time": "2023-02-02T09:55:08.664Z"
   },
   {
    "duration": 30,
    "start_time": "2023-02-02T09:55:08.717Z"
   },
   {
    "duration": 654,
    "start_time": "2023-02-02T09:55:08.749Z"
   },
   {
    "duration": 5,
    "start_time": "2023-02-02T09:55:09.406Z"
   },
   {
    "duration": 41,
    "start_time": "2023-02-02T09:55:09.413Z"
   },
   {
    "duration": 31,
    "start_time": "2023-02-02T09:55:09.456Z"
   },
   {
    "duration": 508,
    "start_time": "2023-02-02T09:55:09.489Z"
   },
   {
    "duration": 15,
    "start_time": "2023-02-02T09:55:10.000Z"
   },
   {
    "duration": 60,
    "start_time": "2023-02-02T09:55:10.017Z"
   },
   {
    "duration": 47,
    "start_time": "2023-02-02T09:55:10.080Z"
   },
   {
    "duration": 32,
    "start_time": "2023-02-02T09:55:10.130Z"
   },
   {
    "duration": 51,
    "start_time": "2023-02-02T09:55:10.164Z"
   },
   {
    "duration": 60,
    "start_time": "2023-02-02T09:55:10.217Z"
   },
   {
    "duration": 230,
    "start_time": "2023-02-02T09:55:10.279Z"
   },
   {
    "duration": 12,
    "start_time": "2023-02-02T09:55:10.511Z"
   },
   {
    "duration": 213,
    "start_time": "2023-02-02T09:55:10.540Z"
   },
   {
    "duration": 26,
    "start_time": "2023-02-02T09:55:10.756Z"
   },
   {
    "duration": 23,
    "start_time": "2023-02-02T09:55:10.784Z"
   },
   {
    "duration": 41,
    "start_time": "2023-02-02T09:55:10.809Z"
   },
   {
    "duration": 40,
    "start_time": "2023-02-02T09:55:10.852Z"
   },
   {
    "duration": 731,
    "start_time": "2023-02-02T09:55:10.893Z"
   },
   {
    "duration": 35,
    "start_time": "2023-02-02T09:55:11.626Z"
   },
   {
    "duration": 42,
    "start_time": "2023-02-02T09:55:11.664Z"
   },
   {
    "duration": 62,
    "start_time": "2023-02-02T09:55:11.708Z"
   },
   {
    "duration": 0,
    "start_time": "2023-02-02T09:55:11.772Z"
   },
   {
    "duration": 0,
    "start_time": "2023-02-02T09:55:11.774Z"
   },
   {
    "duration": 0,
    "start_time": "2023-02-02T09:55:11.775Z"
   },
   {
    "duration": 0,
    "start_time": "2023-02-02T09:55:11.776Z"
   },
   {
    "duration": 0,
    "start_time": "2023-02-02T09:55:11.778Z"
   },
   {
    "duration": 0,
    "start_time": "2023-02-02T09:55:11.779Z"
   },
   {
    "duration": 0,
    "start_time": "2023-02-02T09:55:11.780Z"
   },
   {
    "duration": 0,
    "start_time": "2023-02-02T09:55:11.781Z"
   },
   {
    "duration": 0,
    "start_time": "2023-02-02T09:55:11.782Z"
   },
   {
    "duration": 0,
    "start_time": "2023-02-02T09:55:11.783Z"
   },
   {
    "duration": 0,
    "start_time": "2023-02-02T09:55:11.784Z"
   },
   {
    "duration": 0,
    "start_time": "2023-02-02T09:55:11.785Z"
   },
   {
    "duration": 0,
    "start_time": "2023-02-02T09:55:11.786Z"
   },
   {
    "duration": 0,
    "start_time": "2023-02-02T09:55:11.787Z"
   },
   {
    "duration": 0,
    "start_time": "2023-02-02T09:55:11.788Z"
   },
   {
    "duration": 0,
    "start_time": "2023-02-02T09:55:11.789Z"
   },
   {
    "duration": 0,
    "start_time": "2023-02-02T09:55:11.790Z"
   },
   {
    "duration": 0,
    "start_time": "2023-02-02T09:55:11.791Z"
   },
   {
    "duration": 0,
    "start_time": "2023-02-02T09:55:11.792Z"
   },
   {
    "duration": 0,
    "start_time": "2023-02-02T09:55:11.841Z"
   },
   {
    "duration": 0,
    "start_time": "2023-02-02T09:55:11.842Z"
   },
   {
    "duration": 0,
    "start_time": "2023-02-02T09:55:11.843Z"
   },
   {
    "duration": 0,
    "start_time": "2023-02-02T09:55:11.844Z"
   },
   {
    "duration": 21250,
    "start_time": "2023-02-02T20:22:53.479Z"
   },
   {
    "duration": 288,
    "start_time": "2023-02-02T20:23:14.731Z"
   },
   {
    "duration": 20,
    "start_time": "2023-02-02T20:23:15.021Z"
   },
   {
    "duration": 14,
    "start_time": "2023-02-02T20:23:15.042Z"
   },
   {
    "duration": 30,
    "start_time": "2023-02-02T20:23:15.058Z"
   },
   {
    "duration": 16,
    "start_time": "2023-02-02T20:23:15.089Z"
   },
   {
    "duration": 20,
    "start_time": "2023-02-02T20:23:15.107Z"
   },
   {
    "duration": 27,
    "start_time": "2023-02-02T20:23:15.128Z"
   },
   {
    "duration": 5,
    "start_time": "2023-02-02T20:23:15.156Z"
   },
   {
    "duration": 7,
    "start_time": "2023-02-02T20:23:15.162Z"
   },
   {
    "duration": 6,
    "start_time": "2023-02-02T20:23:15.170Z"
   },
   {
    "duration": 10,
    "start_time": "2023-02-02T20:23:15.178Z"
   },
   {
    "duration": 474,
    "start_time": "2023-02-02T20:23:15.189Z"
   },
   {
    "duration": 14,
    "start_time": "2023-02-02T20:23:15.667Z"
   },
   {
    "duration": 11,
    "start_time": "2023-02-02T20:23:15.683Z"
   },
   {
    "duration": 7,
    "start_time": "2023-02-02T20:23:15.696Z"
   },
   {
    "duration": 9,
    "start_time": "2023-02-02T20:23:15.704Z"
   },
   {
    "duration": 101,
    "start_time": "2023-02-02T20:23:15.714Z"
   },
   {
    "duration": 32,
    "start_time": "2023-02-02T20:23:15.817Z"
   },
   {
    "duration": 11,
    "start_time": "2023-02-02T20:23:15.850Z"
   },
   {
    "duration": 657,
    "start_time": "2023-02-02T20:23:15.862Z"
   },
   {
    "duration": 53,
    "start_time": "2023-02-02T20:23:16.521Z"
   },
   {
    "duration": 73,
    "start_time": "2023-02-02T20:23:16.575Z"
   },
   {
    "duration": 22,
    "start_time": "2023-02-02T20:23:16.649Z"
   },
   {
    "duration": 38,
    "start_time": "2023-02-02T20:23:16.673Z"
   },
   {
    "duration": 44,
    "start_time": "2023-02-02T20:23:16.712Z"
   },
   {
    "duration": 54,
    "start_time": "2023-02-02T20:23:16.757Z"
   },
   {
    "duration": 41,
    "start_time": "2023-02-02T20:23:16.813Z"
   },
   {
    "duration": 3,
    "start_time": "2023-02-02T20:23:16.856Z"
   },
   {
    "duration": 67,
    "start_time": "2023-02-02T20:23:16.860Z"
   },
   {
    "duration": 3,
    "start_time": "2023-02-02T20:23:16.928Z"
   },
   {
    "duration": 32,
    "start_time": "2023-02-02T20:23:16.932Z"
   },
   {
    "duration": 30442,
    "start_time": "2023-02-02T20:23:16.965Z"
   },
   {
    "duration": 9429,
    "start_time": "2023-02-02T20:23:47.409Z"
   },
   {
    "duration": 43,
    "start_time": "2023-02-02T20:23:56.839Z"
   },
   {
    "duration": 179,
    "start_time": "2023-02-02T20:23:56.884Z"
   },
   {
    "duration": 85,
    "start_time": "2023-02-02T20:23:57.064Z"
   },
   {
    "duration": 765,
    "start_time": "2023-02-02T20:23:57.150Z"
   },
   {
    "duration": 60,
    "start_time": "2023-02-02T20:23:57.916Z"
   },
   {
    "duration": 9561,
    "start_time": "2023-02-02T20:23:57.977Z"
   },
   {
    "duration": 30,
    "start_time": "2023-02-02T20:24:07.542Z"
   },
   {
    "duration": 121,
    "start_time": "2023-02-02T20:24:07.574Z"
   },
   {
    "duration": 10,
    "start_time": "2023-02-02T20:24:07.748Z"
   },
   {
    "duration": 7,
    "start_time": "2023-02-02T20:24:07.759Z"
   },
   {
    "duration": 87,
    "start_time": "2023-02-02T20:24:07.767Z"
   },
   {
    "duration": 1501,
    "start_time": "2023-02-02T20:24:07.856Z"
   },
   {
    "duration": 8,
    "start_time": "2023-02-02T20:24:09.359Z"
   },
   {
    "duration": 24,
    "start_time": "2023-02-02T20:24:09.369Z"
   },
   {
    "duration": 3,
    "start_time": "2023-02-02T20:24:09.394Z"
   },
   {
    "duration": 95,
    "start_time": "2023-02-02T20:24:09.399Z"
   },
   {
    "duration": 16,
    "start_time": "2023-02-02T20:24:09.497Z"
   },
   {
    "duration": 38,
    "start_time": "2023-02-02T20:24:09.514Z"
   },
   {
    "duration": 1550,
    "start_time": "2023-02-02T20:24:09.554Z"
   },
   {
    "duration": 48521,
    "start_time": "2023-02-21T18:53:22.338Z"
   },
   {
    "duration": 133,
    "start_time": "2023-02-21T18:54:10.862Z"
   },
   {
    "duration": 29,
    "start_time": "2023-02-21T18:54:10.997Z"
   },
   {
    "duration": 17,
    "start_time": "2023-02-21T18:54:11.028Z"
   },
   {
    "duration": 31,
    "start_time": "2023-02-21T18:54:11.046Z"
   },
   {
    "duration": 43,
    "start_time": "2023-02-21T18:54:11.078Z"
   },
   {
    "duration": 19,
    "start_time": "2023-02-21T18:54:11.123Z"
   },
   {
    "duration": 7,
    "start_time": "2023-02-21T18:54:11.145Z"
   },
   {
    "duration": 4,
    "start_time": "2023-02-21T18:54:11.154Z"
   },
   {
    "duration": 6,
    "start_time": "2023-02-21T18:54:11.160Z"
   },
   {
    "duration": 7,
    "start_time": "2023-02-21T18:54:11.168Z"
   },
   {
    "duration": 39,
    "start_time": "2023-02-21T18:54:11.177Z"
   },
   {
    "duration": 470,
    "start_time": "2023-02-21T18:54:11.218Z"
   },
   {
    "duration": 22,
    "start_time": "2023-02-21T18:54:11.689Z"
   },
   {
    "duration": 14,
    "start_time": "2023-02-21T18:54:11.712Z"
   },
   {
    "duration": 18,
    "start_time": "2023-02-21T18:54:11.728Z"
   },
   {
    "duration": 7,
    "start_time": "2023-02-21T18:54:11.748Z"
   },
   {
    "duration": 24,
    "start_time": "2023-02-21T18:54:11.757Z"
   },
   {
    "duration": 19,
    "start_time": "2023-02-21T18:54:11.783Z"
   },
   {
    "duration": 64,
    "start_time": "2023-02-21T18:54:11.803Z"
   },
   {
    "duration": 366,
    "start_time": "2023-02-21T18:54:11.868Z"
   },
   {
    "duration": 86,
    "start_time": "2023-02-21T18:54:12.236Z"
   },
   {
    "duration": 18,
    "start_time": "2023-02-21T18:54:12.324Z"
   },
   {
    "duration": 79,
    "start_time": "2023-02-21T18:54:12.344Z"
   },
   {
    "duration": 47,
    "start_time": "2023-02-21T18:54:12.425Z"
   },
   {
    "duration": 51,
    "start_time": "2023-02-21T18:54:12.474Z"
   },
   {
    "duration": 62,
    "start_time": "2023-02-21T18:54:12.526Z"
   },
   {
    "duration": 35,
    "start_time": "2023-02-21T18:54:12.592Z"
   },
   {
    "duration": 3,
    "start_time": "2023-02-21T18:54:12.628Z"
   },
   {
    "duration": 92,
    "start_time": "2023-02-21T18:54:12.633Z"
   },
   {
    "duration": 3,
    "start_time": "2023-02-21T18:54:12.726Z"
   },
   {
    "duration": 20,
    "start_time": "2023-02-21T18:54:12.731Z"
   },
   {
    "duration": 30486,
    "start_time": "2023-02-21T18:54:12.753Z"
   },
   {
    "duration": 9924,
    "start_time": "2023-02-21T18:54:43.240Z"
   },
   {
    "duration": 81,
    "start_time": "2023-02-21T18:54:53.167Z"
   },
   {
    "duration": 269,
    "start_time": "2023-02-21T18:54:53.250Z"
   },
   {
    "duration": 37,
    "start_time": "2023-02-21T18:54:53.521Z"
   },
   {
    "duration": 953,
    "start_time": "2023-02-21T18:54:53.560Z"
   },
   {
    "duration": 52,
    "start_time": "2023-02-21T18:54:54.515Z"
   },
   {
    "duration": 9829,
    "start_time": "2023-02-21T18:54:54.569Z"
   },
   {
    "duration": 29,
    "start_time": "2023-02-21T18:55:04.410Z"
   },
   {
    "duration": 177,
    "start_time": "2023-02-21T18:55:04.443Z"
   },
   {
    "duration": 10,
    "start_time": "2023-02-21T18:55:04.622Z"
   },
   {
    "duration": 8,
    "start_time": "2023-02-21T18:55:04.633Z"
   },
   {
    "duration": 87,
    "start_time": "2023-02-21T18:55:04.642Z"
   },
   {
    "duration": 1661,
    "start_time": "2023-02-21T18:55:04.731Z"
   },
   {
    "duration": 16,
    "start_time": "2023-02-21T18:55:06.394Z"
   },
   {
    "duration": 31,
    "start_time": "2023-02-21T18:55:06.411Z"
   },
   {
    "duration": 11,
    "start_time": "2023-02-21T18:55:06.443Z"
   },
   {
    "duration": 79,
    "start_time": "2023-02-21T18:55:06.455Z"
   },
   {
    "duration": 16,
    "start_time": "2023-02-21T18:55:06.536Z"
   },
   {
    "duration": 23,
    "start_time": "2023-02-21T18:55:06.554Z"
   },
   {
    "duration": 1680,
    "start_time": "2023-02-21T18:55:06.579Z"
   },
   {
    "duration": 52912,
    "start_time": "2023-02-22T15:26:05.611Z"
   },
   {
    "duration": 126,
    "start_time": "2023-02-22T15:26:58.525Z"
   },
   {
    "duration": 23,
    "start_time": "2023-02-22T15:26:58.653Z"
   },
   {
    "duration": 14,
    "start_time": "2023-02-22T15:26:58.678Z"
   },
   {
    "duration": 39,
    "start_time": "2023-02-22T15:26:58.694Z"
   },
   {
    "duration": 31,
    "start_time": "2023-02-22T15:26:58.735Z"
   },
   {
    "duration": 20,
    "start_time": "2023-02-22T15:26:58.768Z"
   },
   {
    "duration": 14,
    "start_time": "2023-02-22T15:26:58.790Z"
   },
   {
    "duration": 4,
    "start_time": "2023-02-22T15:26:58.806Z"
   },
   {
    "duration": 6,
    "start_time": "2023-02-22T15:26:58.812Z"
   },
   {
    "duration": 3,
    "start_time": "2023-02-22T15:26:58.819Z"
   },
   {
    "duration": 39,
    "start_time": "2023-02-22T15:26:58.823Z"
   },
   {
    "duration": 434,
    "start_time": "2023-02-22T15:26:58.864Z"
   },
   {
    "duration": 14,
    "start_time": "2023-02-22T15:26:59.300Z"
   },
   {
    "duration": 11,
    "start_time": "2023-02-22T15:26:59.316Z"
   },
   {
    "duration": 25,
    "start_time": "2023-02-22T15:26:59.328Z"
   },
   {
    "duration": 7,
    "start_time": "2023-02-22T15:26:59.355Z"
   },
   {
    "duration": 16,
    "start_time": "2023-02-22T15:26:59.364Z"
   },
   {
    "duration": 13,
    "start_time": "2023-02-22T15:26:59.382Z"
   },
   {
    "duration": 104,
    "start_time": "2023-02-22T15:26:59.396Z"
   },
   {
    "duration": 427,
    "start_time": "2023-02-22T15:26:59.502Z"
   },
   {
    "duration": 138,
    "start_time": "2023-02-22T15:26:59.931Z"
   },
   {
    "duration": 21,
    "start_time": "2023-02-22T15:27:00.071Z"
   },
   {
    "duration": 77,
    "start_time": "2023-02-22T15:27:00.094Z"
   },
   {
    "duration": 42,
    "start_time": "2023-02-22T15:27:00.173Z"
   },
   {
    "duration": 49,
    "start_time": "2023-02-22T15:27:00.217Z"
   },
   {
    "duration": 57,
    "start_time": "2023-02-22T15:27:00.268Z"
   },
   {
    "duration": 38,
    "start_time": "2023-02-22T15:27:00.328Z"
   },
   {
    "duration": 3,
    "start_time": "2023-02-22T15:27:00.368Z"
   },
   {
    "duration": 84,
    "start_time": "2023-02-22T15:27:00.372Z"
   },
   {
    "duration": 17,
    "start_time": "2023-02-22T15:27:00.458Z"
   },
   {
    "duration": 27,
    "start_time": "2023-02-22T15:27:00.476Z"
   },
   {
    "duration": 33831,
    "start_time": "2023-02-22T15:27:00.504Z"
   },
   {
    "duration": 10166,
    "start_time": "2023-02-22T15:27:34.337Z"
   },
   {
    "duration": 65,
    "start_time": "2023-02-22T15:27:44.505Z"
   },
   {
    "duration": 125,
    "start_time": "2023-02-22T15:27:44.571Z"
   },
   {
    "duration": 87,
    "start_time": "2023-02-22T15:27:44.697Z"
   },
   {
    "duration": 878,
    "start_time": "2023-02-22T15:27:44.786Z"
   },
   {
    "duration": 43,
    "start_time": "2023-02-22T15:27:45.666Z"
   },
   {
    "duration": 10126,
    "start_time": "2023-02-22T15:27:45.710Z"
   },
   {
    "duration": 40,
    "start_time": "2023-02-22T15:27:55.839Z"
   },
   {
    "duration": 190,
    "start_time": "2023-02-22T15:27:55.880Z"
   },
   {
    "duration": 13,
    "start_time": "2023-02-22T15:27:56.071Z"
   },
   {
    "duration": 67,
    "start_time": "2023-02-22T15:27:56.086Z"
   },
   {
    "duration": 34,
    "start_time": "2023-02-22T15:27:56.155Z"
   },
   {
    "duration": 1713,
    "start_time": "2023-02-22T15:27:56.190Z"
   },
   {
    "duration": 6,
    "start_time": "2023-02-22T15:27:57.905Z"
   },
   {
    "duration": 46,
    "start_time": "2023-02-22T15:27:57.913Z"
   },
   {
    "duration": 3,
    "start_time": "2023-02-22T15:27:57.961Z"
   },
   {
    "duration": 63,
    "start_time": "2023-02-22T15:27:57.966Z"
   },
   {
    "duration": 34,
    "start_time": "2023-02-22T15:27:58.031Z"
   },
   {
    "duration": 36,
    "start_time": "2023-02-22T15:27:58.067Z"
   },
   {
    "duration": 1685,
    "start_time": "2023-02-22T15:27:58.105Z"
   }
  ],
  "kernelspec": {
   "display_name": "Python 3 (ipykernel)",
   "language": "python",
   "name": "python3"
  },
  "language_info": {
   "codemirror_mode": {
    "name": "ipython",
    "version": 3
   },
   "file_extension": ".py",
   "mimetype": "text/x-python",
   "name": "python",
   "nbconvert_exporter": "python",
   "pygments_lexer": "ipython3",
   "version": "3.9.12"
  },
  "toc": {
   "base_numbering": 1,
   "nav_menu": {},
   "number_sections": true,
   "sideBar": true,
   "skip_h1_title": true,
   "title_cell": "Table of Contents",
   "title_sidebar": "Contents",
   "toc_cell": false,
   "toc_position": {
    "height": "calc(100% - 180px)",
    "left": "10px",
    "top": "150px",
    "width": "288.984px"
   },
   "toc_section_display": true,
   "toc_window_display": true
  }
 },
 "nbformat": 4,
 "nbformat_minor": 5
}
