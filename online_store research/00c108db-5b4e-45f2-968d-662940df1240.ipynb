{
 "cells": [
  {
   "cell_type": "markdown",
   "metadata": {},
   "source": [
    "# **Исследование крупного интернет магазина**"
   ]
  },
  {
   "cell_type": "markdown",
   "metadata": {},
   "source": [
    "**Цель исследования:** приоритизировать гипотезы, запустить A/B-тест и проанализировать результаты в целях увеличения выручки\n",
    "\n",
    "**Ход исследования:**\n",
    "\n",
    "- Изучение общей информации датасетов\n",
    "- Предобработка данных\n",
    "- Приоритизация гипотез\n",
    "- Анализ A/B-теста"
   ]
  },
  {
   "cell_type": "markdown",
   "metadata": {},
   "source": [
    "# **Описание данных**"
   ]
  },
  {
   "cell_type": "markdown",
   "metadata": {},
   "source": [
    "\n",
    "\n",
    "**Файл /datasets/hypothesis.csv**\n",
    "\n",
    "`Hypothesis` — краткое описание гипотезы;\n",
    "\n",
    "`Reach` — охват пользователей по 10-балльной шкале;\n",
    "\n",
    "`Impact` — влияние на пользователей по 10-балльной шкале;\n",
    "\n",
    "`Confidence` — уверенность в гипотезе по 10-балльной шкале;\n",
    "\n",
    "`Efforts` — затраты ресурсов на проверку гипотезы по 10-балльной шкале. Чем больше значение Efforts, тем дороже проверка гипотезы.\n",
    "\n",
    "\n",
    "**Файл /datasets/orders.csv**\n",
    "\n",
    "`transactionId` — идентификатор заказа;\n",
    "\n",
    "`visitorId` — идентификатор пользователя, совершившего заказ;\n",
    "\n",
    "`date` — дата, когда был совершён заказ;\n",
    "\n",
    "`revenue`— выручка заказа;\n",
    "\n",
    "`group` — группа A/B-теста, в которую попал заказ.\n",
    "\n",
    "\n",
    "**Файл /datasets/visitors.csv**\n",
    "\n",
    "`date` — дата;\n",
    "\n",
    "`group` — группа A/B-теста;\n",
    "\n",
    "`visitors` — количество пользователей в указанную дату в указанной группе A/B-теста"
   ]
  },
  {
   "cell_type": "markdown",
   "metadata": {},
   "source": [
    "### **Откроем файлы и изучим общую информацию датасетов**"
   ]
  },
  {
   "cell_type": "code",
   "execution_count": 1,
   "metadata": {},
   "outputs": [],
   "source": [
    "# импортируем библиотеки необходимые для работы с данными \n",
    "import pandas as pd\n",
    "import numpy as np\n",
    "import matplotlib.pyplot as plt\n",
    "from scipy import stats as st\n",
    "import datetime as dt"
   ]
  },
  {
   "cell_type": "code",
   "execution_count": 2,
   "metadata": {},
   "outputs": [],
   "source": [
    "try:\n",
    "    hypothesis, orders, visits = (\n",
    "        pd.read_csv('/datasets/hypothesis.csv'),\n",
    "        pd.read_csv('/datasets/orders.csv'),\n",
    "        pd.read_csv('/datasets/visitors.csv'),\n",
    "    )\n",
    "except:\n",
    "    hypothesis, orders, visits = (\n",
    "        pd.read_csv(r'C:\\Users\\niksmns\\Desktop\\online_store research\\hypothesis.csv'),\n",
    "        pd.read_csv(r'C:\\Users\\niksmns\\Desktop\\online_store research\\orders.csv'),\n",
    "        pd.read_csv(r'C:\\Users\\niksmns\\Desktop\\online_store research\\visitors.csv'),\n",
    "    )"
   ]
  },
  {
   "cell_type": "code",
   "execution_count": 3,
   "metadata": {},
   "outputs": [],
   "source": [
    "def general_info(data):\n",
    "    display(data.head(10))\n",
    "    display(data.info())\n",
    "    display(pd.DataFrame(round(data.isna().mean()*100,)).style.background_gradient('coolwarm'))\n",
    "    display('Количество дубликатов:', data.duplicated().sum())\n",
    "    display(data.columns)\n",
    "    display(data.describe())"
   ]
  },
  {
   "cell_type": "markdown",
   "metadata": {},
   "source": [
    "#### **Данные по гипотезам**"
   ]
  },
  {
   "cell_type": "code",
   "execution_count": 4,
   "metadata": {
    "scrolled": true
   },
   "outputs": [
    {
     "data": {
      "text/html": [
       "<div>\n",
       "<style scoped>\n",
       "    .dataframe tbody tr th:only-of-type {\n",
       "        vertical-align: middle;\n",
       "    }\n",
       "\n",
       "    .dataframe tbody tr th {\n",
       "        vertical-align: top;\n",
       "    }\n",
       "\n",
       "    .dataframe thead th {\n",
       "        text-align: right;\n",
       "    }\n",
       "</style>\n",
       "<table border=\"1\" class=\"dataframe\">\n",
       "  <thead>\n",
       "    <tr style=\"text-align: right;\">\n",
       "      <th></th>\n",
       "      <th>Hypothesis</th>\n",
       "      <th>Reach</th>\n",
       "      <th>Impact</th>\n",
       "      <th>Confidence</th>\n",
       "      <th>Efforts</th>\n",
       "    </tr>\n",
       "  </thead>\n",
       "  <tbody>\n",
       "    <tr>\n",
       "      <th>0</th>\n",
       "      <td>Добавить два новых канала привлечения трафика,...</td>\n",
       "      <td>3</td>\n",
       "      <td>10</td>\n",
       "      <td>8</td>\n",
       "      <td>6</td>\n",
       "    </tr>\n",
       "    <tr>\n",
       "      <th>1</th>\n",
       "      <td>Запустить собственную службу доставки, что сок...</td>\n",
       "      <td>2</td>\n",
       "      <td>5</td>\n",
       "      <td>4</td>\n",
       "      <td>10</td>\n",
       "    </tr>\n",
       "    <tr>\n",
       "      <th>2</th>\n",
       "      <td>Добавить блоки рекомендаций товаров на сайт ин...</td>\n",
       "      <td>8</td>\n",
       "      <td>3</td>\n",
       "      <td>7</td>\n",
       "      <td>3</td>\n",
       "    </tr>\n",
       "    <tr>\n",
       "      <th>3</th>\n",
       "      <td>Изменить структура категорий, что увеличит кон...</td>\n",
       "      <td>8</td>\n",
       "      <td>3</td>\n",
       "      <td>3</td>\n",
       "      <td>8</td>\n",
       "    </tr>\n",
       "    <tr>\n",
       "      <th>4</th>\n",
       "      <td>Изменить цвет фона главной страницы, чтобы уве...</td>\n",
       "      <td>3</td>\n",
       "      <td>1</td>\n",
       "      <td>1</td>\n",
       "      <td>1</td>\n",
       "    </tr>\n",
       "    <tr>\n",
       "      <th>5</th>\n",
       "      <td>Добавить страницу отзывов клиентов о магазине,...</td>\n",
       "      <td>3</td>\n",
       "      <td>2</td>\n",
       "      <td>2</td>\n",
       "      <td>3</td>\n",
       "    </tr>\n",
       "    <tr>\n",
       "      <th>6</th>\n",
       "      <td>Показать на главной странице баннеры с актуаль...</td>\n",
       "      <td>5</td>\n",
       "      <td>3</td>\n",
       "      <td>8</td>\n",
       "      <td>3</td>\n",
       "    </tr>\n",
       "    <tr>\n",
       "      <th>7</th>\n",
       "      <td>Добавить форму подписки на все основные страни...</td>\n",
       "      <td>10</td>\n",
       "      <td>7</td>\n",
       "      <td>8</td>\n",
       "      <td>5</td>\n",
       "    </tr>\n",
       "    <tr>\n",
       "      <th>8</th>\n",
       "      <td>Запустить акцию, дающую скидку на товар в день...</td>\n",
       "      <td>1</td>\n",
       "      <td>9</td>\n",
       "      <td>9</td>\n",
       "      <td>5</td>\n",
       "    </tr>\n",
       "  </tbody>\n",
       "</table>\n",
       "</div>"
      ],
      "text/plain": [
       "                                          Hypothesis  Reach  Impact  \\\n",
       "0  Добавить два новых канала привлечения трафика,...      3      10   \n",
       "1  Запустить собственную службу доставки, что сок...      2       5   \n",
       "2  Добавить блоки рекомендаций товаров на сайт ин...      8       3   \n",
       "3  Изменить структура категорий, что увеличит кон...      8       3   \n",
       "4  Изменить цвет фона главной страницы, чтобы уве...      3       1   \n",
       "5  Добавить страницу отзывов клиентов о магазине,...      3       2   \n",
       "6  Показать на главной странице баннеры с актуаль...      5       3   \n",
       "7  Добавить форму подписки на все основные страни...     10       7   \n",
       "8  Запустить акцию, дающую скидку на товар в день...      1       9   \n",
       "\n",
       "   Confidence  Efforts  \n",
       "0           8        6  \n",
       "1           4       10  \n",
       "2           7        3  \n",
       "3           3        8  \n",
       "4           1        1  \n",
       "5           2        3  \n",
       "6           8        3  \n",
       "7           8        5  \n",
       "8           9        5  "
      ]
     },
     "metadata": {},
     "output_type": "display_data"
    },
    {
     "name": "stdout",
     "output_type": "stream",
     "text": [
      "<class 'pandas.core.frame.DataFrame'>\n",
      "RangeIndex: 9 entries, 0 to 8\n",
      "Data columns (total 5 columns):\n",
      " #   Column      Non-Null Count  Dtype \n",
      "---  ------      --------------  ----- \n",
      " 0   Hypothesis  9 non-null      object\n",
      " 1   Reach       9 non-null      int64 \n",
      " 2   Impact      9 non-null      int64 \n",
      " 3   Confidence  9 non-null      int64 \n",
      " 4   Efforts     9 non-null      int64 \n",
      "dtypes: int64(4), object(1)\n",
      "memory usage: 488.0+ bytes\n"
     ]
    },
    {
     "data": {
      "text/plain": [
       "None"
      ]
     },
     "metadata": {},
     "output_type": "display_data"
    },
    {
     "data": {
      "text/html": [
       "<style type=\"text/css\">\n",
       "#T_2cc85_row0_col0, #T_2cc85_row1_col0, #T_2cc85_row2_col0, #T_2cc85_row3_col0, #T_2cc85_row4_col0 {\n",
       "  background-color: #3b4cc0;\n",
       "  color: #f1f1f1;\n",
       "}\n",
       "</style>\n",
       "<table id=\"T_2cc85\">\n",
       "  <thead>\n",
       "    <tr>\n",
       "      <th class=\"blank level0\" >&nbsp;</th>\n",
       "      <th id=\"T_2cc85_level0_col0\" class=\"col_heading level0 col0\" >0</th>\n",
       "    </tr>\n",
       "  </thead>\n",
       "  <tbody>\n",
       "    <tr>\n",
       "      <th id=\"T_2cc85_level0_row0\" class=\"row_heading level0 row0\" >Hypothesis</th>\n",
       "      <td id=\"T_2cc85_row0_col0\" class=\"data row0 col0\" >0.000000</td>\n",
       "    </tr>\n",
       "    <tr>\n",
       "      <th id=\"T_2cc85_level0_row1\" class=\"row_heading level0 row1\" >Reach</th>\n",
       "      <td id=\"T_2cc85_row1_col0\" class=\"data row1 col0\" >0.000000</td>\n",
       "    </tr>\n",
       "    <tr>\n",
       "      <th id=\"T_2cc85_level0_row2\" class=\"row_heading level0 row2\" >Impact</th>\n",
       "      <td id=\"T_2cc85_row2_col0\" class=\"data row2 col0\" >0.000000</td>\n",
       "    </tr>\n",
       "    <tr>\n",
       "      <th id=\"T_2cc85_level0_row3\" class=\"row_heading level0 row3\" >Confidence</th>\n",
       "      <td id=\"T_2cc85_row3_col0\" class=\"data row3 col0\" >0.000000</td>\n",
       "    </tr>\n",
       "    <tr>\n",
       "      <th id=\"T_2cc85_level0_row4\" class=\"row_heading level0 row4\" >Efforts</th>\n",
       "      <td id=\"T_2cc85_row4_col0\" class=\"data row4 col0\" >0.000000</td>\n",
       "    </tr>\n",
       "  </tbody>\n",
       "</table>\n"
      ],
      "text/plain": [
       "<pandas.io.formats.style.Styler at 0x1a3e45ee100>"
      ]
     },
     "metadata": {},
     "output_type": "display_data"
    },
    {
     "data": {
      "text/plain": [
       "'Количество дубликатов:'"
      ]
     },
     "metadata": {},
     "output_type": "display_data"
    },
    {
     "data": {
      "text/plain": [
       "0"
      ]
     },
     "metadata": {},
     "output_type": "display_data"
    },
    {
     "data": {
      "text/plain": [
       "Index(['Hypothesis', 'Reach', 'Impact', 'Confidence', 'Efforts'], dtype='object')"
      ]
     },
     "metadata": {},
     "output_type": "display_data"
    },
    {
     "data": {
      "text/html": [
       "<div>\n",
       "<style scoped>\n",
       "    .dataframe tbody tr th:only-of-type {\n",
       "        vertical-align: middle;\n",
       "    }\n",
       "\n",
       "    .dataframe tbody tr th {\n",
       "        vertical-align: top;\n",
       "    }\n",
       "\n",
       "    .dataframe thead th {\n",
       "        text-align: right;\n",
       "    }\n",
       "</style>\n",
       "<table border=\"1\" class=\"dataframe\">\n",
       "  <thead>\n",
       "    <tr style=\"text-align: right;\">\n",
       "      <th></th>\n",
       "      <th>Reach</th>\n",
       "      <th>Impact</th>\n",
       "      <th>Confidence</th>\n",
       "      <th>Efforts</th>\n",
       "    </tr>\n",
       "  </thead>\n",
       "  <tbody>\n",
       "    <tr>\n",
       "      <th>count</th>\n",
       "      <td>9.000000</td>\n",
       "      <td>9.000000</td>\n",
       "      <td>9.000000</td>\n",
       "      <td>9.000000</td>\n",
       "    </tr>\n",
       "    <tr>\n",
       "      <th>mean</th>\n",
       "      <td>4.777778</td>\n",
       "      <td>4.777778</td>\n",
       "      <td>5.555556</td>\n",
       "      <td>4.888889</td>\n",
       "    </tr>\n",
       "    <tr>\n",
       "      <th>std</th>\n",
       "      <td>3.153481</td>\n",
       "      <td>3.192874</td>\n",
       "      <td>3.045944</td>\n",
       "      <td>2.803767</td>\n",
       "    </tr>\n",
       "    <tr>\n",
       "      <th>min</th>\n",
       "      <td>1.000000</td>\n",
       "      <td>1.000000</td>\n",
       "      <td>1.000000</td>\n",
       "      <td>1.000000</td>\n",
       "    </tr>\n",
       "    <tr>\n",
       "      <th>25%</th>\n",
       "      <td>3.000000</td>\n",
       "      <td>3.000000</td>\n",
       "      <td>3.000000</td>\n",
       "      <td>3.000000</td>\n",
       "    </tr>\n",
       "    <tr>\n",
       "      <th>50%</th>\n",
       "      <td>3.000000</td>\n",
       "      <td>3.000000</td>\n",
       "      <td>7.000000</td>\n",
       "      <td>5.000000</td>\n",
       "    </tr>\n",
       "    <tr>\n",
       "      <th>75%</th>\n",
       "      <td>8.000000</td>\n",
       "      <td>7.000000</td>\n",
       "      <td>8.000000</td>\n",
       "      <td>6.000000</td>\n",
       "    </tr>\n",
       "    <tr>\n",
       "      <th>max</th>\n",
       "      <td>10.000000</td>\n",
       "      <td>10.000000</td>\n",
       "      <td>9.000000</td>\n",
       "      <td>10.000000</td>\n",
       "    </tr>\n",
       "  </tbody>\n",
       "</table>\n",
       "</div>"
      ],
      "text/plain": [
       "           Reach     Impact  Confidence    Efforts\n",
       "count   9.000000   9.000000    9.000000   9.000000\n",
       "mean    4.777778   4.777778    5.555556   4.888889\n",
       "std     3.153481   3.192874    3.045944   2.803767\n",
       "min     1.000000   1.000000    1.000000   1.000000\n",
       "25%     3.000000   3.000000    3.000000   3.000000\n",
       "50%     3.000000   3.000000    7.000000   5.000000\n",
       "75%     8.000000   7.000000    8.000000   6.000000\n",
       "max    10.000000  10.000000    9.000000  10.000000"
      ]
     },
     "metadata": {},
     "output_type": "display_data"
    }
   ],
   "source": [
    "general_info(hypothesis)"
   ]
  },
  {
   "cell_type": "markdown",
   "metadata": {},
   "source": [
    "#### **Данные о заказах**"
   ]
  },
  {
   "cell_type": "code",
   "execution_count": 5,
   "metadata": {},
   "outputs": [
    {
     "data": {
      "text/html": [
       "<div>\n",
       "<style scoped>\n",
       "    .dataframe tbody tr th:only-of-type {\n",
       "        vertical-align: middle;\n",
       "    }\n",
       "\n",
       "    .dataframe tbody tr th {\n",
       "        vertical-align: top;\n",
       "    }\n",
       "\n",
       "    .dataframe thead th {\n",
       "        text-align: right;\n",
       "    }\n",
       "</style>\n",
       "<table border=\"1\" class=\"dataframe\">\n",
       "  <thead>\n",
       "    <tr style=\"text-align: right;\">\n",
       "      <th></th>\n",
       "      <th>transactionId</th>\n",
       "      <th>visitorId</th>\n",
       "      <th>date</th>\n",
       "      <th>revenue</th>\n",
       "      <th>group</th>\n",
       "    </tr>\n",
       "  </thead>\n",
       "  <tbody>\n",
       "    <tr>\n",
       "      <th>0</th>\n",
       "      <td>3667963787</td>\n",
       "      <td>3312258926</td>\n",
       "      <td>2019-08-15</td>\n",
       "      <td>1650</td>\n",
       "      <td>B</td>\n",
       "    </tr>\n",
       "    <tr>\n",
       "      <th>1</th>\n",
       "      <td>2804400009</td>\n",
       "      <td>3642806036</td>\n",
       "      <td>2019-08-15</td>\n",
       "      <td>730</td>\n",
       "      <td>B</td>\n",
       "    </tr>\n",
       "    <tr>\n",
       "      <th>2</th>\n",
       "      <td>2961555356</td>\n",
       "      <td>4069496402</td>\n",
       "      <td>2019-08-15</td>\n",
       "      <td>400</td>\n",
       "      <td>A</td>\n",
       "    </tr>\n",
       "    <tr>\n",
       "      <th>3</th>\n",
       "      <td>3797467345</td>\n",
       "      <td>1196621759</td>\n",
       "      <td>2019-08-15</td>\n",
       "      <td>9759</td>\n",
       "      <td>B</td>\n",
       "    </tr>\n",
       "    <tr>\n",
       "      <th>4</th>\n",
       "      <td>2282983706</td>\n",
       "      <td>2322279887</td>\n",
       "      <td>2019-08-15</td>\n",
       "      <td>2308</td>\n",
       "      <td>B</td>\n",
       "    </tr>\n",
       "    <tr>\n",
       "      <th>5</th>\n",
       "      <td>182168103</td>\n",
       "      <td>935554773</td>\n",
       "      <td>2019-08-15</td>\n",
       "      <td>2210</td>\n",
       "      <td>B</td>\n",
       "    </tr>\n",
       "    <tr>\n",
       "      <th>6</th>\n",
       "      <td>398296753</td>\n",
       "      <td>2900797465</td>\n",
       "      <td>2019-08-15</td>\n",
       "      <td>1860</td>\n",
       "      <td>B</td>\n",
       "    </tr>\n",
       "    <tr>\n",
       "      <th>7</th>\n",
       "      <td>2626614568</td>\n",
       "      <td>78758296</td>\n",
       "      <td>2019-08-15</td>\n",
       "      <td>1044</td>\n",
       "      <td>A</td>\n",
       "    </tr>\n",
       "    <tr>\n",
       "      <th>8</th>\n",
       "      <td>1576988021</td>\n",
       "      <td>295230930</td>\n",
       "      <td>2019-08-15</td>\n",
       "      <td>13710</td>\n",
       "      <td>A</td>\n",
       "    </tr>\n",
       "    <tr>\n",
       "      <th>9</th>\n",
       "      <td>1506739906</td>\n",
       "      <td>1882260405</td>\n",
       "      <td>2019-08-15</td>\n",
       "      <td>1855</td>\n",
       "      <td>B</td>\n",
       "    </tr>\n",
       "  </tbody>\n",
       "</table>\n",
       "</div>"
      ],
      "text/plain": [
       "   transactionId   visitorId        date  revenue group\n",
       "0     3667963787  3312258926  2019-08-15     1650     B\n",
       "1     2804400009  3642806036  2019-08-15      730     B\n",
       "2     2961555356  4069496402  2019-08-15      400     A\n",
       "3     3797467345  1196621759  2019-08-15     9759     B\n",
       "4     2282983706  2322279887  2019-08-15     2308     B\n",
       "5      182168103   935554773  2019-08-15     2210     B\n",
       "6      398296753  2900797465  2019-08-15     1860     B\n",
       "7     2626614568    78758296  2019-08-15     1044     A\n",
       "8     1576988021   295230930  2019-08-15    13710     A\n",
       "9     1506739906  1882260405  2019-08-15     1855     B"
      ]
     },
     "metadata": {},
     "output_type": "display_data"
    },
    {
     "name": "stdout",
     "output_type": "stream",
     "text": [
      "<class 'pandas.core.frame.DataFrame'>\n",
      "RangeIndex: 1197 entries, 0 to 1196\n",
      "Data columns (total 5 columns):\n",
      " #   Column         Non-Null Count  Dtype \n",
      "---  ------         --------------  ----- \n",
      " 0   transactionId  1197 non-null   int64 \n",
      " 1   visitorId      1197 non-null   int64 \n",
      " 2   date           1197 non-null   object\n",
      " 3   revenue        1197 non-null   int64 \n",
      " 4   group          1197 non-null   object\n",
      "dtypes: int64(3), object(2)\n",
      "memory usage: 46.9+ KB\n"
     ]
    },
    {
     "data": {
      "text/plain": [
       "None"
      ]
     },
     "metadata": {},
     "output_type": "display_data"
    },
    {
     "data": {
      "text/html": [
       "<style type=\"text/css\">\n",
       "#T_62447_row0_col0, #T_62447_row1_col0, #T_62447_row2_col0, #T_62447_row3_col0, #T_62447_row4_col0 {\n",
       "  background-color: #3b4cc0;\n",
       "  color: #f1f1f1;\n",
       "}\n",
       "</style>\n",
       "<table id=\"T_62447\">\n",
       "  <thead>\n",
       "    <tr>\n",
       "      <th class=\"blank level0\" >&nbsp;</th>\n",
       "      <th id=\"T_62447_level0_col0\" class=\"col_heading level0 col0\" >0</th>\n",
       "    </tr>\n",
       "  </thead>\n",
       "  <tbody>\n",
       "    <tr>\n",
       "      <th id=\"T_62447_level0_row0\" class=\"row_heading level0 row0\" >transactionId</th>\n",
       "      <td id=\"T_62447_row0_col0\" class=\"data row0 col0\" >0.000000</td>\n",
       "    </tr>\n",
       "    <tr>\n",
       "      <th id=\"T_62447_level0_row1\" class=\"row_heading level0 row1\" >visitorId</th>\n",
       "      <td id=\"T_62447_row1_col0\" class=\"data row1 col0\" >0.000000</td>\n",
       "    </tr>\n",
       "    <tr>\n",
       "      <th id=\"T_62447_level0_row2\" class=\"row_heading level0 row2\" >date</th>\n",
       "      <td id=\"T_62447_row2_col0\" class=\"data row2 col0\" >0.000000</td>\n",
       "    </tr>\n",
       "    <tr>\n",
       "      <th id=\"T_62447_level0_row3\" class=\"row_heading level0 row3\" >revenue</th>\n",
       "      <td id=\"T_62447_row3_col0\" class=\"data row3 col0\" >0.000000</td>\n",
       "    </tr>\n",
       "    <tr>\n",
       "      <th id=\"T_62447_level0_row4\" class=\"row_heading level0 row4\" >group</th>\n",
       "      <td id=\"T_62447_row4_col0\" class=\"data row4 col0\" >0.000000</td>\n",
       "    </tr>\n",
       "  </tbody>\n",
       "</table>\n"
      ],
      "text/plain": [
       "<pandas.io.formats.style.Styler at 0x1a3df77c7f0>"
      ]
     },
     "metadata": {},
     "output_type": "display_data"
    },
    {
     "data": {
      "text/plain": [
       "'Количество дубликатов:'"
      ]
     },
     "metadata": {},
     "output_type": "display_data"
    },
    {
     "data": {
      "text/plain": [
       "0"
      ]
     },
     "metadata": {},
     "output_type": "display_data"
    },
    {
     "data": {
      "text/plain": [
       "Index(['transactionId', 'visitorId', 'date', 'revenue', 'group'], dtype='object')"
      ]
     },
     "metadata": {},
     "output_type": "display_data"
    },
    {
     "data": {
      "text/html": [
       "<div>\n",
       "<style scoped>\n",
       "    .dataframe tbody tr th:only-of-type {\n",
       "        vertical-align: middle;\n",
       "    }\n",
       "\n",
       "    .dataframe tbody tr th {\n",
       "        vertical-align: top;\n",
       "    }\n",
       "\n",
       "    .dataframe thead th {\n",
       "        text-align: right;\n",
       "    }\n",
       "</style>\n",
       "<table border=\"1\" class=\"dataframe\">\n",
       "  <thead>\n",
       "    <tr style=\"text-align: right;\">\n",
       "      <th></th>\n",
       "      <th>transactionId</th>\n",
       "      <th>visitorId</th>\n",
       "      <th>revenue</th>\n",
       "    </tr>\n",
       "  </thead>\n",
       "  <tbody>\n",
       "    <tr>\n",
       "      <th>count</th>\n",
       "      <td>1.197000e+03</td>\n",
       "      <td>1.197000e+03</td>\n",
       "      <td>1.197000e+03</td>\n",
       "    </tr>\n",
       "    <tr>\n",
       "      <th>mean</th>\n",
       "      <td>2.155621e+09</td>\n",
       "      <td>2.165960e+09</td>\n",
       "      <td>8.348006e+03</td>\n",
       "    </tr>\n",
       "    <tr>\n",
       "      <th>std</th>\n",
       "      <td>1.229085e+09</td>\n",
       "      <td>1.236014e+09</td>\n",
       "      <td>3.919113e+04</td>\n",
       "    </tr>\n",
       "    <tr>\n",
       "      <th>min</th>\n",
       "      <td>1.062393e+06</td>\n",
       "      <td>5.114589e+06</td>\n",
       "      <td>5.000000e+01</td>\n",
       "    </tr>\n",
       "    <tr>\n",
       "      <th>25%</th>\n",
       "      <td>1.166776e+09</td>\n",
       "      <td>1.111826e+09</td>\n",
       "      <td>1.220000e+03</td>\n",
       "    </tr>\n",
       "    <tr>\n",
       "      <th>50%</th>\n",
       "      <td>2.145194e+09</td>\n",
       "      <td>2.217985e+09</td>\n",
       "      <td>2.978000e+03</td>\n",
       "    </tr>\n",
       "    <tr>\n",
       "      <th>75%</th>\n",
       "      <td>3.237740e+09</td>\n",
       "      <td>3.177606e+09</td>\n",
       "      <td>8.290000e+03</td>\n",
       "    </tr>\n",
       "    <tr>\n",
       "      <th>max</th>\n",
       "      <td>4.293856e+09</td>\n",
       "      <td>4.283872e+09</td>\n",
       "      <td>1.294500e+06</td>\n",
       "    </tr>\n",
       "  </tbody>\n",
       "</table>\n",
       "</div>"
      ],
      "text/plain": [
       "       transactionId     visitorId       revenue\n",
       "count   1.197000e+03  1.197000e+03  1.197000e+03\n",
       "mean    2.155621e+09  2.165960e+09  8.348006e+03\n",
       "std     1.229085e+09  1.236014e+09  3.919113e+04\n",
       "min     1.062393e+06  5.114589e+06  5.000000e+01\n",
       "25%     1.166776e+09  1.111826e+09  1.220000e+03\n",
       "50%     2.145194e+09  2.217985e+09  2.978000e+03\n",
       "75%     3.237740e+09  3.177606e+09  8.290000e+03\n",
       "max     4.293856e+09  4.283872e+09  1.294500e+06"
      ]
     },
     "metadata": {},
     "output_type": "display_data"
    }
   ],
   "source": [
    "general_info(orders)"
   ]
  },
  {
   "cell_type": "markdown",
   "metadata": {},
   "source": [
    "#### **Данные о визитах**"
   ]
  },
  {
   "cell_type": "code",
   "execution_count": 6,
   "metadata": {},
   "outputs": [
    {
     "data": {
      "text/html": [
       "<div>\n",
       "<style scoped>\n",
       "    .dataframe tbody tr th:only-of-type {\n",
       "        vertical-align: middle;\n",
       "    }\n",
       "\n",
       "    .dataframe tbody tr th {\n",
       "        vertical-align: top;\n",
       "    }\n",
       "\n",
       "    .dataframe thead th {\n",
       "        text-align: right;\n",
       "    }\n",
       "</style>\n",
       "<table border=\"1\" class=\"dataframe\">\n",
       "  <thead>\n",
       "    <tr style=\"text-align: right;\">\n",
       "      <th></th>\n",
       "      <th>date</th>\n",
       "      <th>group</th>\n",
       "      <th>visitors</th>\n",
       "    </tr>\n",
       "  </thead>\n",
       "  <tbody>\n",
       "    <tr>\n",
       "      <th>0</th>\n",
       "      <td>2019-08-01</td>\n",
       "      <td>A</td>\n",
       "      <td>719</td>\n",
       "    </tr>\n",
       "    <tr>\n",
       "      <th>1</th>\n",
       "      <td>2019-08-02</td>\n",
       "      <td>A</td>\n",
       "      <td>619</td>\n",
       "    </tr>\n",
       "    <tr>\n",
       "      <th>2</th>\n",
       "      <td>2019-08-03</td>\n",
       "      <td>A</td>\n",
       "      <td>507</td>\n",
       "    </tr>\n",
       "    <tr>\n",
       "      <th>3</th>\n",
       "      <td>2019-08-04</td>\n",
       "      <td>A</td>\n",
       "      <td>717</td>\n",
       "    </tr>\n",
       "    <tr>\n",
       "      <th>4</th>\n",
       "      <td>2019-08-05</td>\n",
       "      <td>A</td>\n",
       "      <td>756</td>\n",
       "    </tr>\n",
       "    <tr>\n",
       "      <th>5</th>\n",
       "      <td>2019-08-06</td>\n",
       "      <td>A</td>\n",
       "      <td>667</td>\n",
       "    </tr>\n",
       "    <tr>\n",
       "      <th>6</th>\n",
       "      <td>2019-08-07</td>\n",
       "      <td>A</td>\n",
       "      <td>644</td>\n",
       "    </tr>\n",
       "    <tr>\n",
       "      <th>7</th>\n",
       "      <td>2019-08-08</td>\n",
       "      <td>A</td>\n",
       "      <td>610</td>\n",
       "    </tr>\n",
       "    <tr>\n",
       "      <th>8</th>\n",
       "      <td>2019-08-09</td>\n",
       "      <td>A</td>\n",
       "      <td>617</td>\n",
       "    </tr>\n",
       "    <tr>\n",
       "      <th>9</th>\n",
       "      <td>2019-08-10</td>\n",
       "      <td>A</td>\n",
       "      <td>406</td>\n",
       "    </tr>\n",
       "  </tbody>\n",
       "</table>\n",
       "</div>"
      ],
      "text/plain": [
       "         date group  visitors\n",
       "0  2019-08-01     A       719\n",
       "1  2019-08-02     A       619\n",
       "2  2019-08-03     A       507\n",
       "3  2019-08-04     A       717\n",
       "4  2019-08-05     A       756\n",
       "5  2019-08-06     A       667\n",
       "6  2019-08-07     A       644\n",
       "7  2019-08-08     A       610\n",
       "8  2019-08-09     A       617\n",
       "9  2019-08-10     A       406"
      ]
     },
     "metadata": {},
     "output_type": "display_data"
    },
    {
     "name": "stdout",
     "output_type": "stream",
     "text": [
      "<class 'pandas.core.frame.DataFrame'>\n",
      "RangeIndex: 62 entries, 0 to 61\n",
      "Data columns (total 3 columns):\n",
      " #   Column    Non-Null Count  Dtype \n",
      "---  ------    --------------  ----- \n",
      " 0   date      62 non-null     object\n",
      " 1   group     62 non-null     object\n",
      " 2   visitors  62 non-null     int64 \n",
      "dtypes: int64(1), object(2)\n",
      "memory usage: 1.6+ KB\n"
     ]
    },
    {
     "data": {
      "text/plain": [
       "None"
      ]
     },
     "metadata": {},
     "output_type": "display_data"
    },
    {
     "data": {
      "text/html": [
       "<style type=\"text/css\">\n",
       "#T_e403e_row0_col0, #T_e403e_row1_col0, #T_e403e_row2_col0 {\n",
       "  background-color: #3b4cc0;\n",
       "  color: #f1f1f1;\n",
       "}\n",
       "</style>\n",
       "<table id=\"T_e403e\">\n",
       "  <thead>\n",
       "    <tr>\n",
       "      <th class=\"blank level0\" >&nbsp;</th>\n",
       "      <th id=\"T_e403e_level0_col0\" class=\"col_heading level0 col0\" >0</th>\n",
       "    </tr>\n",
       "  </thead>\n",
       "  <tbody>\n",
       "    <tr>\n",
       "      <th id=\"T_e403e_level0_row0\" class=\"row_heading level0 row0\" >date</th>\n",
       "      <td id=\"T_e403e_row0_col0\" class=\"data row0 col0\" >0.000000</td>\n",
       "    </tr>\n",
       "    <tr>\n",
       "      <th id=\"T_e403e_level0_row1\" class=\"row_heading level0 row1\" >group</th>\n",
       "      <td id=\"T_e403e_row1_col0\" class=\"data row1 col0\" >0.000000</td>\n",
       "    </tr>\n",
       "    <tr>\n",
       "      <th id=\"T_e403e_level0_row2\" class=\"row_heading level0 row2\" >visitors</th>\n",
       "      <td id=\"T_e403e_row2_col0\" class=\"data row2 col0\" >0.000000</td>\n",
       "    </tr>\n",
       "  </tbody>\n",
       "</table>\n"
      ],
      "text/plain": [
       "<pandas.io.formats.style.Styler at 0x1a3e4643940>"
      ]
     },
     "metadata": {},
     "output_type": "display_data"
    },
    {
     "data": {
      "text/plain": [
       "'Количество дубликатов:'"
      ]
     },
     "metadata": {},
     "output_type": "display_data"
    },
    {
     "data": {
      "text/plain": [
       "0"
      ]
     },
     "metadata": {},
     "output_type": "display_data"
    },
    {
     "data": {
      "text/plain": [
       "Index(['date', 'group', 'visitors'], dtype='object')"
      ]
     },
     "metadata": {},
     "output_type": "display_data"
    },
    {
     "data": {
      "text/html": [
       "<div>\n",
       "<style scoped>\n",
       "    .dataframe tbody tr th:only-of-type {\n",
       "        vertical-align: middle;\n",
       "    }\n",
       "\n",
       "    .dataframe tbody tr th {\n",
       "        vertical-align: top;\n",
       "    }\n",
       "\n",
       "    .dataframe thead th {\n",
       "        text-align: right;\n",
       "    }\n",
       "</style>\n",
       "<table border=\"1\" class=\"dataframe\">\n",
       "  <thead>\n",
       "    <tr style=\"text-align: right;\">\n",
       "      <th></th>\n",
       "      <th>visitors</th>\n",
       "    </tr>\n",
       "  </thead>\n",
       "  <tbody>\n",
       "    <tr>\n",
       "      <th>count</th>\n",
       "      <td>62.000000</td>\n",
       "    </tr>\n",
       "    <tr>\n",
       "      <th>mean</th>\n",
       "      <td>607.290323</td>\n",
       "    </tr>\n",
       "    <tr>\n",
       "      <th>std</th>\n",
       "      <td>114.400560</td>\n",
       "    </tr>\n",
       "    <tr>\n",
       "      <th>min</th>\n",
       "      <td>361.000000</td>\n",
       "    </tr>\n",
       "    <tr>\n",
       "      <th>25%</th>\n",
       "      <td>534.000000</td>\n",
       "    </tr>\n",
       "    <tr>\n",
       "      <th>50%</th>\n",
       "      <td>624.500000</td>\n",
       "    </tr>\n",
       "    <tr>\n",
       "      <th>75%</th>\n",
       "      <td>710.500000</td>\n",
       "    </tr>\n",
       "    <tr>\n",
       "      <th>max</th>\n",
       "      <td>770.000000</td>\n",
       "    </tr>\n",
       "  </tbody>\n",
       "</table>\n",
       "</div>"
      ],
      "text/plain": [
       "         visitors\n",
       "count   62.000000\n",
       "mean   607.290323\n",
       "std    114.400560\n",
       "min    361.000000\n",
       "25%    534.000000\n",
       "50%    624.500000\n",
       "75%    710.500000\n",
       "max    770.000000"
      ]
     },
     "metadata": {},
     "output_type": "display_data"
    }
   ],
   "source": [
    "general_info(visits)"
   ]
  },
  {
   "cell_type": "markdown",
   "metadata": {},
   "source": [
    "<div style=\"border-radius: 15px; box-shadow: 4px 4px 4px; border: solid green 2px; padding: 20px\">\n",
    "\n",
    "Изучили информацию о датасетах, пропусков и дубликтов обнаружено не было\n",
    "\n",
    "Необходимо будет привести название колонок в датасете `hypothesis` к нижнему регистру и поменять тип данных у дат\n",
    "    \n",
    "</div>"
   ]
  },
  {
   "cell_type": "markdown",
   "metadata": {},
   "source": [
    "### **Предобработка данных**"
   ]
  },
  {
   "cell_type": "code",
   "execution_count": 7,
   "metadata": {},
   "outputs": [],
   "source": [
    "# приведём названия колонок к нижнему регистру \n",
    "hypothesis.columns = hypothesis.columns.str.lower()"
   ]
  },
  {
   "cell_type": "code",
   "execution_count": 8,
   "metadata": {},
   "outputs": [],
   "source": [
    "# поменяем тип данных у дат\n",
    "orders['date'] = orders['date'].map(lambda x: dt.datetime.strptime(x, '%Y-%m-%d'))\n",
    "visits['date'] = visits['date'].map(lambda x: dt.datetime.strptime(x, '%Y-%m-%d'))"
   ]
  },
  {
   "cell_type": "code",
   "execution_count": 9,
   "metadata": {},
   "outputs": [
    {
     "data": {
      "text/html": [
       "<div>\n",
       "<style scoped>\n",
       "    .dataframe tbody tr th:only-of-type {\n",
       "        vertical-align: middle;\n",
       "    }\n",
       "\n",
       "    .dataframe tbody tr th {\n",
       "        vertical-align: top;\n",
       "    }\n",
       "\n",
       "    .dataframe thead th {\n",
       "        text-align: right;\n",
       "    }\n",
       "</style>\n",
       "<table border=\"1\" class=\"dataframe\">\n",
       "  <thead>\n",
       "    <tr style=\"text-align: right;\">\n",
       "      <th></th>\n",
       "      <th>groups</th>\n",
       "      <th>group_names</th>\n",
       "    </tr>\n",
       "    <tr>\n",
       "      <th>visitorId</th>\n",
       "      <th></th>\n",
       "      <th></th>\n",
       "    </tr>\n",
       "  </thead>\n",
       "  <tbody>\n",
       "    <tr>\n",
       "      <th>8300375</th>\n",
       "      <td>2</td>\n",
       "      <td>[B, A]</td>\n",
       "    </tr>\n",
       "    <tr>\n",
       "      <th>199603092</th>\n",
       "      <td>2</td>\n",
       "      <td>[A, B]</td>\n",
       "    </tr>\n",
       "    <tr>\n",
       "      <th>232979603</th>\n",
       "      <td>2</td>\n",
       "      <td>[B, A]</td>\n",
       "    </tr>\n",
       "    <tr>\n",
       "      <th>237748145</th>\n",
       "      <td>2</td>\n",
       "      <td>[B, A]</td>\n",
       "    </tr>\n",
       "    <tr>\n",
       "      <th>276558944</th>\n",
       "      <td>2</td>\n",
       "      <td>[B, A]</td>\n",
       "    </tr>\n",
       "  </tbody>\n",
       "</table>\n",
       "</div>"
      ],
      "text/plain": [
       "           groups group_names\n",
       "visitorId                    \n",
       "8300375         2      [B, A]\n",
       "199603092       2      [A, B]\n",
       "232979603       2      [B, A]\n",
       "237748145       2      [B, A]\n",
       "276558944       2      [B, A]"
      ]
     },
     "execution_count": 9,
     "metadata": {},
     "output_type": "execute_result"
    }
   ],
   "source": [
    "# проверим пользователей, которые могут быть в двух группах одновременно\n",
    "visitors_duplicated_group = orders.groupby('visitorId').agg({'group': ['nunique', 'unique']})\n",
    "visitors_duplicated_group.columns = ['groups', 'group_names']\n",
    "visitors_duplicated_group = visitors_duplicated_group.query('groups > 1')\n",
    "visitors_duplicated_group.head()"
   ]
  },
  {
   "cell_type": "markdown",
   "metadata": {},
   "source": [
    "<div style=\"border-radius: 15px; box-shadow: 4px 4px 4px; border: solid green 2px; padding: 20px\">\n",
    "\n",
    "Видим, что у нас всего 5 пользователей состоят в обоих группах. Их можно удалить из выборки, но решил оставить, так как такое количество не повлияет на результаты\n",
    "    \n",
    "</div>"
   ]
  },
  {
   "cell_type": "markdown",
   "metadata": {},
   "source": [
    "### **Приоритизация гипотез**"
   ]
  },
  {
   "cell_type": "code",
   "execution_count": 10,
   "metadata": {},
   "outputs": [
    {
     "data": {
      "text/html": [
       "<div>\n",
       "<style scoped>\n",
       "    .dataframe tbody tr th:only-of-type {\n",
       "        vertical-align: middle;\n",
       "    }\n",
       "\n",
       "    .dataframe tbody tr th {\n",
       "        vertical-align: top;\n",
       "    }\n",
       "\n",
       "    .dataframe thead th {\n",
       "        text-align: right;\n",
       "    }\n",
       "</style>\n",
       "<table border=\"1\" class=\"dataframe\">\n",
       "  <thead>\n",
       "    <tr style=\"text-align: right;\">\n",
       "      <th></th>\n",
       "      <th>hypothesis</th>\n",
       "      <th>reach</th>\n",
       "      <th>impact</th>\n",
       "      <th>confidence</th>\n",
       "      <th>efforts</th>\n",
       "    </tr>\n",
       "  </thead>\n",
       "  <tbody>\n",
       "    <tr>\n",
       "      <th>0</th>\n",
       "      <td>Добавить два новых канала привлечения трафика, что позволит привлекать на 30% больше пользователей</td>\n",
       "      <td>3</td>\n",
       "      <td>10</td>\n",
       "      <td>8</td>\n",
       "      <td>6</td>\n",
       "    </tr>\n",
       "    <tr>\n",
       "      <th>1</th>\n",
       "      <td>Запустить собственную службу доставки, что сократит срок доставки заказов</td>\n",
       "      <td>2</td>\n",
       "      <td>5</td>\n",
       "      <td>4</td>\n",
       "      <td>10</td>\n",
       "    </tr>\n",
       "    <tr>\n",
       "      <th>2</th>\n",
       "      <td>Добавить блоки рекомендаций товаров на сайт интернет магазина, чтобы повысить конверсию и средний чек заказа</td>\n",
       "      <td>8</td>\n",
       "      <td>3</td>\n",
       "      <td>7</td>\n",
       "      <td>3</td>\n",
       "    </tr>\n",
       "    <tr>\n",
       "      <th>3</th>\n",
       "      <td>Изменить структура категорий, что увеличит конверсию, т.к. пользователи быстрее найдут нужный товар</td>\n",
       "      <td>8</td>\n",
       "      <td>3</td>\n",
       "      <td>3</td>\n",
       "      <td>8</td>\n",
       "    </tr>\n",
       "    <tr>\n",
       "      <th>4</th>\n",
       "      <td>Изменить цвет фона главной страницы, чтобы увеличить вовлеченность пользователей</td>\n",
       "      <td>3</td>\n",
       "      <td>1</td>\n",
       "      <td>1</td>\n",
       "      <td>1</td>\n",
       "    </tr>\n",
       "    <tr>\n",
       "      <th>5</th>\n",
       "      <td>Добавить страницу отзывов клиентов о магазине, что позволит увеличить количество заказов</td>\n",
       "      <td>3</td>\n",
       "      <td>2</td>\n",
       "      <td>2</td>\n",
       "      <td>3</td>\n",
       "    </tr>\n",
       "    <tr>\n",
       "      <th>6</th>\n",
       "      <td>Показать на главной странице баннеры с актуальными акциями и распродажами, чтобы увеличить конверсию</td>\n",
       "      <td>5</td>\n",
       "      <td>3</td>\n",
       "      <td>8</td>\n",
       "      <td>3</td>\n",
       "    </tr>\n",
       "    <tr>\n",
       "      <th>7</th>\n",
       "      <td>Добавить форму подписки на все основные страницы, чтобы собрать базу клиентов для email-рассылок</td>\n",
       "      <td>10</td>\n",
       "      <td>7</td>\n",
       "      <td>8</td>\n",
       "      <td>5</td>\n",
       "    </tr>\n",
       "    <tr>\n",
       "      <th>8</th>\n",
       "      <td>Запустить акцию, дающую скидку на товар в день рождения</td>\n",
       "      <td>1</td>\n",
       "      <td>9</td>\n",
       "      <td>9</td>\n",
       "      <td>5</td>\n",
       "    </tr>\n",
       "  </tbody>\n",
       "</table>\n",
       "</div>"
      ],
      "text/plain": [
       "                                                                                                     hypothesis  \\\n",
       "0            Добавить два новых канала привлечения трафика, что позволит привлекать на 30% больше пользователей   \n",
       "1                                     Запустить собственную службу доставки, что сократит срок доставки заказов   \n",
       "2  Добавить блоки рекомендаций товаров на сайт интернет магазина, чтобы повысить конверсию и средний чек заказа   \n",
       "3           Изменить структура категорий, что увеличит конверсию, т.к. пользователи быстрее найдут нужный товар   \n",
       "4                              Изменить цвет фона главной страницы, чтобы увеличить вовлеченность пользователей   \n",
       "5                      Добавить страницу отзывов клиентов о магазине, что позволит увеличить количество заказов   \n",
       "6          Показать на главной странице баннеры с актуальными акциями и распродажами, чтобы увеличить конверсию   \n",
       "7              Добавить форму подписки на все основные страницы, чтобы собрать базу клиентов для email-рассылок   \n",
       "8                                                       Запустить акцию, дающую скидку на товар в день рождения   \n",
       "\n",
       "   reach  impact  confidence  efforts  \n",
       "0      3      10           8        6  \n",
       "1      2       5           4       10  \n",
       "2      8       3           7        3  \n",
       "3      8       3           3        8  \n",
       "4      3       1           1        1  \n",
       "5      3       2           2        3  \n",
       "6      5       3           8        3  \n",
       "7     10       7           8        5  \n",
       "8      1       9           9        5  "
      ]
     },
     "execution_count": 10,
     "metadata": {},
     "output_type": "execute_result"
    }
   ],
   "source": [
    "# увеличим лимит знаков ячейки и выведим гипотезы\n",
    "pd.options.display.max_colwidth = 300\n",
    "hypothesis.head(10)"
   ]
  },
  {
   "cell_type": "code",
   "execution_count": 11,
   "metadata": {},
   "outputs": [
    {
     "data": {
      "text/html": [
       "<div>\n",
       "<style scoped>\n",
       "    .dataframe tbody tr th:only-of-type {\n",
       "        vertical-align: middle;\n",
       "    }\n",
       "\n",
       "    .dataframe tbody tr th {\n",
       "        vertical-align: top;\n",
       "    }\n",
       "\n",
       "    .dataframe thead th {\n",
       "        text-align: right;\n",
       "    }\n",
       "</style>\n",
       "<table border=\"1\" class=\"dataframe\">\n",
       "  <thead>\n",
       "    <tr style=\"text-align: right;\">\n",
       "      <th></th>\n",
       "      <th>hypothesis</th>\n",
       "      <th>reach</th>\n",
       "      <th>impact</th>\n",
       "      <th>confidence</th>\n",
       "      <th>efforts</th>\n",
       "      <th>ice</th>\n",
       "    </tr>\n",
       "  </thead>\n",
       "  <tbody>\n",
       "    <tr>\n",
       "      <th>8</th>\n",
       "      <td>Запустить акцию, дающую скидку на товар в день рождения</td>\n",
       "      <td>1</td>\n",
       "      <td>9</td>\n",
       "      <td>9</td>\n",
       "      <td>5</td>\n",
       "      <td>16.20</td>\n",
       "    </tr>\n",
       "    <tr>\n",
       "      <th>0</th>\n",
       "      <td>Добавить два новых канала привлечения трафика, что позволит привлекать на 30% больше пользователей</td>\n",
       "      <td>3</td>\n",
       "      <td>10</td>\n",
       "      <td>8</td>\n",
       "      <td>6</td>\n",
       "      <td>13.33</td>\n",
       "    </tr>\n",
       "    <tr>\n",
       "      <th>7</th>\n",
       "      <td>Добавить форму подписки на все основные страницы, чтобы собрать базу клиентов для email-рассылок</td>\n",
       "      <td>10</td>\n",
       "      <td>7</td>\n",
       "      <td>8</td>\n",
       "      <td>5</td>\n",
       "      <td>11.20</td>\n",
       "    </tr>\n",
       "    <tr>\n",
       "      <th>6</th>\n",
       "      <td>Показать на главной странице баннеры с актуальными акциями и распродажами, чтобы увеличить конверсию</td>\n",
       "      <td>5</td>\n",
       "      <td>3</td>\n",
       "      <td>8</td>\n",
       "      <td>3</td>\n",
       "      <td>8.00</td>\n",
       "    </tr>\n",
       "    <tr>\n",
       "      <th>2</th>\n",
       "      <td>Добавить блоки рекомендаций товаров на сайт интернет магазина, чтобы повысить конверсию и средний чек заказа</td>\n",
       "      <td>8</td>\n",
       "      <td>3</td>\n",
       "      <td>7</td>\n",
       "      <td>3</td>\n",
       "      <td>7.00</td>\n",
       "    </tr>\n",
       "    <tr>\n",
       "      <th>1</th>\n",
       "      <td>Запустить собственную службу доставки, что сократит срок доставки заказов</td>\n",
       "      <td>2</td>\n",
       "      <td>5</td>\n",
       "      <td>4</td>\n",
       "      <td>10</td>\n",
       "      <td>2.00</td>\n",
       "    </tr>\n",
       "    <tr>\n",
       "      <th>5</th>\n",
       "      <td>Добавить страницу отзывов клиентов о магазине, что позволит увеличить количество заказов</td>\n",
       "      <td>3</td>\n",
       "      <td>2</td>\n",
       "      <td>2</td>\n",
       "      <td>3</td>\n",
       "      <td>1.33</td>\n",
       "    </tr>\n",
       "    <tr>\n",
       "      <th>3</th>\n",
       "      <td>Изменить структура категорий, что увеличит конверсию, т.к. пользователи быстрее найдут нужный товар</td>\n",
       "      <td>8</td>\n",
       "      <td>3</td>\n",
       "      <td>3</td>\n",
       "      <td>8</td>\n",
       "      <td>1.12</td>\n",
       "    </tr>\n",
       "    <tr>\n",
       "      <th>4</th>\n",
       "      <td>Изменить цвет фона главной страницы, чтобы увеличить вовлеченность пользователей</td>\n",
       "      <td>3</td>\n",
       "      <td>1</td>\n",
       "      <td>1</td>\n",
       "      <td>1</td>\n",
       "      <td>1.00</td>\n",
       "    </tr>\n",
       "  </tbody>\n",
       "</table>\n",
       "</div>"
      ],
      "text/plain": [
       "                                                                                                     hypothesis  \\\n",
       "8                                                       Запустить акцию, дающую скидку на товар в день рождения   \n",
       "0            Добавить два новых канала привлечения трафика, что позволит привлекать на 30% больше пользователей   \n",
       "7              Добавить форму подписки на все основные страницы, чтобы собрать базу клиентов для email-рассылок   \n",
       "6          Показать на главной странице баннеры с актуальными акциями и распродажами, чтобы увеличить конверсию   \n",
       "2  Добавить блоки рекомендаций товаров на сайт интернет магазина, чтобы повысить конверсию и средний чек заказа   \n",
       "1                                     Запустить собственную службу доставки, что сократит срок доставки заказов   \n",
       "5                      Добавить страницу отзывов клиентов о магазине, что позволит увеличить количество заказов   \n",
       "3           Изменить структура категорий, что увеличит конверсию, т.к. пользователи быстрее найдут нужный товар   \n",
       "4                              Изменить цвет фона главной страницы, чтобы увеличить вовлеченность пользователей   \n",
       "\n",
       "   reach  impact  confidence  efforts    ice  \n",
       "8      1       9           9        5  16.20  \n",
       "0      3      10           8        6  13.33  \n",
       "7     10       7           8        5  11.20  \n",
       "6      5       3           8        3   8.00  \n",
       "2      8       3           7        3   7.00  \n",
       "1      2       5           4       10   2.00  \n",
       "5      3       2           2        3   1.33  \n",
       "3      8       3           3        8   1.12  \n",
       "4      3       1           1        1   1.00  "
      ]
     },
     "execution_count": 11,
     "metadata": {},
     "output_type": "execute_result"
    }
   ],
   "source": [
    "# рассчитаем приоритизацию гипотез через фреймворк ICE\n",
    "hypothesis['ice'] = round(hypothesis['impact'] * hypothesis['confidence'] / hypothesis['efforts'], 2)\n",
    "hypothesis.head(10).sort_values(by='ice', ascending=False)"
   ]
  },
  {
   "cell_type": "code",
   "execution_count": 12,
   "metadata": {},
   "outputs": [
    {
     "data": {
      "text/html": [
       "<div>\n",
       "<style scoped>\n",
       "    .dataframe tbody tr th:only-of-type {\n",
       "        vertical-align: middle;\n",
       "    }\n",
       "\n",
       "    .dataframe tbody tr th {\n",
       "        vertical-align: top;\n",
       "    }\n",
       "\n",
       "    .dataframe thead th {\n",
       "        text-align: right;\n",
       "    }\n",
       "</style>\n",
       "<table border=\"1\" class=\"dataframe\">\n",
       "  <thead>\n",
       "    <tr style=\"text-align: right;\">\n",
       "      <th></th>\n",
       "      <th>hypothesis</th>\n",
       "      <th>reach</th>\n",
       "      <th>impact</th>\n",
       "      <th>confidence</th>\n",
       "      <th>efforts</th>\n",
       "      <th>ice</th>\n",
       "      <th>rice</th>\n",
       "    </tr>\n",
       "  </thead>\n",
       "  <tbody>\n",
       "    <tr>\n",
       "      <th>7</th>\n",
       "      <td>Добавить форму подписки на все основные страницы, чтобы собрать базу клиентов для email-рассылок</td>\n",
       "      <td>10</td>\n",
       "      <td>7</td>\n",
       "      <td>8</td>\n",
       "      <td>5</td>\n",
       "      <td>11.20</td>\n",
       "      <td>112.0</td>\n",
       "    </tr>\n",
       "    <tr>\n",
       "      <th>2</th>\n",
       "      <td>Добавить блоки рекомендаций товаров на сайт интернет магазина, чтобы повысить конверсию и средний чек заказа</td>\n",
       "      <td>8</td>\n",
       "      <td>3</td>\n",
       "      <td>7</td>\n",
       "      <td>3</td>\n",
       "      <td>7.00</td>\n",
       "      <td>56.0</td>\n",
       "    </tr>\n",
       "    <tr>\n",
       "      <th>0</th>\n",
       "      <td>Добавить два новых канала привлечения трафика, что позволит привлекать на 30% больше пользователей</td>\n",
       "      <td>3</td>\n",
       "      <td>10</td>\n",
       "      <td>8</td>\n",
       "      <td>6</td>\n",
       "      <td>13.33</td>\n",
       "      <td>40.0</td>\n",
       "    </tr>\n",
       "    <tr>\n",
       "      <th>6</th>\n",
       "      <td>Показать на главной странице баннеры с актуальными акциями и распродажами, чтобы увеличить конверсию</td>\n",
       "      <td>5</td>\n",
       "      <td>3</td>\n",
       "      <td>8</td>\n",
       "      <td>3</td>\n",
       "      <td>8.00</td>\n",
       "      <td>40.0</td>\n",
       "    </tr>\n",
       "    <tr>\n",
       "      <th>8</th>\n",
       "      <td>Запустить акцию, дающую скидку на товар в день рождения</td>\n",
       "      <td>1</td>\n",
       "      <td>9</td>\n",
       "      <td>9</td>\n",
       "      <td>5</td>\n",
       "      <td>16.20</td>\n",
       "      <td>16.2</td>\n",
       "    </tr>\n",
       "    <tr>\n",
       "      <th>3</th>\n",
       "      <td>Изменить структура категорий, что увеличит конверсию, т.к. пользователи быстрее найдут нужный товар</td>\n",
       "      <td>8</td>\n",
       "      <td>3</td>\n",
       "      <td>3</td>\n",
       "      <td>8</td>\n",
       "      <td>1.12</td>\n",
       "      <td>9.0</td>\n",
       "    </tr>\n",
       "    <tr>\n",
       "      <th>1</th>\n",
       "      <td>Запустить собственную службу доставки, что сократит срок доставки заказов</td>\n",
       "      <td>2</td>\n",
       "      <td>5</td>\n",
       "      <td>4</td>\n",
       "      <td>10</td>\n",
       "      <td>2.00</td>\n",
       "      <td>4.0</td>\n",
       "    </tr>\n",
       "    <tr>\n",
       "      <th>5</th>\n",
       "      <td>Добавить страницу отзывов клиентов о магазине, что позволит увеличить количество заказов</td>\n",
       "      <td>3</td>\n",
       "      <td>2</td>\n",
       "      <td>2</td>\n",
       "      <td>3</td>\n",
       "      <td>1.33</td>\n",
       "      <td>4.0</td>\n",
       "    </tr>\n",
       "    <tr>\n",
       "      <th>4</th>\n",
       "      <td>Изменить цвет фона главной страницы, чтобы увеличить вовлеченность пользователей</td>\n",
       "      <td>3</td>\n",
       "      <td>1</td>\n",
       "      <td>1</td>\n",
       "      <td>1</td>\n",
       "      <td>1.00</td>\n",
       "      <td>3.0</td>\n",
       "    </tr>\n",
       "  </tbody>\n",
       "</table>\n",
       "</div>"
      ],
      "text/plain": [
       "                                                                                                     hypothesis  \\\n",
       "7              Добавить форму подписки на все основные страницы, чтобы собрать базу клиентов для email-рассылок   \n",
       "2  Добавить блоки рекомендаций товаров на сайт интернет магазина, чтобы повысить конверсию и средний чек заказа   \n",
       "0            Добавить два новых канала привлечения трафика, что позволит привлекать на 30% больше пользователей   \n",
       "6          Показать на главной странице баннеры с актуальными акциями и распродажами, чтобы увеличить конверсию   \n",
       "8                                                       Запустить акцию, дающую скидку на товар в день рождения   \n",
       "3           Изменить структура категорий, что увеличит конверсию, т.к. пользователи быстрее найдут нужный товар   \n",
       "1                                     Запустить собственную службу доставки, что сократит срок доставки заказов   \n",
       "5                      Добавить страницу отзывов клиентов о магазине, что позволит увеличить количество заказов   \n",
       "4                              Изменить цвет фона главной страницы, чтобы увеличить вовлеченность пользователей   \n",
       "\n",
       "   reach  impact  confidence  efforts    ice   rice  \n",
       "7     10       7           8        5  11.20  112.0  \n",
       "2      8       3           7        3   7.00   56.0  \n",
       "0      3      10           8        6  13.33   40.0  \n",
       "6      5       3           8        3   8.00   40.0  \n",
       "8      1       9           9        5  16.20   16.2  \n",
       "3      8       3           3        8   1.12    9.0  \n",
       "1      2       5           4       10   2.00    4.0  \n",
       "5      3       2           2        3   1.33    4.0  \n",
       "4      3       1           1        1   1.00    3.0  "
      ]
     },
     "execution_count": 12,
     "metadata": {},
     "output_type": "execute_result"
    }
   ],
   "source": [
    "# рассчитаем приоритизацию гипотез через фреймворк RICE\n",
    "hypothesis['rice'] = round(hypothesis['reach'] * hypothesis['impact'] * hypothesis['confidence'] / hypothesis['efforts'], 2)\n",
    "hypothesis.head(10).sort_values(by='rice', ascending=False)"
   ]
  },
  {
   "cell_type": "markdown",
   "metadata": {},
   "source": [
    "<div style=\"border-radius: 15px; box-shadow: 4px 4px 4px; border: solid green 2px; padding: 20px\">\n",
    "\n",
    "При расчётах приоритизации гипотез через фреймворк ICE были выялены две наиболее важных гипотезы 1 и 9, их важности способствует наиболее высокие показатели: \n",
    "    \n",
    "- `impact`(насколько сильно изменение повлияет на пользователей)\n",
    "    \n",
    "- `confidence`(насколько вы уверены, что это изменение повлияет на пользователей именно так)\n",
    "\n",
    "При расчёте же приоритизации гипотез через фреймворк RICE приоритизация поменялась за счёт `Reach`(охват пользователей), тем самым охват повлиял на изменение приоритизации и наиболее важными уже стали гипотезы 3 и 8\n",
    "    \n",
    "Видим, что отличие этих фрейворков является только тем, что в `RICE` есть охват пользователей, за счёт неё и меняется приоритизация\n",
    "    \n",
    "</div>\n",
    " "
   ]
  },
  {
   "cell_type": "markdown",
   "metadata": {},
   "source": [
    "### **Анализ A/B-теста**"
   ]
  },
  {
   "cell_type": "code",
   "execution_count": 13,
   "metadata": {},
   "outputs": [],
   "source": [
    "# создаем массив уникальных пар значений дат и групп теста\n",
    "datesGroups = orders[['date','group']].drop_duplicates()\n",
    "# соберём агрегированные кумулятивные по дням данные о заказах \n",
    "ordersAggregated = (\n",
    "    datesGroups.apply(lambda x: orders[np.logical_and(orders['date'] <= x['date'], orders['group'] == x['group'])] \n",
    "    .agg({'date' : 'max', 'group' : 'max', 'transactionId' : 'nunique', 'visitorId' : 'nunique', 'revenue' : 'sum'}), axis=1)\n",
    "    .sort_values(by=['date','group']))"
   ]
  },
  {
   "cell_type": "code",
   "execution_count": 14,
   "metadata": {},
   "outputs": [],
   "source": [
    "# соберём агрегированные кумулятивные по дням данные о посетителях\n",
    "visitorsAggregated = (\n",
    "    datesGroups.apply(lambda x: visits[np.logical_and(visits['date'] <= x['date'], visits['group'] == x['group'])]\n",
    "    .agg({'date' : 'max', 'group' : 'max', 'visitors' : 'sum'}), axis=1)\n",
    "    .sort_values(by=['date','group']))"
   ]
  },
  {
   "cell_type": "code",
   "execution_count": 15,
   "metadata": {},
   "outputs": [],
   "source": [
    "# объединяем кумулятивные данные в одной таблице и присваиваем ее столбцам понятные названия\n",
    "cumulativeData = ordersAggregated.merge(visitorsAggregated, left_on=['date', 'group'], right_on=['date', 'group'])\n",
    "cumulativeData.columns = ['date', 'group', 'orders', 'buyers', 'revenue', 'visitors']"
   ]
  },
  {
   "cell_type": "code",
   "execution_count": 16,
   "metadata": {
    "scrolled": false
   },
   "outputs": [
    {
     "data": {
      "text/html": [
       "<div>\n",
       "<style scoped>\n",
       "    .dataframe tbody tr th:only-of-type {\n",
       "        vertical-align: middle;\n",
       "    }\n",
       "\n",
       "    .dataframe tbody tr th {\n",
       "        vertical-align: top;\n",
       "    }\n",
       "\n",
       "    .dataframe thead th {\n",
       "        text-align: right;\n",
       "    }\n",
       "</style>\n",
       "<table border=\"1\" class=\"dataframe\">\n",
       "  <thead>\n",
       "    <tr style=\"text-align: right;\">\n",
       "      <th></th>\n",
       "      <th>date</th>\n",
       "      <th>group</th>\n",
       "      <th>orders</th>\n",
       "      <th>buyers</th>\n",
       "      <th>revenue</th>\n",
       "      <th>visitors</th>\n",
       "    </tr>\n",
       "  </thead>\n",
       "  <tbody>\n",
       "    <tr>\n",
       "      <th>0</th>\n",
       "      <td>2019-08-01</td>\n",
       "      <td>A</td>\n",
       "      <td>24</td>\n",
       "      <td>20</td>\n",
       "      <td>148579</td>\n",
       "      <td>719</td>\n",
       "    </tr>\n",
       "    <tr>\n",
       "      <th>1</th>\n",
       "      <td>2019-08-01</td>\n",
       "      <td>B</td>\n",
       "      <td>21</td>\n",
       "      <td>20</td>\n",
       "      <td>101217</td>\n",
       "      <td>713</td>\n",
       "    </tr>\n",
       "    <tr>\n",
       "      <th>2</th>\n",
       "      <td>2019-08-02</td>\n",
       "      <td>A</td>\n",
       "      <td>44</td>\n",
       "      <td>38</td>\n",
       "      <td>242401</td>\n",
       "      <td>1338</td>\n",
       "    </tr>\n",
       "    <tr>\n",
       "      <th>3</th>\n",
       "      <td>2019-08-02</td>\n",
       "      <td>B</td>\n",
       "      <td>45</td>\n",
       "      <td>43</td>\n",
       "      <td>266748</td>\n",
       "      <td>1294</td>\n",
       "    </tr>\n",
       "    <tr>\n",
       "      <th>4</th>\n",
       "      <td>2019-08-03</td>\n",
       "      <td>A</td>\n",
       "      <td>68</td>\n",
       "      <td>62</td>\n",
       "      <td>354874</td>\n",
       "      <td>1845</td>\n",
       "    </tr>\n",
       "    <tr>\n",
       "      <th>5</th>\n",
       "      <td>2019-08-03</td>\n",
       "      <td>B</td>\n",
       "      <td>61</td>\n",
       "      <td>59</td>\n",
       "      <td>380996</td>\n",
       "      <td>1803</td>\n",
       "    </tr>\n",
       "    <tr>\n",
       "      <th>6</th>\n",
       "      <td>2019-08-04</td>\n",
       "      <td>A</td>\n",
       "      <td>84</td>\n",
       "      <td>77</td>\n",
       "      <td>425699</td>\n",
       "      <td>2562</td>\n",
       "    </tr>\n",
       "    <tr>\n",
       "      <th>7</th>\n",
       "      <td>2019-08-04</td>\n",
       "      <td>B</td>\n",
       "      <td>78</td>\n",
       "      <td>75</td>\n",
       "      <td>489567</td>\n",
       "      <td>2573</td>\n",
       "    </tr>\n",
       "    <tr>\n",
       "      <th>8</th>\n",
       "      <td>2019-08-05</td>\n",
       "      <td>A</td>\n",
       "      <td>109</td>\n",
       "      <td>100</td>\n",
       "      <td>549917</td>\n",
       "      <td>3318</td>\n",
       "    </tr>\n",
       "    <tr>\n",
       "      <th>9</th>\n",
       "      <td>2019-08-05</td>\n",
       "      <td>B</td>\n",
       "      <td>101</td>\n",
       "      <td>98</td>\n",
       "      <td>581995</td>\n",
       "      <td>3280</td>\n",
       "    </tr>\n",
       "  </tbody>\n",
       "</table>\n",
       "</div>"
      ],
      "text/plain": [
       "        date group  orders  buyers  revenue  visitors\n",
       "0 2019-08-01     A      24      20   148579       719\n",
       "1 2019-08-01     B      21      20   101217       713\n",
       "2 2019-08-02     A      44      38   242401      1338\n",
       "3 2019-08-02     B      45      43   266748      1294\n",
       "4 2019-08-03     A      68      62   354874      1845\n",
       "5 2019-08-03     B      61      59   380996      1803\n",
       "6 2019-08-04     A      84      77   425699      2562\n",
       "7 2019-08-04     B      78      75   489567      2573\n",
       "8 2019-08-05     A     109     100   549917      3318\n",
       "9 2019-08-05     B     101      98   581995      3280"
      ]
     },
     "metadata": {},
     "output_type": "display_data"
    },
    {
     "data": {
      "text/html": [
       "<div>\n",
       "<style scoped>\n",
       "    .dataframe tbody tr th:only-of-type {\n",
       "        vertical-align: middle;\n",
       "    }\n",
       "\n",
       "    .dataframe tbody tr th {\n",
       "        vertical-align: top;\n",
       "    }\n",
       "\n",
       "    .dataframe thead th {\n",
       "        text-align: right;\n",
       "    }\n",
       "</style>\n",
       "<table border=\"1\" class=\"dataframe\">\n",
       "  <thead>\n",
       "    <tr style=\"text-align: right;\">\n",
       "      <th></th>\n",
       "      <th>date</th>\n",
       "      <th>group</th>\n",
       "      <th>orders</th>\n",
       "      <th>buyers</th>\n",
       "      <th>revenue</th>\n",
       "      <th>visitors</th>\n",
       "    </tr>\n",
       "  </thead>\n",
       "  <tbody>\n",
       "    <tr>\n",
       "      <th>52</th>\n",
       "      <td>2019-08-27</td>\n",
       "      <td>A</td>\n",
       "      <td>495</td>\n",
       "      <td>449</td>\n",
       "      <td>3514698</td>\n",
       "      <td>16376</td>\n",
       "    </tr>\n",
       "    <tr>\n",
       "      <th>53</th>\n",
       "      <td>2019-08-27</td>\n",
       "      <td>B</td>\n",
       "      <td>548</td>\n",
       "      <td>504</td>\n",
       "      <td>5232260</td>\n",
       "      <td>16523</td>\n",
       "    </tr>\n",
       "    <tr>\n",
       "      <th>54</th>\n",
       "      <td>2019-08-28</td>\n",
       "      <td>A</td>\n",
       "      <td>512</td>\n",
       "      <td>464</td>\n",
       "      <td>3615820</td>\n",
       "      <td>16970</td>\n",
       "    </tr>\n",
       "    <tr>\n",
       "      <th>55</th>\n",
       "      <td>2019-08-28</td>\n",
       "      <td>B</td>\n",
       "      <td>576</td>\n",
       "      <td>526</td>\n",
       "      <td>5328268</td>\n",
       "      <td>17177</td>\n",
       "    </tr>\n",
       "    <tr>\n",
       "      <th>56</th>\n",
       "      <td>2019-08-29</td>\n",
       "      <td>A</td>\n",
       "      <td>534</td>\n",
       "      <td>484</td>\n",
       "      <td>3936510</td>\n",
       "      <td>17547</td>\n",
       "    </tr>\n",
       "    <tr>\n",
       "      <th>57</th>\n",
       "      <td>2019-08-29</td>\n",
       "      <td>B</td>\n",
       "      <td>596</td>\n",
       "      <td>544</td>\n",
       "      <td>5559398</td>\n",
       "      <td>17708</td>\n",
       "    </tr>\n",
       "    <tr>\n",
       "      <th>58</th>\n",
       "      <td>2019-08-30</td>\n",
       "      <td>A</td>\n",
       "      <td>545</td>\n",
       "      <td>493</td>\n",
       "      <td>4022970</td>\n",
       "      <td>18037</td>\n",
       "    </tr>\n",
       "    <tr>\n",
       "      <th>59</th>\n",
       "      <td>2019-08-30</td>\n",
       "      <td>B</td>\n",
       "      <td>620</td>\n",
       "      <td>567</td>\n",
       "      <td>5774631</td>\n",
       "      <td>18198</td>\n",
       "    </tr>\n",
       "    <tr>\n",
       "      <th>60</th>\n",
       "      <td>2019-08-31</td>\n",
       "      <td>A</td>\n",
       "      <td>557</td>\n",
       "      <td>503</td>\n",
       "      <td>4084803</td>\n",
       "      <td>18736</td>\n",
       "    </tr>\n",
       "    <tr>\n",
       "      <th>61</th>\n",
       "      <td>2019-08-31</td>\n",
       "      <td>B</td>\n",
       "      <td>640</td>\n",
       "      <td>586</td>\n",
       "      <td>5907760</td>\n",
       "      <td>18916</td>\n",
       "    </tr>\n",
       "  </tbody>\n",
       "</table>\n",
       "</div>"
      ],
      "text/plain": [
       "         date group  orders  buyers  revenue  visitors\n",
       "52 2019-08-27     A     495     449  3514698     16376\n",
       "53 2019-08-27     B     548     504  5232260     16523\n",
       "54 2019-08-28     A     512     464  3615820     16970\n",
       "55 2019-08-28     B     576     526  5328268     17177\n",
       "56 2019-08-29     A     534     484  3936510     17547\n",
       "57 2019-08-29     B     596     544  5559398     17708\n",
       "58 2019-08-30     A     545     493  4022970     18037\n",
       "59 2019-08-30     B     620     567  5774631     18198\n",
       "60 2019-08-31     A     557     503  4084803     18736\n",
       "61 2019-08-31     B     640     586  5907760     18916"
      ]
     },
     "metadata": {},
     "output_type": "display_data"
    }
   ],
   "source": [
    "display(cumulativeData.head(10))\n",
    "display(cumulativeData.tail(10))"
   ]
  },
  {
   "cell_type": "code",
   "execution_count": 17,
   "metadata": {},
   "outputs": [
    {
     "name": "stdout",
     "output_type": "stream",
     "text": [
      "2019-08-01 00:00:00\n",
      "2019-08-31 00:00:00\n"
     ]
    }
   ],
   "source": [
    "# проверим корректны ли данные \n",
    "print(cumulativeData['date'].min())\n",
    "print(cumulativeData['date'].max())"
   ]
  },
  {
   "cell_type": "markdown",
   "metadata": {},
   "source": [
    "#### *График кумулятивной выручки по группам*"
   ]
  },
  {
   "cell_type": "code",
   "execution_count": 18,
   "metadata": {},
   "outputs": [
    {
     "data": {
      "image/png": "[encoded data removed]",
      "text/plain": [
       "<Figure size 1080x504 with 1 Axes>"
      ]
     },
     "metadata": {
      "needs_background": "light"
     },
     "output_type": "display_data"
    }
   ],
   "source": [
    "# датафрейм с кумулятивным количеством заказов и кумулятивной выручкой по дням в группе А\n",
    "cumulativeRevenueA = cumulativeData[cumulativeData['group']=='A'][['date','revenue', 'orders']]\n",
    "\n",
    "# датафрейм с кумулятивным количеством заказов и кумулятивной выручкой по дням в группе B\n",
    "cumulativeRevenueB = cumulativeData[cumulativeData['group']=='B'][['date','revenue', 'orders']]\n",
    "\n",
    "plt.figure(figsize=(15,7))\n",
    "\n",
    "# Строим график выручки группы А\n",
    "plt.plot(cumulativeRevenueA['date'], cumulativeRevenueA['revenue'], label='A')\n",
    "\n",
    "# Строим график выручки группы B\n",
    "plt.plot(cumulativeRevenueB['date'], cumulativeRevenueB['revenue'], label='B')\n",
    "\n",
    "plt.title('График кумулятивной выручки по группам')\n",
    "plt.legend() \n",
    "plt.xticks(rotation=45)\n",
    "plt.ylabel('Выручка')\n",
    "plt.xlabel('Дата')\n",
    "plt.show()"
   ]
  },
  {
   "cell_type": "markdown",
   "metadata": {},
   "source": [
    "<div style=\"border-radius: 15px; box-shadow: 4px 4px 4px; border: solid green 2px; padding: 20px\">\n",
    "\n",
    "Видим, что выручка равномерно учеличивается по 17 августа равномерно в обеих группах, но затем выручка группы B значительно увеличивается(видим резкий скачок) и продолжает равномерно расти\n",
    "\n",
    "Это вероятно может сигнализировать о всплесках числа заказов, либо о появлении очень дорогих заказов в выборке\n",
    "\n",
    "</div>"
   ]
  },
  {
   "cell_type": "markdown",
   "metadata": {},
   "source": [
    "#### *График кумулятивного среднего чека по группам*"
   ]
  },
  {
   "cell_type": "code",
   "execution_count": 19,
   "metadata": {},
   "outputs": [
    {
     "data": {
      "image/png": "[encoded data removed]",
      "text/plain": [
       "<Figure size 1080x504 with 1 Axes>"
      ]
     },
     "metadata": {
      "needs_background": "light"
     },
     "output_type": "display_data"
    }
   ],
   "source": [
    "plt.figure(figsize=(15,7))\n",
    "# построим графики среднего чека по группам — разделим кумулятивную выручку на кумулятивное число заказов\n",
    "plt.plot(cumulativeRevenueA['date'], cumulativeRevenueA['revenue']/cumulativeRevenueA['orders'], label='A')\n",
    "plt.plot(cumulativeRevenueB['date'], cumulativeRevenueB['revenue']/cumulativeRevenueB['orders'], label='B')\n",
    "\n",
    "\n",
    "plt.title('График кумулятивного среднего чека по группам')\n",
    "plt.legend()\n",
    "plt.xticks(rotation=45)\n",
    "plt.ylabel('Средний чек')\n",
    "plt.show()"
   ]
  },
  {
   "cell_type": "markdown",
   "metadata": {},
   "source": [
    "<div style=\"border-radius: 15px; box-shadow: 4px 4px 4px; border: solid green 2px; padding: 20px\">\n",
    "    \n",
    "Видим, что средний чек весь тест протекал неравномерно. У группы А сначала средний чек падал, но потом появился скачок с увеличением за которым последовало удержание чека примерно в одном диапозоне. У группы B же средний чек поднимался плавными скачками, но также был резкий скачок как и у выручки 17 августа за которым следовало снижение выручки\n",
    "    \n",
    "Скорее всего в группу B с 17 августа начали попадать крупные заказы\n",
    "</div>"
   ]
  },
  {
   "cell_type": "markdown",
   "metadata": {},
   "source": [
    "#### *График относительного изменения кумулятивного среднего чека группы B к группе A*"
   ]
  },
  {
   "cell_type": "code",
   "execution_count": 20,
   "metadata": {},
   "outputs": [
    {
     "data": {
      "image/png": "[encoded data removed]",
      "text/plain": [
       "<Figure size 1080x504 with 1 Axes>"
      ]
     },
     "metadata": {
      "needs_background": "light"
     },
     "output_type": "display_data"
    }
   ],
   "source": [
    "# собираем данные в одном датафрейме\n",
    "mergedCumulativeRevenue = cumulativeRevenueA.merge(cumulativeRevenueB, left_on='date', right_on='date', how='left', suffixes=['A', 'B'])\n",
    "\n",
    "#\n",
    "plt.figure(figsize=(15,7))\n",
    "\n",
    "# cтроим отношение средних чеков\n",
    "plt.plot(mergedCumulativeRevenue['date'], (mergedCumulativeRevenue['revenueB']/mergedCumulativeRevenue['ordersB'])/(mergedCumulativeRevenue['revenueA']/mergedCumulativeRevenue['ordersA'])-1)\n",
    "\n",
    "# добавляем ось X\n",
    "plt.axhline(y=0, color='black', linestyle='--')\n",
    "\n",
    "plt.title('График относительного изменения кумулятивного среднего чека')\n",
    "plt.xticks(rotation=45)\n",
    "plt.ylabel('Корреляция')\n",
    "plt.show()"
   ]
  },
  {
   "cell_type": "markdown",
   "metadata": {},
   "source": [
    "<div style=\"border-radius: 15px; box-shadow: 4px 4px 4px; border: solid green 2px; padding: 20px\">\n",
    "\n",
    "Во многих точках наблюдаются резкие скачки. Скорее всего дело в больших заказах или выбросах\n",
    "\n",
    "</div>"
   ]
  },
  {
   "cell_type": "markdown",
   "metadata": {},
   "source": [
    "#### *График кумулятивного среднего количества заказов на посетителя по группам*"
   ]
  },
  {
   "cell_type": "code",
   "execution_count": 21,
   "metadata": {},
   "outputs": [
    {
     "data": {
      "image/png": "[encoded data removed]",
      "text/plain": [
       "<Figure size 1080x504 with 1 Axes>"
      ]
     },
     "metadata": {
      "needs_background": "light"
     },
     "output_type": "display_data"
    }
   ],
   "source": [
    "# считаем кумулятивную конверсию\n",
    "cumulativeData['conversion'] = cumulativeData['orders']/cumulativeData['visitors']\n",
    "\n",
    "# отделяем данные по группе A\n",
    "cumulativeDataA = cumulativeData[cumulativeData['group']=='A']\n",
    "\n",
    "# отделяем данные по группе B\n",
    "cumulativeDataB = cumulativeData[cumulativeData['group']=='B']\n",
    "\n",
    "plt.figure(figsize=(15,7))\n",
    "\n",
    "# строим графики\n",
    "plt.plot(cumulativeDataA['date'], cumulativeDataA['conversion'], label='A')\n",
    "plt.plot(cumulativeDataB['date'], cumulativeDataB['conversion'], label='B')\n",
    "\n",
    "\n",
    "plt.title('График кумулятивного среднего количества заказов на посетителя по группам')\n",
    "plt.legend() \n",
    "plt.xticks(rotation=45)\n",
    "plt.ylabel('Конверсия')\n",
    "plt.show()"
   ]
  },
  {
   "cell_type": "markdown",
   "metadata": {},
   "source": [
    "<div style=\"border-radius: 15px; box-shadow: 4px 4px 4px; border: solid green 2px; padding: 20px\">\n",
    "\n",
    "Видим, что по началу конверсии обоих групп увеличились и через некоторое время пошли резко в низ.\n",
    "\n",
    "Группа А продолжила падать, а группа B наоборот начало расти и 9 августа группы зафиксировались.\n",
    "\n",
    "\n",
    "</div>"
   ]
  },
  {
   "cell_type": "markdown",
   "metadata": {},
   "source": [
    "#### *График относительного изменения кумулятивного среднего количества заказов на посетителя группы B к группе A*"
   ]
  },
  {
   "cell_type": "code",
   "execution_count": 22,
   "metadata": {},
   "outputs": [
    {
     "data": {
      "image/png": "[encoded data removed]",
      "text/plain": [
       "<Figure size 1080x504 with 1 Axes>"
      ]
     },
     "metadata": {
      "needs_background": "light"
     },
     "output_type": "display_data"
    }
   ],
   "source": [
    "mergedCumulativeConversions = (\n",
    "    cumulativeDataA[['date','conversion']]\n",
    "    .merge(cumulativeDataB[['date','conversion']], left_on='date', right_on='date', how='left', suffixes=['A', 'B']))\n",
    "\n",
    "plt.figure(figsize=(15,7))\n",
    "\n",
    "plt.plot(mergedCumulativeConversions['date'], mergedCumulativeConversions['conversionB']/mergedCumulativeConversions['conversionA']-1, \\\n",
    "         label=\"Относительный прирост конверсии группы B относительно группы A\")\n",
    "\n",
    "\n",
    "plt.axhline(y=0, color='black', linestyle='--')\n",
    "plt.axhline(y=-0.1, color='grey', linestyle='--')\n",
    "plt.title('График относительного прироста конверсии группы B относительно группы A')\n",
    "plt.legend() \n",
    "plt.xticks(rotation=45)\n",
    "plt.ylabel('Корреляция')\n",
    "plt.show()\n"
   ]
  },
  {
   "cell_type": "markdown",
   "metadata": {},
   "source": [
    "<div style=\"border-radius: 15px; box-shadow: 4px 4px 4px; border: solid green 2px; padding: 20px\">\n",
    "    \n",
    "В начале теста группа B колебалась в большую сторону, то в меньшую чем в группе A, затем взлетела вперёд и колебалась с небольшими уменьшениями"
   ]
  },
  {
   "cell_type": "markdown",
   "metadata": {},
   "source": [
    "#### *Точечный график количества заказов по пользователям*"
   ]
  },
  {
   "cell_type": "code",
   "execution_count": 23,
   "metadata": {},
   "outputs": [],
   "source": [
    "ordersByUsers = (\n",
    "    orders.groupby('visitorId', as_index=False)\n",
    "    .agg({'transactionId': 'nunique'})\n",
    ")\n",
    "ordersByUsers.columns = ['visitorId', 'orders']"
   ]
  },
  {
   "cell_type": "code",
   "execution_count": 24,
   "metadata": {},
   "outputs": [
    {
     "data": {
      "image/png": "[encoded data removed]",
      "text/plain": [
       "<Figure size 1080x504 with 1 Axes>"
      ]
     },
     "metadata": {
      "needs_background": "light"
     },
     "output_type": "display_data"
    }
   ],
   "source": [
    "# построим гистрограмму распределения количества заказов на одного пользователя\n",
    "plt.figure(figsize=(15,7))\n",
    "plt.hist(ordersByUsers['orders'])\n",
    "plt.title('Гистрограмма распределения количества заказов на одного пользователя')\n",
    "plt.ylabel('Кол-во пользователей')\n",
    "plt.xlabel('Кол-во заказов')\n",
    "plt.show()"
   ]
  },
  {
   "cell_type": "markdown",
   "metadata": {},
   "source": [
    "<div style=\"border-radius: 15px; box-shadow: 4px 4px 4px; border: solid green 2px; padding: 20px\">\n",
    "    \n",
    "Видим, что основная доля заказов были единичны. Также вполне значительны заказы, которые совершали 2-3 раза\n",
    "</div>"
   ]
  },
  {
   "cell_type": "code",
   "execution_count": 25,
   "metadata": {},
   "outputs": [
    {
     "data": {
      "image/png": "[encoded data removed]",
      "text/plain": [
       "<Figure size 1080x504 with 1 Axes>"
      ]
     },
     "metadata": {
      "needs_background": "light"
     },
     "output_type": "display_data"
    }
   ],
   "source": [
    "# построим точечную диаграмму числа заказов на одного пользователя\n",
    "x_values = pd.Series(range(0,len(ordersByUsers)))\n",
    "plt.figure(figsize=(15,7))\n",
    "plt.scatter(x_values, ordersByUsers['orders'])\n",
    "plt.title('Точечный график количества заказов по пользователям')\n",
    "plt.ylabel('Кол-во заказов')\n",
    "plt.xlabel('Кол-во пользователей')\n",
    "plt.show()"
   ]
  },
  {
   "cell_type": "markdown",
   "metadata": {},
   "source": [
    "<div style=\"border-radius: 15px; box-shadow: 4px 4px 4px; border: solid green 2px; padding: 20px\">\n",
    "    \n",
    "Прошлые выводы подтвердились, нужно выяснить считать ли их аномалиями\n",
    "</div>"
   ]
  },
  {
   "cell_type": "markdown",
   "metadata": {},
   "source": [
    "#### *Перцентили количества заказов на пользователя*"
   ]
  },
  {
   "cell_type": "code",
   "execution_count": 37,
   "metadata": {},
   "outputs": [
    {
     "name": "stdout",
     "output_type": "stream",
     "text": [
      "[2. 4.]\n"
     ]
    }
   ],
   "source": [
    "# посчитаем выборочные перцентили количества заказов на одного пользователя\n",
    "print(np.percentile(ordersByUsers['orders'], [95, 99]))\n",
    "perc_ord = np.percentile(ordersByUsers['orders'], 95)"
   ]
  },
  {
   "cell_type": "markdown",
   "metadata": {},
   "source": [
    "<div style=\"border-radius: 15px; box-shadow: 4px 4px 4px; border: solid green 2px; padding: 20px\">\n",
    "    \n",
    "Видим, что не более 2 раз заказывали 5% пользователей. Разумно будет отсеять заказы больше 2 и отсеять аномальных пользователей\n",
    "</div>"
   ]
  },
  {
   "cell_type": "markdown",
   "metadata": {},
   "source": [
    "#### *Точечный график стоимостей заказов*"
   ]
  },
  {
   "cell_type": "code",
   "execution_count": 27,
   "metadata": {},
   "outputs": [
    {
     "data": {
      "image/png": "[encoded data removed]",
      "text/plain": [
       "<Figure size 1080x504 with 1 Axes>"
      ]
     },
     "metadata": {
      "needs_background": "light"
     },
     "output_type": "display_data"
    }
   ],
   "source": [
    "x_values = pd.Series(range(0,len(orders['revenue'])))\n",
    "plt.figure(figsize=(15, 7))\n",
    "plt.scatter(x_values, orders['revenue'])\n",
    "plt.title('Точечный график стоимостей заказов')\n",
    "plt.ylabel('Стоимость заказа')\n",
    "plt.xlabel('Кол-во пользователей')\n",
    "plt.show()"
   ]
  },
  {
   "cell_type": "code",
   "execution_count": 28,
   "metadata": {},
   "outputs": [
    {
     "data": {
      "image/png": "[encoded data removed]",
      "text/plain": [
       "<Figure size 1080x504 with 1 Axes>"
      ]
     },
     "metadata": {
      "needs_background": "light"
     },
     "output_type": "display_data"
    }
   ],
   "source": [
    "x_values = pd.Series(range(0,len(orders['revenue'])))\n",
    "plt.figure(figsize=(15, 7))\n",
    "plt.scatter(x_values, orders['revenue'])\n",
    "plt.ylim([50, 100000])\n",
    "plt.title('Точечный график стоимостей заказов')\n",
    "plt.ylabel('Стоимость заказа')\n",
    "plt.xlabel('Кол-во пользователей')\n",
    "plt.show()"
   ]
  },
  {
   "cell_type": "markdown",
   "metadata": {},
   "source": [
    "<div style=\"border-radius: 15px; box-shadow: 4px 4px 4px; border: solid green 2px; padding: 20px\">\n",
    "    \n",
    "По-первому графику непонятно, что просходит, поэтому ограничим ось. На новомо графике видим, что пользователи в основном тратят до 20 тысяч\n",
    "</div>"
   ]
  },
  {
   "cell_type": "markdown",
   "metadata": {},
   "source": [
    "#### *Перцентили стоимости заказов*"
   ]
  },
  {
   "cell_type": "code",
   "execution_count": 38,
   "metadata": {},
   "outputs": [
    {
     "name": "stdout",
     "output_type": "stream",
     "text": [
      "[28000.  58233.2]\n"
     ]
    }
   ],
   "source": [
    "print(np.percentile(orders['revenue'], [95, 99]))\n",
    "perc_reven = np.percentile(orders['revenue'], 95)"
   ]
  },
  {
   "cell_type": "markdown",
   "metadata": {},
   "source": [
    "<div style=\"border-radius: 15px; box-shadow: 4px 4px 4px; border: solid green 2px; padding: 20px\">\n",
    "    \n",
    "Видим, что 5% заказов больше 28 тысяч, следовательно заказы больше 28 тысяч стоит отсеять\n",
    "</div>"
   ]
  },
  {
   "cell_type": "markdown",
   "metadata": {},
   "source": [
    "#### *Статистическая значимость различий в среднем количестве заказов на посетителя между группами по «сырым» данным*"
   ]
  },
  {
   "cell_type": "markdown",
   "metadata": {},
   "source": [
    "<div style=\"border-radius: 15px; box-shadow: 4px 4px 4px; border: solid green 2px; padding: 20px\">\n",
    "    \n",
    "**Нулевая гипотеза H₀:** Средние пользовательские рейтинги платформ Xbox One и PC **равны**\n",
    "\n",
    "**Альтернативная гипотеза H₁:** Средние пользовательские рейтинги платформ Xbox One и PC **не равны**\n",
    "\n",
    "*α* = **5**% - уровень значимости\n",
    "\n",
    "**Метод проверки гипотез:** непараметрический критерий Манна — Уитни(U-критерий Манна-Уитни)\n",
    "</div>"
   ]
  },
  {
   "cell_type": "code",
   "execution_count": 30,
   "metadata": {},
   "outputs": [
    {
     "data": {
      "text/html": [
       "<div>\n",
       "<style scoped>\n",
       "    .dataframe tbody tr th:only-of-type {\n",
       "        vertical-align: middle;\n",
       "    }\n",
       "\n",
       "    .dataframe tbody tr th {\n",
       "        vertical-align: top;\n",
       "    }\n",
       "\n",
       "    .dataframe thead th {\n",
       "        text-align: right;\n",
       "    }\n",
       "</style>\n",
       "<table border=\"1\" class=\"dataframe\">\n",
       "  <thead>\n",
       "    <tr style=\"text-align: right;\">\n",
       "      <th></th>\n",
       "      <th>date</th>\n",
       "      <th>ordersPerDateA</th>\n",
       "      <th>revenuePerDateA</th>\n",
       "      <th>ordersPerDateB</th>\n",
       "      <th>revenuePerDateB</th>\n",
       "      <th>ordersCummulativeA</th>\n",
       "      <th>revenueCummulativeA</th>\n",
       "      <th>ordersCummulativeB</th>\n",
       "      <th>revenueCummulativeB</th>\n",
       "      <th>visitorsPerDateA</th>\n",
       "      <th>visitorsPerDateB</th>\n",
       "      <th>visitorsCummulativeA</th>\n",
       "      <th>visitorsCummulativeB</th>\n",
       "    </tr>\n",
       "  </thead>\n",
       "  <tbody>\n",
       "    <tr>\n",
       "      <th>0</th>\n",
       "      <td>2019-08-01</td>\n",
       "      <td>24</td>\n",
       "      <td>148579</td>\n",
       "      <td>21</td>\n",
       "      <td>101217</td>\n",
       "      <td>24</td>\n",
       "      <td>148579</td>\n",
       "      <td>21</td>\n",
       "      <td>101217</td>\n",
       "      <td>719</td>\n",
       "      <td>713</td>\n",
       "      <td>719</td>\n",
       "      <td>713</td>\n",
       "    </tr>\n",
       "    <tr>\n",
       "      <th>1</th>\n",
       "      <td>2019-08-02</td>\n",
       "      <td>20</td>\n",
       "      <td>93822</td>\n",
       "      <td>24</td>\n",
       "      <td>165531</td>\n",
       "      <td>44</td>\n",
       "      <td>242401</td>\n",
       "      <td>45</td>\n",
       "      <td>266748</td>\n",
       "      <td>619</td>\n",
       "      <td>581</td>\n",
       "      <td>1338</td>\n",
       "      <td>1294</td>\n",
       "    </tr>\n",
       "    <tr>\n",
       "      <th>2</th>\n",
       "      <td>2019-08-03</td>\n",
       "      <td>24</td>\n",
       "      <td>112473</td>\n",
       "      <td>16</td>\n",
       "      <td>114248</td>\n",
       "      <td>68</td>\n",
       "      <td>354874</td>\n",
       "      <td>61</td>\n",
       "      <td>380996</td>\n",
       "      <td>507</td>\n",
       "      <td>509</td>\n",
       "      <td>1845</td>\n",
       "      <td>1803</td>\n",
       "    </tr>\n",
       "    <tr>\n",
       "      <th>3</th>\n",
       "      <td>2019-08-04</td>\n",
       "      <td>16</td>\n",
       "      <td>70825</td>\n",
       "      <td>17</td>\n",
       "      <td>108571</td>\n",
       "      <td>84</td>\n",
       "      <td>425699</td>\n",
       "      <td>78</td>\n",
       "      <td>489567</td>\n",
       "      <td>717</td>\n",
       "      <td>770</td>\n",
       "      <td>2562</td>\n",
       "      <td>2573</td>\n",
       "    </tr>\n",
       "    <tr>\n",
       "      <th>4</th>\n",
       "      <td>2019-08-05</td>\n",
       "      <td>25</td>\n",
       "      <td>124218</td>\n",
       "      <td>23</td>\n",
       "      <td>92428</td>\n",
       "      <td>109</td>\n",
       "      <td>549917</td>\n",
       "      <td>101</td>\n",
       "      <td>581995</td>\n",
       "      <td>756</td>\n",
       "      <td>707</td>\n",
       "      <td>3318</td>\n",
       "      <td>3280</td>\n",
       "    </tr>\n",
       "  </tbody>\n",
       "</table>\n",
       "</div>"
      ],
      "text/plain": [
       "        date  ordersPerDateA  revenuePerDateA  ordersPerDateB  \\\n",
       "0 2019-08-01              24           148579              21   \n",
       "1 2019-08-02              20            93822              24   \n",
       "2 2019-08-03              24           112473              16   \n",
       "3 2019-08-04              16            70825              17   \n",
       "4 2019-08-05              25           124218              23   \n",
       "\n",
       "   revenuePerDateB  ordersCummulativeA  revenueCummulativeA  \\\n",
       "0           101217                  24               148579   \n",
       "1           165531                  44               242401   \n",
       "2           114248                  68               354874   \n",
       "3           108571                  84               425699   \n",
       "4            92428                 109               549917   \n",
       "\n",
       "   ordersCummulativeB  revenueCummulativeB  visitorsPerDateA  \\\n",
       "0                  21               101217               719   \n",
       "1                  45               266748               619   \n",
       "2                  61               380996               507   \n",
       "3                  78               489567               717   \n",
       "4                 101               581995               756   \n",
       "\n",
       "   visitorsPerDateB  visitorsCummulativeA  visitorsCummulativeB  \n",
       "0               713                   719                   713  \n",
       "1               581                  1338                  1294  \n",
       "2               509                  1845                  1803  \n",
       "3               770                  2562                  2573  \n",
       "4               707                  3318                  3280  "
      ]
     },
     "execution_count": 30,
     "metadata": {},
     "output_type": "execute_result"
    }
   ],
   "source": [
    "visitorsADaily = visits[visits['group'] == 'A'][['date', 'visitors']]\n",
    "visitorsADaily.columns = ['date', 'visitorsPerDateA']\n",
    "\n",
    "visitorsACummulative = (\n",
    "    visitorsADaily.apply(lambda x: visitorsADaily[visitorsADaily['date'] <= x['date']]\n",
    "    .agg({'date': 'max', 'visitorsPerDateA': 'sum'}),axis=1)\n",
    ")\n",
    "\n",
    "visitorsACummulative.columns = ['date', 'visitorsCummulativeA']\n",
    "\n",
    "visitorsBDaily = visits[visits['group'] == 'B'][['date', 'visitors']]\n",
    "visitorsBDaily.columns = ['date', 'visitorsPerDateB']\n",
    "\n",
    "visitorsBCummulative = visitorsBDaily.apply(\n",
    "    lambda x: visitorsBDaily[visitorsBDaily['date'] <= x['date']].agg(\n",
    "        {'date': 'max', 'visitorsPerDateB': 'sum'}\n",
    "    ),\n",
    "    axis=1,\n",
    ")\n",
    "visitorsBCummulative.columns = ['date', 'visitorsCummulativeB']\n",
    "\n",
    "ordersADaily = (\n",
    "    orders[orders['group'] == 'A'][['date', 'transactionId', 'visitorId', 'revenue']]\n",
    "    .groupby('date', as_index=False)\n",
    "    .agg({'transactionId': pd.Series.nunique, 'revenue': 'sum'})\n",
    ")\n",
    "ordersADaily.columns = ['date', 'ordersPerDateA', 'revenuePerDateA']\n",
    "\n",
    "ordersACummulative = ordersADaily.apply(\n",
    "    lambda x: ordersADaily[ordersADaily['date'] <= x['date']].agg(\n",
    "        {'date': 'max', 'ordersPerDateA': 'sum', 'revenuePerDateA': 'sum'}\n",
    "    ),\n",
    "    axis=1,\n",
    ").sort_values(by=['date'])\n",
    "ordersACummulative.columns = [\n",
    "    'date',\n",
    "    'ordersCummulativeA',\n",
    "    'revenueCummulativeA',\n",
    "]\n",
    "\n",
    "ordersBDaily = (\n",
    "    orders[orders['group'] == 'B'][['date', 'transactionId', 'visitorId', 'revenue']]\n",
    "    .groupby('date', as_index=False)\n",
    "    .agg({'transactionId': pd.Series.nunique, 'revenue': 'sum'})\n",
    ")\n",
    "ordersBDaily.columns = ['date', 'ordersPerDateB', 'revenuePerDateB']\n",
    "\n",
    "ordersBCummulative = ordersBDaily.apply(\n",
    "    lambda x: ordersBDaily[ordersBDaily['date'] <= x['date']].agg(\n",
    "        {'date': 'max', 'ordersPerDateB': 'sum', 'revenuePerDateB': 'sum'}\n",
    "    ),\n",
    "    axis=1,\n",
    ").sort_values(by=['date'])\n",
    "ordersBCummulative.columns = [\n",
    "    'date',\n",
    "    'ordersCummulativeB',\n",
    "    'revenueCummulativeB',\n",
    "]\n",
    "\n",
    "data = (\n",
    "    ordersADaily.merge(\n",
    "        ordersBDaily, left_on='date', right_on='date', how='left'\n",
    "    )\n",
    "    .merge(ordersACummulative, left_on='date', right_on='date', how='left')\n",
    "    .merge(ordersBCummulative, left_on='date', right_on='date', how='left')\n",
    "    .merge(visitorsADaily, left_on='date', right_on='date', how='left')\n",
    "    .merge(visitorsBDaily, left_on='date', right_on='date', how='left')\n",
    "    .merge(visitorsACummulative, left_on='date', right_on='date', how='left')\n",
    "    .merge(visitorsBCummulative, left_on='date', right_on='date', how='left')\n",
    ")\n",
    "\n",
    "data.head(5)"
   ]
  },
  {
   "cell_type": "code",
   "execution_count": 31,
   "metadata": {},
   "outputs": [],
   "source": [
    "ordersByUsersA = (\n",
    "    orders[orders['group'] == 'A']\n",
    "    .groupby('visitorId', as_index=False)\n",
    "    .agg({'transactionId': pd.Series.nunique})\n",
    ")\n",
    "ordersByUsersA.columns = ['visitorId', 'orders']\n",
    "\n",
    "ordersByUsersB = (\n",
    "    orders[orders['group'] == 'B']\n",
    "    .groupby('visitorId', as_index=False)\n",
    "    .agg({'transactionId': pd.Series.nunique})\n",
    ")\n",
    "ordersByUsersB.columns = ['visitorId', 'orders'] "
   ]
  },
  {
   "cell_type": "code",
   "execution_count": 32,
   "metadata": {},
   "outputs": [],
   "source": [
    "sampleA = pd.concat([ordersByUsersA['orders'],pd.Series(0, index=np.arange(data['visitorsPerDateA'].sum() - len(ordersByUsersA['orders'])), name='orders')],axis=0)\n",
    "\n",
    "sampleB = pd.concat([ordersByUsersB['orders'],pd.Series(0, index=np.arange(data['visitorsPerDateB'].sum() - len(ordersByUsersB['orders'])), name='orders')],axis=0)"
   ]
  },
  {
   "cell_type": "code",
   "execution_count": 33,
   "metadata": {
    "scrolled": true
   },
   "outputs": [
    {
     "name": "stdout",
     "output_type": "stream",
     "text": [
      "p-value: 0.017\n",
      "Отвергаем нулевую гипотезу\n",
      "Относительный проигрыш/выигрыш группы B: 0.138\n"
     ]
    }
   ],
   "source": [
    "ordersByUsersA = (\n",
    "    orders[orders['group'] == 'A']\n",
    "    .groupby('visitorId', as_index=False)\n",
    "    .agg({'transactionId': pd.Series.nunique})\n",
    ")\n",
    "ordersByUsersA.columns = ['visitorId', 'orders']\n",
    "\n",
    "ordersByUsersB = (\n",
    "    orders[orders['group'] == 'B']\n",
    "    .groupby('visitorId', as_index=False)\n",
    "    .agg({'transactionId': pd.Series.nunique})\n",
    ")\n",
    "ordersByUsersB.columns = ['visitorId', 'orders']\n",
    "\n",
    "sampleA = pd.concat(\n",
    "    [\n",
    "        ordersByUsersA['orders'],\n",
    "        pd.Series(\n",
    "            0,\n",
    "            index=np.arange(\n",
    "                data['visitorsPerDateA'].sum() - len(ordersByUsersA['orders'])\n",
    "            ),\n",
    "            name='orders',\n",
    "        ),\n",
    "    ],\n",
    "    axis=0,\n",
    ")\n",
    "\n",
    "sampleB = pd.concat(\n",
    "    [\n",
    "        ordersByUsersB['orders'],\n",
    "        pd.Series(\n",
    "            0,\n",
    "            index=np.arange(\n",
    "                data['visitorsPerDateB'].sum() - len(ordersByUsersB['orders'])\n",
    "            ),\n",
    "            name='orders',\n",
    "        ),\n",
    "    ],\n",
    "    axis=0,\n",
    ")\n",
    "\n",
    "alpha = .05 \n",
    "results = st.mannwhitneyu(sampleA, sampleB)\n",
    "\n",
    "\n",
    "print('p-value: {0:.3f}'.format(results.pvalue))\n",
    "\n",
    "if results.pvalue < alpha:\n",
    "    print(\"Отвергаем нулевую гипотезу\")\n",
    "else:\n",
    "    print(\"Не получилось отвергнуть нулевую гипотезу\") \n",
    "\n",
    "\n",
    "print(\"Относительный проигрыш/выигрыш группы B: {0:.3f}\".format(sampleB.mean() / sampleA.mean() - 1))"
   ]
  },
  {
   "cell_type": "markdown",
   "metadata": {},
   "source": [
    "<div style=\"border-radius: 15px; box-shadow: 4px 4px 4px; border: solid green 2px; padding: 20px\">\n",
    "    \n",
    "Статистическая значимая разность присутствует, поэтому нулевая гипотеза отвергается(p-value меньше 0.05). Результаты группы B больше группы A на `13.8%`\n",
    "</div>"
   ]
  },
  {
   "cell_type": "markdown",
   "metadata": {},
   "source": [
    "#### *Cтатистическая значимость различий в среднем чеке заказа между группами по «сырым» данным*"
   ]
  },
  {
   "cell_type": "markdown",
   "metadata": {},
   "source": [
    "**Cформулируем гипотезы:**\n",
    "\n",
    "H0: различий в среднем чеке между группами нет\n",
    "\n",
    "H1: различия в среднем чеке между группами есть"
   ]
  },
  {
   "cell_type": "code",
   "execution_count": 34,
   "metadata": {},
   "outputs": [
    {
     "name": "stdout",
     "output_type": "stream",
     "text": [
      "p-value: 0.729\n",
      "Не получилось отвергнуть нулевую гипотезу\n",
      "Относительный проигрыш/выигрыш группы B: 0.259\n"
     ]
    }
   ],
   "source": [
    "alpha = .05 \n",
    "\n",
    "results = st.mannwhitneyu(orders[orders['group']=='A']['revenue'], orders[orders['group']=='B']['revenue'])\n",
    "\n",
    "print('p-value: {0:.3f}'.format(results.pvalue))\n",
    "\n",
    "if results.pvalue < alpha:\n",
    "    print(\"Отвергаем нулевую гипотезу\")\n",
    "else:\n",
    "    print(\"Не получилось отвергнуть нулевую гипотезу\") \n",
    "\n",
    "print('Относительный проигрыш/выигрыш группы B: {0:.3f}'.format(orders[orders['group']=='B']['revenue'].mean()/orders[orders['group']=='A']['revenue'].mean()-1))"
   ]
  },
  {
   "cell_type": "markdown",
   "metadata": {},
   "source": [
    "<div style=\"border-radius: 15px; box-shadow: 4px 4px 4px; border: solid green 2px; padding: 20px\">\n",
    "    \n",
    "Статистически значимая разность отсутствует(p-value значительно больше 0.05). Средний чек группы B на `25.9%` больше, чем у группы A\n",
    "</div>"
   ]
  },
  {
   "cell_type": "markdown",
   "metadata": {},
   "source": [
    "#### *Статистическая значимость различий в среднем количестве заказов на посетителя между группами по «очищенным» данным*"
   ]
  },
  {
   "cell_type": "code",
   "execution_count": 40,
   "metadata": {},
   "outputs": [
    {
     "name": "stdout",
     "output_type": "stream",
     "text": [
      "1099    148427295\n",
      "18      199603092\n",
      "928     204675465\n",
      "23      237748145\n",
      "684     358944393\n",
      "Name: visitorId, dtype: int64\n",
      "Аномальных пользователей: 68\n"
     ]
    }
   ],
   "source": [
    "# узнаем, сколько всего аномальных пользователей\n",
    "usersWithManyOrders = pd.concat(\n",
    "    [\n",
    "        ordersByUsersA[ordersByUsersA['orders'] > perc_ord]['visitorId'],\n",
    "        ordersByUsersB[ordersByUsersB['orders'] > perc_reven]['visitorId'],\n",
    "    ],\n",
    "    axis=0,\n",
    ")\n",
    "usersWithExpensiveOrders = orders[orders['revenue'] > 28000]['visitorId']\n",
    "abnormalUsers = (\n",
    "    pd.concat([usersWithManyOrders, usersWithExpensiveOrders], axis=0)\n",
    "    .drop_duplicates()\n",
    "    .sort_values()\n",
    ")\n",
    "print(abnormalUsers.head(5))\n",
    "print('Аномальных пользователей:', abnormalUsers.shape[0]) "
   ]
  },
  {
   "cell_type": "code",
   "execution_count": null,
   "metadata": {},
   "outputs": [],
   "source": [
    "# подготовим выборки количества заказов по пользователям по группам теста\n",
    "sampleAFiltered = pd.concat(\n",
    "    [\n",
    "        ordersByUsersA[\n",
    "            np.logical_not(ordersByUsersA['visitorId'].isin(abnormalUsers))\n",
    "        ]['orders'],\n",
    "        pd.Series(\n",
    "            0,\n",
    "            index=np.arange(\n",
    "                data['visitorsPerDateA'].sum() - len(ordersByUsersA['orders'])\n",
    "            ),\n",
    "            name='orders',\n",
    "        ),\n",
    "    ],\n",
    "    axis=0,\n",
    ")\n",
    "\n",
    "sampleBFiltered = pd.concat(\n",
    "    [\n",
    "        ordersByUsersB[\n",
    "            np.logical_not(ordersByUsersB['visitorId'].isin(abnormalUsers))\n",
    "        ]['orders'],\n",
    "        pd.Series(\n",
    "            0,\n",
    "            index=np.arange(\n",
    "                data['visitorsPerDateB'].sum() - len(ordersByUsersB['orders'])\n",
    "            ),\n",
    "            name='orders',\n",
    "        ),\n",
    "    ],\n",
    "    axis=0,\n",
    ") "
   ]
  },
  {
   "cell_type": "code",
   "execution_count": null,
   "metadata": {},
   "outputs": [],
   "source": [
    "alpha = .05 \n",
    "\n",
    "results = st.mannwhitneyu(sampleAFiltered, sampleBFiltered)\n",
    "\n",
    "print('p-value: {0:.3f}'.format(results.pvalue))\n",
    "\n",
    "if results.pvalue < alpha:\n",
    "    print(\"Отвергаем нулевую гипотезу\")\n",
    "else:\n",
    "    print(\"Не получилось отвергнуть нулевую гипотезу\") \n",
    "\n",
    "print('Относительный проигрыш/выигрыш группы B: {0:.3f}'.format(sampleBFiltered.mean()/sampleAFiltered.mean()-1))"
   ]
  },
  {
   "cell_type": "markdown",
   "metadata": {},
   "source": [
    "<div style=\"border-radius: 15px; box-shadow: 4px 4px 4px; border: solid green 2px; padding: 20px\">\n",
    "    \n",
    "Статистическая значимая разность присутствует, поэтому нулевая гипотеза отвергается(p-value меньше 0.05). Среднее количество заказов группы B на `17.3%` процентных пункта больше, чем у группы A. После фильтрации разница между группами увеличилась еще в большую сторону на `3.5%` процентных пункта\n",
    "</div>"
   ]
  },
  {
   "cell_type": "markdown",
   "metadata": {},
   "source": [
    "#### *Статистическая значимость различий в среднем чеке заказа между группами по «очищенным» данным*"
   ]
  },
  {
   "cell_type": "code",
   "execution_count": null,
   "metadata": {},
   "outputs": [],
   "source": [
    "alpha = .05 \n",
    "\n",
    "results = st.mannwhitneyu(\n",
    "            orders[\n",
    "                np.logical_and(\n",
    "                    orders['group'] == 'A',\n",
    "                    np.logical_not(orders['visitorId'].isin(abnormalUsers)),\n",
    "                )\n",
    "            ]['revenue'],\n",
    "            orders[\n",
    "                np.logical_and(\n",
    "                    orders['group'] == 'B',\n",
    "                    np.logical_not(orders['visitorId'].isin(abnormalUsers)),\n",
    "                )\n",
    "            ]['revenue'],\n",
    "        )\n",
    "\n",
    "print('p-value: {0:.3f}'.format(results.pvalue))\n",
    "\n",
    "if results.pvalue < alpha:\n",
    "    print(\"Отвергаем нулевую гипотезу\")\n",
    "else:\n",
    "    print(\"Не получилось отвергнуть нулевую гипотезу\") \n",
    "\n",
    "\n",
    "print(\n",
    "    'Относительный проигрыш/выигрыш группы B: {0:.3f}'.format(\n",
    "        orders[\n",
    "            np.logical_and(\n",
    "                orders['group'] == 'B',\n",
    "                np.logical_not(orders['visitorId'].isin(abnormalUsers)),\n",
    "            )\n",
    "        ]['revenue'].mean()\n",
    "        / orders[\n",
    "            np.logical_and(\n",
    "                orders['group'] == 'A',\n",
    "                np.logical_not(orders['visitorId'].isin(abnormalUsers)),\n",
    "            )\n",
    "        ]['revenue'].mean()\n",
    "        - 1\n",
    "    )\n",
    ") "
   ]
  },
  {
   "cell_type": "markdown",
   "metadata": {},
   "source": [
    "<div style=\"border-radius: 15px; box-shadow: 4px 4px 4px; border: solid green 2px; padding: 20px\">\n",
    "    \n",
    "Статистически значимая разность отсутствует(p-value значительно больше 0.05) по-прежнему. Средний чек группы A стал на `2% ` больше, чем у группы B. Выходит после фильтрации средний чек группы B уменьшился аж на `27.9%` процентных пункта, а это говорит что мы нашли эти аномалии.\n",
    "</div>"
   ]
  },
  {
   "cell_type": "markdown",
   "metadata": {},
   "source": [
    "### **Вывод**"
   ]
  },
  {
   "cell_type": "markdown",
   "metadata": {},
   "source": [
    "<div style=\"border-radius: 15px; box-shadow: 4px 4px 4px; border: solid green 2px; padding: 20px\">\n",
    "<br>\n",
    "<b>1. Открыли файлы и изучили данные</b>\n",
    "    \n",
    "- пропусков, дубликатов обнаружено не было\n",
    "- названия колонок hypothesis не соответсвует хорошему стилю\n",
    "- обнаружены некорректный тип данных у дат\n",
    "\n",
    "<b>2. Провели предобработку</b>\n",
    "    \n",
    "- привели названия колонок hypothesis к нижнему регистру\n",
    "- изменили тип данных у дат\n",
    "- выявили посетителей, которые состоят в обоих группах AB-теста\n",
    "    \n",
    "<b>3. Провели приоритизацию гипотез</b>\n",
    "\n",
    "- сделали приоритезацию по фреймворку ICE\n",
    "- сделали приоритезацию по фреймворку RICE\n",
    "    \n",
    "<b>4. Проанализировали AB-тест</b>\n",
    "\n",
    "- Построили график кумулятивной выручки по группам\n",
    "- Построили график кумулятивного среднего чека по группам\n",
    "- Построили график относительного изменения кумулятивного среднего чека группы B кгруппе A\n",
    "- Построили график кумулятивной конверсии\n",
    "- Построили график относительного прироста конверсии группы B относительно группы A\n",
    "- Построили точечный график количества заказов на пользователя\n",
    "- Выявили перцентили количества заказов на пользователя\n",
    "- Построили точечный график стоимости заказов\n",
    "- Выявили перцентили стоимости заказов\n",
    "- Рассчитали статистическую значимость различий в среднем количестве заказов на посетителя между группами по «сырым» данным\n",
    "- Рассчитали статистическую значимость различий в среднем чеке заказа между группами по «сырым» данным\n",
    "- Рассчитали статистическую значимость различий в среднем количестве заказов на посетителя между группами по «очищенным» данным\n",
    "- Рассчитали статистическую значимость различий в среднем чеке заказа между группами по «очищенным» данным\n",
    "\n",
    "\n",
    "<br>\n",
    "<br>\n",
    "<b>Цель исследования: приоритизировать гипотезы, запустить A/B-тест и проанализировать результаты в целях увеличения выручки</b>\n",
    "    \n",
    "\n",
    "<br>\n",
    "<br>\n",
    "<b>В ходе приоритизации гипотез и анализа AB-теста были выявлены такие закономерности:</b>\n",
    "\n",
    "1. В ходе приоритизации предпочтение приходится на фреймворк RICE, так как метод ICE имеет недостаток субьективности.\n",
    "2. Из график кумулятивной конверсии можем видеть, что график стабилизирован. Теперь можем исключить проблему подглядывания.\n",
    "3. Статистическая значимость конверский между группами присутствует в «сырых» данных и «очищенных». После избавлений от аномалий конверсия группы B выросла на 3.5%, тем самым группа B опережает группы A на 17.3%.\n",
    "4. Статистическая значимость различий среднего чека между группами отсутствует, как в «сырых» данных, так и в «очищенных». После удаления аномалий средний чек группы B уменьшился по отношению группы A на 27.9%. Как раз это видно на графике кумулятивного среднего чека и по графику относительного изменения кумулятивного среднего чека.\n",
    "\n",
    "    \n",
    "<div style=\"border-radius: 15px; box-shadow: 4px 4px 4px; border: solid orange 2px; padding: 20px\">\n",
    "<b>Рекомендации:</b>\n",
    "\n",
    "Завершить проведение теста, признать его успешным. Группа B по результатам лидирует.\n",
    "</div>    \n",
    "</div>\n"
   ]
  },
  {
   "cell_type": "code",
   "execution_count": null,
   "metadata": {},
   "outputs": [],
   "source": []
  }
 ],
 "metadata": {
  "ExecuteTimeLog": [
   {
    "duration": 3,
    "start_time": "2022-12-20T13:24:47.640Z"
   },
   {
    "duration": 3,
    "start_time": "2022-12-20T13:24:52.310Z"
   },
   {
    "duration": 73,
    "start_time": "2022-12-20T13:36:18.633Z"
   },
   {
    "duration": 1354,
    "start_time": "2022-12-20T13:36:20.915Z"
   },
   {
    "duration": 200,
    "start_time": "2022-12-20T13:36:22.271Z"
   },
   {
    "duration": 13,
    "start_time": "2022-12-20T13:36:51.144Z"
   },
   {
    "duration": 7,
    "start_time": "2022-12-20T13:36:56.198Z"
   },
   {
    "duration": 8,
    "start_time": "2022-12-20T13:37:14.539Z"
   },
   {
    "duration": 9,
    "start_time": "2022-12-20T13:37:24.696Z"
   },
   {
    "duration": 12,
    "start_time": "2022-12-20T13:47:35.893Z"
   },
   {
    "duration": 4,
    "start_time": "2022-12-20T13:50:04.443Z"
   },
   {
    "duration": 4,
    "start_time": "2022-12-20T13:50:17.710Z"
   },
   {
    "duration": 8,
    "start_time": "2022-12-20T13:52:43.023Z"
   },
   {
    "duration": 16,
    "start_time": "2022-12-20T13:53:10.020Z"
   },
   {
    "duration": 4,
    "start_time": "2022-12-20T13:53:35.040Z"
   },
   {
    "duration": 54,
    "start_time": "2022-12-20T13:53:59.743Z"
   },
   {
    "duration": 96,
    "start_time": "2022-12-20T13:54:41.742Z"
   },
   {
    "duration": 6,
    "start_time": "2022-12-20T13:54:49.768Z"
   },
   {
    "duration": 11,
    "start_time": "2022-12-20T13:59:22.972Z"
   },
   {
    "duration": 7,
    "start_time": "2022-12-20T13:59:29.031Z"
   },
   {
    "duration": 14,
    "start_time": "2022-12-20T14:00:03.530Z"
   },
   {
    "duration": 13,
    "start_time": "2022-12-20T14:00:24.913Z"
   },
   {
    "duration": 5,
    "start_time": "2022-12-20T14:00:55.103Z"
   },
   {
    "duration": 3,
    "start_time": "2022-12-20T14:07:17.084Z"
   },
   {
    "duration": 7,
    "start_time": "2022-12-20T14:21:08.344Z"
   },
   {
    "duration": 6,
    "start_time": "2022-12-20T14:21:28.665Z"
   },
   {
    "duration": 9,
    "start_time": "2022-12-20T14:22:07.862Z"
   },
   {
    "duration": 5,
    "start_time": "2022-12-20T14:25:20.751Z"
   },
   {
    "duration": 6,
    "start_time": "2022-12-20T14:25:30.881Z"
   },
   {
    "duration": 6,
    "start_time": "2022-12-20T14:27:20.257Z"
   },
   {
    "duration": 12,
    "start_time": "2022-12-20T14:52:29.407Z"
   },
   {
    "duration": 11,
    "start_time": "2022-12-20T14:52:49.456Z"
   },
   {
    "duration": 19,
    "start_time": "2022-12-20T14:56:24.787Z"
   },
   {
    "duration": 44,
    "start_time": "2022-12-20T14:58:29.744Z"
   },
   {
    "duration": 47,
    "start_time": "2022-12-20T14:58:38.261Z"
   },
   {
    "duration": 46,
    "start_time": "2022-12-20T14:59:09.946Z"
   },
   {
    "duration": 53,
    "start_time": "2022-12-20T14:59:21.513Z"
   },
   {
    "duration": 17,
    "start_time": "2022-12-20T14:59:53.887Z"
   },
   {
    "duration": 70,
    "start_time": "2022-12-20T15:22:42.549Z"
   },
   {
    "duration": 1365,
    "start_time": "2022-12-20T15:22:50.630Z"
   },
   {
    "duration": 224,
    "start_time": "2022-12-20T15:22:51.997Z"
   },
   {
    "duration": 14,
    "start_time": "2022-12-20T15:22:52.223Z"
   },
   {
    "duration": 21,
    "start_time": "2022-12-20T15:22:52.239Z"
   },
   {
    "duration": 19,
    "start_time": "2022-12-20T15:22:52.263Z"
   },
   {
    "duration": 11,
    "start_time": "2022-12-20T15:22:52.284Z"
   },
   {
    "duration": 24,
    "start_time": "2022-12-20T15:22:52.297Z"
   },
   {
    "duration": 7,
    "start_time": "2022-12-20T15:22:52.323Z"
   },
   {
    "duration": 55,
    "start_time": "2022-12-20T15:22:52.332Z"
   },
   {
    "duration": 6,
    "start_time": "2022-12-20T15:22:52.389Z"
   },
   {
    "duration": 8,
    "start_time": "2022-12-20T15:22:52.396Z"
   },
   {
    "duration": 12,
    "start_time": "2022-12-20T15:22:52.423Z"
   },
   {
    "duration": 12,
    "start_time": "2022-12-20T15:22:52.437Z"
   },
   {
    "duration": 11,
    "start_time": "2022-12-20T15:22:52.452Z"
   },
   {
    "duration": 9,
    "start_time": "2022-12-20T15:22:52.465Z"
   },
   {
    "duration": 15,
    "start_time": "2022-12-20T15:22:52.476Z"
   },
   {
    "duration": 32,
    "start_time": "2022-12-20T15:22:52.493Z"
   },
   {
    "duration": 33,
    "start_time": "2022-12-20T15:22:52.527Z"
   },
   {
    "duration": 5,
    "start_time": "2022-12-20T16:41:27.624Z"
   },
   {
    "duration": 121,
    "start_time": "2022-12-20T16:41:28.611Z"
   },
   {
    "duration": 319,
    "start_time": "2022-12-20T17:20:53.544Z"
   },
   {
    "duration": 1309,
    "start_time": "2022-12-20T17:21:05.344Z"
   },
   {
    "duration": 85,
    "start_time": "2022-12-20T17:21:06.655Z"
   },
   {
    "duration": 12,
    "start_time": "2022-12-20T17:21:06.742Z"
   },
   {
    "duration": 11,
    "start_time": "2022-12-20T17:21:06.756Z"
   },
   {
    "duration": 6,
    "start_time": "2022-12-20T17:21:06.769Z"
   },
   {
    "duration": 10,
    "start_time": "2022-12-20T17:21:06.777Z"
   },
   {
    "duration": 16,
    "start_time": "2022-12-20T17:21:06.789Z"
   },
   {
    "duration": 18,
    "start_time": "2022-12-20T17:21:06.807Z"
   },
   {
    "duration": 71,
    "start_time": "2022-12-20T17:21:06.833Z"
   },
   {
    "duration": 22,
    "start_time": "2022-12-20T17:21:06.907Z"
   },
   {
    "duration": 11,
    "start_time": "2022-12-20T17:21:06.932Z"
   },
   {
    "duration": 13,
    "start_time": "2022-12-20T17:21:06.945Z"
   },
   {
    "duration": 16,
    "start_time": "2022-12-20T17:21:06.960Z"
   },
   {
    "duration": 7,
    "start_time": "2022-12-20T17:21:06.979Z"
   },
   {
    "duration": 9,
    "start_time": "2022-12-20T17:21:06.987Z"
   },
   {
    "duration": 470,
    "start_time": "2022-12-20T17:21:06.998Z"
   },
   {
    "duration": 0,
    "start_time": "2022-12-20T17:21:07.470Z"
   },
   {
    "duration": 0,
    "start_time": "2022-12-20T17:21:07.471Z"
   },
   {
    "duration": 0,
    "start_time": "2022-12-20T17:21:07.472Z"
   },
   {
    "duration": 297,
    "start_time": "2022-12-20T17:21:28.839Z"
   },
   {
    "duration": 300,
    "start_time": "2022-12-20T17:21:50.143Z"
   },
   {
    "duration": 77,
    "start_time": "2022-12-20T17:23:54.567Z"
   },
   {
    "duration": 11,
    "start_time": "2022-12-20T17:24:05.995Z"
   },
   {
    "duration": 17,
    "start_time": "2022-12-20T17:24:36.538Z"
   },
   {
    "duration": 14,
    "start_time": "2022-12-20T17:24:46.445Z"
   },
   {
    "duration": 12,
    "start_time": "2022-12-20T17:26:50.656Z"
   },
   {
    "duration": 46,
    "start_time": "2022-12-21T12:43:00.974Z"
   },
   {
    "duration": 1325,
    "start_time": "2022-12-21T12:43:07.285Z"
   },
   {
    "duration": 187,
    "start_time": "2022-12-21T12:43:08.612Z"
   },
   {
    "duration": 12,
    "start_time": "2022-12-21T12:43:08.800Z"
   },
   {
    "duration": 11,
    "start_time": "2022-12-21T12:43:08.813Z"
   },
   {
    "duration": 3,
    "start_time": "2022-12-21T12:43:08.826Z"
   },
   {
    "duration": 10,
    "start_time": "2022-12-21T12:43:08.830Z"
   },
   {
    "duration": 11,
    "start_time": "2022-12-21T12:43:08.841Z"
   },
   {
    "duration": 8,
    "start_time": "2022-12-21T12:43:08.853Z"
   },
   {
    "duration": 52,
    "start_time": "2022-12-21T12:43:08.862Z"
   },
   {
    "duration": 6,
    "start_time": "2022-12-21T12:43:08.915Z"
   },
   {
    "duration": 8,
    "start_time": "2022-12-21T12:43:08.922Z"
   },
   {
    "duration": 11,
    "start_time": "2022-12-21T12:43:08.931Z"
   },
   {
    "duration": 12,
    "start_time": "2022-12-21T12:43:08.943Z"
   },
   {
    "duration": 4,
    "start_time": "2022-12-21T12:43:08.976Z"
   },
   {
    "duration": 6,
    "start_time": "2022-12-21T12:43:08.981Z"
   },
   {
    "duration": 10,
    "start_time": "2022-12-21T12:43:08.988Z"
   },
   {
    "duration": 10,
    "start_time": "2022-12-21T12:43:08.999Z"
   },
   {
    "duration": 12,
    "start_time": "2022-12-21T12:43:09.011Z"
   },
   {
    "duration": 26,
    "start_time": "2022-12-21T12:43:09.024Z"
   },
   {
    "duration": 12,
    "start_time": "2022-12-21T12:43:09.051Z"
   },
   {
    "duration": 13,
    "start_time": "2022-12-21T12:43:09.064Z"
   },
   {
    "duration": 13,
    "start_time": "2022-12-21T12:45:08.096Z"
   },
   {
    "duration": 53,
    "start_time": "2022-12-21T12:48:22.907Z"
   },
   {
    "duration": 106,
    "start_time": "2022-12-21T12:49:29.818Z"
   },
   {
    "duration": 30,
    "start_time": "2022-12-21T12:50:34.503Z"
   },
   {
    "duration": 162,
    "start_time": "2022-12-21T12:51:40.680Z"
   },
   {
    "duration": 16,
    "start_time": "2022-12-21T12:55:44.150Z"
   },
   {
    "duration": 17,
    "start_time": "2022-12-21T12:55:52.366Z"
   },
   {
    "duration": 120,
    "start_time": "2022-12-21T12:56:20.368Z"
   },
   {
    "duration": 132,
    "start_time": "2022-12-21T12:56:26.256Z"
   },
   {
    "duration": 157,
    "start_time": "2022-12-21T12:56:30.119Z"
   },
   {
    "duration": 6,
    "start_time": "2022-12-21T12:58:55.800Z"
   },
   {
    "duration": 5,
    "start_time": "2022-12-21T12:59:15.424Z"
   },
   {
    "duration": 157,
    "start_time": "2022-12-21T13:00:32.768Z"
   },
   {
    "duration": 121,
    "start_time": "2022-12-21T13:00:33.205Z"
   },
   {
    "duration": 7,
    "start_time": "2022-12-21T13:00:33.623Z"
   },
   {
    "duration": 6,
    "start_time": "2022-12-21T13:00:34.026Z"
   },
   {
    "duration": 10,
    "start_time": "2022-12-21T13:01:45.273Z"
   },
   {
    "duration": 117,
    "start_time": "2022-12-21T13:05:46.066Z"
   },
   {
    "duration": 6,
    "start_time": "2022-12-21T13:05:46.869Z"
   },
   {
    "duration": 6,
    "start_time": "2022-12-21T13:05:47.401Z"
   },
   {
    "duration": 153,
    "start_time": "2022-12-21T13:07:17.199Z"
   },
   {
    "duration": 107,
    "start_time": "2022-12-21T13:07:17.718Z"
   },
   {
    "duration": 7,
    "start_time": "2022-12-21T13:07:18.355Z"
   },
   {
    "duration": 6,
    "start_time": "2022-12-21T13:07:18.998Z"
   },
   {
    "duration": 167,
    "start_time": "2022-12-21T13:07:31.788Z"
   },
   {
    "duration": 133,
    "start_time": "2022-12-21T13:07:39.306Z"
   },
   {
    "duration": 7,
    "start_time": "2022-12-21T13:07:40.188Z"
   },
   {
    "duration": 6,
    "start_time": "2022-12-21T13:07:40.874Z"
   },
   {
    "duration": 199,
    "start_time": "2022-12-21T13:13:38.301Z"
   },
   {
    "duration": 1181,
    "start_time": "2022-12-21T13:13:52.351Z"
   },
   {
    "duration": 93,
    "start_time": "2022-12-21T13:13:53.535Z"
   },
   {
    "duration": 13,
    "start_time": "2022-12-21T13:13:53.629Z"
   },
   {
    "duration": 12,
    "start_time": "2022-12-21T13:13:53.645Z"
   },
   {
    "duration": 9,
    "start_time": "2022-12-21T13:13:53.658Z"
   },
   {
    "duration": 13,
    "start_time": "2022-12-21T13:13:53.668Z"
   },
   {
    "duration": 16,
    "start_time": "2022-12-21T13:13:53.683Z"
   },
   {
    "duration": 8,
    "start_time": "2022-12-21T13:13:53.701Z"
   },
   {
    "duration": 66,
    "start_time": "2022-12-21T13:13:53.711Z"
   },
   {
    "duration": 6,
    "start_time": "2022-12-21T13:13:53.780Z"
   },
   {
    "duration": 8,
    "start_time": "2022-12-21T13:13:53.788Z"
   },
   {
    "duration": 14,
    "start_time": "2022-12-21T13:13:53.798Z"
   },
   {
    "duration": 21,
    "start_time": "2022-12-21T13:13:53.814Z"
   },
   {
    "duration": 11,
    "start_time": "2022-12-21T13:13:53.837Z"
   },
   {
    "duration": 27,
    "start_time": "2022-12-21T13:13:53.850Z"
   },
   {
    "duration": 119,
    "start_time": "2022-12-21T13:13:53.878Z"
   },
   {
    "duration": 0,
    "start_time": "2022-12-21T13:13:53.999Z"
   },
   {
    "duration": 0,
    "start_time": "2022-12-21T13:13:54.000Z"
   },
   {
    "duration": 0,
    "start_time": "2022-12-21T13:13:54.001Z"
   },
   {
    "duration": 0,
    "start_time": "2022-12-21T13:13:54.002Z"
   },
   {
    "duration": 0,
    "start_time": "2022-12-21T13:13:54.003Z"
   },
   {
    "duration": 0,
    "start_time": "2022-12-21T13:13:54.006Z"
   },
   {
    "duration": 0,
    "start_time": "2022-12-21T13:13:54.007Z"
   },
   {
    "duration": 0,
    "start_time": "2022-12-21T13:13:54.011Z"
   },
   {
    "duration": 1223,
    "start_time": "2022-12-21T13:15:21.845Z"
   },
   {
    "duration": 87,
    "start_time": "2022-12-21T13:15:23.070Z"
   },
   {
    "duration": 16,
    "start_time": "2022-12-21T13:15:23.158Z"
   },
   {
    "duration": 13,
    "start_time": "2022-12-21T13:15:23.175Z"
   },
   {
    "duration": 16,
    "start_time": "2022-12-21T13:15:23.190Z"
   },
   {
    "duration": 12,
    "start_time": "2022-12-21T13:15:23.208Z"
   },
   {
    "duration": 22,
    "start_time": "2022-12-21T13:15:23.221Z"
   },
   {
    "duration": 12,
    "start_time": "2022-12-21T13:15:23.245Z"
   },
   {
    "duration": 59,
    "start_time": "2022-12-21T13:15:23.259Z"
   },
   {
    "duration": 6,
    "start_time": "2022-12-21T13:15:23.320Z"
   },
   {
    "duration": 18,
    "start_time": "2022-12-21T13:15:23.328Z"
   },
   {
    "duration": 17,
    "start_time": "2022-12-21T13:15:23.348Z"
   },
   {
    "duration": 30,
    "start_time": "2022-12-21T13:15:23.367Z"
   },
   {
    "duration": 17,
    "start_time": "2022-12-21T13:15:23.401Z"
   },
   {
    "duration": 16,
    "start_time": "2022-12-21T13:15:23.420Z"
   },
   {
    "duration": 329,
    "start_time": "2022-12-21T13:15:23.438Z"
   },
   {
    "duration": 0,
    "start_time": "2022-12-21T13:15:23.768Z"
   },
   {
    "duration": 0,
    "start_time": "2022-12-21T13:15:23.770Z"
   },
   {
    "duration": 0,
    "start_time": "2022-12-21T13:15:23.771Z"
   },
   {
    "duration": 0,
    "start_time": "2022-12-21T13:15:23.772Z"
   },
   {
    "duration": 0,
    "start_time": "2022-12-21T13:15:23.773Z"
   },
   {
    "duration": 0,
    "start_time": "2022-12-21T13:15:23.774Z"
   },
   {
    "duration": 0,
    "start_time": "2022-12-21T13:15:23.776Z"
   },
   {
    "duration": 0,
    "start_time": "2022-12-21T13:15:23.777Z"
   },
   {
    "duration": 201,
    "start_time": "2022-12-21T13:16:32.566Z"
   },
   {
    "duration": 211,
    "start_time": "2022-12-21T13:20:28.172Z"
   },
   {
    "duration": 200,
    "start_time": "2022-12-21T13:21:09.975Z"
   },
   {
    "duration": 228,
    "start_time": "2022-12-21T13:24:49.689Z"
   },
   {
    "duration": 205,
    "start_time": "2022-12-21T13:24:56.784Z"
   },
   {
    "duration": 1127,
    "start_time": "2022-12-21T13:26:11.371Z"
   },
   {
    "duration": 72,
    "start_time": "2022-12-21T13:26:12.500Z"
   },
   {
    "duration": 12,
    "start_time": "2022-12-21T13:26:12.574Z"
   },
   {
    "duration": 15,
    "start_time": "2022-12-21T13:26:12.588Z"
   },
   {
    "duration": 8,
    "start_time": "2022-12-21T13:26:12.605Z"
   },
   {
    "duration": 12,
    "start_time": "2022-12-21T13:26:12.615Z"
   },
   {
    "duration": 14,
    "start_time": "2022-12-21T13:26:12.629Z"
   },
   {
    "duration": 5,
    "start_time": "2022-12-21T13:26:12.645Z"
   },
   {
    "duration": 67,
    "start_time": "2022-12-21T13:26:12.652Z"
   },
   {
    "duration": 5,
    "start_time": "2022-12-21T13:26:12.721Z"
   },
   {
    "duration": 10,
    "start_time": "2022-12-21T13:26:12.728Z"
   },
   {
    "duration": 10,
    "start_time": "2022-12-21T13:26:12.739Z"
   },
   {
    "duration": 27,
    "start_time": "2022-12-21T13:26:12.751Z"
   },
   {
    "duration": 5,
    "start_time": "2022-12-21T13:26:12.782Z"
   },
   {
    "duration": 9,
    "start_time": "2022-12-21T13:26:12.789Z"
   },
   {
    "duration": 316,
    "start_time": "2022-12-21T13:26:12.800Z"
   },
   {
    "duration": 0,
    "start_time": "2022-12-21T13:26:13.118Z"
   },
   {
    "duration": 0,
    "start_time": "2022-12-21T13:26:13.119Z"
   },
   {
    "duration": 0,
    "start_time": "2022-12-21T13:26:13.121Z"
   },
   {
    "duration": 0,
    "start_time": "2022-12-21T13:26:13.123Z"
   },
   {
    "duration": 0,
    "start_time": "2022-12-21T13:26:13.124Z"
   },
   {
    "duration": 0,
    "start_time": "2022-12-21T13:26:13.126Z"
   },
   {
    "duration": 0,
    "start_time": "2022-12-21T13:26:13.126Z"
   },
   {
    "duration": 0,
    "start_time": "2022-12-21T13:26:13.128Z"
   },
   {
    "duration": 203,
    "start_time": "2022-12-21T13:28:10.946Z"
   },
   {
    "duration": 185,
    "start_time": "2022-12-21T13:30:58.269Z"
   },
   {
    "duration": 215,
    "start_time": "2022-12-21T13:31:11.884Z"
   },
   {
    "duration": 204,
    "start_time": "2022-12-21T13:31:22.852Z"
   },
   {
    "duration": 1261,
    "start_time": "2022-12-21T13:31:31.891Z"
   },
   {
    "duration": 76,
    "start_time": "2022-12-21T13:31:33.154Z"
   },
   {
    "duration": 13,
    "start_time": "2022-12-21T13:31:33.232Z"
   },
   {
    "duration": 19,
    "start_time": "2022-12-21T13:31:33.247Z"
   },
   {
    "duration": 6,
    "start_time": "2022-12-21T13:31:33.269Z"
   },
   {
    "duration": 17,
    "start_time": "2022-12-21T13:31:33.277Z"
   },
   {
    "duration": 19,
    "start_time": "2022-12-21T13:31:33.296Z"
   },
   {
    "duration": 10,
    "start_time": "2022-12-21T13:31:33.317Z"
   },
   {
    "duration": 76,
    "start_time": "2022-12-21T13:31:33.329Z"
   },
   {
    "duration": 7,
    "start_time": "2022-12-21T13:31:33.406Z"
   },
   {
    "duration": 14,
    "start_time": "2022-12-21T13:31:33.416Z"
   },
   {
    "duration": 12,
    "start_time": "2022-12-21T13:31:33.432Z"
   },
   {
    "duration": 37,
    "start_time": "2022-12-21T13:31:33.446Z"
   },
   {
    "duration": 6,
    "start_time": "2022-12-21T13:31:33.487Z"
   },
   {
    "duration": 4,
    "start_time": "2022-12-21T13:31:33.495Z"
   },
   {
    "duration": 154,
    "start_time": "2022-12-21T13:31:33.501Z"
   },
   {
    "duration": 1,
    "start_time": "2022-12-21T13:31:33.656Z"
   },
   {
    "duration": 0,
    "start_time": "2022-12-21T13:31:33.658Z"
   },
   {
    "duration": 0,
    "start_time": "2022-12-21T13:31:33.659Z"
   },
   {
    "duration": 0,
    "start_time": "2022-12-21T13:31:33.660Z"
   },
   {
    "duration": 0,
    "start_time": "2022-12-21T13:31:33.661Z"
   },
   {
    "duration": 0,
    "start_time": "2022-12-21T13:31:33.676Z"
   },
   {
    "duration": 0,
    "start_time": "2022-12-21T13:31:33.677Z"
   },
   {
    "duration": 0,
    "start_time": "2022-12-21T13:31:33.678Z"
   },
   {
    "duration": 208,
    "start_time": "2022-12-21T13:31:53.058Z"
   },
   {
    "duration": 4,
    "start_time": "2022-12-21T13:37:50.919Z"
   },
   {
    "duration": 190,
    "start_time": "2022-12-21T13:39:44.318Z"
   },
   {
    "duration": 217,
    "start_time": "2022-12-21T13:39:52.271Z"
   },
   {
    "duration": 219,
    "start_time": "2022-12-21T13:42:04.244Z"
   },
   {
    "duration": 1048,
    "start_time": "2022-12-21T13:42:11.835Z"
   },
   {
    "duration": 72,
    "start_time": "2022-12-21T13:42:12.885Z"
   },
   {
    "duration": 13,
    "start_time": "2022-12-21T13:42:12.959Z"
   },
   {
    "duration": 20,
    "start_time": "2022-12-21T13:42:12.973Z"
   },
   {
    "duration": 11,
    "start_time": "2022-12-21T13:42:12.995Z"
   },
   {
    "duration": 11,
    "start_time": "2022-12-21T13:42:13.008Z"
   },
   {
    "duration": 13,
    "start_time": "2022-12-21T13:42:13.020Z"
   },
   {
    "duration": 7,
    "start_time": "2022-12-21T13:42:13.035Z"
   },
   {
    "duration": 52,
    "start_time": "2022-12-21T13:42:13.043Z"
   },
   {
    "duration": 7,
    "start_time": "2022-12-21T13:42:13.097Z"
   },
   {
    "duration": 8,
    "start_time": "2022-12-21T13:42:13.105Z"
   },
   {
    "duration": 12,
    "start_time": "2022-12-21T13:42:13.115Z"
   },
   {
    "duration": 12,
    "start_time": "2022-12-21T13:42:13.129Z"
   },
   {
    "duration": 6,
    "start_time": "2022-12-21T13:42:13.176Z"
   },
   {
    "duration": 7,
    "start_time": "2022-12-21T13:42:13.184Z"
   },
   {
    "duration": 295,
    "start_time": "2022-12-21T13:42:13.192Z"
   },
   {
    "duration": 1,
    "start_time": "2022-12-21T13:42:13.488Z"
   },
   {
    "duration": 0,
    "start_time": "2022-12-21T13:42:13.490Z"
   },
   {
    "duration": 0,
    "start_time": "2022-12-21T13:42:13.491Z"
   },
   {
    "duration": 1,
    "start_time": "2022-12-21T13:42:13.492Z"
   },
   {
    "duration": 0,
    "start_time": "2022-12-21T13:42:13.494Z"
   },
   {
    "duration": 0,
    "start_time": "2022-12-21T13:42:13.495Z"
   },
   {
    "duration": 0,
    "start_time": "2022-12-21T13:42:13.497Z"
   },
   {
    "duration": 0,
    "start_time": "2022-12-21T13:42:13.498Z"
   },
   {
    "duration": 184,
    "start_time": "2022-12-21T13:42:50.981Z"
   },
   {
    "duration": 191,
    "start_time": "2022-12-21T13:43:09.640Z"
   },
   {
    "duration": 1067,
    "start_time": "2022-12-21T13:43:16.712Z"
   },
   {
    "duration": 73,
    "start_time": "2022-12-21T13:43:17.781Z"
   },
   {
    "duration": 12,
    "start_time": "2022-12-21T13:43:17.855Z"
   },
   {
    "duration": 12,
    "start_time": "2022-12-21T13:43:17.869Z"
   },
   {
    "duration": 4,
    "start_time": "2022-12-21T13:43:17.884Z"
   },
   {
    "duration": 10,
    "start_time": "2022-12-21T13:43:17.890Z"
   },
   {
    "duration": 10,
    "start_time": "2022-12-21T13:43:17.902Z"
   },
   {
    "duration": 6,
    "start_time": "2022-12-21T13:43:17.913Z"
   },
   {
    "duration": 70,
    "start_time": "2022-12-21T13:43:17.920Z"
   },
   {
    "duration": 6,
    "start_time": "2022-12-21T13:43:17.991Z"
   },
   {
    "duration": 16,
    "start_time": "2022-12-21T13:43:17.999Z"
   },
   {
    "duration": 18,
    "start_time": "2022-12-21T13:43:18.016Z"
   },
   {
    "duration": 14,
    "start_time": "2022-12-21T13:43:18.036Z"
   },
   {
    "duration": 18,
    "start_time": "2022-12-21T13:43:18.052Z"
   },
   {
    "duration": 13,
    "start_time": "2022-12-21T13:43:18.072Z"
   },
   {
    "duration": 47,
    "start_time": "2022-12-21T13:43:18.087Z"
   },
   {
    "duration": 27,
    "start_time": "2022-12-21T13:43:18.135Z"
   },
   {
    "duration": 28,
    "start_time": "2022-12-21T13:43:18.164Z"
   },
   {
    "duration": 38,
    "start_time": "2022-12-21T13:43:18.194Z"
   },
   {
    "duration": 17,
    "start_time": "2022-12-21T13:43:18.234Z"
   },
   {
    "duration": 174,
    "start_time": "2022-12-21T13:43:18.253Z"
   },
   {
    "duration": 123,
    "start_time": "2022-12-21T13:43:18.428Z"
   },
   {
    "duration": 7,
    "start_time": "2022-12-21T13:43:18.552Z"
   },
   {
    "duration": 16,
    "start_time": "2022-12-21T13:43:18.561Z"
   },
   {
    "duration": 11,
    "start_time": "2022-12-21T13:44:02.570Z"
   },
   {
    "duration": 10,
    "start_time": "2022-12-21T13:44:14.373Z"
   },
   {
    "duration": 6,
    "start_time": "2022-12-21T13:47:47.458Z"
   },
   {
    "duration": 8,
    "start_time": "2022-12-21T13:47:49.222Z"
   },
   {
    "duration": 7,
    "start_time": "2022-12-21T13:48:13.431Z"
   },
   {
    "duration": 162,
    "start_time": "2022-12-21T13:49:29.985Z"
   },
   {
    "duration": 900,
    "start_time": "2022-12-21T14:21:22.354Z"
   },
   {
    "duration": 276,
    "start_time": "2022-12-21T14:21:33.296Z"
   },
   {
    "duration": 186,
    "start_time": "2022-12-21T14:22:37.465Z"
   },
   {
    "duration": 168,
    "start_time": "2022-12-21T14:24:43.415Z"
   },
   {
    "duration": 173,
    "start_time": "2022-12-21T14:24:59.496Z"
   },
   {
    "duration": 198,
    "start_time": "2022-12-21T14:25:05.873Z"
   },
   {
    "duration": 177,
    "start_time": "2022-12-21T14:25:15.745Z"
   },
   {
    "duration": 257,
    "start_time": "2022-12-21T15:00:24.951Z"
   },
   {
    "duration": 242,
    "start_time": "2022-12-21T15:02:30.575Z"
   },
   {
    "duration": 193,
    "start_time": "2022-12-21T15:04:51.064Z"
   },
   {
    "duration": 292,
    "start_time": "2022-12-21T15:30:33.774Z"
   },
   {
    "duration": 252,
    "start_time": "2022-12-21T15:31:29.013Z"
   },
   {
    "duration": 303,
    "start_time": "2022-12-21T15:33:52.494Z"
   },
   {
    "duration": 294,
    "start_time": "2022-12-21T15:34:22.171Z"
   },
   {
    "duration": 235,
    "start_time": "2022-12-21T15:34:48.679Z"
   },
   {
    "duration": 222,
    "start_time": "2022-12-21T15:35:00.190Z"
   },
   {
    "duration": 1109,
    "start_time": "2022-12-21T16:10:34.622Z"
   },
   {
    "duration": 73,
    "start_time": "2022-12-21T16:10:35.733Z"
   },
   {
    "duration": 13,
    "start_time": "2022-12-21T16:10:35.808Z"
   },
   {
    "duration": 11,
    "start_time": "2022-12-21T16:10:35.824Z"
   },
   {
    "duration": 10,
    "start_time": "2022-12-21T16:10:35.836Z"
   },
   {
    "duration": 10,
    "start_time": "2022-12-21T16:10:35.848Z"
   },
   {
    "duration": 19,
    "start_time": "2022-12-21T16:10:35.859Z"
   },
   {
    "duration": 7,
    "start_time": "2022-12-21T16:10:35.879Z"
   },
   {
    "duration": 50,
    "start_time": "2022-12-21T16:10:35.888Z"
   },
   {
    "duration": 6,
    "start_time": "2022-12-21T16:10:35.940Z"
   },
   {
    "duration": 7,
    "start_time": "2022-12-21T16:10:35.947Z"
   },
   {
    "duration": 11,
    "start_time": "2022-12-21T16:10:35.977Z"
   },
   {
    "duration": 18,
    "start_time": "2022-12-21T16:10:35.989Z"
   },
   {
    "duration": 10,
    "start_time": "2022-12-21T16:10:36.009Z"
   },
   {
    "duration": 7,
    "start_time": "2022-12-21T16:10:36.021Z"
   },
   {
    "duration": 22,
    "start_time": "2022-12-21T16:10:36.029Z"
   },
   {
    "duration": 24,
    "start_time": "2022-12-21T16:10:36.053Z"
   },
   {
    "duration": 12,
    "start_time": "2022-12-21T16:10:36.079Z"
   },
   {
    "duration": 18,
    "start_time": "2022-12-21T16:10:36.093Z"
   },
   {
    "duration": 187,
    "start_time": "2022-12-21T16:10:36.113Z"
   },
   {
    "duration": 140,
    "start_time": "2022-12-21T16:10:36.302Z"
   },
   {
    "duration": 7,
    "start_time": "2022-12-21T16:10:36.444Z"
   },
   {
    "duration": 31,
    "start_time": "2022-12-21T16:10:36.453Z"
   },
   {
    "duration": 374,
    "start_time": "2022-12-21T16:10:36.486Z"
   },
   {
    "duration": 225,
    "start_time": "2022-12-21T16:10:36.862Z"
   },
   {
    "duration": 326,
    "start_time": "2022-12-21T16:10:37.089Z"
   },
   {
    "duration": 232,
    "start_time": "2022-12-21T16:10:37.417Z"
   },
   {
    "duration": 48,
    "start_time": "2022-12-21T16:14:10.820Z"
   },
   {
    "duration": 228,
    "start_time": "2022-12-21T16:14:19.041Z"
   },
   {
    "duration": 98,
    "start_time": "2022-12-21T16:19:59.812Z"
   },
   {
    "duration": 207,
    "start_time": "2022-12-21T16:20:29.508Z"
   },
   {
    "duration": 225,
    "start_time": "2022-12-21T16:36:45.890Z"
   },
   {
    "duration": 319,
    "start_time": "2022-12-21T16:38:07.669Z"
   },
   {
    "duration": 269,
    "start_time": "2022-12-21T16:39:15.165Z"
   },
   {
    "duration": 266,
    "start_time": "2022-12-21T16:39:35.301Z"
   },
   {
    "duration": 266,
    "start_time": "2022-12-21T16:43:27.291Z"
   },
   {
    "duration": 240,
    "start_time": "2022-12-21T16:49:56.007Z"
   },
   {
    "duration": 272,
    "start_time": "2022-12-21T16:50:25.179Z"
   },
   {
    "duration": 113,
    "start_time": "2022-12-21T17:03:47.094Z"
   },
   {
    "duration": 246,
    "start_time": "2022-12-21T17:03:59.657Z"
   },
   {
    "duration": 240,
    "start_time": "2022-12-21T17:04:07.883Z"
   },
   {
    "duration": 268,
    "start_time": "2022-12-21T17:04:19.400Z"
   },
   {
    "duration": 43,
    "start_time": "2022-12-21T17:07:37.916Z"
   },
   {
    "duration": 42,
    "start_time": "2022-12-21T17:12:55.606Z"
   },
   {
    "duration": 245,
    "start_time": "2022-12-21T17:13:10.987Z"
   },
   {
    "duration": 311,
    "start_time": "2022-12-21T17:14:11.383Z"
   },
   {
    "duration": 266,
    "start_time": "2022-12-21T17:15:33.977Z"
   },
   {
    "duration": 241,
    "start_time": "2022-12-21T17:16:23.365Z"
   },
   {
    "duration": 241,
    "start_time": "2022-12-21T17:16:30.888Z"
   },
   {
    "duration": 229,
    "start_time": "2022-12-21T17:20:31.706Z"
   },
   {
    "duration": 406,
    "start_time": "2022-12-21T17:40:46.434Z"
   },
   {
    "duration": 358,
    "start_time": "2022-12-21T17:41:34.273Z"
   },
   {
    "duration": 308,
    "start_time": "2022-12-21T17:43:20.718Z"
   },
   {
    "duration": 324,
    "start_time": "2022-12-21T17:43:41.235Z"
   },
   {
    "duration": 60,
    "start_time": "2022-12-22T16:15:48.332Z"
   },
   {
    "duration": 1333,
    "start_time": "2022-12-22T16:15:54.351Z"
   },
   {
    "duration": 218,
    "start_time": "2022-12-22T16:15:55.686Z"
   },
   {
    "duration": 14,
    "start_time": "2022-12-22T16:15:55.906Z"
   },
   {
    "duration": 32,
    "start_time": "2022-12-22T16:15:55.922Z"
   },
   {
    "duration": 33,
    "start_time": "2022-12-22T16:15:55.957Z"
   },
   {
    "duration": 41,
    "start_time": "2022-12-22T16:15:55.992Z"
   },
   {
    "duration": 26,
    "start_time": "2022-12-22T16:15:56.035Z"
   },
   {
    "duration": 45,
    "start_time": "2022-12-22T16:15:56.063Z"
   },
   {
    "duration": 81,
    "start_time": "2022-12-22T16:15:56.110Z"
   },
   {
    "duration": 7,
    "start_time": "2022-12-22T16:15:56.192Z"
   },
   {
    "duration": 29,
    "start_time": "2022-12-22T16:15:56.200Z"
   },
   {
    "duration": 44,
    "start_time": "2022-12-22T16:15:56.230Z"
   },
   {
    "duration": 30,
    "start_time": "2022-12-22T16:15:56.276Z"
   },
   {
    "duration": 33,
    "start_time": "2022-12-22T16:15:56.309Z"
   },
   {
    "duration": 31,
    "start_time": "2022-12-22T16:15:56.343Z"
   },
   {
    "duration": 44,
    "start_time": "2022-12-22T16:15:56.376Z"
   },
   {
    "duration": 39,
    "start_time": "2022-12-22T16:15:56.422Z"
   },
   {
    "duration": 27,
    "start_time": "2022-12-22T16:15:56.462Z"
   },
   {
    "duration": 52,
    "start_time": "2022-12-22T16:15:56.490Z"
   },
   {
    "duration": 177,
    "start_time": "2022-12-22T16:15:56.544Z"
   },
   {
    "duration": 126,
    "start_time": "2022-12-22T16:15:56.723Z"
   },
   {
    "duration": 10,
    "start_time": "2022-12-22T16:15:56.850Z"
   },
   {
    "duration": 40,
    "start_time": "2022-12-22T16:15:56.862Z"
   },
   {
    "duration": 306,
    "start_time": "2022-12-22T16:15:56.903Z"
   },
   {
    "duration": 237,
    "start_time": "2022-12-22T16:15:57.210Z"
   },
   {
    "duration": 380,
    "start_time": "2022-12-22T16:15:57.449Z"
   },
   {
    "duration": 235,
    "start_time": "2022-12-22T16:15:57.831Z"
   },
   {
    "duration": 349,
    "start_time": "2022-12-22T16:15:58.067Z"
   },
   {
    "duration": 1244,
    "start_time": "2022-12-25T16:08:12.352Z"
   },
   {
    "duration": 211,
    "start_time": "2022-12-25T16:08:13.598Z"
   },
   {
    "duration": 11,
    "start_time": "2022-12-25T16:08:13.811Z"
   },
   {
    "duration": 21,
    "start_time": "2022-12-25T16:08:13.824Z"
   },
   {
    "duration": 17,
    "start_time": "2022-12-25T16:08:13.847Z"
   },
   {
    "duration": 12,
    "start_time": "2022-12-25T16:08:13.866Z"
   },
   {
    "duration": 16,
    "start_time": "2022-12-25T16:08:13.879Z"
   },
   {
    "duration": 9,
    "start_time": "2022-12-25T16:08:13.897Z"
   },
   {
    "duration": 54,
    "start_time": "2022-12-25T16:08:13.907Z"
   },
   {
    "duration": 5,
    "start_time": "2022-12-25T16:08:13.962Z"
   },
   {
    "duration": 8,
    "start_time": "2022-12-25T16:08:13.968Z"
   },
   {
    "duration": 16,
    "start_time": "2022-12-25T16:08:13.977Z"
   },
   {
    "duration": 21,
    "start_time": "2022-12-25T16:08:13.995Z"
   },
   {
    "duration": 5,
    "start_time": "2022-12-25T16:08:14.019Z"
   },
   {
    "duration": 12,
    "start_time": "2022-12-25T16:08:14.026Z"
   },
   {
    "duration": 18,
    "start_time": "2022-12-25T16:08:14.040Z"
   },
   {
    "duration": 74,
    "start_time": "2022-12-25T16:08:14.060Z"
   },
   {
    "duration": 9,
    "start_time": "2022-12-25T16:08:14.136Z"
   },
   {
    "duration": 17,
    "start_time": "2022-12-25T16:08:14.146Z"
   },
   {
    "duration": 20,
    "start_time": "2022-12-25T16:08:14.165Z"
   },
   {
    "duration": 157,
    "start_time": "2022-12-25T16:08:14.205Z"
   },
   {
    "duration": 120,
    "start_time": "2022-12-25T16:08:14.363Z"
   },
   {
    "duration": 6,
    "start_time": "2022-12-25T16:08:14.484Z"
   },
   {
    "duration": 20,
    "start_time": "2022-12-25T16:08:14.491Z"
   },
   {
    "duration": 292,
    "start_time": "2022-12-25T16:08:14.512Z"
   },
   {
    "duration": 231,
    "start_time": "2022-12-25T16:08:14.806Z"
   },
   {
    "duration": 370,
    "start_time": "2022-12-25T16:08:15.038Z"
   },
   {
    "duration": 243,
    "start_time": "2022-12-25T16:08:15.409Z"
   },
   {
    "duration": 310,
    "start_time": "2022-12-25T16:08:15.654Z"
   },
   {
    "duration": 65,
    "start_time": "2022-12-25T16:08:45.323Z"
   },
   {
    "duration": 190,
    "start_time": "2022-12-25T16:09:30.796Z"
   },
   {
    "duration": 82,
    "start_time": "2022-12-25T16:09:36.337Z"
   },
   {
    "duration": 64,
    "start_time": "2022-12-25T16:10:02.324Z"
   },
   {
    "duration": 63,
    "start_time": "2022-12-25T16:10:11.771Z"
   },
   {
    "duration": 75,
    "start_time": "2022-12-25T16:12:30.557Z"
   },
   {
    "duration": 68,
    "start_time": "2022-12-25T16:12:36.848Z"
   },
   {
    "duration": 76,
    "start_time": "2022-12-25T16:12:46.029Z"
   },
   {
    "duration": 86,
    "start_time": "2022-12-25T16:12:58.422Z"
   },
   {
    "duration": 88,
    "start_time": "2022-12-25T16:13:04.806Z"
   },
   {
    "duration": 71,
    "start_time": "2022-12-25T16:13:11.577Z"
   },
   {
    "duration": 84,
    "start_time": "2022-12-25T16:13:15.895Z"
   },
   {
    "duration": 13,
    "start_time": "2022-12-25T16:22:01.070Z"
   },
   {
    "duration": 8,
    "start_time": "2022-12-25T16:22:30.778Z"
   },
   {
    "duration": 6,
    "start_time": "2022-12-25T16:23:06.063Z"
   },
   {
    "duration": 111,
    "start_time": "2022-12-25T16:23:26.373Z"
   },
   {
    "duration": 121,
    "start_time": "2022-12-25T16:24:07.259Z"
   },
   {
    "duration": 188,
    "start_time": "2022-12-25T16:24:33.684Z"
   },
   {
    "duration": 181,
    "start_time": "2022-12-25T16:28:17.651Z"
   },
   {
    "duration": 134,
    "start_time": "2022-12-25T16:28:59.670Z"
   },
   {
    "duration": 144,
    "start_time": "2022-12-25T16:29:04.186Z"
   },
   {
    "duration": 160,
    "start_time": "2022-12-25T16:30:28.839Z"
   },
   {
    "duration": 145,
    "start_time": "2022-12-25T16:30:36.078Z"
   },
   {
    "duration": 4,
    "start_time": "2022-12-25T16:35:06.546Z"
   },
   {
    "duration": 5,
    "start_time": "2022-12-25T16:36:15.788Z"
   },
   {
    "duration": 76,
    "start_time": "2022-12-25T16:36:26.106Z"
   },
   {
    "duration": 6,
    "start_time": "2022-12-25T16:36:29.207Z"
   },
   {
    "duration": 5,
    "start_time": "2022-12-25T16:36:49.673Z"
   },
   {
    "duration": 1117,
    "start_time": "2022-12-25T16:48:39.294Z"
   },
   {
    "duration": 178,
    "start_time": "2022-12-25T16:51:36.194Z"
   },
   {
    "duration": 150,
    "start_time": "2022-12-25T16:52:30.923Z"
   },
   {
    "duration": 155,
    "start_time": "2022-12-25T16:53:06.081Z"
   },
   {
    "duration": 145,
    "start_time": "2022-12-25T16:53:55.972Z"
   },
   {
    "duration": 91,
    "start_time": "2022-12-25T16:54:56.335Z"
   },
   {
    "duration": 4,
    "start_time": "2022-12-25T16:56:23.619Z"
   },
   {
    "duration": 16,
    "start_time": "2022-12-25T17:25:14.153Z"
   },
   {
    "duration": 27,
    "start_time": "2022-12-25T17:25:58.407Z"
   },
   {
    "duration": 22,
    "start_time": "2022-12-25T17:29:21.225Z"
   },
   {
    "duration": 76,
    "start_time": "2022-12-25T17:29:57.635Z"
   },
   {
    "duration": 28,
    "start_time": "2022-12-25T17:30:28.455Z"
   },
   {
    "duration": 67,
    "start_time": "2022-12-25T17:31:43.797Z"
   },
   {
    "duration": 101,
    "start_time": "2022-12-25T17:32:07.961Z"
   },
   {
    "duration": 105,
    "start_time": "2022-12-25T17:33:04.502Z"
   },
   {
    "duration": 102,
    "start_time": "2022-12-25T17:33:38.259Z"
   },
   {
    "duration": 98,
    "start_time": "2022-12-25T17:34:36.160Z"
   },
   {
    "duration": 102,
    "start_time": "2022-12-25T17:34:55.150Z"
   },
   {
    "duration": 169,
    "start_time": "2022-12-25T17:35:17.438Z"
   },
   {
    "duration": 99,
    "start_time": "2022-12-25T17:35:35.941Z"
   },
   {
    "duration": 319,
    "start_time": "2022-12-25T17:36:12.981Z"
   },
   {
    "duration": 231,
    "start_time": "2022-12-25T17:36:38.325Z"
   },
   {
    "duration": 154,
    "start_time": "2022-12-25T17:38:15.677Z"
   },
   {
    "duration": 7,
    "start_time": "2022-12-25T17:39:05.826Z"
   },
   {
    "duration": 17,
    "start_time": "2022-12-25T17:40:08.141Z"
   },
   {
    "duration": 144,
    "start_time": "2022-12-25T17:40:48.548Z"
   },
   {
    "duration": 183,
    "start_time": "2022-12-25T17:41:10.750Z"
   },
   {
    "duration": 137,
    "start_time": "2022-12-25T17:56:32.398Z"
   },
   {
    "duration": 185,
    "start_time": "2022-12-25T17:56:44.599Z"
   },
   {
    "duration": 194,
    "start_time": "2022-12-25T17:57:28.284Z"
   },
   {
    "duration": 156,
    "start_time": "2022-12-25T17:59:44.049Z"
   },
   {
    "duration": 152,
    "start_time": "2022-12-25T18:03:09.308Z"
   },
   {
    "duration": 216,
    "start_time": "2022-12-25T18:03:18.064Z"
   },
   {
    "duration": 159,
    "start_time": "2022-12-25T18:03:27.157Z"
   },
   {
    "duration": 9,
    "start_time": "2022-12-25T18:11:37.038Z"
   },
   {
    "duration": 10,
    "start_time": "2022-12-25T18:11:46.647Z"
   },
   {
    "duration": 73,
    "start_time": "2022-12-25T18:12:53.541Z"
   },
   {
    "duration": 4,
    "start_time": "2022-12-25T18:13:21.431Z"
   },
   {
    "duration": 79,
    "start_time": "2022-12-25T18:16:17.004Z"
   },
   {
    "duration": 4,
    "start_time": "2022-12-25T18:16:30.998Z"
   },
   {
    "duration": 72,
    "start_time": "2022-12-25T18:16:45.961Z"
   },
   {
    "duration": 67,
    "start_time": "2022-12-25T18:17:31.805Z"
   },
   {
    "duration": 13,
    "start_time": "2022-12-25T18:28:09.197Z"
   },
   {
    "duration": 15,
    "start_time": "2022-12-25T18:28:22.485Z"
   },
   {
    "duration": 16,
    "start_time": "2022-12-25T18:28:42.545Z"
   },
   {
    "duration": 16,
    "start_time": "2022-12-25T18:28:51.330Z"
   },
   {
    "duration": 23,
    "start_time": "2022-12-25T18:29:19.292Z"
   },
   {
    "duration": 5,
    "start_time": "2022-12-25T18:29:55.009Z"
   },
   {
    "duration": 11,
    "start_time": "2022-12-25T18:30:05.665Z"
   },
   {
    "duration": 83,
    "start_time": "2022-12-25T18:39:25.926Z"
   },
   {
    "duration": 1297,
    "start_time": "2022-12-25T18:42:51.217Z"
   },
   {
    "duration": 1189,
    "start_time": "2022-12-25T18:43:16.965Z"
   },
   {
    "duration": 1130,
    "start_time": "2022-12-25T18:44:04.193Z"
   },
   {
    "duration": 1093,
    "start_time": "2022-12-25T18:45:30.937Z"
   },
   {
    "duration": 72,
    "start_time": "2022-12-25T18:45:32.032Z"
   },
   {
    "duration": 16,
    "start_time": "2022-12-25T18:45:32.106Z"
   },
   {
    "duration": 10,
    "start_time": "2022-12-25T18:45:32.123Z"
   },
   {
    "duration": 10,
    "start_time": "2022-12-25T18:45:32.134Z"
   },
   {
    "duration": 13,
    "start_time": "2022-12-25T18:45:32.145Z"
   },
   {
    "duration": 9,
    "start_time": "2022-12-25T18:45:32.160Z"
   },
   {
    "duration": 5,
    "start_time": "2022-12-25T18:45:32.171Z"
   },
   {
    "duration": 66,
    "start_time": "2022-12-25T18:45:32.177Z"
   },
   {
    "duration": 5,
    "start_time": "2022-12-25T18:45:32.245Z"
   },
   {
    "duration": 8,
    "start_time": "2022-12-25T18:45:32.251Z"
   },
   {
    "duration": 17,
    "start_time": "2022-12-25T18:45:32.260Z"
   },
   {
    "duration": 20,
    "start_time": "2022-12-25T18:45:32.278Z"
   },
   {
    "duration": 20,
    "start_time": "2022-12-25T18:45:32.305Z"
   },
   {
    "duration": 9,
    "start_time": "2022-12-25T18:45:32.327Z"
   },
   {
    "duration": 14,
    "start_time": "2022-12-25T18:45:32.338Z"
   },
   {
    "duration": 68,
    "start_time": "2022-12-25T18:45:32.353Z"
   },
   {
    "duration": 7,
    "start_time": "2022-12-25T18:45:32.422Z"
   },
   {
    "duration": 24,
    "start_time": "2022-12-25T18:45:32.431Z"
   },
   {
    "duration": 12,
    "start_time": "2022-12-25T18:45:32.457Z"
   },
   {
    "duration": 164,
    "start_time": "2022-12-25T18:45:32.470Z"
   },
   {
    "duration": 117,
    "start_time": "2022-12-25T18:45:32.636Z"
   },
   {
    "duration": 6,
    "start_time": "2022-12-25T18:45:32.754Z"
   },
   {
    "duration": 10,
    "start_time": "2022-12-25T18:45:32.761Z"
   },
   {
    "duration": 284,
    "start_time": "2022-12-25T18:45:32.772Z"
   },
   {
    "duration": 221,
    "start_time": "2022-12-25T18:45:33.057Z"
   },
   {
    "duration": 362,
    "start_time": "2022-12-25T18:45:33.280Z"
   },
   {
    "duration": 257,
    "start_time": "2022-12-25T18:45:33.647Z"
   },
   {
    "duration": 344,
    "start_time": "2022-12-25T18:45:33.906Z"
   },
   {
    "duration": 7,
    "start_time": "2022-12-25T18:45:34.251Z"
   },
   {
    "duration": 148,
    "start_time": "2022-12-25T18:45:34.259Z"
   },
   {
    "duration": 143,
    "start_time": "2022-12-25T18:45:34.410Z"
   },
   {
    "duration": 4,
    "start_time": "2022-12-25T18:45:34.555Z"
   },
   {
    "duration": 231,
    "start_time": "2022-12-25T18:45:34.560Z"
   },
   {
    "duration": 4,
    "start_time": "2022-12-25T18:45:34.792Z"
   },
   {
    "duration": 238,
    "start_time": "2022-12-25T18:45:34.798Z"
   },
   {
    "duration": 139,
    "start_time": "2022-12-25T18:45:35.038Z"
   },
   {
    "duration": 5,
    "start_time": "2022-12-25T18:45:35.179Z"
   },
   {
    "duration": 173,
    "start_time": "2022-12-25T18:45:35.186Z"
   },
   {
    "duration": 13,
    "start_time": "2022-12-25T18:45:35.361Z"
   },
   {
    "duration": 1180,
    "start_time": "2022-12-25T18:45:35.382Z"
   },
   {
    "duration": 1083,
    "start_time": "2022-12-25T18:46:03.900Z"
   },
   {
    "duration": 140,
    "start_time": "2022-12-25T18:46:48.699Z"
   },
   {
    "duration": 1105,
    "start_time": "2022-12-25T18:46:55.114Z"
   },
   {
    "duration": 75,
    "start_time": "2022-12-25T18:46:56.221Z"
   },
   {
    "duration": 10,
    "start_time": "2022-12-25T18:46:56.298Z"
   },
   {
    "duration": 10,
    "start_time": "2022-12-25T18:46:56.309Z"
   },
   {
    "duration": 8,
    "start_time": "2022-12-25T18:46:56.321Z"
   },
   {
    "duration": 8,
    "start_time": "2022-12-25T18:46:56.330Z"
   },
   {
    "duration": 13,
    "start_time": "2022-12-25T18:46:56.339Z"
   },
   {
    "duration": 10,
    "start_time": "2022-12-25T18:46:56.353Z"
   },
   {
    "duration": 62,
    "start_time": "2022-12-25T18:46:56.365Z"
   },
   {
    "duration": 5,
    "start_time": "2022-12-25T18:46:56.429Z"
   },
   {
    "duration": 6,
    "start_time": "2022-12-25T18:46:56.436Z"
   },
   {
    "duration": 16,
    "start_time": "2022-12-25T18:46:56.443Z"
   },
   {
    "duration": 11,
    "start_time": "2022-12-25T18:46:56.460Z"
   },
   {
    "duration": 13,
    "start_time": "2022-12-25T18:46:56.474Z"
   },
   {
    "duration": 16,
    "start_time": "2022-12-25T18:46:56.488Z"
   },
   {
    "duration": 12,
    "start_time": "2022-12-25T18:46:56.505Z"
   },
   {
    "duration": 68,
    "start_time": "2022-12-25T18:46:56.519Z"
   },
   {
    "duration": 21,
    "start_time": "2022-12-25T18:46:56.588Z"
   },
   {
    "duration": 12,
    "start_time": "2022-12-25T18:46:56.611Z"
   },
   {
    "duration": 19,
    "start_time": "2022-12-25T18:46:56.625Z"
   },
   {
    "duration": 176,
    "start_time": "2022-12-25T18:46:56.645Z"
   },
   {
    "duration": 121,
    "start_time": "2022-12-25T18:46:56.822Z"
   },
   {
    "duration": 6,
    "start_time": "2022-12-25T18:46:56.945Z"
   },
   {
    "duration": 10,
    "start_time": "2022-12-25T18:46:56.952Z"
   },
   {
    "duration": 281,
    "start_time": "2022-12-25T18:46:56.964Z"
   },
   {
    "duration": 250,
    "start_time": "2022-12-25T18:46:57.247Z"
   },
   {
    "duration": 327,
    "start_time": "2022-12-25T18:46:57.499Z"
   },
   {
    "duration": 218,
    "start_time": "2022-12-25T18:46:57.828Z"
   },
   {
    "duration": 318,
    "start_time": "2022-12-25T18:46:58.048Z"
   },
   {
    "duration": 8,
    "start_time": "2022-12-25T18:46:58.368Z"
   },
   {
    "duration": 158,
    "start_time": "2022-12-25T18:46:58.378Z"
   },
   {
    "duration": 144,
    "start_time": "2022-12-25T18:46:58.538Z"
   },
   {
    "duration": 4,
    "start_time": "2022-12-25T18:46:58.684Z"
   },
   {
    "duration": 221,
    "start_time": "2022-12-25T18:46:58.689Z"
   },
   {
    "duration": 4,
    "start_time": "2022-12-25T18:46:58.911Z"
   },
   {
    "duration": 232,
    "start_time": "2022-12-25T18:46:58.916Z"
   },
   {
    "duration": 123,
    "start_time": "2022-12-25T18:46:59.149Z"
   },
   {
    "duration": 5,
    "start_time": "2022-12-25T18:46:59.274Z"
   },
   {
    "duration": 154,
    "start_time": "2022-12-25T18:46:59.281Z"
   },
   {
    "duration": 10,
    "start_time": "2022-12-25T18:46:59.437Z"
   },
   {
    "duration": 1216,
    "start_time": "2022-12-25T18:46:59.450Z"
   },
   {
    "duration": 1101,
    "start_time": "2022-12-25T18:47:50.432Z"
   },
   {
    "duration": 69,
    "start_time": "2022-12-25T18:47:51.535Z"
   },
   {
    "duration": 11,
    "start_time": "2022-12-25T18:47:51.608Z"
   },
   {
    "duration": 15,
    "start_time": "2022-12-25T18:47:51.622Z"
   },
   {
    "duration": 19,
    "start_time": "2022-12-25T18:47:51.638Z"
   },
   {
    "duration": 13,
    "start_time": "2022-12-25T18:47:51.659Z"
   },
   {
    "duration": 14,
    "start_time": "2022-12-25T18:47:51.673Z"
   },
   {
    "duration": 6,
    "start_time": "2022-12-25T18:47:51.688Z"
   },
   {
    "duration": 48,
    "start_time": "2022-12-25T18:47:51.705Z"
   },
   {
    "duration": 5,
    "start_time": "2022-12-25T18:47:51.755Z"
   },
   {
    "duration": 8,
    "start_time": "2022-12-25T18:47:51.761Z"
   },
   {
    "duration": 15,
    "start_time": "2022-12-25T18:47:51.770Z"
   },
   {
    "duration": 10,
    "start_time": "2022-12-25T18:47:51.805Z"
   },
   {
    "duration": 8,
    "start_time": "2022-12-25T18:47:51.816Z"
   },
   {
    "duration": 6,
    "start_time": "2022-12-25T18:47:51.826Z"
   },
   {
    "duration": 16,
    "start_time": "2022-12-25T18:47:51.833Z"
   },
   {
    "duration": 79,
    "start_time": "2022-12-25T18:47:51.851Z"
   },
   {
    "duration": 7,
    "start_time": "2022-12-25T18:47:51.932Z"
   },
   {
    "duration": 16,
    "start_time": "2022-12-25T18:47:51.941Z"
   },
   {
    "duration": 18,
    "start_time": "2022-12-25T18:47:51.958Z"
   },
   {
    "duration": 195,
    "start_time": "2022-12-25T18:47:51.978Z"
   },
   {
    "duration": 118,
    "start_time": "2022-12-25T18:47:52.175Z"
   },
   {
    "duration": 14,
    "start_time": "2022-12-25T18:47:52.295Z"
   },
   {
    "duration": 10,
    "start_time": "2022-12-25T18:47:52.311Z"
   },
   {
    "duration": 291,
    "start_time": "2022-12-25T18:47:52.322Z"
   },
   {
    "duration": 212,
    "start_time": "2022-12-25T18:47:52.615Z"
   },
   {
    "duration": 328,
    "start_time": "2022-12-25T18:47:52.829Z"
   },
   {
    "duration": 229,
    "start_time": "2022-12-25T18:47:53.159Z"
   },
   {
    "duration": 342,
    "start_time": "2022-12-25T18:47:53.389Z"
   },
   {
    "duration": 6,
    "start_time": "2022-12-25T18:47:53.732Z"
   },
   {
    "duration": 138,
    "start_time": "2022-12-25T18:47:53.739Z"
   },
   {
    "duration": 162,
    "start_time": "2022-12-25T18:47:53.879Z"
   },
   {
    "duration": 5,
    "start_time": "2022-12-25T18:47:54.043Z"
   },
   {
    "duration": 234,
    "start_time": "2022-12-25T18:47:54.050Z"
   },
   {
    "duration": 4,
    "start_time": "2022-12-25T18:47:54.286Z"
   },
   {
    "duration": 223,
    "start_time": "2022-12-25T18:47:54.293Z"
   },
   {
    "duration": 131,
    "start_time": "2022-12-25T18:47:54.518Z"
   },
   {
    "duration": 7,
    "start_time": "2022-12-25T18:47:54.651Z"
   },
   {
    "duration": 147,
    "start_time": "2022-12-25T18:47:54.659Z"
   },
   {
    "duration": 11,
    "start_time": "2022-12-25T18:47:54.810Z"
   },
   {
    "duration": 1169,
    "start_time": "2022-12-25T18:47:54.823Z"
   },
   {
    "duration": 1078,
    "start_time": "2022-12-25T18:49:15.745Z"
   },
   {
    "duration": 68,
    "start_time": "2022-12-25T18:49:16.825Z"
   },
   {
    "duration": 12,
    "start_time": "2022-12-25T18:49:16.895Z"
   },
   {
    "duration": 11,
    "start_time": "2022-12-25T18:49:16.909Z"
   },
   {
    "duration": 8,
    "start_time": "2022-12-25T18:49:16.921Z"
   },
   {
    "duration": 22,
    "start_time": "2022-12-25T18:49:16.930Z"
   },
   {
    "duration": 12,
    "start_time": "2022-12-25T18:49:16.953Z"
   },
   {
    "duration": 5,
    "start_time": "2022-12-25T18:49:16.967Z"
   },
   {
    "duration": 59,
    "start_time": "2022-12-25T18:49:16.974Z"
   },
   {
    "duration": 6,
    "start_time": "2022-12-25T18:49:17.036Z"
   },
   {
    "duration": 9,
    "start_time": "2022-12-25T18:49:17.043Z"
   },
   {
    "duration": 12,
    "start_time": "2022-12-25T18:49:17.053Z"
   },
   {
    "duration": 11,
    "start_time": "2022-12-25T18:49:17.066Z"
   },
   {
    "duration": 26,
    "start_time": "2022-12-25T18:49:17.079Z"
   },
   {
    "duration": 4,
    "start_time": "2022-12-25T18:49:17.106Z"
   },
   {
    "duration": 14,
    "start_time": "2022-12-25T18:49:17.112Z"
   },
   {
    "duration": 77,
    "start_time": "2022-12-25T18:49:17.128Z"
   },
   {
    "duration": 7,
    "start_time": "2022-12-25T18:49:17.206Z"
   },
   {
    "duration": 12,
    "start_time": "2022-12-25T18:49:17.214Z"
   },
   {
    "duration": 19,
    "start_time": "2022-12-25T18:49:17.228Z"
   },
   {
    "duration": 202,
    "start_time": "2022-12-25T18:49:17.249Z"
   },
   {
    "duration": 135,
    "start_time": "2022-12-25T18:49:17.454Z"
   },
   {
    "duration": 18,
    "start_time": "2022-12-25T18:49:17.590Z"
   },
   {
    "duration": 12,
    "start_time": "2022-12-25T18:49:17.609Z"
   },
   {
    "duration": 279,
    "start_time": "2022-12-25T18:49:17.622Z"
   },
   {
    "duration": 208,
    "start_time": "2022-12-25T18:49:17.902Z"
   },
   {
    "duration": 311,
    "start_time": "2022-12-25T18:49:18.111Z"
   },
   {
    "duration": 232,
    "start_time": "2022-12-25T18:49:18.425Z"
   },
   {
    "duration": 302,
    "start_time": "2022-12-25T18:49:18.658Z"
   },
   {
    "duration": 6,
    "start_time": "2022-12-25T18:49:18.961Z"
   },
   {
    "duration": 152,
    "start_time": "2022-12-25T18:49:18.969Z"
   },
   {
    "duration": 139,
    "start_time": "2022-12-25T18:49:19.123Z"
   },
   {
    "duration": 4,
    "start_time": "2022-12-25T18:49:19.263Z"
   },
   {
    "duration": 215,
    "start_time": "2022-12-25T18:49:19.269Z"
   },
   {
    "duration": 4,
    "start_time": "2022-12-25T18:49:19.485Z"
   },
   {
    "duration": 215,
    "start_time": "2022-12-25T18:49:19.490Z"
   },
   {
    "duration": 136,
    "start_time": "2022-12-25T18:49:19.707Z"
   },
   {
    "duration": 5,
    "start_time": "2022-12-25T18:49:19.844Z"
   },
   {
    "duration": 165,
    "start_time": "2022-12-25T18:49:19.851Z"
   },
   {
    "duration": 13,
    "start_time": "2022-12-25T18:49:20.018Z"
   },
   {
    "duration": 1188,
    "start_time": "2022-12-25T18:49:20.033Z"
   },
   {
    "duration": 9,
    "start_time": "2022-12-25T18:50:12.785Z"
   },
   {
    "duration": 8,
    "start_time": "2022-12-25T18:50:37.087Z"
   },
   {
    "duration": 9,
    "start_time": "2022-12-25T18:51:52.528Z"
   },
   {
    "duration": 1084,
    "start_time": "2022-12-25T18:53:35.999Z"
   },
   {
    "duration": 8,
    "start_time": "2022-12-25T18:53:55.998Z"
   },
   {
    "duration": 67,
    "start_time": "2022-12-25T18:54:00.784Z"
   },
   {
    "duration": 9,
    "start_time": "2022-12-25T18:54:13.650Z"
   },
   {
    "duration": 22,
    "start_time": "2022-12-25T18:54:18.722Z"
   },
   {
    "duration": 32,
    "start_time": "2022-12-25T18:56:02.821Z"
   },
   {
    "duration": 8,
    "start_time": "2022-12-25T18:56:29.138Z"
   },
   {
    "duration": 26,
    "start_time": "2022-12-25T18:56:29.636Z"
   },
   {
    "duration": 12,
    "start_time": "2022-12-25T18:57:06.949Z"
   },
   {
    "duration": 29,
    "start_time": "2022-12-25T18:57:22.272Z"
   },
   {
    "duration": 21,
    "start_time": "2022-12-25T18:58:19.762Z"
   },
   {
    "duration": 157,
    "start_time": "2022-12-25T18:58:37.179Z"
   },
   {
    "duration": 21,
    "start_time": "2022-12-25T18:58:40.656Z"
   },
   {
    "duration": 81,
    "start_time": "2022-12-25T19:20:52.330Z"
   },
   {
    "duration": 18,
    "start_time": "2022-12-25T19:30:48.133Z"
   },
   {
    "duration": 1090,
    "start_time": "2022-12-25T19:30:53.861Z"
   },
   {
    "duration": 1172,
    "start_time": "2022-12-25T19:31:17.520Z"
   },
   {
    "duration": 1097,
    "start_time": "2022-12-25T19:31:36.586Z"
   },
   {
    "duration": 1141,
    "start_time": "2022-12-25T19:31:47.619Z"
   },
   {
    "duration": 14,
    "start_time": "2022-12-25T19:31:54.314Z"
   },
   {
    "duration": 15,
    "start_time": "2022-12-25T19:32:43.547Z"
   },
   {
    "duration": 1211,
    "start_time": "2022-12-27T16:23:40.839Z"
   },
   {
    "duration": 223,
    "start_time": "2022-12-27T16:23:42.052Z"
   },
   {
    "duration": 11,
    "start_time": "2022-12-27T16:23:42.276Z"
   },
   {
    "duration": 12,
    "start_time": "2022-12-27T16:23:42.289Z"
   },
   {
    "duration": 7,
    "start_time": "2022-12-27T16:23:42.302Z"
   },
   {
    "duration": 28,
    "start_time": "2022-12-27T16:23:42.310Z"
   },
   {
    "duration": 15,
    "start_time": "2022-12-27T16:23:42.340Z"
   },
   {
    "duration": 7,
    "start_time": "2022-12-27T16:23:42.357Z"
   },
   {
    "duration": 50,
    "start_time": "2022-12-27T16:23:42.365Z"
   },
   {
    "duration": 8,
    "start_time": "2022-12-27T16:23:42.418Z"
   },
   {
    "duration": 12,
    "start_time": "2022-12-27T16:23:42.428Z"
   },
   {
    "duration": 11,
    "start_time": "2022-12-27T16:23:42.441Z"
   },
   {
    "duration": 12,
    "start_time": "2022-12-27T16:23:42.453Z"
   },
   {
    "duration": 6,
    "start_time": "2022-12-27T16:23:42.467Z"
   },
   {
    "duration": 6,
    "start_time": "2022-12-27T16:23:42.475Z"
   },
   {
    "duration": 33,
    "start_time": "2022-12-27T16:23:42.482Z"
   },
   {
    "duration": 84,
    "start_time": "2022-12-27T16:23:42.516Z"
   },
   {
    "duration": 7,
    "start_time": "2022-12-27T16:23:42.602Z"
   },
   {
    "duration": 15,
    "start_time": "2022-12-27T16:23:42.611Z"
   },
   {
    "duration": 18,
    "start_time": "2022-12-27T16:23:42.628Z"
   },
   {
    "duration": 170,
    "start_time": "2022-12-27T16:23:42.648Z"
   },
   {
    "duration": 131,
    "start_time": "2022-12-27T16:23:42.819Z"
   },
   {
    "duration": 9,
    "start_time": "2022-12-27T16:23:42.952Z"
   },
   {
    "duration": 11,
    "start_time": "2022-12-27T16:23:42.963Z"
   },
   {
    "duration": 300,
    "start_time": "2022-12-27T16:23:42.976Z"
   },
   {
    "duration": 227,
    "start_time": "2022-12-27T16:23:43.278Z"
   },
   {
    "duration": 361,
    "start_time": "2022-12-27T16:23:43.507Z"
   },
   {
    "duration": 226,
    "start_time": "2022-12-27T16:23:43.871Z"
   },
   {
    "duration": 354,
    "start_time": "2022-12-27T16:23:44.099Z"
   },
   {
    "duration": 6,
    "start_time": "2022-12-27T16:23:44.454Z"
   },
   {
    "duration": 151,
    "start_time": "2022-12-27T16:23:44.461Z"
   },
   {
    "duration": 153,
    "start_time": "2022-12-27T16:23:44.614Z"
   },
   {
    "duration": 4,
    "start_time": "2022-12-27T16:23:44.769Z"
   },
   {
    "duration": 253,
    "start_time": "2022-12-27T16:23:44.774Z"
   },
   {
    "duration": 3,
    "start_time": "2022-12-27T16:23:45.029Z"
   },
   {
    "duration": 227,
    "start_time": "2022-12-27T16:23:45.034Z"
   },
   {
    "duration": 152,
    "start_time": "2022-12-27T16:23:45.263Z"
   },
   {
    "duration": 7,
    "start_time": "2022-12-27T16:23:45.416Z"
   },
   {
    "duration": 192,
    "start_time": "2022-12-27T16:23:45.424Z"
   },
   {
    "duration": 12,
    "start_time": "2022-12-27T16:23:45.618Z"
   },
   {
    "duration": 37,
    "start_time": "2022-12-27T16:23:45.632Z"
   },
   {
    "duration": 59,
    "start_time": "2022-12-27T16:23:45.671Z"
   },
   {
    "duration": 40,
    "start_time": "2022-12-27T16:23:45.731Z"
   },
   {
    "duration": 28,
    "start_time": "2022-12-27T16:23:45.773Z"
   },
   {
    "duration": 319,
    "start_time": "2022-12-27T16:23:54.427Z"
   },
   {
    "duration": 89,
    "start_time": "2022-12-27T16:42:41.397Z"
   },
   {
    "duration": 11,
    "start_time": "2022-12-27T16:43:43.542Z"
   },
   {
    "duration": 122,
    "start_time": "2022-12-27T16:44:12.773Z"
   },
   {
    "duration": 124,
    "start_time": "2022-12-27T16:44:27.686Z"
   },
   {
    "duration": 211,
    "start_time": "2022-12-27T17:10:07.525Z"
   },
   {
    "duration": 978,
    "start_time": "2022-12-27T17:10:30.868Z"
   },
   {
    "duration": 74,
    "start_time": "2022-12-27T17:10:31.848Z"
   },
   {
    "duration": 11,
    "start_time": "2022-12-27T17:10:31.923Z"
   },
   {
    "duration": 12,
    "start_time": "2022-12-27T17:10:31.935Z"
   },
   {
    "duration": 5,
    "start_time": "2022-12-27T17:10:31.949Z"
   },
   {
    "duration": 10,
    "start_time": "2022-12-27T17:10:31.956Z"
   },
   {
    "duration": 15,
    "start_time": "2022-12-27T17:10:31.967Z"
   },
   {
    "duration": 15,
    "start_time": "2022-12-27T17:10:31.984Z"
   },
   {
    "duration": 46,
    "start_time": "2022-12-27T17:10:32.000Z"
   },
   {
    "duration": 5,
    "start_time": "2022-12-27T17:10:32.047Z"
   },
   {
    "duration": 10,
    "start_time": "2022-12-27T17:10:32.053Z"
   },
   {
    "duration": 11,
    "start_time": "2022-12-27T17:10:32.065Z"
   },
   {
    "duration": 14,
    "start_time": "2022-12-27T17:10:32.078Z"
   },
   {
    "duration": 21,
    "start_time": "2022-12-27T17:10:32.094Z"
   },
   {
    "duration": 6,
    "start_time": "2022-12-27T17:10:32.117Z"
   },
   {
    "duration": 14,
    "start_time": "2022-12-27T17:10:32.124Z"
   },
   {
    "duration": 62,
    "start_time": "2022-12-27T17:10:32.139Z"
   },
   {
    "duration": 8,
    "start_time": "2022-12-27T17:10:32.213Z"
   },
   {
    "duration": 28,
    "start_time": "2022-12-27T17:10:32.223Z"
   },
   {
    "duration": 12,
    "start_time": "2022-12-27T17:10:32.253Z"
   },
   {
    "duration": 155,
    "start_time": "2022-12-27T17:10:32.267Z"
   },
   {
    "duration": 122,
    "start_time": "2022-12-27T17:10:32.424Z"
   },
   {
    "duration": 7,
    "start_time": "2022-12-27T17:10:32.547Z"
   },
   {
    "duration": 11,
    "start_time": "2022-12-27T17:10:32.556Z"
   },
   {
    "duration": 284,
    "start_time": "2022-12-27T17:10:32.569Z"
   },
   {
    "duration": 213,
    "start_time": "2022-12-27T17:10:32.855Z"
   },
   {
    "duration": 283,
    "start_time": "2022-12-27T17:10:33.070Z"
   },
   {
    "duration": 221,
    "start_time": "2022-12-27T17:10:33.355Z"
   },
   {
    "duration": 340,
    "start_time": "2022-12-27T17:10:33.578Z"
   },
   {
    "duration": 6,
    "start_time": "2022-12-27T17:10:33.920Z"
   },
   {
    "duration": 142,
    "start_time": "2022-12-27T17:10:33.927Z"
   },
   {
    "duration": 139,
    "start_time": "2022-12-27T17:10:34.070Z"
   },
   {
    "duration": 5,
    "start_time": "2022-12-27T17:10:34.213Z"
   },
   {
    "duration": 213,
    "start_time": "2022-12-27T17:10:34.220Z"
   },
   {
    "duration": 4,
    "start_time": "2022-12-27T17:10:34.434Z"
   },
   {
    "duration": 255,
    "start_time": "2022-12-27T17:10:34.440Z"
   },
   {
    "duration": 150,
    "start_time": "2022-12-27T17:10:34.697Z"
   },
   {
    "duration": 6,
    "start_time": "2022-12-27T17:10:34.849Z"
   },
   {
    "duration": 165,
    "start_time": "2022-12-27T17:10:34.856Z"
   },
   {
    "duration": 11,
    "start_time": "2022-12-27T17:10:35.022Z"
   },
   {
    "duration": 25,
    "start_time": "2022-12-27T17:10:35.036Z"
   },
   {
    "duration": 15,
    "start_time": "2022-12-27T17:10:35.062Z"
   },
   {
    "duration": 27,
    "start_time": "2022-12-27T17:10:35.079Z"
   },
   {
    "duration": 13,
    "start_time": "2022-12-27T17:10:35.107Z"
   },
   {
    "duration": 220,
    "start_time": "2022-12-27T17:10:35.121Z"
   },
   {
    "duration": 170,
    "start_time": "2022-12-27T17:11:54.583Z"
   },
   {
    "duration": 1574,
    "start_time": "2022-12-27T17:12:22.350Z"
   },
   {
    "duration": 1393,
    "start_time": "2022-12-27T17:16:04.775Z"
   },
   {
    "duration": 1589,
    "start_time": "2022-12-27T17:16:28.681Z"
   },
   {
    "duration": 4,
    "start_time": "2022-12-27T17:16:55.745Z"
   },
   {
    "duration": 204,
    "start_time": "2022-12-27T17:55:41.843Z"
   },
   {
    "duration": 213,
    "start_time": "2022-12-27T17:59:52.185Z"
   },
   {
    "duration": 1057,
    "start_time": "2022-12-28T10:08:18.603Z"
   },
   {
    "duration": 85,
    "start_time": "2022-12-28T10:08:19.662Z"
   },
   {
    "duration": 15,
    "start_time": "2022-12-28T10:08:19.749Z"
   },
   {
    "duration": 17,
    "start_time": "2022-12-28T10:08:19.766Z"
   },
   {
    "duration": 14,
    "start_time": "2022-12-28T10:08:19.786Z"
   },
   {
    "duration": 13,
    "start_time": "2022-12-28T10:08:19.801Z"
   },
   {
    "duration": 13,
    "start_time": "2022-12-28T10:08:19.816Z"
   },
   {
    "duration": 7,
    "start_time": "2022-12-28T10:08:19.830Z"
   },
   {
    "duration": 56,
    "start_time": "2022-12-28T10:08:19.839Z"
   },
   {
    "duration": 19,
    "start_time": "2022-12-28T10:08:19.897Z"
   },
   {
    "duration": 14,
    "start_time": "2022-12-28T10:08:19.918Z"
   },
   {
    "duration": 16,
    "start_time": "2022-12-28T10:08:19.934Z"
   },
   {
    "duration": 19,
    "start_time": "2022-12-28T10:08:19.951Z"
   },
   {
    "duration": 7,
    "start_time": "2022-12-28T10:08:19.973Z"
   },
   {
    "duration": 8,
    "start_time": "2022-12-28T10:08:19.982Z"
   },
   {
    "duration": 24,
    "start_time": "2022-12-28T10:08:19.991Z"
   },
   {
    "duration": 76,
    "start_time": "2022-12-28T10:08:20.016Z"
   },
   {
    "duration": 8,
    "start_time": "2022-12-28T10:08:20.093Z"
   },
   {
    "duration": 16,
    "start_time": "2022-12-28T10:08:20.113Z"
   },
   {
    "duration": 13,
    "start_time": "2022-12-28T10:08:20.132Z"
   },
   {
    "duration": 207,
    "start_time": "2022-12-28T10:08:20.146Z"
   },
   {
    "duration": 127,
    "start_time": "2022-12-28T10:08:20.355Z"
   },
   {
    "duration": 7,
    "start_time": "2022-12-28T10:08:20.484Z"
   },
   {
    "duration": 21,
    "start_time": "2022-12-28T10:08:20.492Z"
   },
   {
    "duration": 317,
    "start_time": "2022-12-28T10:08:20.515Z"
   },
   {
    "duration": 225,
    "start_time": "2022-12-28T10:08:20.834Z"
   },
   {
    "duration": 319,
    "start_time": "2022-12-28T10:08:21.061Z"
   },
   {
    "duration": 242,
    "start_time": "2022-12-28T10:08:21.382Z"
   },
   {
    "duration": 337,
    "start_time": "2022-12-28T10:08:21.626Z"
   },
   {
    "duration": 8,
    "start_time": "2022-12-28T10:08:21.965Z"
   },
   {
    "duration": 154,
    "start_time": "2022-12-28T10:08:21.974Z"
   },
   {
    "duration": 152,
    "start_time": "2022-12-28T10:08:22.130Z"
   },
   {
    "duration": 4,
    "start_time": "2022-12-28T10:08:22.284Z"
   },
   {
    "duration": 241,
    "start_time": "2022-12-28T10:08:22.290Z"
   },
   {
    "duration": 4,
    "start_time": "2022-12-28T10:08:22.532Z"
   },
   {
    "duration": 244,
    "start_time": "2022-12-28T10:08:22.538Z"
   },
   {
    "duration": 164,
    "start_time": "2022-12-28T10:08:22.784Z"
   },
   {
    "duration": 7,
    "start_time": "2022-12-28T10:08:22.949Z"
   },
   {
    "duration": 180,
    "start_time": "2022-12-28T10:08:22.958Z"
   },
   {
    "duration": 10,
    "start_time": "2022-12-28T10:08:23.139Z"
   },
   {
    "duration": 10,
    "start_time": "2022-12-28T10:08:23.152Z"
   },
   {
    "duration": 10,
    "start_time": "2022-12-28T10:08:23.164Z"
   },
   {
    "duration": 47,
    "start_time": "2022-12-28T10:08:23.176Z"
   },
   {
    "duration": 14,
    "start_time": "2022-12-28T10:08:23.225Z"
   },
   {
    "duration": 44,
    "start_time": "2022-12-28T17:45:26.587Z"
   },
   {
    "duration": 1199,
    "start_time": "2022-12-28T17:45:31.882Z"
   },
   {
    "duration": 232,
    "start_time": "2022-12-28T17:45:33.083Z"
   },
   {
    "duration": 12,
    "start_time": "2022-12-28T17:45:33.316Z"
   },
   {
    "duration": 10,
    "start_time": "2022-12-28T17:45:33.329Z"
   },
   {
    "duration": 23,
    "start_time": "2022-12-28T17:45:33.340Z"
   },
   {
    "duration": 10,
    "start_time": "2022-12-28T17:45:33.364Z"
   },
   {
    "duration": 13,
    "start_time": "2022-12-28T17:45:33.376Z"
   },
   {
    "duration": 5,
    "start_time": "2022-12-28T17:45:33.391Z"
   },
   {
    "duration": 56,
    "start_time": "2022-12-28T17:45:33.397Z"
   },
   {
    "duration": 5,
    "start_time": "2022-12-28T17:45:33.456Z"
   },
   {
    "duration": 11,
    "start_time": "2022-12-28T17:45:33.462Z"
   },
   {
    "duration": 13,
    "start_time": "2022-12-28T17:45:33.474Z"
   },
   {
    "duration": 13,
    "start_time": "2022-12-28T17:45:33.489Z"
   },
   {
    "duration": 19,
    "start_time": "2022-12-28T17:45:33.504Z"
   },
   {
    "duration": 8,
    "start_time": "2022-12-28T17:45:33.524Z"
   },
   {
    "duration": 17,
    "start_time": "2022-12-28T17:45:33.533Z"
   },
   {
    "duration": 66,
    "start_time": "2022-12-28T17:45:33.552Z"
   },
   {
    "duration": 8,
    "start_time": "2022-12-28T17:45:33.621Z"
   },
   {
    "duration": 13,
    "start_time": "2022-12-28T17:45:33.630Z"
   },
   {
    "duration": 19,
    "start_time": "2022-12-28T17:45:33.645Z"
   },
   {
    "duration": 159,
    "start_time": "2022-12-28T17:45:33.666Z"
   },
   {
    "duration": 112,
    "start_time": "2022-12-28T17:45:33.827Z"
   },
   {
    "duration": 6,
    "start_time": "2022-12-28T17:45:33.940Z"
   },
   {
    "duration": 40,
    "start_time": "2022-12-28T17:45:33.948Z"
   },
   {
    "duration": 16,
    "start_time": "2022-12-28T17:45:33.989Z"
   },
   {
    "duration": 276,
    "start_time": "2022-12-28T17:45:34.006Z"
   },
   {
    "duration": 206,
    "start_time": "2022-12-28T17:45:34.284Z"
   },
   {
    "duration": 384,
    "start_time": "2022-12-28T17:45:34.494Z"
   },
   {
    "duration": 225,
    "start_time": "2022-12-28T17:45:34.880Z"
   },
   {
    "duration": 379,
    "start_time": "2022-12-28T17:45:35.106Z"
   },
   {
    "duration": 6,
    "start_time": "2022-12-28T17:45:35.486Z"
   },
   {
    "duration": 158,
    "start_time": "2022-12-28T17:45:35.494Z"
   },
   {
    "duration": 133,
    "start_time": "2022-12-28T17:45:35.654Z"
   },
   {
    "duration": 4,
    "start_time": "2022-12-28T17:45:35.789Z"
   },
   {
    "duration": 234,
    "start_time": "2022-12-28T17:45:35.794Z"
   },
   {
    "duration": 5,
    "start_time": "2022-12-28T17:45:36.030Z"
   },
   {
    "duration": 222,
    "start_time": "2022-12-28T17:45:36.036Z"
   },
   {
    "duration": 130,
    "start_time": "2022-12-28T17:45:36.259Z"
   },
   {
    "duration": 5,
    "start_time": "2022-12-28T17:45:36.391Z"
   },
   {
    "duration": 155,
    "start_time": "2022-12-28T17:45:36.397Z"
   },
   {
    "duration": 10,
    "start_time": "2022-12-28T17:45:36.554Z"
   },
   {
    "duration": 9,
    "start_time": "2022-12-28T17:45:36.566Z"
   },
   {
    "duration": 14,
    "start_time": "2022-12-28T17:45:36.577Z"
   },
   {
    "duration": 34,
    "start_time": "2022-12-28T17:45:36.593Z"
   },
   {
    "duration": 14,
    "start_time": "2022-12-28T17:45:36.628Z"
   },
   {
    "duration": 4,
    "start_time": "2022-12-28T17:45:54.346Z"
   },
   {
    "duration": 4,
    "start_time": "2022-12-28T17:46:08.052Z"
   },
   {
    "duration": 3,
    "start_time": "2022-12-28T17:46:26.648Z"
   },
   {
    "duration": 10,
    "start_time": "2022-12-28T17:47:10.289Z"
   },
   {
    "duration": 19,
    "start_time": "2022-12-28T17:47:51.495Z"
   },
   {
    "duration": 317,
    "start_time": "2022-12-28T17:49:37.687Z"
   },
   {
    "duration": 222,
    "start_time": "2022-12-28T17:49:44.415Z"
   },
   {
    "duration": 202,
    "start_time": "2022-12-28T17:50:38.201Z"
   },
   {
    "duration": 211,
    "start_time": "2022-12-28T17:50:52.751Z"
   },
   {
    "duration": 204,
    "start_time": "2022-12-28T17:51:23.878Z"
   },
   {
    "duration": 201,
    "start_time": "2022-12-28T17:51:32.303Z"
   },
   {
    "duration": 203,
    "start_time": "2022-12-28T17:51:39.758Z"
   },
   {
    "duration": 217,
    "start_time": "2022-12-28T17:51:50.831Z"
   },
   {
    "duration": 198,
    "start_time": "2022-12-28T17:52:57.088Z"
   },
   {
    "duration": 393,
    "start_time": "2022-12-28T17:56:04.345Z"
   },
   {
    "duration": 276,
    "start_time": "2022-12-28T17:56:28.544Z"
   },
   {
    "duration": 306,
    "start_time": "2022-12-28T17:57:04.878Z"
   },
   {
    "duration": 196,
    "start_time": "2022-12-28T17:57:35.295Z"
   },
   {
    "duration": 138,
    "start_time": "2022-12-28T17:58:08.559Z"
   },
   {
    "duration": 150,
    "start_time": "2022-12-28T17:58:46.300Z"
   },
   {
    "duration": 143,
    "start_time": "2022-12-28T17:59:31.615Z"
   },
   {
    "duration": 157,
    "start_time": "2022-12-28T18:02:10.127Z"
   },
   {
    "duration": 149,
    "start_time": "2022-12-28T18:04:40.120Z"
   }
  ],
  "kernelspec": {
   "display_name": "Python 3 (ipykernel)",
   "language": "python",
   "name": "python3"
  },
  "language_info": {
   "codemirror_mode": {
    "name": "ipython",
    "version": 3
   },
   "file_extension": ".py",
   "mimetype": "text/x-python",
   "name": "python",
   "nbconvert_exporter": "python",
   "pygments_lexer": "ipython3",
   "version": "3.9.12"
  },
  "toc": {
   "base_numbering": 1,
   "nav_menu": {},
   "number_sections": true,
   "sideBar": true,
   "skip_h1_title": true,
   "title_cell": "Table of Contents",
   "title_sidebar": "Contents",
   "toc_cell": false,
   "toc_position": {
    "height": "calc(100% - 180px)",
    "left": "10px",
    "top": "150px",
    "width": "394.891px"
   },
   "toc_section_display": true,
   "toc_window_display": true
  }
 },
 "nbformat": 4,
 "nbformat_minor": 2
}
