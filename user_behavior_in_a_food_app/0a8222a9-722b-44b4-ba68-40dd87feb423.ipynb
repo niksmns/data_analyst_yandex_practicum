{
 "cells": [
  {
   "cell_type": "markdown",
   "metadata": {},
   "source": [
    "# **Исследование поведения пользователей в приложение по продаже продуктов питания**"
   ]
  },
  {
   "cell_type": "markdown",
   "metadata": {},
   "source": [
    "**Цель исследования:** выяснить при помощи A/A/B-тестирования какой шрифт лучше\n",
    "\n",
    "**Ход исследования:**\n",
    "\n",
    "- Изучение общей информации датасета\n",
    "- Предобработка данных\n",
    "- Изучение и проверка данных\n",
    "- Воронка событий\n",
    "- Анализ A/A/B-теста"
   ]
  },
  {
   "cell_type": "markdown",
   "metadata": {},
   "source": [
    "# **Описание данных:**"
   ]
  },
  {
   "cell_type": "markdown",
   "metadata": {},
   "source": [
    "**Файл /datasets/logs_exp.csv**\n",
    "\n",
    "`EventName` — название события;\n",
    "\n",
    "`DeviceIDHash` — уникальный идентификатор пользователя;\n",
    "\n",
    "`EventTimestamp` — время события;\n",
    "\n",
    "`ExpId` — номер эксперимента: 246 и 247 — контрольные группы, а 248 — экспериментальная."
   ]
  },
  {
   "cell_type": "markdown",
   "metadata": {},
   "source": [
    "## **Откроем файл и изучим общую информацию**"
   ]
  },
  {
   "cell_type": "code",
   "execution_count": 43,
   "metadata": {},
   "outputs": [],
   "source": [
    "import pandas as pd\n",
    "import numpy as np\n",
    "import matplotlib.pyplot as plt\n",
    "from scipy import stats as st\n",
    "import datetime as dt\n",
    "from plotly import graph_objects as go\n",
    "import plotly.io as pio"
   ]
  },
  {
   "cell_type": "code",
   "execution_count": 2,
   "metadata": {},
   "outputs": [],
   "source": [
    "try:\n",
    "    data = pd.read_csv('/datasets/logs_exp.csv', sep='\\t')\n",
    "except:\n",
    "    data = pd.read_csv(r'C:\\Users\\niksmns\\Desktop\\user_behavior_in_a_food_app\\logs_exp.csv', sep='\\t')"
   ]
  },
  {
   "cell_type": "code",
   "execution_count": 3,
   "metadata": {},
   "outputs": [],
   "source": [
    "def general_info(data):\n",
    "    display(data.head(10))\n",
    "    display(data.info())\n",
    "    display(pd.DataFrame(round(data.isna().mean()*100,)).style.background_gradient('coolwarm'))\n",
    "    display('Количество дубликатов:', data.duplicated().sum())\n",
    "    display(data.columns)\n",
    "    display(data.describe())"
   ]
  },
  {
   "cell_type": "code",
   "execution_count": 4,
   "metadata": {},
   "outputs": [
    {
     "data": {
      "text/html": [
       "<div>\n",
       "<style scoped>\n",
       "    .dataframe tbody tr th:only-of-type {\n",
       "        vertical-align: middle;\n",
       "    }\n",
       "\n",
       "    .dataframe tbody tr th {\n",
       "        vertical-align: top;\n",
       "    }\n",
       "\n",
       "    .dataframe thead th {\n",
       "        text-align: right;\n",
       "    }\n",
       "</style>\n",
       "<table border=\"1\" class=\"dataframe\">\n",
       "  <thead>\n",
       "    <tr style=\"text-align: right;\">\n",
       "      <th></th>\n",
       "      <th>EventName</th>\n",
       "      <th>DeviceIDHash</th>\n",
       "      <th>EventTimestamp</th>\n",
       "      <th>ExpId</th>\n",
       "    </tr>\n",
       "  </thead>\n",
       "  <tbody>\n",
       "    <tr>\n",
       "      <th>0</th>\n",
       "      <td>MainScreenAppear</td>\n",
       "      <td>4575588528974610257</td>\n",
       "      <td>1564029816</td>\n",
       "      <td>246</td>\n",
       "    </tr>\n",
       "    <tr>\n",
       "      <th>1</th>\n",
       "      <td>MainScreenAppear</td>\n",
       "      <td>7416695313311560658</td>\n",
       "      <td>1564053102</td>\n",
       "      <td>246</td>\n",
       "    </tr>\n",
       "    <tr>\n",
       "      <th>2</th>\n",
       "      <td>PaymentScreenSuccessful</td>\n",
       "      <td>3518123091307005509</td>\n",
       "      <td>1564054127</td>\n",
       "      <td>248</td>\n",
       "    </tr>\n",
       "    <tr>\n",
       "      <th>3</th>\n",
       "      <td>CartScreenAppear</td>\n",
       "      <td>3518123091307005509</td>\n",
       "      <td>1564054127</td>\n",
       "      <td>248</td>\n",
       "    </tr>\n",
       "    <tr>\n",
       "      <th>4</th>\n",
       "      <td>PaymentScreenSuccessful</td>\n",
       "      <td>6217807653094995999</td>\n",
       "      <td>1564055322</td>\n",
       "      <td>248</td>\n",
       "    </tr>\n",
       "    <tr>\n",
       "      <th>5</th>\n",
       "      <td>CartScreenAppear</td>\n",
       "      <td>6217807653094995999</td>\n",
       "      <td>1564055323</td>\n",
       "      <td>248</td>\n",
       "    </tr>\n",
       "    <tr>\n",
       "      <th>6</th>\n",
       "      <td>OffersScreenAppear</td>\n",
       "      <td>8351860793733343758</td>\n",
       "      <td>1564066242</td>\n",
       "      <td>246</td>\n",
       "    </tr>\n",
       "    <tr>\n",
       "      <th>7</th>\n",
       "      <td>MainScreenAppear</td>\n",
       "      <td>5682100281902512875</td>\n",
       "      <td>1564085677</td>\n",
       "      <td>246</td>\n",
       "    </tr>\n",
       "    <tr>\n",
       "      <th>8</th>\n",
       "      <td>MainScreenAppear</td>\n",
       "      <td>1850981295691852772</td>\n",
       "      <td>1564086702</td>\n",
       "      <td>247</td>\n",
       "    </tr>\n",
       "    <tr>\n",
       "      <th>9</th>\n",
       "      <td>MainScreenAppear</td>\n",
       "      <td>5407636962369102641</td>\n",
       "      <td>1564112112</td>\n",
       "      <td>246</td>\n",
       "    </tr>\n",
       "  </tbody>\n",
       "</table>\n",
       "</div>"
      ],
      "text/plain": [
       "                 EventName         DeviceIDHash  EventTimestamp  ExpId\n",
       "0         MainScreenAppear  4575588528974610257      1564029816    246\n",
       "1         MainScreenAppear  7416695313311560658      1564053102    246\n",
       "2  PaymentScreenSuccessful  3518123091307005509      1564054127    248\n",
       "3         CartScreenAppear  3518123091307005509      1564054127    248\n",
       "4  PaymentScreenSuccessful  6217807653094995999      1564055322    248\n",
       "5         CartScreenAppear  6217807653094995999      1564055323    248\n",
       "6       OffersScreenAppear  8351860793733343758      1564066242    246\n",
       "7         MainScreenAppear  5682100281902512875      1564085677    246\n",
       "8         MainScreenAppear  1850981295691852772      1564086702    247\n",
       "9         MainScreenAppear  5407636962369102641      1564112112    246"
      ]
     },
     "metadata": {},
     "output_type": "display_data"
    },
    {
     "name": "stdout",
     "output_type": "stream",
     "text": [
      "<class 'pandas.core.frame.DataFrame'>\n",
      "RangeIndex: 244126 entries, 0 to 244125\n",
      "Data columns (total 4 columns):\n",
      " #   Column          Non-Null Count   Dtype \n",
      "---  ------          --------------   ----- \n",
      " 0   EventName       244126 non-null  object\n",
      " 1   DeviceIDHash    244126 non-null  int64 \n",
      " 2   EventTimestamp  244126 non-null  int64 \n",
      " 3   ExpId           244126 non-null  int64 \n",
      "dtypes: int64(3), object(1)\n",
      "memory usage: 7.5+ MB\n"
     ]
    },
    {
     "data": {
      "text/plain": [
       "None"
      ]
     },
     "metadata": {},
     "output_type": "display_data"
    },
    {
     "data": {
      "text/html": [
       "<style type=\"text/css\">\n",
       "#T_c2511_row0_col0, #T_c2511_row1_col0, #T_c2511_row2_col0, #T_c2511_row3_col0 {\n",
       "  background-color: #3b4cc0;\n",
       "  color: #f1f1f1;\n",
       "}\n",
       "</style>\n",
       "<table id=\"T_c2511\">\n",
       "  <thead>\n",
       "    <tr>\n",
       "      <th class=\"blank level0\" >&nbsp;</th>\n",
       "      <th id=\"T_c2511_level0_col0\" class=\"col_heading level0 col0\" >0</th>\n",
       "    </tr>\n",
       "  </thead>\n",
       "  <tbody>\n",
       "    <tr>\n",
       "      <th id=\"T_c2511_level0_row0\" class=\"row_heading level0 row0\" >EventName</th>\n",
       "      <td id=\"T_c2511_row0_col0\" class=\"data row0 col0\" >0.000000</td>\n",
       "    </tr>\n",
       "    <tr>\n",
       "      <th id=\"T_c2511_level0_row1\" class=\"row_heading level0 row1\" >DeviceIDHash</th>\n",
       "      <td id=\"T_c2511_row1_col0\" class=\"data row1 col0\" >0.000000</td>\n",
       "    </tr>\n",
       "    <tr>\n",
       "      <th id=\"T_c2511_level0_row2\" class=\"row_heading level0 row2\" >EventTimestamp</th>\n",
       "      <td id=\"T_c2511_row2_col0\" class=\"data row2 col0\" >0.000000</td>\n",
       "    </tr>\n",
       "    <tr>\n",
       "      <th id=\"T_c2511_level0_row3\" class=\"row_heading level0 row3\" >ExpId</th>\n",
       "      <td id=\"T_c2511_row3_col0\" class=\"data row3 col0\" >0.000000</td>\n",
       "    </tr>\n",
       "  </tbody>\n",
       "</table>\n"
      ],
      "text/plain": [
       "<pandas.io.formats.style.Styler at 0x25752589c70>"
      ]
     },
     "metadata": {},
     "output_type": "display_data"
    },
    {
     "data": {
      "text/plain": [
       "'Количество дубликатов:'"
      ]
     },
     "metadata": {},
     "output_type": "display_data"
    },
    {
     "data": {
      "text/plain": [
       "413"
      ]
     },
     "metadata": {},
     "output_type": "display_data"
    },
    {
     "data": {
      "text/plain": [
       "Index(['EventName', 'DeviceIDHash', 'EventTimestamp', 'ExpId'], dtype='object')"
      ]
     },
     "metadata": {},
     "output_type": "display_data"
    },
    {
     "data": {
      "text/html": [
       "<div>\n",
       "<style scoped>\n",
       "    .dataframe tbody tr th:only-of-type {\n",
       "        vertical-align: middle;\n",
       "    }\n",
       "\n",
       "    .dataframe tbody tr th {\n",
       "        vertical-align: top;\n",
       "    }\n",
       "\n",
       "    .dataframe thead th {\n",
       "        text-align: right;\n",
       "    }\n",
       "</style>\n",
       "<table border=\"1\" class=\"dataframe\">\n",
       "  <thead>\n",
       "    <tr style=\"text-align: right;\">\n",
       "      <th></th>\n",
       "      <th>DeviceIDHash</th>\n",
       "      <th>EventTimestamp</th>\n",
       "      <th>ExpId</th>\n",
       "    </tr>\n",
       "  </thead>\n",
       "  <tbody>\n",
       "    <tr>\n",
       "      <th>count</th>\n",
       "      <td>2.441260e+05</td>\n",
       "      <td>2.441260e+05</td>\n",
       "      <td>244126.000000</td>\n",
       "    </tr>\n",
       "    <tr>\n",
       "      <th>mean</th>\n",
       "      <td>4.627568e+18</td>\n",
       "      <td>1.564914e+09</td>\n",
       "      <td>247.022296</td>\n",
       "    </tr>\n",
       "    <tr>\n",
       "      <th>std</th>\n",
       "      <td>2.642425e+18</td>\n",
       "      <td>1.771343e+05</td>\n",
       "      <td>0.824434</td>\n",
       "    </tr>\n",
       "    <tr>\n",
       "      <th>min</th>\n",
       "      <td>6.888747e+15</td>\n",
       "      <td>1.564030e+09</td>\n",
       "      <td>246.000000</td>\n",
       "    </tr>\n",
       "    <tr>\n",
       "      <th>25%</th>\n",
       "      <td>2.372212e+18</td>\n",
       "      <td>1.564757e+09</td>\n",
       "      <td>246.000000</td>\n",
       "    </tr>\n",
       "    <tr>\n",
       "      <th>50%</th>\n",
       "      <td>4.623192e+18</td>\n",
       "      <td>1.564919e+09</td>\n",
       "      <td>247.000000</td>\n",
       "    </tr>\n",
       "    <tr>\n",
       "      <th>75%</th>\n",
       "      <td>6.932517e+18</td>\n",
       "      <td>1.565075e+09</td>\n",
       "      <td>248.000000</td>\n",
       "    </tr>\n",
       "    <tr>\n",
       "      <th>max</th>\n",
       "      <td>9.222603e+18</td>\n",
       "      <td>1.565213e+09</td>\n",
       "      <td>248.000000</td>\n",
       "    </tr>\n",
       "  </tbody>\n",
       "</table>\n",
       "</div>"
      ],
      "text/plain": [
       "       DeviceIDHash  EventTimestamp          ExpId\n",
       "count  2.441260e+05    2.441260e+05  244126.000000\n",
       "mean   4.627568e+18    1.564914e+09     247.022296\n",
       "std    2.642425e+18    1.771343e+05       0.824434\n",
       "min    6.888747e+15    1.564030e+09     246.000000\n",
       "25%    2.372212e+18    1.564757e+09     246.000000\n",
       "50%    4.623192e+18    1.564919e+09     247.000000\n",
       "75%    6.932517e+18    1.565075e+09     248.000000\n",
       "max    9.222603e+18    1.565213e+09     248.000000"
      ]
     },
     "metadata": {},
     "output_type": "display_data"
    }
   ],
   "source": [
    "general_info(data)"
   ]
  },
  {
   "cell_type": "markdown",
   "metadata": {},
   "source": [
    "<div style=\"border-radius: 15px; box-shadow: 4px 4px 4px; border: solid green 2px; padding: 20px\">\n",
    "\n",
    "Изучили информацию о датасете. Пропусков обнаружено не было. Нашли дубликаты и видим необходимость поменять название колонок, а также поменять тип данных у `EventTimestamp`\n",
    "</div>"
   ]
  },
  {
   "cell_type": "markdown",
   "metadata": {},
   "source": [
    "## **Предобработка данных**"
   ]
  },
  {
   "cell_type": "code",
   "execution_count": 5,
   "metadata": {},
   "outputs": [],
   "source": [
    "# приведем названия колонок к нижнему регистру\n",
    "data.columns = data.columns.str.lower()"
   ]
  },
  {
   "cell_type": "code",
   "execution_count": 6,
   "metadata": {},
   "outputs": [],
   "source": [
    "# немного поменяем названия колонок\n",
    "data = data.rename(columns={\n",
    "    'eventname': 'event_name',\n",
    "    'deviceidhash': 'device_id',\n",
    "    'eventtimestamp': 'event_time',\n",
    "    'expid': 'exp_id',\n",
    "})"
   ]
  },
  {
   "cell_type": "code",
   "execution_count": 7,
   "metadata": {},
   "outputs": [
    {
     "data": {
      "text/plain": [
       "Index(['event_name', 'device_id', 'event_time', 'exp_id'], dtype='object')"
      ]
     },
     "execution_count": 7,
     "metadata": {},
     "output_type": "execute_result"
    }
   ],
   "source": [
    "# проверка колонок\n",
    "data.columns"
   ]
  },
  {
   "cell_type": "code",
   "execution_count": 8,
   "metadata": {},
   "outputs": [],
   "source": [
    "# меняем тип данных\n",
    "data['event_time'] = pd.to_datetime(data['event_time'], unit='s')"
   ]
  },
  {
   "cell_type": "code",
   "execution_count": 9,
   "metadata": {},
   "outputs": [],
   "source": [
    "# добавляем отдельный столбец с датой\n",
    "data['date'] = pd.to_datetime(data['event_time']).dt.date\n",
    "data['date'] = pd.to_datetime(data['date'])"
   ]
  },
  {
   "cell_type": "code",
   "execution_count": 10,
   "metadata": {},
   "outputs": [
    {
     "data": {
      "text/html": [
       "<div>\n",
       "<style scoped>\n",
       "    .dataframe tbody tr th:only-of-type {\n",
       "        vertical-align: middle;\n",
       "    }\n",
       "\n",
       "    .dataframe tbody tr th {\n",
       "        vertical-align: top;\n",
       "    }\n",
       "\n",
       "    .dataframe thead th {\n",
       "        text-align: right;\n",
       "    }\n",
       "</style>\n",
       "<table border=\"1\" class=\"dataframe\">\n",
       "  <thead>\n",
       "    <tr style=\"text-align: right;\">\n",
       "      <th></th>\n",
       "      <th>event_name</th>\n",
       "      <th>device_id</th>\n",
       "      <th>event_time</th>\n",
       "      <th>exp_id</th>\n",
       "      <th>date</th>\n",
       "    </tr>\n",
       "  </thead>\n",
       "  <tbody>\n",
       "    <tr>\n",
       "      <th>0</th>\n",
       "      <td>MainScreenAppear</td>\n",
       "      <td>4575588528974610257</td>\n",
       "      <td>2019-07-25 04:43:36</td>\n",
       "      <td>246</td>\n",
       "      <td>2019-07-25</td>\n",
       "    </tr>\n",
       "    <tr>\n",
       "      <th>1</th>\n",
       "      <td>MainScreenAppear</td>\n",
       "      <td>7416695313311560658</td>\n",
       "      <td>2019-07-25 11:11:42</td>\n",
       "      <td>246</td>\n",
       "      <td>2019-07-25</td>\n",
       "    </tr>\n",
       "    <tr>\n",
       "      <th>2</th>\n",
       "      <td>PaymentScreenSuccessful</td>\n",
       "      <td>3518123091307005509</td>\n",
       "      <td>2019-07-25 11:28:47</td>\n",
       "      <td>248</td>\n",
       "      <td>2019-07-25</td>\n",
       "    </tr>\n",
       "    <tr>\n",
       "      <th>3</th>\n",
       "      <td>CartScreenAppear</td>\n",
       "      <td>3518123091307005509</td>\n",
       "      <td>2019-07-25 11:28:47</td>\n",
       "      <td>248</td>\n",
       "      <td>2019-07-25</td>\n",
       "    </tr>\n",
       "    <tr>\n",
       "      <th>4</th>\n",
       "      <td>PaymentScreenSuccessful</td>\n",
       "      <td>6217807653094995999</td>\n",
       "      <td>2019-07-25 11:48:42</td>\n",
       "      <td>248</td>\n",
       "      <td>2019-07-25</td>\n",
       "    </tr>\n",
       "    <tr>\n",
       "      <th>5</th>\n",
       "      <td>CartScreenAppear</td>\n",
       "      <td>6217807653094995999</td>\n",
       "      <td>2019-07-25 11:48:43</td>\n",
       "      <td>248</td>\n",
       "      <td>2019-07-25</td>\n",
       "    </tr>\n",
       "    <tr>\n",
       "      <th>6</th>\n",
       "      <td>OffersScreenAppear</td>\n",
       "      <td>8351860793733343758</td>\n",
       "      <td>2019-07-25 14:50:42</td>\n",
       "      <td>246</td>\n",
       "      <td>2019-07-25</td>\n",
       "    </tr>\n",
       "    <tr>\n",
       "      <th>7</th>\n",
       "      <td>MainScreenAppear</td>\n",
       "      <td>5682100281902512875</td>\n",
       "      <td>2019-07-25 20:14:37</td>\n",
       "      <td>246</td>\n",
       "      <td>2019-07-25</td>\n",
       "    </tr>\n",
       "    <tr>\n",
       "      <th>8</th>\n",
       "      <td>MainScreenAppear</td>\n",
       "      <td>1850981295691852772</td>\n",
       "      <td>2019-07-25 20:31:42</td>\n",
       "      <td>247</td>\n",
       "      <td>2019-07-25</td>\n",
       "    </tr>\n",
       "    <tr>\n",
       "      <th>9</th>\n",
       "      <td>MainScreenAppear</td>\n",
       "      <td>5407636962369102641</td>\n",
       "      <td>2019-07-26 03:35:12</td>\n",
       "      <td>246</td>\n",
       "      <td>2019-07-26</td>\n",
       "    </tr>\n",
       "  </tbody>\n",
       "</table>\n",
       "</div>"
      ],
      "text/plain": [
       "                event_name            device_id          event_time  exp_id  \\\n",
       "0         MainScreenAppear  4575588528974610257 2019-07-25 04:43:36     246   \n",
       "1         MainScreenAppear  7416695313311560658 2019-07-25 11:11:42     246   \n",
       "2  PaymentScreenSuccessful  3518123091307005509 2019-07-25 11:28:47     248   \n",
       "3         CartScreenAppear  3518123091307005509 2019-07-25 11:28:47     248   \n",
       "4  PaymentScreenSuccessful  6217807653094995999 2019-07-25 11:48:42     248   \n",
       "5         CartScreenAppear  6217807653094995999 2019-07-25 11:48:43     248   \n",
       "6       OffersScreenAppear  8351860793733343758 2019-07-25 14:50:42     246   \n",
       "7         MainScreenAppear  5682100281902512875 2019-07-25 20:14:37     246   \n",
       "8         MainScreenAppear  1850981295691852772 2019-07-25 20:31:42     247   \n",
       "9         MainScreenAppear  5407636962369102641 2019-07-26 03:35:12     246   \n",
       "\n",
       "        date  \n",
       "0 2019-07-25  \n",
       "1 2019-07-25  \n",
       "2 2019-07-25  \n",
       "3 2019-07-25  \n",
       "4 2019-07-25  \n",
       "5 2019-07-25  \n",
       "6 2019-07-25  \n",
       "7 2019-07-25  \n",
       "8 2019-07-25  \n",
       "9 2019-07-26  "
      ]
     },
     "execution_count": 10,
     "metadata": {},
     "output_type": "execute_result"
    }
   ],
   "source": [
    "data.head(10)"
   ]
  },
  {
   "cell_type": "code",
   "execution_count": 11,
   "metadata": {},
   "outputs": [
    {
     "data": {
      "text/plain": [
       "0"
      ]
     },
     "execution_count": 11,
     "metadata": {},
     "output_type": "execute_result"
    }
   ],
   "source": [
    "# удаляем дубликаты\n",
    "data = data.drop_duplicates().reset_index(drop=True)\n",
    "# проверяем\n",
    "data.duplicated().sum()"
   ]
  },
  {
   "cell_type": "markdown",
   "metadata": {},
   "source": [
    "<div style=\"border-radius: 15px; box-shadow: 4px 4px 4px; border: solid green 2px; padding: 20px\">\n",
    "\n",
    "Поменяли название колонок в соответствие хорошему стилю, поменяли тип данных у колонки с датой и временем и добавили отдельную столбец с датой. Также убрали все явные дубликаты\n",
    "</div>"
   ]
  },
  {
   "cell_type": "markdown",
   "metadata": {},
   "source": [
    "## **Изучение и проверка данных**"
   ]
  },
  {
   "cell_type": "code",
   "execution_count": 12,
   "metadata": {},
   "outputs": [
    {
     "name": "stdout",
     "output_type": "stream",
     "text": [
      "Событий в логе: 243713\n"
     ]
    }
   ],
   "source": [
    "# выведем сколько всего событий \n",
    "print('Событий в логе:', data['event_name'].count())"
   ]
  },
  {
   "cell_type": "code",
   "execution_count": 13,
   "metadata": {},
   "outputs": [
    {
     "name": "stdout",
     "output_type": "stream",
     "text": [
      "Пользователей в логе: 7551\n"
     ]
    }
   ],
   "source": [
    "# выведем общее количество уникальных пользователей\n",
    "print('Пользователей в логе:', data['device_id'].nunique())"
   ]
  },
  {
   "cell_type": "code",
   "execution_count": 14,
   "metadata": {},
   "outputs": [
    {
     "name": "stdout",
     "output_type": "stream",
     "text": [
      "В среднем событий приходится на пользователя: 32\n"
     ]
    }
   ],
   "source": [
    "print('В среднем событий приходится на пользователя:', round(data['event_time'].count() / data['device_id'].nunique()))"
   ]
  },
  {
   "cell_type": "code",
   "execution_count": 15,
   "metadata": {},
   "outputs": [
    {
     "name": "stdout",
     "output_type": "stream",
     "text": [
      "Минимальная дата: 2019-07-25 00:00:00\n",
      "Максимальная дата: 2019-08-07 00:00:00\n"
     ]
    }
   ],
   "source": [
    "print('Минимальная дата:', data['date'].min())\n",
    "print('Максимальная дата:', data['date'].max())"
   ]
  },
  {
   "cell_type": "code",
   "execution_count": 16,
   "metadata": {},
   "outputs": [
    {
     "name": "stdout",
     "output_type": "stream",
     "text": [
      "Отрезок времени проведение эксперимента: 13 days 00:00:00\n"
     ]
    }
   ],
   "source": [
    "print('Отрезок времени проведение эксперимента:', data['date'].max() - data['date'].min())"
   ]
  },
  {
   "cell_type": "code",
   "execution_count": 17,
   "metadata": {},
   "outputs": [
    {
     "data": {
      "image/png": "[encoded data removed]",
      "text/plain": [
       "<Figure size 1080x576 with 1 Axes>"
      ]
     },
     "metadata": {
      "needs_background": "light"
     },
     "output_type": "display_data"
    }
   ],
   "source": [
    "data['event_time'].hist(bins=100, figsize=(15,8), ec='black');\n",
    "plt.title('Гистрограмма даты и времени')\n",
    "plt.ylabel('Кол-во событий')\n",
    "plt.xlabel('Дата')\n",
    "plt.xticks(rotation=45)\n",
    "plt.show()"
   ]
  },
  {
   "cell_type": "code",
   "execution_count": 18,
   "metadata": {},
   "outputs": [
    {
     "data": {
      "text/html": [
       "<div>\n",
       "<style scoped>\n",
       "    .dataframe tbody tr th:only-of-type {\n",
       "        vertical-align: middle;\n",
       "    }\n",
       "\n",
       "    .dataframe tbody tr th {\n",
       "        vertical-align: top;\n",
       "    }\n",
       "\n",
       "    .dataframe thead th {\n",
       "        text-align: right;\n",
       "    }\n",
       "</style>\n",
       "<table border=\"1\" class=\"dataframe\">\n",
       "  <thead>\n",
       "    <tr style=\"text-align: right;\">\n",
       "      <th></th>\n",
       "      <th>event_name</th>\n",
       "    </tr>\n",
       "    <tr>\n",
       "      <th>date</th>\n",
       "      <th></th>\n",
       "    </tr>\n",
       "  </thead>\n",
       "  <tbody>\n",
       "    <tr>\n",
       "      <th>2019-07-25</th>\n",
       "      <td>9</td>\n",
       "    </tr>\n",
       "    <tr>\n",
       "      <th>2019-07-26</th>\n",
       "      <td>31</td>\n",
       "    </tr>\n",
       "    <tr>\n",
       "      <th>2019-07-27</th>\n",
       "      <td>55</td>\n",
       "    </tr>\n",
       "    <tr>\n",
       "      <th>2019-07-28</th>\n",
       "      <td>105</td>\n",
       "    </tr>\n",
       "    <tr>\n",
       "      <th>2019-07-29</th>\n",
       "      <td>184</td>\n",
       "    </tr>\n",
       "    <tr>\n",
       "      <th>2019-07-30</th>\n",
       "      <td>412</td>\n",
       "    </tr>\n",
       "    <tr>\n",
       "      <th>2019-07-31</th>\n",
       "      <td>2030</td>\n",
       "    </tr>\n",
       "    <tr>\n",
       "      <th>2019-08-01</th>\n",
       "      <td>36141</td>\n",
       "    </tr>\n",
       "    <tr>\n",
       "      <th>2019-08-02</th>\n",
       "      <td>35554</td>\n",
       "    </tr>\n",
       "    <tr>\n",
       "      <th>2019-08-03</th>\n",
       "      <td>33282</td>\n",
       "    </tr>\n",
       "    <tr>\n",
       "      <th>2019-08-04</th>\n",
       "      <td>32968</td>\n",
       "    </tr>\n",
       "    <tr>\n",
       "      <th>2019-08-05</th>\n",
       "      <td>36058</td>\n",
       "    </tr>\n",
       "    <tr>\n",
       "      <th>2019-08-06</th>\n",
       "      <td>35788</td>\n",
       "    </tr>\n",
       "    <tr>\n",
       "      <th>2019-08-07</th>\n",
       "      <td>31096</td>\n",
       "    </tr>\n",
       "  </tbody>\n",
       "</table>\n",
       "</div>"
      ],
      "text/plain": [
       "            event_name\n",
       "date                  \n",
       "2019-07-25           9\n",
       "2019-07-26          31\n",
       "2019-07-27          55\n",
       "2019-07-28         105\n",
       "2019-07-29         184\n",
       "2019-07-30         412\n",
       "2019-07-31        2030\n",
       "2019-08-01       36141\n",
       "2019-08-02       35554\n",
       "2019-08-03       33282\n",
       "2019-08-04       32968\n",
       "2019-08-05       36058\n",
       "2019-08-06       35788\n",
       "2019-08-07       31096"
      ]
     },
     "execution_count": 18,
     "metadata": {},
     "output_type": "execute_result"
    }
   ],
   "source": [
    "data.pivot_table(index='date', values='event_name', aggfunc='count')"
   ]
  },
  {
   "cell_type": "markdown",
   "metadata": {},
   "source": [
    "<div style=\"border-radius: 15px; box-shadow: 4px 4px 4px; border: solid green 2px; padding: 20px\">\n",
    "\n",
    "У нас есть данные за 2 недели. Данные за первую неделю считаю неполными из-за малого количества. По сути наиболее информативна была вторая неделя из-за выского кол-ва действий\n",
    "</div>"
   ]
  },
  {
   "cell_type": "code",
   "execution_count": 19,
   "metadata": {},
   "outputs": [],
   "source": [
    "# удаляем неполную данными неделю\n",
    "data_clean = data[data['date'] > '2019-07-31']"
   ]
  },
  {
   "cell_type": "code",
   "execution_count": 20,
   "metadata": {},
   "outputs": [
    {
     "data": {
      "image/png": "[encoded data removed]",
      "text/plain": [
       "<Figure size 1080x576 with 1 Axes>"
      ]
     },
     "metadata": {
      "needs_background": "light"
     },
     "output_type": "display_data"
    }
   ],
   "source": [
    "data_clean['event_time'].hist(bins=100, figsize=(15,8), ec='black');\n",
    "plt.title('Гистрограмма даты и времени')\n",
    "plt.ylabel('Кол-во событий')\n",
    "plt.xlabel('Дата')\n",
    "plt.xticks(rotation=45)\n",
    "plt.show()"
   ]
  },
  {
   "cell_type": "code",
   "execution_count": 21,
   "metadata": {},
   "outputs": [
    {
     "name": "stdout",
     "output_type": "stream",
     "text": [
      "Сырые данны| Всего событий: 243713\n",
      "Очищенные данные| Всего событий: 240887\n",
      "Потеряли данных, %: 1.16\n"
     ]
    }
   ],
   "source": [
    "total_events = data['event_name'].count()\n",
    "total_events_clean = data_clean['event_name'].count()\n",
    "loss_data = round((data['event_name'].count() - data_clean['event_name'].count()) / data['event_name'].count() * 100, 3)\n",
    "\n",
    "print('Сырые данны| Всего событий:', total_events)\n",
    "print('Очищенные данные| Всего событий:', total_events_clean)\n",
    "print('Потеряли данных, %:', loss_data)"
   ]
  },
  {
   "cell_type": "code",
   "execution_count": 22,
   "metadata": {},
   "outputs": [
    {
     "name": "stdout",
     "output_type": "stream",
     "text": [
      "Сырые данные| Всего пользователей в логе: 7551\n",
      "Очищенные данные| Всего пользователей в логе: 7534\n",
      "Потеряли данных, %: 0.225\n"
     ]
    }
   ],
   "source": [
    "total_user = data['device_id'].nunique()\n",
    "total_user_clean = data_clean['device_id'].nunique()\n",
    "loss_user = round((data['device_id'].nunique() - data_clean['device_id'].nunique()) / data['device_id'].nunique() * 100, 3)\n",
    "\n",
    "print('Сырые данные| Всего пользователей в логе:', total_user)\n",
    "print('Очищенные данные| Всего пользователей в логе:', total_user_clean)\n",
    "print('Потеряли данных, %:', loss_user)"
   ]
  },
  {
   "cell_type": "code",
   "execution_count": 23,
   "metadata": {},
   "outputs": [
    {
     "name": "stdout",
     "output_type": "stream",
     "text": [
      "Сырые данные| В среднем событий приходится на пользователя: 32.276\n",
      "Очищенные данные| В среднем событий приходится на пользователя: 31.973\n"
     ]
    }
   ],
   "source": [
    "avg_ev_us = round(data['event_time'].count() / data['device_id'].nunique(), 3)\n",
    "avg_ev_us_clean = round(data_clean['event_time'].count() / data_clean['device_id'].nunique(), 3)\n",
    "\n",
    "print('Сырые данные| В среднем событий приходится на пользователя:', avg_ev_us)\n",
    "print('Очищенные данные| В среднем событий приходится на пользователя:', avg_ev_us_clean)"
   ]
  },
  {
   "cell_type": "markdown",
   "metadata": {},
   "source": [
    "<div style=\"border-radius: 15px; box-shadow: 4px 4px 4px; border: solid green 2px; padding: 20px\">\n",
    "\n",
    "В ходе очистки было потеряно 1.16% событий, 0.225% пользователей, а среднее количество событий так и осталось 32\n",
    "</div>"
   ]
  },
  {
   "cell_type": "code",
   "execution_count": 24,
   "metadata": {},
   "outputs": [
    {
     "data": {
      "text/html": [
       "<div>\n",
       "<style scoped>\n",
       "    .dataframe tbody tr th:only-of-type {\n",
       "        vertical-align: middle;\n",
       "    }\n",
       "\n",
       "    .dataframe tbody tr th {\n",
       "        vertical-align: top;\n",
       "    }\n",
       "\n",
       "    .dataframe thead th {\n",
       "        text-align: right;\n",
       "    }\n",
       "</style>\n",
       "<table border=\"1\" class=\"dataframe\">\n",
       "  <thead>\n",
       "    <tr style=\"text-align: right;\">\n",
       "      <th></th>\n",
       "      <th>device_id</th>\n",
       "    </tr>\n",
       "    <tr>\n",
       "      <th>exp_id</th>\n",
       "      <th></th>\n",
       "    </tr>\n",
       "  </thead>\n",
       "  <tbody>\n",
       "    <tr>\n",
       "      <th>246</th>\n",
       "      <td>2484</td>\n",
       "    </tr>\n",
       "    <tr>\n",
       "      <th>247</th>\n",
       "      <td>2513</td>\n",
       "    </tr>\n",
       "    <tr>\n",
       "      <th>248</th>\n",
       "      <td>2537</td>\n",
       "    </tr>\n",
       "  </tbody>\n",
       "</table>\n",
       "</div>"
      ],
      "text/plain": [
       "        device_id\n",
       "exp_id           \n",
       "246          2484\n",
       "247          2513\n",
       "248          2537"
      ]
     },
     "execution_count": 24,
     "metadata": {},
     "output_type": "execute_result"
    }
   ],
   "source": [
    "# проверка пользователей из всех экспериментальных групп\n",
    "data_clean.pivot_table(index='exp_id', values='device_id', aggfunc='nunique')"
   ]
  },
  {
   "cell_type": "code",
   "execution_count": 25,
   "metadata": {},
   "outputs": [
    {
     "data": {
      "text/html": [
       "<div>\n",
       "<style scoped>\n",
       "    .dataframe tbody tr th:only-of-type {\n",
       "        vertical-align: middle;\n",
       "    }\n",
       "\n",
       "    .dataframe tbody tr th {\n",
       "        vertical-align: top;\n",
       "    }\n",
       "\n",
       "    .dataframe thead th {\n",
       "        text-align: right;\n",
       "    }\n",
       "</style>\n",
       "<table border=\"1\" class=\"dataframe\">\n",
       "  <thead>\n",
       "    <tr style=\"text-align: right;\">\n",
       "      <th></th>\n",
       "      <th>groups</th>\n",
       "      <th>group_names</th>\n",
       "    </tr>\n",
       "    <tr>\n",
       "      <th>device_id</th>\n",
       "      <th></th>\n",
       "      <th></th>\n",
       "    </tr>\n",
       "  </thead>\n",
       "  <tbody>\n",
       "  </tbody>\n",
       "</table>\n",
       "</div>"
      ],
      "text/plain": [
       "Empty DataFrame\n",
       "Columns: [groups, group_names]\n",
       "Index: []"
      ]
     },
     "execution_count": 25,
     "metadata": {},
     "output_type": "execute_result"
    }
   ],
   "source": [
    "# проверим пользователей, которые могут быть в нескольких группах\n",
    "users_duplicated_group = data_clean.groupby('device_id').agg({'exp_id': ['nunique', 'unique']})\n",
    "users_duplicated_group.columns = ['groups', 'group_names']\n",
    "users_duplicated_group = users_duplicated_group.query('groups > 1')\n",
    "users_duplicated_group.head()"
   ]
  },
  {
   "cell_type": "markdown",
   "metadata": {},
   "source": [
    "<div style=\"border-radius: 15px; box-shadow: 4px 4px 4px; border: solid green 2px; padding: 20px\">\n",
    "\n",
    "Изучили и проверили данные, выяснили количества событий, пользователей, сколько событий приходится на пользователя и узнали минимальную и маскимальную дату, а также отрезок времени проведения эксперимента. Построили гистограмму и нашли с помощью неё и сводной таблицы неполные данные. Построили гистрограмму по очищенным данным. Вычислили сколько было потеряно данных в ходе очистки. Проверили пользователей из групп и выяснили, что нет пользователей присутсвующих в нескольких группах сразу\n",
    "</div>"
   ]
  },
  {
   "cell_type": "markdown",
   "metadata": {},
   "source": [
    "## **Воронка событий**"
   ]
  },
  {
   "cell_type": "code",
   "execution_count": 26,
   "metadata": {},
   "outputs": [
    {
     "data": {
      "text/html": [
       "<div>\n",
       "<style scoped>\n",
       "    .dataframe tbody tr th:only-of-type {\n",
       "        vertical-align: middle;\n",
       "    }\n",
       "\n",
       "    .dataframe tbody tr th {\n",
       "        vertical-align: top;\n",
       "    }\n",
       "\n",
       "    .dataframe thead th {\n",
       "        text-align: right;\n",
       "    }\n",
       "</style>\n",
       "<table border=\"1\" class=\"dataframe\">\n",
       "  <thead>\n",
       "    <tr style=\"text-align: right;\">\n",
       "      <th></th>\n",
       "      <th>index</th>\n",
       "      <th>event_name</th>\n",
       "    </tr>\n",
       "  </thead>\n",
       "  <tbody>\n",
       "    <tr>\n",
       "      <th>0</th>\n",
       "      <td>MainScreenAppear</td>\n",
       "      <td>117328</td>\n",
       "    </tr>\n",
       "    <tr>\n",
       "      <th>1</th>\n",
       "      <td>OffersScreenAppear</td>\n",
       "      <td>46333</td>\n",
       "    </tr>\n",
       "    <tr>\n",
       "      <th>2</th>\n",
       "      <td>CartScreenAppear</td>\n",
       "      <td>42303</td>\n",
       "    </tr>\n",
       "    <tr>\n",
       "      <th>3</th>\n",
       "      <td>PaymentScreenSuccessful</td>\n",
       "      <td>33918</td>\n",
       "    </tr>\n",
       "    <tr>\n",
       "      <th>4</th>\n",
       "      <td>Tutorial</td>\n",
       "      <td>1005</td>\n",
       "    </tr>\n",
       "  </tbody>\n",
       "</table>\n",
       "</div>"
      ],
      "text/plain": [
       "                     index  event_name\n",
       "0         MainScreenAppear      117328\n",
       "1       OffersScreenAppear       46333\n",
       "2         CartScreenAppear       42303\n",
       "3  PaymentScreenSuccessful       33918\n",
       "4                 Tutorial        1005"
      ]
     },
     "execution_count": 26,
     "metadata": {},
     "output_type": "execute_result"
    }
   ],
   "source": [
    "# выведем  какие есть события и их количества\n",
    "events_count = data_clean['event_name'].value_counts().reset_index()\n",
    "events_count"
   ]
  },
  {
   "cell_type": "markdown",
   "metadata": {},
   "source": [
    "<div style=\"border-radius: 15px; box-shadow: 4px 4px 4px; border: solid green 2px; padding: 20px\">\n",
    "\n",
    "В воронку собыйтий не вписывается событие `Tutorial`, ибо это действие совершается перед использованием продукта, а количество пользователей там очень мало, вероятно не все люди заинтересованы в их просмотрах, поэтому переходят сразу к главному экрану. Уберем это событие, дабы не искажать результаты данных\n",
    "</div>"
   ]
  },
  {
   "cell_type": "code",
   "execution_count": 27,
   "metadata": {},
   "outputs": [
    {
     "data": {
      "text/html": [
       "<div>\n",
       "<style scoped>\n",
       "    .dataframe tbody tr th:only-of-type {\n",
       "        vertical-align: middle;\n",
       "    }\n",
       "\n",
       "    .dataframe tbody tr th {\n",
       "        vertical-align: top;\n",
       "    }\n",
       "\n",
       "    .dataframe thead th {\n",
       "        text-align: right;\n",
       "    }\n",
       "</style>\n",
       "<table border=\"1\" class=\"dataframe\">\n",
       "  <thead>\n",
       "    <tr style=\"text-align: right;\">\n",
       "      <th></th>\n",
       "      <th>index</th>\n",
       "      <th>event_name</th>\n",
       "      <th>total_device</th>\n",
       "    </tr>\n",
       "  </thead>\n",
       "  <tbody>\n",
       "    <tr>\n",
       "      <th>0</th>\n",
       "      <td>1</td>\n",
       "      <td>MainScreenAppear</td>\n",
       "      <td>7419</td>\n",
       "    </tr>\n",
       "    <tr>\n",
       "      <th>1</th>\n",
       "      <td>2</td>\n",
       "      <td>OffersScreenAppear</td>\n",
       "      <td>4593</td>\n",
       "    </tr>\n",
       "    <tr>\n",
       "      <th>2</th>\n",
       "      <td>0</td>\n",
       "      <td>CartScreenAppear</td>\n",
       "      <td>3734</td>\n",
       "    </tr>\n",
       "    <tr>\n",
       "      <th>3</th>\n",
       "      <td>3</td>\n",
       "      <td>PaymentScreenSuccessful</td>\n",
       "      <td>3539</td>\n",
       "    </tr>\n",
       "  </tbody>\n",
       "</table>\n",
       "</div>"
      ],
      "text/plain": [
       "   index               event_name  total_device\n",
       "0      1         MainScreenAppear          7419\n",
       "1      2       OffersScreenAppear          4593\n",
       "2      0         CartScreenAppear          3734\n",
       "3      3  PaymentScreenSuccessful          3539"
      ]
     },
     "execution_count": 27,
     "metadata": {},
     "output_type": "execute_result"
    }
   ],
   "source": [
    "# подсчитаем сколько пользователей совершали каждое из событий\n",
    "funnel_sales = (\n",
    "    data_clean.query('event_name != \"Tutorial\"')\n",
    "    .groupby('event_name')\n",
    "    .agg({'device_id': 'nunique'})\n",
    "    .reset_index()\n",
    "    .sort_values(by='device_id', ascending=False)\n",
    "    .reset_index()\n",
    "    .rename(columns={'device_id': 'total_device'}))\n",
    "\n",
    "funnel_sales"
   ]
  },
  {
   "cell_type": "code",
   "execution_count": 28,
   "metadata": {},
   "outputs": [
    {
     "data": {
      "text/html": [
       "<div>\n",
       "<style scoped>\n",
       "    .dataframe tbody tr th:only-of-type {\n",
       "        vertical-align: middle;\n",
       "    }\n",
       "\n",
       "    .dataframe tbody tr th {\n",
       "        vertical-align: top;\n",
       "    }\n",
       "\n",
       "    .dataframe thead th {\n",
       "        text-align: right;\n",
       "    }\n",
       "</style>\n",
       "<table border=\"1\" class=\"dataframe\">\n",
       "  <thead>\n",
       "    <tr style=\"text-align: right;\">\n",
       "      <th></th>\n",
       "      <th>index</th>\n",
       "      <th>event_name</th>\n",
       "      <th>total_device</th>\n",
       "      <th>share, %</th>\n",
       "    </tr>\n",
       "  </thead>\n",
       "  <tbody>\n",
       "    <tr>\n",
       "      <th>0</th>\n",
       "      <td>1</td>\n",
       "      <td>MainScreenAppear</td>\n",
       "      <td>7419</td>\n",
       "      <td>98.47</td>\n",
       "    </tr>\n",
       "    <tr>\n",
       "      <th>1</th>\n",
       "      <td>2</td>\n",
       "      <td>OffersScreenAppear</td>\n",
       "      <td>4593</td>\n",
       "      <td>60.96</td>\n",
       "    </tr>\n",
       "    <tr>\n",
       "      <th>2</th>\n",
       "      <td>0</td>\n",
       "      <td>CartScreenAppear</td>\n",
       "      <td>3734</td>\n",
       "      <td>49.56</td>\n",
       "    </tr>\n",
       "    <tr>\n",
       "      <th>3</th>\n",
       "      <td>3</td>\n",
       "      <td>PaymentScreenSuccessful</td>\n",
       "      <td>3539</td>\n",
       "      <td>46.97</td>\n",
       "    </tr>\n",
       "  </tbody>\n",
       "</table>\n",
       "</div>"
      ],
      "text/plain": [
       "   index               event_name  total_device  share, %\n",
       "0      1         MainScreenAppear          7419     98.47\n",
       "1      2       OffersScreenAppear          4593     60.96\n",
       "2      0         CartScreenAppear          3734     49.56\n",
       "3      3  PaymentScreenSuccessful          3539     46.97"
      ]
     },
     "execution_count": 28,
     "metadata": {},
     "output_type": "execute_result"
    }
   ],
   "source": [
    "# подсчитаем долю пользователей, которые хоть раз совершали событие \n",
    "funnel_sales['share, %'] = round(funnel_sales['total_device'] / data_clean['device_id'].nunique() * 100, 2)\n",
    "funnel_sales"
   ]
  },
  {
   "cell_type": "code",
   "execution_count": 45,
   "metadata": {},
   "outputs": [
    {
     "data": {
      "application/vnd.plotly.v1+json": {
       "config": {
        "plotlyServerURL": "https://plot.ly"
       },
       "data": [
        {
         "type": "funnel",
         "x": [
          98.47,
          60.96,
          49.56,
          46.97
         ],
         "y": [
          "MainScreenAppear",
          "OffersScreenAppear",
          "CartScreenAppear",
          "PaymentScreenSuccessful"
         ]
        }
       ],
       "layout": {
        "template": {
         "data": {
          "bar": [
           {
            "error_x": {
             "color": "#2a3f5f"
            },
            "error_y": {
             "color": "#2a3f5f"
            },
            "marker": {
             "line": {
              "color": "#E5ECF6",
              "width": 0.5
             },
             "pattern": {
              "fillmode": "overlay",
              "size": 10,
              "solidity": 0.2
             }
            },
            "type": "bar"
           }
          ],
          "barpolar": [
           {
            "marker": {
             "line": {
              "color": "#E5ECF6",
              "width": 0.5
             },
             "pattern": {
              "fillmode": "overlay",
              "size": 10,
              "solidity": 0.2
             }
            },
            "type": "barpolar"
           }
          ],
          "carpet": [
           {
            "aaxis": {
             "endlinecolor": "#2a3f5f",
             "gridcolor": "white",
             "linecolor": "white",
             "minorgridcolor": "white",
             "startlinecolor": "#2a3f5f"
            },
            "baxis": {
             "endlinecolor": "#2a3f5f",
             "gridcolor": "white",
             "linecolor": "white",
             "minorgridcolor": "white",
             "startlinecolor": "#2a3f5f"
            },
            "type": "carpet"
           }
          ],
          "choropleth": [
           {
            "colorbar": {
             "outlinewidth": 0,
             "ticks": ""
            },
            "type": "choropleth"
           }
          ],
          "contour": [
           {
            "colorbar": {
             "outlinewidth": 0,
             "ticks": ""
            },
            "colorscale": [
             [
              0,
              "#0d0887"
             ],
             [
              0.1111111111111111,
              "#46039f"
             ],
             [
              0.2222222222222222,
              "#7201a8"
             ],
             [
              0.3333333333333333,
              "#9c179e"
             ],
             [
              0.4444444444444444,
              "#bd3786"
             ],
             [
              0.5555555555555556,
              "#d8576b"
             ],
             [
              0.6666666666666666,
              "#ed7953"
             ],
             [
              0.7777777777777778,
              "#fb9f3a"
             ],
             [
              0.8888888888888888,
              "#fdca26"
             ],
             [
              1,
              "#f0f921"
             ]
            ],
            "type": "contour"
           }
          ],
          "contourcarpet": [
           {
            "colorbar": {
             "outlinewidth": 0,
             "ticks": ""
            },
            "type": "contourcarpet"
           }
          ],
          "heatmap": [
           {
            "colorbar": {
             "outlinewidth": 0,
             "ticks": ""
            },
            "colorscale": [
             [
              0,
              "#0d0887"
             ],
             [
              0.1111111111111111,
              "#46039f"
             ],
             [
              0.2222222222222222,
              "#7201a8"
             ],
             [
              0.3333333333333333,
              "#9c179e"
             ],
             [
              0.4444444444444444,
              "#bd3786"
             ],
             [
              0.5555555555555556,
              "#d8576b"
             ],
             [
              0.6666666666666666,
              "#ed7953"
             ],
             [
              0.7777777777777778,
              "#fb9f3a"
             ],
             [
              0.8888888888888888,
              "#fdca26"
             ],
             [
              1,
              "#f0f921"
             ]
            ],
            "type": "heatmap"
           }
          ],
          "heatmapgl": [
           {
            "colorbar": {
             "outlinewidth": 0,
             "ticks": ""
            },
            "colorscale": [
             [
              0,
              "#0d0887"
             ],
             [
              0.1111111111111111,
              "#46039f"
             ],
             [
              0.2222222222222222,
              "#7201a8"
             ],
             [
              0.3333333333333333,
              "#9c179e"
             ],
             [
              0.4444444444444444,
              "#bd3786"
             ],
             [
              0.5555555555555556,
              "#d8576b"
             ],
             [
              0.6666666666666666,
              "#ed7953"
             ],
             [
              0.7777777777777778,
              "#fb9f3a"
             ],
             [
              0.8888888888888888,
              "#fdca26"
             ],
             [
              1,
              "#f0f921"
             ]
            ],
            "type": "heatmapgl"
           }
          ],
          "histogram": [
           {
            "marker": {
             "pattern": {
              "fillmode": "overlay",
              "size": 10,
              "solidity": 0.2
             }
            },
            "type": "histogram"
           }
          ],
          "histogram2d": [
           {
            "colorbar": {
             "outlinewidth": 0,
             "ticks": ""
            },
            "colorscale": [
             [
              0,
              "#0d0887"
             ],
             [
              0.1111111111111111,
              "#46039f"
             ],
             [
              0.2222222222222222,
              "#7201a8"
             ],
             [
              0.3333333333333333,
              "#9c179e"
             ],
             [
              0.4444444444444444,
              "#bd3786"
             ],
             [
              0.5555555555555556,
              "#d8576b"
             ],
             [
              0.6666666666666666,
              "#ed7953"
             ],
             [
              0.7777777777777778,
              "#fb9f3a"
             ],
             [
              0.8888888888888888,
              "#fdca26"
             ],
             [
              1,
              "#f0f921"
             ]
            ],
            "type": "histogram2d"
           }
          ],
          "histogram2dcontour": [
           {
            "colorbar": {
             "outlinewidth": 0,
             "ticks": ""
            },
            "colorscale": [
             [
              0,
              "#0d0887"
             ],
             [
              0.1111111111111111,
              "#46039f"
             ],
             [
              0.2222222222222222,
              "#7201a8"
             ],
             [
              0.3333333333333333,
              "#9c179e"
             ],
             [
              0.4444444444444444,
              "#bd3786"
             ],
             [
              0.5555555555555556,
              "#d8576b"
             ],
             [
              0.6666666666666666,
              "#ed7953"
             ],
             [
              0.7777777777777778,
              "#fb9f3a"
             ],
             [
              0.8888888888888888,
              "#fdca26"
             ],
             [
              1,
              "#f0f921"
             ]
            ],
            "type": "histogram2dcontour"
           }
          ],
          "mesh3d": [
           {
            "colorbar": {
             "outlinewidth": 0,
             "ticks": ""
            },
            "type": "mesh3d"
           }
          ],
          "parcoords": [
           {
            "line": {
             "colorbar": {
              "outlinewidth": 0,
              "ticks": ""
             }
            },
            "type": "parcoords"
           }
          ],
          "pie": [
           {
            "automargin": true,
            "type": "pie"
           }
          ],
          "scatter": [
           {
            "fillpattern": {
             "fillmode": "overlay",
             "size": 10,
             "solidity": 0.2
            },
            "type": "scatter"
           }
          ],
          "scatter3d": [
           {
            "line": {
             "colorbar": {
              "outlinewidth": 0,
              "ticks": ""
             }
            },
            "marker": {
             "colorbar": {
              "outlinewidth": 0,
              "ticks": ""
             }
            },
            "type": "scatter3d"
           }
          ],
          "scattercarpet": [
           {
            "marker": {
             "colorbar": {
              "outlinewidth": 0,
              "ticks": ""
             }
            },
            "type": "scattercarpet"
           }
          ],
          "scattergeo": [
           {
            "marker": {
             "colorbar": {
              "outlinewidth": 0,
              "ticks": ""
             }
            },
            "type": "scattergeo"
           }
          ],
          "scattergl": [
           {
            "marker": {
             "colorbar": {
              "outlinewidth": 0,
              "ticks": ""
             }
            },
            "type": "scattergl"
           }
          ],
          "scattermapbox": [
           {
            "marker": {
             "colorbar": {
              "outlinewidth": 0,
              "ticks": ""
             }
            },
            "type": "scattermapbox"
           }
          ],
          "scatterpolar": [
           {
            "marker": {
             "colorbar": {
              "outlinewidth": 0,
              "ticks": ""
             }
            },
            "type": "scatterpolar"
           }
          ],
          "scatterpolargl": [
           {
            "marker": {
             "colorbar": {
              "outlinewidth": 0,
              "ticks": ""
             }
            },
            "type": "scatterpolargl"
           }
          ],
          "scatterternary": [
           {
            "marker": {
             "colorbar": {
              "outlinewidth": 0,
              "ticks": ""
             }
            },
            "type": "scatterternary"
           }
          ],
          "surface": [
           {
            "colorbar": {
             "outlinewidth": 0,
             "ticks": ""
            },
            "colorscale": [
             [
              0,
              "#0d0887"
             ],
             [
              0.1111111111111111,
              "#46039f"
             ],
             [
              0.2222222222222222,
              "#7201a8"
             ],
             [
              0.3333333333333333,
              "#9c179e"
             ],
             [
              0.4444444444444444,
              "#bd3786"
             ],
             [
              0.5555555555555556,
              "#d8576b"
             ],
             [
              0.6666666666666666,
              "#ed7953"
             ],
             [
              0.7777777777777778,
              "#fb9f3a"
             ],
             [
              0.8888888888888888,
              "#fdca26"
             ],
             [
              1,
              "#f0f921"
             ]
            ],
            "type": "surface"
           }
          ],
          "table": [
           {
            "cells": {
             "fill": {
              "color": "#EBF0F8"
             },
             "line": {
              "color": "white"
             }
            },
            "header": {
             "fill": {
              "color": "#C8D4E3"
             },
             "line": {
              "color": "white"
             }
            },
            "type": "table"
           }
          ]
         },
         "layout": {
          "annotationdefaults": {
           "arrowcolor": "#2a3f5f",
           "arrowhead": 0,
           "arrowwidth": 1
          },
          "autotypenumbers": "strict",
          "coloraxis": {
           "colorbar": {
            "outlinewidth": 0,
            "ticks": ""
           }
          },
          "colorscale": {
           "diverging": [
            [
             0,
             "#8e0152"
            ],
            [
             0.1,
             "#c51b7d"
            ],
            [
             0.2,
             "#de77ae"
            ],
            [
             0.3,
             "#f1b6da"
            ],
            [
             0.4,
             "#fde0ef"
            ],
            [
             0.5,
             "#f7f7f7"
            ],
            [
             0.6,
             "#e6f5d0"
            ],
            [
             0.7,
             "#b8e186"
            ],
            [
             0.8,
             "#7fbc41"
            ],
            [
             0.9,
             "#4d9221"
            ],
            [
             1,
             "#276419"
            ]
           ],
           "sequential": [
            [
             0,
             "#0d0887"
            ],
            [
             0.1111111111111111,
             "#46039f"
            ],
            [
             0.2222222222222222,
             "#7201a8"
            ],
            [
             0.3333333333333333,
             "#9c179e"
            ],
            [
             0.4444444444444444,
             "#bd3786"
            ],
            [
             0.5555555555555556,
             "#d8576b"
            ],
            [
             0.6666666666666666,
             "#ed7953"
            ],
            [
             0.7777777777777778,
             "#fb9f3a"
            ],
            [
             0.8888888888888888,
             "#fdca26"
            ],
            [
             1,
             "#f0f921"
            ]
           ],
           "sequentialminus": [
            [
             0,
             "#0d0887"
            ],
            [
             0.1111111111111111,
             "#46039f"
            ],
            [
             0.2222222222222222,
             "#7201a8"
            ],
            [
             0.3333333333333333,
             "#9c179e"
            ],
            [
             0.4444444444444444,
             "#bd3786"
            ],
            [
             0.5555555555555556,
             "#d8576b"
            ],
            [
             0.6666666666666666,
             "#ed7953"
            ],
            [
             0.7777777777777778,
             "#fb9f3a"
            ],
            [
             0.8888888888888888,
             "#fdca26"
            ],
            [
             1,
             "#f0f921"
            ]
           ]
          },
          "colorway": [
           "#636efa",
           "#EF553B",
           "#00cc96",
           "#ab63fa",
           "#FFA15A",
           "#19d3f3",
           "#FF6692",
           "#B6E880",
           "#FF97FF",
           "#FECB52"
          ],
          "font": {
           "color": "#2a3f5f"
          },
          "geo": {
           "bgcolor": "white",
           "lakecolor": "white",
           "landcolor": "#E5ECF6",
           "showlakes": true,
           "showland": true,
           "subunitcolor": "white"
          },
          "hoverlabel": {
           "align": "left"
          },
          "hovermode": "closest",
          "mapbox": {
           "style": "light"
          },
          "paper_bgcolor": "white",
          "plot_bgcolor": "#E5ECF6",
          "polar": {
           "angularaxis": {
            "gridcolor": "white",
            "linecolor": "white",
            "ticks": ""
           },
           "bgcolor": "#E5ECF6",
           "radialaxis": {
            "gridcolor": "white",
            "linecolor": "white",
            "ticks": ""
           }
          },
          "scene": {
           "xaxis": {
            "backgroundcolor": "#E5ECF6",
            "gridcolor": "white",
            "gridwidth": 2,
            "linecolor": "white",
            "showbackground": true,
            "ticks": "",
            "zerolinecolor": "white"
           },
           "yaxis": {
            "backgroundcolor": "#E5ECF6",
            "gridcolor": "white",
            "gridwidth": 2,
            "linecolor": "white",
            "showbackground": true,
            "ticks": "",
            "zerolinecolor": "white"
           },
           "zaxis": {
            "backgroundcolor": "#E5ECF6",
            "gridcolor": "white",
            "gridwidth": 2,
            "linecolor": "white",
            "showbackground": true,
            "ticks": "",
            "zerolinecolor": "white"
           }
          },
          "shapedefaults": {
           "line": {
            "color": "#2a3f5f"
           }
          },
          "ternary": {
           "aaxis": {
            "gridcolor": "white",
            "linecolor": "white",
            "ticks": ""
           },
           "baxis": {
            "gridcolor": "white",
            "linecolor": "white",
            "ticks": ""
           },
           "bgcolor": "#E5ECF6",
           "caxis": {
            "gridcolor": "white",
            "linecolor": "white",
            "ticks": ""
           }
          },
          "title": {
           "x": 0.05
          },
          "xaxis": {
           "automargin": true,
           "gridcolor": "white",
           "linecolor": "white",
           "ticks": "",
           "title": {
            "standoff": 15
           },
           "zerolinecolor": "white",
           "zerolinewidth": 2
          },
          "yaxis": {
           "automargin": true,
           "gridcolor": "white",
           "linecolor": "white",
           "ticks": "",
           "title": {
            "standoff": 15
           },
           "zerolinecolor": "white",
           "zerolinewidth": 2
          }
         }
        },
        "title": {
         "text": "Воронка событий долей пользователей, которые хоть раз совершали событие"
        }
       }
      },
      "text/html": [
       "<div>                            <div id=\"8d576267-66b0-4201-93d2-380d95aab7f1\" class=\"plotly-graph-div\" style=\"height:525px; width:100%;\"></div>            <script type=\"text/javascript\">                require([\"plotly\"], function(Plotly) {                    window.PLOTLYENV=window.PLOTLYENV || {};                                    if (document.getElementById(\"8d576267-66b0-4201-93d2-380d95aab7f1\")) {                    Plotly.newPlot(                        \"8d576267-66b0-4201-93d2-380d95aab7f1\",                        [{\"x\":[98.47,60.96,49.56,46.97],\"y\":[\"MainScreenAppear\",\"OffersScreenAppear\",\"CartScreenAppear\",\"PaymentScreenSuccessful\"],\"type\":\"funnel\"}],                        {\"template\":{\"data\":{\"histogram2dcontour\":[{\"type\":\"histogram2dcontour\",\"colorbar\":{\"outlinewidth\":0,\"ticks\":\"\"},\"colorscale\":[[0.0,\"#0d0887\"],[0.1111111111111111,\"#46039f\"],[0.2222222222222222,\"#7201a8\"],[0.3333333333333333,\"#9c179e\"],[0.4444444444444444,\"#bd3786\"],[0.5555555555555556,\"#d8576b\"],[0.6666666666666666,\"#ed7953\"],[0.7777777777777778,\"#fb9f3a\"],[0.8888888888888888,\"#fdca26\"],[1.0,\"#f0f921\"]]}],\"choropleth\":[{\"type\":\"choropleth\",\"colorbar\":{\"outlinewidth\":0,\"ticks\":\"\"}}],\"histogram2d\":[{\"type\":\"histogram2d\",\"colorbar\":{\"outlinewidth\":0,\"ticks\":\"\"},\"colorscale\":[[0.0,\"#0d0887\"],[0.1111111111111111,\"#46039f\"],[0.2222222222222222,\"#7201a8\"],[0.3333333333333333,\"#9c179e\"],[0.4444444444444444,\"#bd3786\"],[0.5555555555555556,\"#d8576b\"],[0.6666666666666666,\"#ed7953\"],[0.7777777777777778,\"#fb9f3a\"],[0.8888888888888888,\"#fdca26\"],[1.0,\"#f0f921\"]]}],\"heatmap\":[{\"type\":\"heatmap\",\"colorbar\":{\"outlinewidth\":0,\"ticks\":\"\"},\"colorscale\":[[0.0,\"#0d0887\"],[0.1111111111111111,\"#46039f\"],[0.2222222222222222,\"#7201a8\"],[0.3333333333333333,\"#9c179e\"],[0.4444444444444444,\"#bd3786\"],[0.5555555555555556,\"#d8576b\"],[0.6666666666666666,\"#ed7953\"],[0.7777777777777778,\"#fb9f3a\"],[0.8888888888888888,\"#fdca26\"],[1.0,\"#f0f921\"]]}],\"heatmapgl\":[{\"type\":\"heatmapgl\",\"colorbar\":{\"outlinewidth\":0,\"ticks\":\"\"},\"colorscale\":[[0.0,\"#0d0887\"],[0.1111111111111111,\"#46039f\"],[0.2222222222222222,\"#7201a8\"],[0.3333333333333333,\"#9c179e\"],[0.4444444444444444,\"#bd3786\"],[0.5555555555555556,\"#d8576b\"],[0.6666666666666666,\"#ed7953\"],[0.7777777777777778,\"#fb9f3a\"],[0.8888888888888888,\"#fdca26\"],[1.0,\"#f0f921\"]]}],\"contourcarpet\":[{\"type\":\"contourcarpet\",\"colorbar\":{\"outlinewidth\":0,\"ticks\":\"\"}}],\"contour\":[{\"type\":\"contour\",\"colorbar\":{\"outlinewidth\":0,\"ticks\":\"\"},\"colorscale\":[[0.0,\"#0d0887\"],[0.1111111111111111,\"#46039f\"],[0.2222222222222222,\"#7201a8\"],[0.3333333333333333,\"#9c179e\"],[0.4444444444444444,\"#bd3786\"],[0.5555555555555556,\"#d8576b\"],[0.6666666666666666,\"#ed7953\"],[0.7777777777777778,\"#fb9f3a\"],[0.8888888888888888,\"#fdca26\"],[1.0,\"#f0f921\"]]}],\"surface\":[{\"type\":\"surface\",\"colorbar\":{\"outlinewidth\":0,\"ticks\":\"\"},\"colorscale\":[[0.0,\"#0d0887\"],[0.1111111111111111,\"#46039f\"],[0.2222222222222222,\"#7201a8\"],[0.3333333333333333,\"#9c179e\"],[0.4444444444444444,\"#bd3786\"],[0.5555555555555556,\"#d8576b\"],[0.6666666666666666,\"#ed7953\"],[0.7777777777777778,\"#fb9f3a\"],[0.8888888888888888,\"#fdca26\"],[1.0,\"#f0f921\"]]}],\"mesh3d\":[{\"type\":\"mesh3d\",\"colorbar\":{\"outlinewidth\":0,\"ticks\":\"\"}}],\"scatter\":[{\"fillpattern\":{\"fillmode\":\"overlay\",\"size\":10,\"solidity\":0.2},\"type\":\"scatter\"}],\"parcoords\":[{\"type\":\"parcoords\",\"line\":{\"colorbar\":{\"outlinewidth\":0,\"ticks\":\"\"}}}],\"scatterpolargl\":[{\"type\":\"scatterpolargl\",\"marker\":{\"colorbar\":{\"outlinewidth\":0,\"ticks\":\"\"}}}],\"bar\":[{\"error_x\":{\"color\":\"#2a3f5f\"},\"error_y\":{\"color\":\"#2a3f5f\"},\"marker\":{\"line\":{\"color\":\"#E5ECF6\",\"width\":0.5},\"pattern\":{\"fillmode\":\"overlay\",\"size\":10,\"solidity\":0.2}},\"type\":\"bar\"}],\"scattergeo\":[{\"type\":\"scattergeo\",\"marker\":{\"colorbar\":{\"outlinewidth\":0,\"ticks\":\"\"}}}],\"scatterpolar\":[{\"type\":\"scatterpolar\",\"marker\":{\"colorbar\":{\"outlinewidth\":0,\"ticks\":\"\"}}}],\"histogram\":[{\"marker\":{\"pattern\":{\"fillmode\":\"overlay\",\"size\":10,\"solidity\":0.2}},\"type\":\"histogram\"}],\"scattergl\":[{\"type\":\"scattergl\",\"marker\":{\"colorbar\":{\"outlinewidth\":0,\"ticks\":\"\"}}}],\"scatter3d\":[{\"type\":\"scatter3d\",\"line\":{\"colorbar\":{\"outlinewidth\":0,\"ticks\":\"\"}},\"marker\":{\"colorbar\":{\"outlinewidth\":0,\"ticks\":\"\"}}}],\"scattermapbox\":[{\"type\":\"scattermapbox\",\"marker\":{\"colorbar\":{\"outlinewidth\":0,\"ticks\":\"\"}}}],\"scatterternary\":[{\"type\":\"scatterternary\",\"marker\":{\"colorbar\":{\"outlinewidth\":0,\"ticks\":\"\"}}}],\"scattercarpet\":[{\"type\":\"scattercarpet\",\"marker\":{\"colorbar\":{\"outlinewidth\":0,\"ticks\":\"\"}}}],\"carpet\":[{\"aaxis\":{\"endlinecolor\":\"#2a3f5f\",\"gridcolor\":\"white\",\"linecolor\":\"white\",\"minorgridcolor\":\"white\",\"startlinecolor\":\"#2a3f5f\"},\"baxis\":{\"endlinecolor\":\"#2a3f5f\",\"gridcolor\":\"white\",\"linecolor\":\"white\",\"minorgridcolor\":\"white\",\"startlinecolor\":\"#2a3f5f\"},\"type\":\"carpet\"}],\"table\":[{\"cells\":{\"fill\":{\"color\":\"#EBF0F8\"},\"line\":{\"color\":\"white\"}},\"header\":{\"fill\":{\"color\":\"#C8D4E3\"},\"line\":{\"color\":\"white\"}},\"type\":\"table\"}],\"barpolar\":[{\"marker\":{\"line\":{\"color\":\"#E5ECF6\",\"width\":0.5},\"pattern\":{\"fillmode\":\"overlay\",\"size\":10,\"solidity\":0.2}},\"type\":\"barpolar\"}],\"pie\":[{\"automargin\":true,\"type\":\"pie\"}]},\"layout\":{\"autotypenumbers\":\"strict\",\"colorway\":[\"#636efa\",\"#EF553B\",\"#00cc96\",\"#ab63fa\",\"#FFA15A\",\"#19d3f3\",\"#FF6692\",\"#B6E880\",\"#FF97FF\",\"#FECB52\"],\"font\":{\"color\":\"#2a3f5f\"},\"hovermode\":\"closest\",\"hoverlabel\":{\"align\":\"left\"},\"paper_bgcolor\":\"white\",\"plot_bgcolor\":\"#E5ECF6\",\"polar\":{\"bgcolor\":\"#E5ECF6\",\"angularaxis\":{\"gridcolor\":\"white\",\"linecolor\":\"white\",\"ticks\":\"\"},\"radialaxis\":{\"gridcolor\":\"white\",\"linecolor\":\"white\",\"ticks\":\"\"}},\"ternary\":{\"bgcolor\":\"#E5ECF6\",\"aaxis\":{\"gridcolor\":\"white\",\"linecolor\":\"white\",\"ticks\":\"\"},\"baxis\":{\"gridcolor\":\"white\",\"linecolor\":\"white\",\"ticks\":\"\"},\"caxis\":{\"gridcolor\":\"white\",\"linecolor\":\"white\",\"ticks\":\"\"}},\"coloraxis\":{\"colorbar\":{\"outlinewidth\":0,\"ticks\":\"\"}},\"colorscale\":{\"sequential\":[[0.0,\"#0d0887\"],[0.1111111111111111,\"#46039f\"],[0.2222222222222222,\"#7201a8\"],[0.3333333333333333,\"#9c179e\"],[0.4444444444444444,\"#bd3786\"],[0.5555555555555556,\"#d8576b\"],[0.6666666666666666,\"#ed7953\"],[0.7777777777777778,\"#fb9f3a\"],[0.8888888888888888,\"#fdca26\"],[1.0,\"#f0f921\"]],\"sequentialminus\":[[0.0,\"#0d0887\"],[0.1111111111111111,\"#46039f\"],[0.2222222222222222,\"#7201a8\"],[0.3333333333333333,\"#9c179e\"],[0.4444444444444444,\"#bd3786\"],[0.5555555555555556,\"#d8576b\"],[0.6666666666666666,\"#ed7953\"],[0.7777777777777778,\"#fb9f3a\"],[0.8888888888888888,\"#fdca26\"],[1.0,\"#f0f921\"]],\"diverging\":[[0,\"#8e0152\"],[0.1,\"#c51b7d\"],[0.2,\"#de77ae\"],[0.3,\"#f1b6da\"],[0.4,\"#fde0ef\"],[0.5,\"#f7f7f7\"],[0.6,\"#e6f5d0\"],[0.7,\"#b8e186\"],[0.8,\"#7fbc41\"],[0.9,\"#4d9221\"],[1,\"#276419\"]]},\"xaxis\":{\"gridcolor\":\"white\",\"linecolor\":\"white\",\"ticks\":\"\",\"title\":{\"standoff\":15},\"zerolinecolor\":\"white\",\"automargin\":true,\"zerolinewidth\":2},\"yaxis\":{\"gridcolor\":\"white\",\"linecolor\":\"white\",\"ticks\":\"\",\"title\":{\"standoff\":15},\"zerolinecolor\":\"white\",\"automargin\":true,\"zerolinewidth\":2},\"scene\":{\"xaxis\":{\"backgroundcolor\":\"#E5ECF6\",\"gridcolor\":\"white\",\"linecolor\":\"white\",\"showbackground\":true,\"ticks\":\"\",\"zerolinecolor\":\"white\",\"gridwidth\":2},\"yaxis\":{\"backgroundcolor\":\"#E5ECF6\",\"gridcolor\":\"white\",\"linecolor\":\"white\",\"showbackground\":true,\"ticks\":\"\",\"zerolinecolor\":\"white\",\"gridwidth\":2},\"zaxis\":{\"backgroundcolor\":\"#E5ECF6\",\"gridcolor\":\"white\",\"linecolor\":\"white\",\"showbackground\":true,\"ticks\":\"\",\"zerolinecolor\":\"white\",\"gridwidth\":2}},\"shapedefaults\":{\"line\":{\"color\":\"#2a3f5f\"}},\"annotationdefaults\":{\"arrowcolor\":\"#2a3f5f\",\"arrowhead\":0,\"arrowwidth\":1},\"geo\":{\"bgcolor\":\"white\",\"landcolor\":\"#E5ECF6\",\"subunitcolor\":\"white\",\"showland\":true,\"showlakes\":true,\"lakecolor\":\"white\"},\"title\":{\"x\":0.05},\"mapbox\":{\"style\":\"light\"}}},\"title\":{\"text\":\"\\u0412\\u043e\\u0440\\u043e\\u043d\\u043a\\u0430 \\u0441\\u043e\\u0431\\u044b\\u0442\\u0438\\u0439 \\u0434\\u043e\\u043b\\u0435\\u0439 \\u043f\\u043e\\u043b\\u044c\\u0437\\u043e\\u0432\\u0430\\u0442\\u0435\\u043b\\u0435\\u0439, \\u043a\\u043e\\u0442\\u043e\\u0440\\u044b\\u0435 \\u0445\\u043e\\u0442\\u044c \\u0440\\u0430\\u0437 \\u0441\\u043e\\u0432\\u0435\\u0440\\u0448\\u0430\\u043b\\u0438 \\u0441\\u043e\\u0431\\u044b\\u0442\\u0438\\u0435\"}},                        {\"responsive\": true}                    ).then(function(){\n",
       "                            \n",
       "var gd = document.getElementById('8d576267-66b0-4201-93d2-380d95aab7f1');\n",
       "var x = new MutationObserver(function (mutations, observer) {{\n",
       "        var display = window.getComputedStyle(gd).display;\n",
       "        if (!display || display === 'none') {{\n",
       "            console.log([gd, 'removed!']);\n",
       "            Plotly.purge(gd);\n",
       "            observer.disconnect();\n",
       "        }}\n",
       "}});\n",
       "\n",
       "// Listen for the removal of the full notebook cells\n",
       "var notebookContainer = gd.closest('#notebook-container');\n",
       "if (notebookContainer) {{\n",
       "    x.observe(notebookContainer, {childList: true});\n",
       "}}\n",
       "\n",
       "// Listen for the clearing of the current output cell\n",
       "var outputEl = gd.closest('.output');\n",
       "if (outputEl) {{\n",
       "    x.observe(outputEl, {childList: true});\n",
       "}}\n",
       "\n",
       "                        })                };                });            </script>        </div>"
      ]
     },
     "metadata": {},
     "output_type": "display_data"
    }
   ],
   "source": [
    "# построим график воронки событий долей пользователей, которые хоть раз совершали событие\n",
    "fig = go.Figure(go.Funnel(\n",
    "    y = funnel_sales['event_name'],\n",
    "    x = funnel_sales['share, %']))\n",
    "fig.update_layout(title_text='Воронка событий долей пользователей, которые хоть раз совершали событие')\n",
    "fig.show()\n",
    "pio.write_html(fig, file='figure.html', auto_open=True)"
   ]
  },
  {
   "cell_type": "markdown",
   "metadata": {},
   "source": [
    "<div style=\"border-radius: 15px; box-shadow: 4px 4px 4px; border: solid green 2px; padding: 20px\">\n",
    "\n",
    "По сути график у нас уже выстроился в последовательную воронку событий, которая выглядит так\n",
    "    \n",
    "`Главный экран`  →  `Экран предложений`  →  `Экран корзины`  →  `Экран оплаты`\n",
    "</div>"
   ]
  },
  {
   "cell_type": "code",
   "execution_count": 30,
   "metadata": {},
   "outputs": [
    {
     "data": {
      "text/html": [
       "<div>\n",
       "<style scoped>\n",
       "    .dataframe tbody tr th:only-of-type {\n",
       "        vertical-align: middle;\n",
       "    }\n",
       "\n",
       "    .dataframe tbody tr th {\n",
       "        vertical-align: top;\n",
       "    }\n",
       "\n",
       "    .dataframe thead th {\n",
       "        text-align: right;\n",
       "    }\n",
       "</style>\n",
       "<table border=\"1\" class=\"dataframe\">\n",
       "  <thead>\n",
       "    <tr style=\"text-align: right;\">\n",
       "      <th></th>\n",
       "      <th>index</th>\n",
       "      <th>event_name</th>\n",
       "      <th>total_device</th>\n",
       "      <th>share, %</th>\n",
       "      <th>device_share_passes, %</th>\n",
       "    </tr>\n",
       "  </thead>\n",
       "  <tbody>\n",
       "    <tr>\n",
       "      <th>0</th>\n",
       "      <td>1</td>\n",
       "      <td>MainScreenAppear</td>\n",
       "      <td>7419</td>\n",
       "      <td>98.47</td>\n",
       "      <td>NaN</td>\n",
       "    </tr>\n",
       "    <tr>\n",
       "      <th>1</th>\n",
       "      <td>2</td>\n",
       "      <td>OffersScreenAppear</td>\n",
       "      <td>4593</td>\n",
       "      <td>60.96</td>\n",
       "      <td>61.9</td>\n",
       "    </tr>\n",
       "    <tr>\n",
       "      <th>2</th>\n",
       "      <td>0</td>\n",
       "      <td>CartScreenAppear</td>\n",
       "      <td>3734</td>\n",
       "      <td>49.56</td>\n",
       "      <td>81.3</td>\n",
       "    </tr>\n",
       "    <tr>\n",
       "      <th>3</th>\n",
       "      <td>3</td>\n",
       "      <td>PaymentScreenSuccessful</td>\n",
       "      <td>3539</td>\n",
       "      <td>46.97</td>\n",
       "      <td>94.8</td>\n",
       "    </tr>\n",
       "  </tbody>\n",
       "</table>\n",
       "</div>"
      ],
      "text/plain": [
       "   index               event_name  total_device  share, %  \\\n",
       "0      1         MainScreenAppear          7419     98.47   \n",
       "1      2       OffersScreenAppear          4593     60.96   \n",
       "2      0         CartScreenAppear          3734     49.56   \n",
       "3      3  PaymentScreenSuccessful          3539     46.97   \n",
       "\n",
       "   device_share_passes, %  \n",
       "0                     NaN  \n",
       "1                    61.9  \n",
       "2                    81.3  \n",
       "3                    94.8  "
      ]
     },
     "execution_count": 30,
     "metadata": {},
     "output_type": "execute_result"
    }
   ],
   "source": [
    "# подсчитаем доли пользователей, которые проходят на следующий шаг воронки\n",
    "funnel_sales['device_share_passes, %'] = round(funnel_sales['total_device'] / funnel_sales['total_device'].shift(1), 3) * 100\n",
    "funnel_sales"
   ]
  },
  {
   "cell_type": "code",
   "execution_count": 31,
   "metadata": {},
   "outputs": [
    {
     "data": {
      "application/vnd.plotly.v1+json": {
       "config": {
        "plotlyServerURL": "https://plot.ly"
       },
       "data": [
        {
         "textposition": "inside",
         "type": "funnel",
         "x": [
          null,
          61.9,
          81.3,
          94.8
         ],
         "y": [
          "MainScreenAppear",
          "OffersScreenAppear",
          "CartScreenAppear",
          "PaymentScreenSuccessful"
         ]
        }
       ],
       "layout": {
        "template": {
         "data": {
          "bar": [
           {
            "error_x": {
             "color": "#2a3f5f"
            },
            "error_y": {
             "color": "#2a3f5f"
            },
            "marker": {
             "line": {
              "color": "#E5ECF6",
              "width": 0.5
             },
             "pattern": {
              "fillmode": "overlay",
              "size": 10,
              "solidity": 0.2
             }
            },
            "type": "bar"
           }
          ],
          "barpolar": [
           {
            "marker": {
             "line": {
              "color": "#E5ECF6",
              "width": 0.5
             },
             "pattern": {
              "fillmode": "overlay",
              "size": 10,
              "solidity": 0.2
             }
            },
            "type": "barpolar"
           }
          ],
          "carpet": [
           {
            "aaxis": {
             "endlinecolor": "#2a3f5f",
             "gridcolor": "white",
             "linecolor": "white",
             "minorgridcolor": "white",
             "startlinecolor": "#2a3f5f"
            },
            "baxis": {
             "endlinecolor": "#2a3f5f",
             "gridcolor": "white",
             "linecolor": "white",
             "minorgridcolor": "white",
             "startlinecolor": "#2a3f5f"
            },
            "type": "carpet"
           }
          ],
          "choropleth": [
           {
            "colorbar": {
             "outlinewidth": 0,
             "ticks": ""
            },
            "type": "choropleth"
           }
          ],
          "contour": [
           {
            "colorbar": {
             "outlinewidth": 0,
             "ticks": ""
            },
            "colorscale": [
             [
              0,
              "#0d0887"
             ],
             [
              0.1111111111111111,
              "#46039f"
             ],
             [
              0.2222222222222222,
              "#7201a8"
             ],
             [
              0.3333333333333333,
              "#9c179e"
             ],
             [
              0.4444444444444444,
              "#bd3786"
             ],
             [
              0.5555555555555556,
              "#d8576b"
             ],
             [
              0.6666666666666666,
              "#ed7953"
             ],
             [
              0.7777777777777778,
              "#fb9f3a"
             ],
             [
              0.8888888888888888,
              "#fdca26"
             ],
             [
              1,
              "#f0f921"
             ]
            ],
            "type": "contour"
           }
          ],
          "contourcarpet": [
           {
            "colorbar": {
             "outlinewidth": 0,
             "ticks": ""
            },
            "type": "contourcarpet"
           }
          ],
          "heatmap": [
           {
            "colorbar": {
             "outlinewidth": 0,
             "ticks": ""
            },
            "colorscale": [
             [
              0,
              "#0d0887"
             ],
             [
              0.1111111111111111,
              "#46039f"
             ],
             [
              0.2222222222222222,
              "#7201a8"
             ],
             [
              0.3333333333333333,
              "#9c179e"
             ],
             [
              0.4444444444444444,
              "#bd3786"
             ],
             [
              0.5555555555555556,
              "#d8576b"
             ],
             [
              0.6666666666666666,
              "#ed7953"
             ],
             [
              0.7777777777777778,
              "#fb9f3a"
             ],
             [
              0.8888888888888888,
              "#fdca26"
             ],
             [
              1,
              "#f0f921"
             ]
            ],
            "type": "heatmap"
           }
          ],
          "heatmapgl": [
           {
            "colorbar": {
             "outlinewidth": 0,
             "ticks": ""
            },
            "colorscale": [
             [
              0,
              "#0d0887"
             ],
             [
              0.1111111111111111,
              "#46039f"
             ],
             [
              0.2222222222222222,
              "#7201a8"
             ],
             [
              0.3333333333333333,
              "#9c179e"
             ],
             [
              0.4444444444444444,
              "#bd3786"
             ],
             [
              0.5555555555555556,
              "#d8576b"
             ],
             [
              0.6666666666666666,
              "#ed7953"
             ],
             [
              0.7777777777777778,
              "#fb9f3a"
             ],
             [
              0.8888888888888888,
              "#fdca26"
             ],
             [
              1,
              "#f0f921"
             ]
            ],
            "type": "heatmapgl"
           }
          ],
          "histogram": [
           {
            "marker": {
             "pattern": {
              "fillmode": "overlay",
              "size": 10,
              "solidity": 0.2
             }
            },
            "type": "histogram"
           }
          ],
          "histogram2d": [
           {
            "colorbar": {
             "outlinewidth": 0,
             "ticks": ""
            },
            "colorscale": [
             [
              0,
              "#0d0887"
             ],
             [
              0.1111111111111111,
              "#46039f"
             ],
             [
              0.2222222222222222,
              "#7201a8"
             ],
             [
              0.3333333333333333,
              "#9c179e"
             ],
             [
              0.4444444444444444,
              "#bd3786"
             ],
             [
              0.5555555555555556,
              "#d8576b"
             ],
             [
              0.6666666666666666,
              "#ed7953"
             ],
             [
              0.7777777777777778,
              "#fb9f3a"
             ],
             [
              0.8888888888888888,
              "#fdca26"
             ],
             [
              1,
              "#f0f921"
             ]
            ],
            "type": "histogram2d"
           }
          ],
          "histogram2dcontour": [
           {
            "colorbar": {
             "outlinewidth": 0,
             "ticks": ""
            },
            "colorscale": [
             [
              0,
              "#0d0887"
             ],
             [
              0.1111111111111111,
              "#46039f"
             ],
             [
              0.2222222222222222,
              "#7201a8"
             ],
             [
              0.3333333333333333,
              "#9c179e"
             ],
             [
              0.4444444444444444,
              "#bd3786"
             ],
             [
              0.5555555555555556,
              "#d8576b"
             ],
             [
              0.6666666666666666,
              "#ed7953"
             ],
             [
              0.7777777777777778,
              "#fb9f3a"
             ],
             [
              0.8888888888888888,
              "#fdca26"
             ],
             [
              1,
              "#f0f921"
             ]
            ],
            "type": "histogram2dcontour"
           }
          ],
          "mesh3d": [
           {
            "colorbar": {
             "outlinewidth": 0,
             "ticks": ""
            },
            "type": "mesh3d"
           }
          ],
          "parcoords": [
           {
            "line": {
             "colorbar": {
              "outlinewidth": 0,
              "ticks": ""
             }
            },
            "type": "parcoords"
           }
          ],
          "pie": [
           {
            "automargin": true,
            "type": "pie"
           }
          ],
          "scatter": [
           {
            "fillpattern": {
             "fillmode": "overlay",
             "size": 10,
             "solidity": 0.2
            },
            "type": "scatter"
           }
          ],
          "scatter3d": [
           {
            "line": {
             "colorbar": {
              "outlinewidth": 0,
              "ticks": ""
             }
            },
            "marker": {
             "colorbar": {
              "outlinewidth": 0,
              "ticks": ""
             }
            },
            "type": "scatter3d"
           }
          ],
          "scattercarpet": [
           {
            "marker": {
             "colorbar": {
              "outlinewidth": 0,
              "ticks": ""
             }
            },
            "type": "scattercarpet"
           }
          ],
          "scattergeo": [
           {
            "marker": {
             "colorbar": {
              "outlinewidth": 0,
              "ticks": ""
             }
            },
            "type": "scattergeo"
           }
          ],
          "scattergl": [
           {
            "marker": {
             "colorbar": {
              "outlinewidth": 0,
              "ticks": ""
             }
            },
            "type": "scattergl"
           }
          ],
          "scattermapbox": [
           {
            "marker": {
             "colorbar": {
              "outlinewidth": 0,
              "ticks": ""
             }
            },
            "type": "scattermapbox"
           }
          ],
          "scatterpolar": [
           {
            "marker": {
             "colorbar": {
              "outlinewidth": 0,
              "ticks": ""
             }
            },
            "type": "scatterpolar"
           }
          ],
          "scatterpolargl": [
           {
            "marker": {
             "colorbar": {
              "outlinewidth": 0,
              "ticks": ""
             }
            },
            "type": "scatterpolargl"
           }
          ],
          "scatterternary": [
           {
            "marker": {
             "colorbar": {
              "outlinewidth": 0,
              "ticks": ""
             }
            },
            "type": "scatterternary"
           }
          ],
          "surface": [
           {
            "colorbar": {
             "outlinewidth": 0,
             "ticks": ""
            },
            "colorscale": [
             [
              0,
              "#0d0887"
             ],
             [
              0.1111111111111111,
              "#46039f"
             ],
             [
              0.2222222222222222,
              "#7201a8"
             ],
             [
              0.3333333333333333,
              "#9c179e"
             ],
             [
              0.4444444444444444,
              "#bd3786"
             ],
             [
              0.5555555555555556,
              "#d8576b"
             ],
             [
              0.6666666666666666,
              "#ed7953"
             ],
             [
              0.7777777777777778,
              "#fb9f3a"
             ],
             [
              0.8888888888888888,
              "#fdca26"
             ],
             [
              1,
              "#f0f921"
             ]
            ],
            "type": "surface"
           }
          ],
          "table": [
           {
            "cells": {
             "fill": {
              "color": "#EBF0F8"
             },
             "line": {
              "color": "white"
             }
            },
            "header": {
             "fill": {
              "color": "#C8D4E3"
             },
             "line": {
              "color": "white"
             }
            },
            "type": "table"
           }
          ]
         },
         "layout": {
          "annotationdefaults": {
           "arrowcolor": "#2a3f5f",
           "arrowhead": 0,
           "arrowwidth": 1
          },
          "autotypenumbers": "strict",
          "coloraxis": {
           "colorbar": {
            "outlinewidth": 0,
            "ticks": ""
           }
          },
          "colorscale": {
           "diverging": [
            [
             0,
             "#8e0152"
            ],
            [
             0.1,
             "#c51b7d"
            ],
            [
             0.2,
             "#de77ae"
            ],
            [
             0.3,
             "#f1b6da"
            ],
            [
             0.4,
             "#fde0ef"
            ],
            [
             0.5,
             "#f7f7f7"
            ],
            [
             0.6,
             "#e6f5d0"
            ],
            [
             0.7,
             "#b8e186"
            ],
            [
             0.8,
             "#7fbc41"
            ],
            [
             0.9,
             "#4d9221"
            ],
            [
             1,
             "#276419"
            ]
           ],
           "sequential": [
            [
             0,
             "#0d0887"
            ],
            [
             0.1111111111111111,
             "#46039f"
            ],
            [
             0.2222222222222222,
             "#7201a8"
            ],
            [
             0.3333333333333333,
             "#9c179e"
            ],
            [
             0.4444444444444444,
             "#bd3786"
            ],
            [
             0.5555555555555556,
             "#d8576b"
            ],
            [
             0.6666666666666666,
             "#ed7953"
            ],
            [
             0.7777777777777778,
             "#fb9f3a"
            ],
            [
             0.8888888888888888,
             "#fdca26"
            ],
            [
             1,
             "#f0f921"
            ]
           ],
           "sequentialminus": [
            [
             0,
             "#0d0887"
            ],
            [
             0.1111111111111111,
             "#46039f"
            ],
            [
             0.2222222222222222,
             "#7201a8"
            ],
            [
             0.3333333333333333,
             "#9c179e"
            ],
            [
             0.4444444444444444,
             "#bd3786"
            ],
            [
             0.5555555555555556,
             "#d8576b"
            ],
            [
             0.6666666666666666,
             "#ed7953"
            ],
            [
             0.7777777777777778,
             "#fb9f3a"
            ],
            [
             0.8888888888888888,
             "#fdca26"
            ],
            [
             1,
             "#f0f921"
            ]
           ]
          },
          "colorway": [
           "#636efa",
           "#EF553B",
           "#00cc96",
           "#ab63fa",
           "#FFA15A",
           "#19d3f3",
           "#FF6692",
           "#B6E880",
           "#FF97FF",
           "#FECB52"
          ],
          "font": {
           "color": "#2a3f5f"
          },
          "geo": {
           "bgcolor": "white",
           "lakecolor": "white",
           "landcolor": "#E5ECF6",
           "showlakes": true,
           "showland": true,
           "subunitcolor": "white"
          },
          "hoverlabel": {
           "align": "left"
          },
          "hovermode": "closest",
          "mapbox": {
           "style": "light"
          },
          "paper_bgcolor": "white",
          "plot_bgcolor": "#E5ECF6",
          "polar": {
           "angularaxis": {
            "gridcolor": "white",
            "linecolor": "white",
            "ticks": ""
           },
           "bgcolor": "#E5ECF6",
           "radialaxis": {
            "gridcolor": "white",
            "linecolor": "white",
            "ticks": ""
           }
          },
          "scene": {
           "xaxis": {
            "backgroundcolor": "#E5ECF6",
            "gridcolor": "white",
            "gridwidth": 2,
            "linecolor": "white",
            "showbackground": true,
            "ticks": "",
            "zerolinecolor": "white"
           },
           "yaxis": {
            "backgroundcolor": "#E5ECF6",
            "gridcolor": "white",
            "gridwidth": 2,
            "linecolor": "white",
            "showbackground": true,
            "ticks": "",
            "zerolinecolor": "white"
           },
           "zaxis": {
            "backgroundcolor": "#E5ECF6",
            "gridcolor": "white",
            "gridwidth": 2,
            "linecolor": "white",
            "showbackground": true,
            "ticks": "",
            "zerolinecolor": "white"
           }
          },
          "shapedefaults": {
           "line": {
            "color": "#2a3f5f"
           }
          },
          "ternary": {
           "aaxis": {
            "gridcolor": "white",
            "linecolor": "white",
            "ticks": ""
           },
           "baxis": {
            "gridcolor": "white",
            "linecolor": "white",
            "ticks": ""
           },
           "bgcolor": "#E5ECF6",
           "caxis": {
            "gridcolor": "white",
            "linecolor": "white",
            "ticks": ""
           }
          },
          "title": {
           "x": 0.05
          },
          "xaxis": {
           "automargin": true,
           "gridcolor": "white",
           "linecolor": "white",
           "ticks": "",
           "title": {
            "standoff": 15
           },
           "zerolinecolor": "white",
           "zerolinewidth": 2
          },
          "yaxis": {
           "automargin": true,
           "gridcolor": "white",
           "linecolor": "white",
           "ticks": "",
           "title": {
            "standoff": 15
           },
           "zerolinecolor": "white",
           "zerolinewidth": 2
          }
         }
        },
        "title": {
         "text": "Воронка событий долей пользователей, которые проходят на следующий шаг воронки"
        }
       }
      },
      "text/html": [
       "<div>                            <div id=\"3f62ca76-90ea-4094-a5f3-9ac82d7bcd28\" class=\"plotly-graph-div\" style=\"height:525px; width:100%;\"></div>            <script type=\"text/javascript\">                require([\"plotly\"], function(Plotly) {                    window.PLOTLYENV=window.PLOTLYENV || {};                                    if (document.getElementById(\"3f62ca76-90ea-4094-a5f3-9ac82d7bcd28\")) {                    Plotly.newPlot(                        \"3f62ca76-90ea-4094-a5f3-9ac82d7bcd28\",                        [{\"textposition\":\"inside\",\"x\":[null,61.9,81.3,94.8],\"y\":[\"MainScreenAppear\",\"OffersScreenAppear\",\"CartScreenAppear\",\"PaymentScreenSuccessful\"],\"type\":\"funnel\"}],                        {\"template\":{\"data\":{\"histogram2dcontour\":[{\"type\":\"histogram2dcontour\",\"colorbar\":{\"outlinewidth\":0,\"ticks\":\"\"},\"colorscale\":[[0.0,\"#0d0887\"],[0.1111111111111111,\"#46039f\"],[0.2222222222222222,\"#7201a8\"],[0.3333333333333333,\"#9c179e\"],[0.4444444444444444,\"#bd3786\"],[0.5555555555555556,\"#d8576b\"],[0.6666666666666666,\"#ed7953\"],[0.7777777777777778,\"#fb9f3a\"],[0.8888888888888888,\"#fdca26\"],[1.0,\"#f0f921\"]]}],\"choropleth\":[{\"type\":\"choropleth\",\"colorbar\":{\"outlinewidth\":0,\"ticks\":\"\"}}],\"histogram2d\":[{\"type\":\"histogram2d\",\"colorbar\":{\"outlinewidth\":0,\"ticks\":\"\"},\"colorscale\":[[0.0,\"#0d0887\"],[0.1111111111111111,\"#46039f\"],[0.2222222222222222,\"#7201a8\"],[0.3333333333333333,\"#9c179e\"],[0.4444444444444444,\"#bd3786\"],[0.5555555555555556,\"#d8576b\"],[0.6666666666666666,\"#ed7953\"],[0.7777777777777778,\"#fb9f3a\"],[0.8888888888888888,\"#fdca26\"],[1.0,\"#f0f921\"]]}],\"heatmap\":[{\"type\":\"heatmap\",\"colorbar\":{\"outlinewidth\":0,\"ticks\":\"\"},\"colorscale\":[[0.0,\"#0d0887\"],[0.1111111111111111,\"#46039f\"],[0.2222222222222222,\"#7201a8\"],[0.3333333333333333,\"#9c179e\"],[0.4444444444444444,\"#bd3786\"],[0.5555555555555556,\"#d8576b\"],[0.6666666666666666,\"#ed7953\"],[0.7777777777777778,\"#fb9f3a\"],[0.8888888888888888,\"#fdca26\"],[1.0,\"#f0f921\"]]}],\"heatmapgl\":[{\"type\":\"heatmapgl\",\"colorbar\":{\"outlinewidth\":0,\"ticks\":\"\"},\"colorscale\":[[0.0,\"#0d0887\"],[0.1111111111111111,\"#46039f\"],[0.2222222222222222,\"#7201a8\"],[0.3333333333333333,\"#9c179e\"],[0.4444444444444444,\"#bd3786\"],[0.5555555555555556,\"#d8576b\"],[0.6666666666666666,\"#ed7953\"],[0.7777777777777778,\"#fb9f3a\"],[0.8888888888888888,\"#fdca26\"],[1.0,\"#f0f921\"]]}],\"contourcarpet\":[{\"type\":\"contourcarpet\",\"colorbar\":{\"outlinewidth\":0,\"ticks\":\"\"}}],\"contour\":[{\"type\":\"contour\",\"colorbar\":{\"outlinewidth\":0,\"ticks\":\"\"},\"colorscale\":[[0.0,\"#0d0887\"],[0.1111111111111111,\"#46039f\"],[0.2222222222222222,\"#7201a8\"],[0.3333333333333333,\"#9c179e\"],[0.4444444444444444,\"#bd3786\"],[0.5555555555555556,\"#d8576b\"],[0.6666666666666666,\"#ed7953\"],[0.7777777777777778,\"#fb9f3a\"],[0.8888888888888888,\"#fdca26\"],[1.0,\"#f0f921\"]]}],\"surface\":[{\"type\":\"surface\",\"colorbar\":{\"outlinewidth\":0,\"ticks\":\"\"},\"colorscale\":[[0.0,\"#0d0887\"],[0.1111111111111111,\"#46039f\"],[0.2222222222222222,\"#7201a8\"],[0.3333333333333333,\"#9c179e\"],[0.4444444444444444,\"#bd3786\"],[0.5555555555555556,\"#d8576b\"],[0.6666666666666666,\"#ed7953\"],[0.7777777777777778,\"#fb9f3a\"],[0.8888888888888888,\"#fdca26\"],[1.0,\"#f0f921\"]]}],\"mesh3d\":[{\"type\":\"mesh3d\",\"colorbar\":{\"outlinewidth\":0,\"ticks\":\"\"}}],\"scatter\":[{\"fillpattern\":{\"fillmode\":\"overlay\",\"size\":10,\"solidity\":0.2},\"type\":\"scatter\"}],\"parcoords\":[{\"type\":\"parcoords\",\"line\":{\"colorbar\":{\"outlinewidth\":0,\"ticks\":\"\"}}}],\"scatterpolargl\":[{\"type\":\"scatterpolargl\",\"marker\":{\"colorbar\":{\"outlinewidth\":0,\"ticks\":\"\"}}}],\"bar\":[{\"error_x\":{\"color\":\"#2a3f5f\"},\"error_y\":{\"color\":\"#2a3f5f\"},\"marker\":{\"line\":{\"color\":\"#E5ECF6\",\"width\":0.5},\"pattern\":{\"fillmode\":\"overlay\",\"size\":10,\"solidity\":0.2}},\"type\":\"bar\"}],\"scattergeo\":[{\"type\":\"scattergeo\",\"marker\":{\"colorbar\":{\"outlinewidth\":0,\"ticks\":\"\"}}}],\"scatterpolar\":[{\"type\":\"scatterpolar\",\"marker\":{\"colorbar\":{\"outlinewidth\":0,\"ticks\":\"\"}}}],\"histogram\":[{\"marker\":{\"pattern\":{\"fillmode\":\"overlay\",\"size\":10,\"solidity\":0.2}},\"type\":\"histogram\"}],\"scattergl\":[{\"type\":\"scattergl\",\"marker\":{\"colorbar\":{\"outlinewidth\":0,\"ticks\":\"\"}}}],\"scatter3d\":[{\"type\":\"scatter3d\",\"line\":{\"colorbar\":{\"outlinewidth\":0,\"ticks\":\"\"}},\"marker\":{\"colorbar\":{\"outlinewidth\":0,\"ticks\":\"\"}}}],\"scattermapbox\":[{\"type\":\"scattermapbox\",\"marker\":{\"colorbar\":{\"outlinewidth\":0,\"ticks\":\"\"}}}],\"scatterternary\":[{\"type\":\"scatterternary\",\"marker\":{\"colorbar\":{\"outlinewidth\":0,\"ticks\":\"\"}}}],\"scattercarpet\":[{\"type\":\"scattercarpet\",\"marker\":{\"colorbar\":{\"outlinewidth\":0,\"ticks\":\"\"}}}],\"carpet\":[{\"aaxis\":{\"endlinecolor\":\"#2a3f5f\",\"gridcolor\":\"white\",\"linecolor\":\"white\",\"minorgridcolor\":\"white\",\"startlinecolor\":\"#2a3f5f\"},\"baxis\":{\"endlinecolor\":\"#2a3f5f\",\"gridcolor\":\"white\",\"linecolor\":\"white\",\"minorgridcolor\":\"white\",\"startlinecolor\":\"#2a3f5f\"},\"type\":\"carpet\"}],\"table\":[{\"cells\":{\"fill\":{\"color\":\"#EBF0F8\"},\"line\":{\"color\":\"white\"}},\"header\":{\"fill\":{\"color\":\"#C8D4E3\"},\"line\":{\"color\":\"white\"}},\"type\":\"table\"}],\"barpolar\":[{\"marker\":{\"line\":{\"color\":\"#E5ECF6\",\"width\":0.5},\"pattern\":{\"fillmode\":\"overlay\",\"size\":10,\"solidity\":0.2}},\"type\":\"barpolar\"}],\"pie\":[{\"automargin\":true,\"type\":\"pie\"}]},\"layout\":{\"autotypenumbers\":\"strict\",\"colorway\":[\"#636efa\",\"#EF553B\",\"#00cc96\",\"#ab63fa\",\"#FFA15A\",\"#19d3f3\",\"#FF6692\",\"#B6E880\",\"#FF97FF\",\"#FECB52\"],\"font\":{\"color\":\"#2a3f5f\"},\"hovermode\":\"closest\",\"hoverlabel\":{\"align\":\"left\"},\"paper_bgcolor\":\"white\",\"plot_bgcolor\":\"#E5ECF6\",\"polar\":{\"bgcolor\":\"#E5ECF6\",\"angularaxis\":{\"gridcolor\":\"white\",\"linecolor\":\"white\",\"ticks\":\"\"},\"radialaxis\":{\"gridcolor\":\"white\",\"linecolor\":\"white\",\"ticks\":\"\"}},\"ternary\":{\"bgcolor\":\"#E5ECF6\",\"aaxis\":{\"gridcolor\":\"white\",\"linecolor\":\"white\",\"ticks\":\"\"},\"baxis\":{\"gridcolor\":\"white\",\"linecolor\":\"white\",\"ticks\":\"\"},\"caxis\":{\"gridcolor\":\"white\",\"linecolor\":\"white\",\"ticks\":\"\"}},\"coloraxis\":{\"colorbar\":{\"outlinewidth\":0,\"ticks\":\"\"}},\"colorscale\":{\"sequential\":[[0.0,\"#0d0887\"],[0.1111111111111111,\"#46039f\"],[0.2222222222222222,\"#7201a8\"],[0.3333333333333333,\"#9c179e\"],[0.4444444444444444,\"#bd3786\"],[0.5555555555555556,\"#d8576b\"],[0.6666666666666666,\"#ed7953\"],[0.7777777777777778,\"#fb9f3a\"],[0.8888888888888888,\"#fdca26\"],[1.0,\"#f0f921\"]],\"sequentialminus\":[[0.0,\"#0d0887\"],[0.1111111111111111,\"#46039f\"],[0.2222222222222222,\"#7201a8\"],[0.3333333333333333,\"#9c179e\"],[0.4444444444444444,\"#bd3786\"],[0.5555555555555556,\"#d8576b\"],[0.6666666666666666,\"#ed7953\"],[0.7777777777777778,\"#fb9f3a\"],[0.8888888888888888,\"#fdca26\"],[1.0,\"#f0f921\"]],\"diverging\":[[0,\"#8e0152\"],[0.1,\"#c51b7d\"],[0.2,\"#de77ae\"],[0.3,\"#f1b6da\"],[0.4,\"#fde0ef\"],[0.5,\"#f7f7f7\"],[0.6,\"#e6f5d0\"],[0.7,\"#b8e186\"],[0.8,\"#7fbc41\"],[0.9,\"#4d9221\"],[1,\"#276419\"]]},\"xaxis\":{\"gridcolor\":\"white\",\"linecolor\":\"white\",\"ticks\":\"\",\"title\":{\"standoff\":15},\"zerolinecolor\":\"white\",\"automargin\":true,\"zerolinewidth\":2},\"yaxis\":{\"gridcolor\":\"white\",\"linecolor\":\"white\",\"ticks\":\"\",\"title\":{\"standoff\":15},\"zerolinecolor\":\"white\",\"automargin\":true,\"zerolinewidth\":2},\"scene\":{\"xaxis\":{\"backgroundcolor\":\"#E5ECF6\",\"gridcolor\":\"white\",\"linecolor\":\"white\",\"showbackground\":true,\"ticks\":\"\",\"zerolinecolor\":\"white\",\"gridwidth\":2},\"yaxis\":{\"backgroundcolor\":\"#E5ECF6\",\"gridcolor\":\"white\",\"linecolor\":\"white\",\"showbackground\":true,\"ticks\":\"\",\"zerolinecolor\":\"white\",\"gridwidth\":2},\"zaxis\":{\"backgroundcolor\":\"#E5ECF6\",\"gridcolor\":\"white\",\"linecolor\":\"white\",\"showbackground\":true,\"ticks\":\"\",\"zerolinecolor\":\"white\",\"gridwidth\":2}},\"shapedefaults\":{\"line\":{\"color\":\"#2a3f5f\"}},\"annotationdefaults\":{\"arrowcolor\":\"#2a3f5f\",\"arrowhead\":0,\"arrowwidth\":1},\"geo\":{\"bgcolor\":\"white\",\"landcolor\":\"#E5ECF6\",\"subunitcolor\":\"white\",\"showland\":true,\"showlakes\":true,\"lakecolor\":\"white\"},\"title\":{\"x\":0.05},\"mapbox\":{\"style\":\"light\"}}},\"title\":{\"text\":\"\\u0412\\u043e\\u0440\\u043e\\u043d\\u043a\\u0430 \\u0441\\u043e\\u0431\\u044b\\u0442\\u0438\\u0439 \\u0434\\u043e\\u043b\\u0435\\u0439 \\u043f\\u043e\\u043b\\u044c\\u0437\\u043e\\u0432\\u0430\\u0442\\u0435\\u043b\\u0435\\u0439, \\u043a\\u043e\\u0442\\u043e\\u0440\\u044b\\u0435 \\u043f\\u0440\\u043e\\u0445\\u043e\\u0434\\u044f\\u0442 \\u043d\\u0430 \\u0441\\u043b\\u0435\\u0434\\u0443\\u044e\\u0449\\u0438\\u0439 \\u0448\\u0430\\u0433 \\u0432\\u043e\\u0440\\u043e\\u043d\\u043a\\u0438\"}},                        {\"responsive\": true}                    ).then(function(){\n",
       "                            \n",
       "var gd = document.getElementById('3f62ca76-90ea-4094-a5f3-9ac82d7bcd28');\n",
       "var x = new MutationObserver(function (mutations, observer) {{\n",
       "        var display = window.getComputedStyle(gd).display;\n",
       "        if (!display || display === 'none') {{\n",
       "            console.log([gd, 'removed!']);\n",
       "            Plotly.purge(gd);\n",
       "            observer.disconnect();\n",
       "        }}\n",
       "}});\n",
       "\n",
       "// Listen for the removal of the full notebook cells\n",
       "var notebookContainer = gd.closest('#notebook-container');\n",
       "if (notebookContainer) {{\n",
       "    x.observe(notebookContainer, {childList: true});\n",
       "}}\n",
       "\n",
       "// Listen for the clearing of the current output cell\n",
       "var outputEl = gd.closest('.output');\n",
       "if (outputEl) {{\n",
       "    x.observe(outputEl, {childList: true});\n",
       "}}\n",
       "\n",
       "                        })                };                });            </script>        </div>"
      ]
     },
     "metadata": {},
     "output_type": "display_data"
    }
   ],
   "source": [
    "# построим воронки событий долей пользователей, которые проходят на следующий шаг\n",
    "fig = go.Figure(go.Funnel(\n",
    "    y = funnel_sales['event_name'],\n",
    "    x = funnel_sales['device_share_passes, %'],\n",
    "    textposition = 'inside'))\n",
    "fig.update_layout(title_text='Воронка событий долей пользователей, которые проходят на следующий шаг воронки')\n",
    "fig.show()\n",
    "pio.write_html(fig, file='figure.html', auto_open=True)"
   ]
  },
  {
   "cell_type": "markdown",
   "metadata": {},
   "source": [
    "<div style=\"border-radius: 15px; box-shadow: 4px 4px 4px; border: solid green 2px; padding: 20px\">\n",
    "\n",
    "Можем заметить, что больше всего пользователей теряется на первом действие `38.1%`\n",
    "</div>"
   ]
  },
  {
   "cell_type": "code",
   "execution_count": 32,
   "metadata": {},
   "outputs": [
    {
     "name": "stdout",
     "output_type": "stream",
     "text": [
      "От главного экрана до экрана оплаты доходят 47.7 % пользователей\n"
     ]
    }
   ],
   "source": [
    "print('От главного экрана до экрана оплаты доходят', \\\n",
    "      round(funnel_sales['total_device'][3] / funnel_sales['total_device'][0] * 100, 2), '% пользователей')"
   ]
  },
  {
   "cell_type": "markdown",
   "metadata": {},
   "source": [
    "<div style=\"border-radius: 15px; box-shadow: 4px 4px 4px; border: solid green 2px; padding: 20px\">\n",
    "    \n",
    "В ходе изучения данных, построили воронку событий и на её основе определили какие доли пользователей проходят на следующий этап и долю пользователей дошедших с певого этапа до последнего\n",
    "\n",
    "Выяснили, что на первом этапе теряется больше всего пользователей `38.1%`, а от главного экрана до экрана оплаты доходят `47.7%` пользователей\n",
    "</div>"
   ]
  },
  {
   "cell_type": "markdown",
   "metadata": {},
   "source": [
    "## **Изучение результатов эксперимента**"
   ]
  },
  {
   "cell_type": "code",
   "execution_count": 33,
   "metadata": {},
   "outputs": [
    {
     "data": {
      "text/html": [
       "<div>\n",
       "<style scoped>\n",
       "    .dataframe tbody tr th:only-of-type {\n",
       "        vertical-align: middle;\n",
       "    }\n",
       "\n",
       "    .dataframe tbody tr th {\n",
       "        vertical-align: top;\n",
       "    }\n",
       "\n",
       "    .dataframe thead th {\n",
       "        text-align: right;\n",
       "    }\n",
       "</style>\n",
       "<table border=\"1\" class=\"dataframe\">\n",
       "  <thead>\n",
       "    <tr style=\"text-align: right;\">\n",
       "      <th></th>\n",
       "      <th>exp_id</th>\n",
       "      <th>device_id</th>\n",
       "    </tr>\n",
       "  </thead>\n",
       "  <tbody>\n",
       "    <tr>\n",
       "      <th>0</th>\n",
       "      <td>246</td>\n",
       "      <td>2484</td>\n",
       "    </tr>\n",
       "    <tr>\n",
       "      <th>1</th>\n",
       "      <td>247</td>\n",
       "      <td>2513</td>\n",
       "    </tr>\n",
       "    <tr>\n",
       "      <th>2</th>\n",
       "      <td>248</td>\n",
       "      <td>2537</td>\n",
       "    </tr>\n",
       "  </tbody>\n",
       "</table>\n",
       "</div>"
      ],
      "text/plain": [
       "   exp_id  device_id\n",
       "0     246       2484\n",
       "1     247       2513\n",
       "2     248       2537"
      ]
     },
     "execution_count": 33,
     "metadata": {},
     "output_type": "execute_result"
    }
   ],
   "source": [
    "# выведем кол-во уникальных пользователей по группам\n",
    "users_exp = data_clean.pivot_table(index='exp_id', values='device_id', aggfunc='nunique').reset_index()\n",
    "users_exp"
   ]
  },
  {
   "cell_type": "markdown",
   "metadata": {},
   "source": [
    "<div style=\"border-radius: 15px; box-shadow: 4px 4px 4px; border: solid green 2px; padding: 20px\">\n",
    "\n",
    "В группах достаточное и примерно одинакое кол-во пользователей, а это хорошо для проведения A/A теста\n",
    "\n",
    "**Критерии успешного A/A-теста:**\n",
    "\n",
    "- Количество пользователей в различных группах различается не более, чем на 1%;\n",
    "- Для всех групп фиксируют и отправляют в системы аналитики данные об одном и том же;\n",
    "- Различие ключевых метрик по группам не превышает 1% и не имеет статистической значимости;\n",
    "- Попавший в одну из групп посетитель остаётся в этой группе до конца теста. Если пользователь видит разные версии исследуемой страницы в ходе одного исследования, неизвестно, какая именно повлияла на его решения. Значит, и результаты такого теста нельзя интерпретировать однозначно.\n",
    "\n",
    "</div>"
   ]
  },
  {
   "cell_type": "code",
   "execution_count": 34,
   "metadata": {},
   "outputs": [
    {
     "name": "stdout",
     "output_type": "stream",
     "text": [
      "Кол-во пользователей в различных группах различается на 1.15 %\n"
     ]
    }
   ],
   "source": [
    "# выведем разницу кол-ва пользователей между группами \n",
    "group_246 = int(users_exp[users_exp['exp_id'] == 246]['device_id'])\n",
    "group_247 = int(users_exp[users_exp['exp_id'] == 247]['device_id'])\n",
    "print('Кол-во пользователей в различных группах различается на', round(100 - (group_246 / group_247 * 100), 2), '%')"
   ]
  },
  {
   "cell_type": "markdown",
   "metadata": {},
   "source": [
    "### А/А-тестирование"
   ]
  },
  {
   "cell_type": "markdown",
   "metadata": {},
   "source": [
    "**Cформулируем гипотезы:**\n",
    "\n",
    "H0: различий в долях уникальных пользователей между группами нет\n",
    "\n",
    "H1: различий в долях уникальных пользователей между группами есть\n",
    "\n",
    "***Воспользуемся методом z-тест(z-критерий Фишера) и обозначим критический уровень статистической значимости 5%***"
   ]
  },
  {
   "cell_type": "code",
   "execution_count": 35,
   "metadata": {},
   "outputs": [
    {
     "name": "stdout",
     "output_type": "stream",
     "text": [
      "p-значение:  0.615804820320411\n",
      "Не получилось отвергнуть нулевую гипотезу, нет оснований считать доли разными\n"
     ]
    }
   ],
   "source": [
    "# критический уровень статистической значимости\n",
    "alpha = .05\n",
    " \n",
    "# число пользователей в группе 1 и группе 2:\n",
    "users = np.array([data_clean['device_id'].nunique(),\n",
    "                        data_clean['device_id'].nunique()])\n",
    "\n",
    "# число пользователей, совершивших событие в группе 1 и группе 2\n",
    "success = np.array([data_clean[data_clean['exp_id'] == 246]['device_id'].nunique(), \n",
    "                        data_clean[data_clean['exp_id'] == 247]['device_id'].nunique()])\n",
    "\n",
    "# пропорции успехов в группах:\n",
    "p1 = success[0]/users[0]\n",
    "p2 = success[1]/users[1]\n",
    "    \n",
    "# пропорция успехов в комбинированном датасете:\n",
    "p_combined = (success[0] + success[1]) / (users[0] + users[1])\n",
    "\n",
    "# разница пропорций в датасетах\n",
    "difference = p1 - p2 \n",
    "\n",
    "# считаем статистику в ст.отклонениях стандартного нормального распределения\n",
    "z_value = difference /  np.sqrt(p_combined * (1 - p_combined) * (1/users[0] + 1/users[1]))\n",
    "\n",
    "# задаем стандартное нормальное распределение (среднее 0, ст.отклонение 1)\n",
    "distr = st.norm(0, 1)  \n",
    "\n",
    "# удваиваем результат, так как тест двусторонний \n",
    "p_value = (1 - distr.cdf(abs(z_value))) * 2 \n",
    "    \n",
    "print('p-значение: ', p_value)\n",
    "\n",
    "if p_value < alpha:\n",
    "        print('Отвергаем нулевую гипотезу: между долями есть разница')\n",
    "else:\n",
    "        print(\n",
    "        'Не получилось отвергнуть нулевую гипотезу, нет оснований считать доли разными')"
   ]
  },
  {
   "cell_type": "markdown",
   "metadata": {},
   "source": [
    "<div style=\"border-radius: 15px; box-shadow: 4px 4px 4px; border: solid green 2px; padding: 20px\">\n",
    "    \n",
    "В ходе проведенного A/A-теста по группам выяснили, что статистически достоверного отличия при заданном уровне значимости нет. Проведём ещё A/A-тест по событиям между группами.\n",
    "</div>"
   ]
  },
  {
   "cell_type": "code",
   "execution_count": 36,
   "metadata": {},
   "outputs": [
    {
     "data": {
      "text/html": [
       "<div>\n",
       "<style scoped>\n",
       "    .dataframe tbody tr th:only-of-type {\n",
       "        vertical-align: middle;\n",
       "    }\n",
       "\n",
       "    .dataframe tbody tr th {\n",
       "        vertical-align: top;\n",
       "    }\n",
       "\n",
       "    .dataframe thead th {\n",
       "        text-align: right;\n",
       "    }\n",
       "</style>\n",
       "<table border=\"1\" class=\"dataframe\">\n",
       "  <thead>\n",
       "    <tr style=\"text-align: right;\">\n",
       "      <th></th>\n",
       "      <th>event_name</th>\n",
       "      <th>exp_id</th>\n",
       "      <th>device_id</th>\n",
       "    </tr>\n",
       "  </thead>\n",
       "  <tbody>\n",
       "    <tr>\n",
       "      <th>0</th>\n",
       "      <td>MainScreenAppear</td>\n",
       "      <td>248</td>\n",
       "      <td>2493</td>\n",
       "    </tr>\n",
       "    <tr>\n",
       "      <th>1</th>\n",
       "      <td>OffersScreenAppear</td>\n",
       "      <td>248</td>\n",
       "      <td>1531</td>\n",
       "    </tr>\n",
       "    <tr>\n",
       "      <th>2</th>\n",
       "      <td>CartScreenAppear</td>\n",
       "      <td>248</td>\n",
       "      <td>1230</td>\n",
       "    </tr>\n",
       "    <tr>\n",
       "      <th>3</th>\n",
       "      <td>PaymentScreenSuccessful</td>\n",
       "      <td>248</td>\n",
       "      <td>1181</td>\n",
       "    </tr>\n",
       "    <tr>\n",
       "      <th>5</th>\n",
       "      <td>MainScreenAppear</td>\n",
       "      <td>247</td>\n",
       "      <td>2476</td>\n",
       "    </tr>\n",
       "    <tr>\n",
       "      <th>6</th>\n",
       "      <td>OffersScreenAppear</td>\n",
       "      <td>247</td>\n",
       "      <td>1520</td>\n",
       "    </tr>\n",
       "    <tr>\n",
       "      <th>7</th>\n",
       "      <td>CartScreenAppear</td>\n",
       "      <td>247</td>\n",
       "      <td>1238</td>\n",
       "    </tr>\n",
       "    <tr>\n",
       "      <th>8</th>\n",
       "      <td>PaymentScreenSuccessful</td>\n",
       "      <td>247</td>\n",
       "      <td>1158</td>\n",
       "    </tr>\n",
       "    <tr>\n",
       "      <th>10</th>\n",
       "      <td>MainScreenAppear</td>\n",
       "      <td>246</td>\n",
       "      <td>2450</td>\n",
       "    </tr>\n",
       "    <tr>\n",
       "      <th>11</th>\n",
       "      <td>OffersScreenAppear</td>\n",
       "      <td>246</td>\n",
       "      <td>1542</td>\n",
       "    </tr>\n",
       "    <tr>\n",
       "      <th>12</th>\n",
       "      <td>CartScreenAppear</td>\n",
       "      <td>246</td>\n",
       "      <td>1266</td>\n",
       "    </tr>\n",
       "    <tr>\n",
       "      <th>13</th>\n",
       "      <td>PaymentScreenSuccessful</td>\n",
       "      <td>246</td>\n",
       "      <td>1200</td>\n",
       "    </tr>\n",
       "  </tbody>\n",
       "</table>\n",
       "</div>"
      ],
      "text/plain": [
       "                 event_name  exp_id  device_id\n",
       "0          MainScreenAppear     248       2493\n",
       "1        OffersScreenAppear     248       1531\n",
       "2          CartScreenAppear     248       1230\n",
       "3   PaymentScreenSuccessful     248       1181\n",
       "5          MainScreenAppear     247       2476\n",
       "6        OffersScreenAppear     247       1520\n",
       "7          CartScreenAppear     247       1238\n",
       "8   PaymentScreenSuccessful     247       1158\n",
       "10         MainScreenAppear     246       2450\n",
       "11       OffersScreenAppear     246       1542\n",
       "12         CartScreenAppear     246       1266\n",
       "13  PaymentScreenSuccessful     246       1200"
      ]
     },
     "execution_count": 36,
     "metadata": {},
     "output_type": "execute_result"
    }
   ],
   "source": [
    "funnel_group = (\n",
    "    data_clean.groupby(['event_name', 'exp_id'])\n",
    "    .agg({'device_id': 'nunique'})\n",
    "    .sort_values(by=['exp_id','device_id'], ascending=False)\n",
    "    .reset_index())\n",
    "\n",
    "funnel_group = funnel_group.query('event_name != \"Tutorial\"')\n",
    "funnel_group"
   ]
  },
  {
   "cell_type": "code",
   "execution_count": 37,
   "metadata": {},
   "outputs": [
    {
     "data": {
      "application/vnd.plotly.v1+json": {
       "config": {
        "plotlyServerURL": "https://plot.ly"
       },
       "data": [
        {
         "name": "246",
         "textinfo": "value+percent previous",
         "type": "funnel",
         "x": [
          2450,
          1542,
          1266,
          1200
         ],
         "y": [
          "MainScreenAppear",
          "OffersScreenAppear",
          "CartScreenAppear",
          "PaymentScreenSuccessful"
         ]
        },
        {
         "name": "247",
         "orientation": "h",
         "textinfo": "value+percent previous",
         "textposition": "inside",
         "type": "funnel",
         "x": [
          2476,
          1520,
          1238,
          1158
         ],
         "y": [
          "MainScreenAppear",
          "OffersScreenAppear",
          "CartScreenAppear",
          "PaymentScreenSuccessful"
         ]
        },
        {
         "name": "248",
         "orientation": "h",
         "textinfo": "value+percent previous",
         "textposition": "inside",
         "type": "funnel",
         "x": [
          2493,
          1531,
          1230,
          1181
         ],
         "y": [
          "MainScreenAppear",
          "OffersScreenAppear",
          "CartScreenAppear",
          "PaymentScreenSuccessful"
         ]
        }
       ],
       "layout": {
        "template": {
         "data": {
          "bar": [
           {
            "error_x": {
             "color": "#2a3f5f"
            },
            "error_y": {
             "color": "#2a3f5f"
            },
            "marker": {
             "line": {
              "color": "#E5ECF6",
              "width": 0.5
             },
             "pattern": {
              "fillmode": "overlay",
              "size": 10,
              "solidity": 0.2
             }
            },
            "type": "bar"
           }
          ],
          "barpolar": [
           {
            "marker": {
             "line": {
              "color": "#E5ECF6",
              "width": 0.5
             },
             "pattern": {
              "fillmode": "overlay",
              "size": 10,
              "solidity": 0.2
             }
            },
            "type": "barpolar"
           }
          ],
          "carpet": [
           {
            "aaxis": {
             "endlinecolor": "#2a3f5f",
             "gridcolor": "white",
             "linecolor": "white",
             "minorgridcolor": "white",
             "startlinecolor": "#2a3f5f"
            },
            "baxis": {
             "endlinecolor": "#2a3f5f",
             "gridcolor": "white",
             "linecolor": "white",
             "minorgridcolor": "white",
             "startlinecolor": "#2a3f5f"
            },
            "type": "carpet"
           }
          ],
          "choropleth": [
           {
            "colorbar": {
             "outlinewidth": 0,
             "ticks": ""
            },
            "type": "choropleth"
           }
          ],
          "contour": [
           {
            "colorbar": {
             "outlinewidth": 0,
             "ticks": ""
            },
            "colorscale": [
             [
              0,
              "#0d0887"
             ],
             [
              0.1111111111111111,
              "#46039f"
             ],
             [
              0.2222222222222222,
              "#7201a8"
             ],
             [
              0.3333333333333333,
              "#9c179e"
             ],
             [
              0.4444444444444444,
              "#bd3786"
             ],
             [
              0.5555555555555556,
              "#d8576b"
             ],
             [
              0.6666666666666666,
              "#ed7953"
             ],
             [
              0.7777777777777778,
              "#fb9f3a"
             ],
             [
              0.8888888888888888,
              "#fdca26"
             ],
             [
              1,
              "#f0f921"
             ]
            ],
            "type": "contour"
           }
          ],
          "contourcarpet": [
           {
            "colorbar": {
             "outlinewidth": 0,
             "ticks": ""
            },
            "type": "contourcarpet"
           }
          ],
          "heatmap": [
           {
            "colorbar": {
             "outlinewidth": 0,
             "ticks": ""
            },
            "colorscale": [
             [
              0,
              "#0d0887"
             ],
             [
              0.1111111111111111,
              "#46039f"
             ],
             [
              0.2222222222222222,
              "#7201a8"
             ],
             [
              0.3333333333333333,
              "#9c179e"
             ],
             [
              0.4444444444444444,
              "#bd3786"
             ],
             [
              0.5555555555555556,
              "#d8576b"
             ],
             [
              0.6666666666666666,
              "#ed7953"
             ],
             [
              0.7777777777777778,
              "#fb9f3a"
             ],
             [
              0.8888888888888888,
              "#fdca26"
             ],
             [
              1,
              "#f0f921"
             ]
            ],
            "type": "heatmap"
           }
          ],
          "heatmapgl": [
           {
            "colorbar": {
             "outlinewidth": 0,
             "ticks": ""
            },
            "colorscale": [
             [
              0,
              "#0d0887"
             ],
             [
              0.1111111111111111,
              "#46039f"
             ],
             [
              0.2222222222222222,
              "#7201a8"
             ],
             [
              0.3333333333333333,
              "#9c179e"
             ],
             [
              0.4444444444444444,
              "#bd3786"
             ],
             [
              0.5555555555555556,
              "#d8576b"
             ],
             [
              0.6666666666666666,
              "#ed7953"
             ],
             [
              0.7777777777777778,
              "#fb9f3a"
             ],
             [
              0.8888888888888888,
              "#fdca26"
             ],
             [
              1,
              "#f0f921"
             ]
            ],
            "type": "heatmapgl"
           }
          ],
          "histogram": [
           {
            "marker": {
             "pattern": {
              "fillmode": "overlay",
              "size": 10,
              "solidity": 0.2
             }
            },
            "type": "histogram"
           }
          ],
          "histogram2d": [
           {
            "colorbar": {
             "outlinewidth": 0,
             "ticks": ""
            },
            "colorscale": [
             [
              0,
              "#0d0887"
             ],
             [
              0.1111111111111111,
              "#46039f"
             ],
             [
              0.2222222222222222,
              "#7201a8"
             ],
             [
              0.3333333333333333,
              "#9c179e"
             ],
             [
              0.4444444444444444,
              "#bd3786"
             ],
             [
              0.5555555555555556,
              "#d8576b"
             ],
             [
              0.6666666666666666,
              "#ed7953"
             ],
             [
              0.7777777777777778,
              "#fb9f3a"
             ],
             [
              0.8888888888888888,
              "#fdca26"
             ],
             [
              1,
              "#f0f921"
             ]
            ],
            "type": "histogram2d"
           }
          ],
          "histogram2dcontour": [
           {
            "colorbar": {
             "outlinewidth": 0,
             "ticks": ""
            },
            "colorscale": [
             [
              0,
              "#0d0887"
             ],
             [
              0.1111111111111111,
              "#46039f"
             ],
             [
              0.2222222222222222,
              "#7201a8"
             ],
             [
              0.3333333333333333,
              "#9c179e"
             ],
             [
              0.4444444444444444,
              "#bd3786"
             ],
             [
              0.5555555555555556,
              "#d8576b"
             ],
             [
              0.6666666666666666,
              "#ed7953"
             ],
             [
              0.7777777777777778,
              "#fb9f3a"
             ],
             [
              0.8888888888888888,
              "#fdca26"
             ],
             [
              1,
              "#f0f921"
             ]
            ],
            "type": "histogram2dcontour"
           }
          ],
          "mesh3d": [
           {
            "colorbar": {
             "outlinewidth": 0,
             "ticks": ""
            },
            "type": "mesh3d"
           }
          ],
          "parcoords": [
           {
            "line": {
             "colorbar": {
              "outlinewidth": 0,
              "ticks": ""
             }
            },
            "type": "parcoords"
           }
          ],
          "pie": [
           {
            "automargin": true,
            "type": "pie"
           }
          ],
          "scatter": [
           {
            "fillpattern": {
             "fillmode": "overlay",
             "size": 10,
             "solidity": 0.2
            },
            "type": "scatter"
           }
          ],
          "scatter3d": [
           {
            "line": {
             "colorbar": {
              "outlinewidth": 0,
              "ticks": ""
             }
            },
            "marker": {
             "colorbar": {
              "outlinewidth": 0,
              "ticks": ""
             }
            },
            "type": "scatter3d"
           }
          ],
          "scattercarpet": [
           {
            "marker": {
             "colorbar": {
              "outlinewidth": 0,
              "ticks": ""
             }
            },
            "type": "scattercarpet"
           }
          ],
          "scattergeo": [
           {
            "marker": {
             "colorbar": {
              "outlinewidth": 0,
              "ticks": ""
             }
            },
            "type": "scattergeo"
           }
          ],
          "scattergl": [
           {
            "marker": {
             "colorbar": {
              "outlinewidth": 0,
              "ticks": ""
             }
            },
            "type": "scattergl"
           }
          ],
          "scattermapbox": [
           {
            "marker": {
             "colorbar": {
              "outlinewidth": 0,
              "ticks": ""
             }
            },
            "type": "scattermapbox"
           }
          ],
          "scatterpolar": [
           {
            "marker": {
             "colorbar": {
              "outlinewidth": 0,
              "ticks": ""
             }
            },
            "type": "scatterpolar"
           }
          ],
          "scatterpolargl": [
           {
            "marker": {
             "colorbar": {
              "outlinewidth": 0,
              "ticks": ""
             }
            },
            "type": "scatterpolargl"
           }
          ],
          "scatterternary": [
           {
            "marker": {
             "colorbar": {
              "outlinewidth": 0,
              "ticks": ""
             }
            },
            "type": "scatterternary"
           }
          ],
          "surface": [
           {
            "colorbar": {
             "outlinewidth": 0,
             "ticks": ""
            },
            "colorscale": [
             [
              0,
              "#0d0887"
             ],
             [
              0.1111111111111111,
              "#46039f"
             ],
             [
              0.2222222222222222,
              "#7201a8"
             ],
             [
              0.3333333333333333,
              "#9c179e"
             ],
             [
              0.4444444444444444,
              "#bd3786"
             ],
             [
              0.5555555555555556,
              "#d8576b"
             ],
             [
              0.6666666666666666,
              "#ed7953"
             ],
             [
              0.7777777777777778,
              "#fb9f3a"
             ],
             [
              0.8888888888888888,
              "#fdca26"
             ],
             [
              1,
              "#f0f921"
             ]
            ],
            "type": "surface"
           }
          ],
          "table": [
           {
            "cells": {
             "fill": {
              "color": "#EBF0F8"
             },
             "line": {
              "color": "white"
             }
            },
            "header": {
             "fill": {
              "color": "#C8D4E3"
             },
             "line": {
              "color": "white"
             }
            },
            "type": "table"
           }
          ]
         },
         "layout": {
          "annotationdefaults": {
           "arrowcolor": "#2a3f5f",
           "arrowhead": 0,
           "arrowwidth": 1
          },
          "autotypenumbers": "strict",
          "coloraxis": {
           "colorbar": {
            "outlinewidth": 0,
            "ticks": ""
           }
          },
          "colorscale": {
           "diverging": [
            [
             0,
             "#8e0152"
            ],
            [
             0.1,
             "#c51b7d"
            ],
            [
             0.2,
             "#de77ae"
            ],
            [
             0.3,
             "#f1b6da"
            ],
            [
             0.4,
             "#fde0ef"
            ],
            [
             0.5,
             "#f7f7f7"
            ],
            [
             0.6,
             "#e6f5d0"
            ],
            [
             0.7,
             "#b8e186"
            ],
            [
             0.8,
             "#7fbc41"
            ],
            [
             0.9,
             "#4d9221"
            ],
            [
             1,
             "#276419"
            ]
           ],
           "sequential": [
            [
             0,
             "#0d0887"
            ],
            [
             0.1111111111111111,
             "#46039f"
            ],
            [
             0.2222222222222222,
             "#7201a8"
            ],
            [
             0.3333333333333333,
             "#9c179e"
            ],
            [
             0.4444444444444444,
             "#bd3786"
            ],
            [
             0.5555555555555556,
             "#d8576b"
            ],
            [
             0.6666666666666666,
             "#ed7953"
            ],
            [
             0.7777777777777778,
             "#fb9f3a"
            ],
            [
             0.8888888888888888,
             "#fdca26"
            ],
            [
             1,
             "#f0f921"
            ]
           ],
           "sequentialminus": [
            [
             0,
             "#0d0887"
            ],
            [
             0.1111111111111111,
             "#46039f"
            ],
            [
             0.2222222222222222,
             "#7201a8"
            ],
            [
             0.3333333333333333,
             "#9c179e"
            ],
            [
             0.4444444444444444,
             "#bd3786"
            ],
            [
             0.5555555555555556,
             "#d8576b"
            ],
            [
             0.6666666666666666,
             "#ed7953"
            ],
            [
             0.7777777777777778,
             "#fb9f3a"
            ],
            [
             0.8888888888888888,
             "#fdca26"
            ],
            [
             1,
             "#f0f921"
            ]
           ]
          },
          "colorway": [
           "#636efa",
           "#EF553B",
           "#00cc96",
           "#ab63fa",
           "#FFA15A",
           "#19d3f3",
           "#FF6692",
           "#B6E880",
           "#FF97FF",
           "#FECB52"
          ],
          "font": {
           "color": "#2a3f5f"
          },
          "geo": {
           "bgcolor": "white",
           "lakecolor": "white",
           "landcolor": "#E5ECF6",
           "showlakes": true,
           "showland": true,
           "subunitcolor": "white"
          },
          "hoverlabel": {
           "align": "left"
          },
          "hovermode": "closest",
          "mapbox": {
           "style": "light"
          },
          "paper_bgcolor": "white",
          "plot_bgcolor": "#E5ECF6",
          "polar": {
           "angularaxis": {
            "gridcolor": "white",
            "linecolor": "white",
            "ticks": ""
           },
           "bgcolor": "#E5ECF6",
           "radialaxis": {
            "gridcolor": "white",
            "linecolor": "white",
            "ticks": ""
           }
          },
          "scene": {
           "xaxis": {
            "backgroundcolor": "#E5ECF6",
            "gridcolor": "white",
            "gridwidth": 2,
            "linecolor": "white",
            "showbackground": true,
            "ticks": "",
            "zerolinecolor": "white"
           },
           "yaxis": {
            "backgroundcolor": "#E5ECF6",
            "gridcolor": "white",
            "gridwidth": 2,
            "linecolor": "white",
            "showbackground": true,
            "ticks": "",
            "zerolinecolor": "white"
           },
           "zaxis": {
            "backgroundcolor": "#E5ECF6",
            "gridcolor": "white",
            "gridwidth": 2,
            "linecolor": "white",
            "showbackground": true,
            "ticks": "",
            "zerolinecolor": "white"
           }
          },
          "shapedefaults": {
           "line": {
            "color": "#2a3f5f"
           }
          },
          "ternary": {
           "aaxis": {
            "gridcolor": "white",
            "linecolor": "white",
            "ticks": ""
           },
           "baxis": {
            "gridcolor": "white",
            "linecolor": "white",
            "ticks": ""
           },
           "bgcolor": "#E5ECF6",
           "caxis": {
            "gridcolor": "white",
            "linecolor": "white",
            "ticks": ""
           }
          },
          "title": {
           "x": 0.05
          },
          "xaxis": {
           "automargin": true,
           "gridcolor": "white",
           "linecolor": "white",
           "ticks": "",
           "title": {
            "standoff": 15
           },
           "zerolinecolor": "white",
           "zerolinewidth": 2
          },
          "yaxis": {
           "automargin": true,
           "gridcolor": "white",
           "linecolor": "white",
           "ticks": "",
           "title": {
            "standoff": 15
           },
           "zerolinecolor": "white",
           "zerolinewidth": 2
          }
         }
        },
        "title": {
         "text": "Воронка событий по группам"
        }
       }
      },
      "text/html": [
       "<div>                            <div id=\"5d740091-4154-4cfe-9d78-241d6c777fdd\" class=\"plotly-graph-div\" style=\"height:525px; width:100%;\"></div>            <script type=\"text/javascript\">                require([\"plotly\"], function(Plotly) {                    window.PLOTLYENV=window.PLOTLYENV || {};                                    if (document.getElementById(\"5d740091-4154-4cfe-9d78-241d6c777fdd\")) {                    Plotly.newPlot(                        \"5d740091-4154-4cfe-9d78-241d6c777fdd\",                        [{\"name\":\"246\",\"textinfo\":\"value+percent previous\",\"x\":[2450,1542,1266,1200],\"y\":[\"MainScreenAppear\",\"OffersScreenAppear\",\"CartScreenAppear\",\"PaymentScreenSuccessful\"],\"type\":\"funnel\"},{\"name\":\"247\",\"orientation\":\"h\",\"textinfo\":\"value+percent previous\",\"textposition\":\"inside\",\"x\":[2476,1520,1238,1158],\"y\":[\"MainScreenAppear\",\"OffersScreenAppear\",\"CartScreenAppear\",\"PaymentScreenSuccessful\"],\"type\":\"funnel\"},{\"name\":\"248\",\"orientation\":\"h\",\"textinfo\":\"value+percent previous\",\"textposition\":\"inside\",\"x\":[2493,1531,1230,1181],\"y\":[\"MainScreenAppear\",\"OffersScreenAppear\",\"CartScreenAppear\",\"PaymentScreenSuccessful\"],\"type\":\"funnel\"}],                        {\"template\":{\"data\":{\"histogram2dcontour\":[{\"type\":\"histogram2dcontour\",\"colorbar\":{\"outlinewidth\":0,\"ticks\":\"\"},\"colorscale\":[[0.0,\"#0d0887\"],[0.1111111111111111,\"#46039f\"],[0.2222222222222222,\"#7201a8\"],[0.3333333333333333,\"#9c179e\"],[0.4444444444444444,\"#bd3786\"],[0.5555555555555556,\"#d8576b\"],[0.6666666666666666,\"#ed7953\"],[0.7777777777777778,\"#fb9f3a\"],[0.8888888888888888,\"#fdca26\"],[1.0,\"#f0f921\"]]}],\"choropleth\":[{\"type\":\"choropleth\",\"colorbar\":{\"outlinewidth\":0,\"ticks\":\"\"}}],\"histogram2d\":[{\"type\":\"histogram2d\",\"colorbar\":{\"outlinewidth\":0,\"ticks\":\"\"},\"colorscale\":[[0.0,\"#0d0887\"],[0.1111111111111111,\"#46039f\"],[0.2222222222222222,\"#7201a8\"],[0.3333333333333333,\"#9c179e\"],[0.4444444444444444,\"#bd3786\"],[0.5555555555555556,\"#d8576b\"],[0.6666666666666666,\"#ed7953\"],[0.7777777777777778,\"#fb9f3a\"],[0.8888888888888888,\"#fdca26\"],[1.0,\"#f0f921\"]]}],\"heatmap\":[{\"type\":\"heatmap\",\"colorbar\":{\"outlinewidth\":0,\"ticks\":\"\"},\"colorscale\":[[0.0,\"#0d0887\"],[0.1111111111111111,\"#46039f\"],[0.2222222222222222,\"#7201a8\"],[0.3333333333333333,\"#9c179e\"],[0.4444444444444444,\"#bd3786\"],[0.5555555555555556,\"#d8576b\"],[0.6666666666666666,\"#ed7953\"],[0.7777777777777778,\"#fb9f3a\"],[0.8888888888888888,\"#fdca26\"],[1.0,\"#f0f921\"]]}],\"heatmapgl\":[{\"type\":\"heatmapgl\",\"colorbar\":{\"outlinewidth\":0,\"ticks\":\"\"},\"colorscale\":[[0.0,\"#0d0887\"],[0.1111111111111111,\"#46039f\"],[0.2222222222222222,\"#7201a8\"],[0.3333333333333333,\"#9c179e\"],[0.4444444444444444,\"#bd3786\"],[0.5555555555555556,\"#d8576b\"],[0.6666666666666666,\"#ed7953\"],[0.7777777777777778,\"#fb9f3a\"],[0.8888888888888888,\"#fdca26\"],[1.0,\"#f0f921\"]]}],\"contourcarpet\":[{\"type\":\"contourcarpet\",\"colorbar\":{\"outlinewidth\":0,\"ticks\":\"\"}}],\"contour\":[{\"type\":\"contour\",\"colorbar\":{\"outlinewidth\":0,\"ticks\":\"\"},\"colorscale\":[[0.0,\"#0d0887\"],[0.1111111111111111,\"#46039f\"],[0.2222222222222222,\"#7201a8\"],[0.3333333333333333,\"#9c179e\"],[0.4444444444444444,\"#bd3786\"],[0.5555555555555556,\"#d8576b\"],[0.6666666666666666,\"#ed7953\"],[0.7777777777777778,\"#fb9f3a\"],[0.8888888888888888,\"#fdca26\"],[1.0,\"#f0f921\"]]}],\"surface\":[{\"type\":\"surface\",\"colorbar\":{\"outlinewidth\":0,\"ticks\":\"\"},\"colorscale\":[[0.0,\"#0d0887\"],[0.1111111111111111,\"#46039f\"],[0.2222222222222222,\"#7201a8\"],[0.3333333333333333,\"#9c179e\"],[0.4444444444444444,\"#bd3786\"],[0.5555555555555556,\"#d8576b\"],[0.6666666666666666,\"#ed7953\"],[0.7777777777777778,\"#fb9f3a\"],[0.8888888888888888,\"#fdca26\"],[1.0,\"#f0f921\"]]}],\"mesh3d\":[{\"type\":\"mesh3d\",\"colorbar\":{\"outlinewidth\":0,\"ticks\":\"\"}}],\"scatter\":[{\"fillpattern\":{\"fillmode\":\"overlay\",\"size\":10,\"solidity\":0.2},\"type\":\"scatter\"}],\"parcoords\":[{\"type\":\"parcoords\",\"line\":{\"colorbar\":{\"outlinewidth\":0,\"ticks\":\"\"}}}],\"scatterpolargl\":[{\"type\":\"scatterpolargl\",\"marker\":{\"colorbar\":{\"outlinewidth\":0,\"ticks\":\"\"}}}],\"bar\":[{\"error_x\":{\"color\":\"#2a3f5f\"},\"error_y\":{\"color\":\"#2a3f5f\"},\"marker\":{\"line\":{\"color\":\"#E5ECF6\",\"width\":0.5},\"pattern\":{\"fillmode\":\"overlay\",\"size\":10,\"solidity\":0.2}},\"type\":\"bar\"}],\"scattergeo\":[{\"type\":\"scattergeo\",\"marker\":{\"colorbar\":{\"outlinewidth\":0,\"ticks\":\"\"}}}],\"scatterpolar\":[{\"type\":\"scatterpolar\",\"marker\":{\"colorbar\":{\"outlinewidth\":0,\"ticks\":\"\"}}}],\"histogram\":[{\"marker\":{\"pattern\":{\"fillmode\":\"overlay\",\"size\":10,\"solidity\":0.2}},\"type\":\"histogram\"}],\"scattergl\":[{\"type\":\"scattergl\",\"marker\":{\"colorbar\":{\"outlinewidth\":0,\"ticks\":\"\"}}}],\"scatter3d\":[{\"type\":\"scatter3d\",\"line\":{\"colorbar\":{\"outlinewidth\":0,\"ticks\":\"\"}},\"marker\":{\"colorbar\":{\"outlinewidth\":0,\"ticks\":\"\"}}}],\"scattermapbox\":[{\"type\":\"scattermapbox\",\"marker\":{\"colorbar\":{\"outlinewidth\":0,\"ticks\":\"\"}}}],\"scatterternary\":[{\"type\":\"scatterternary\",\"marker\":{\"colorbar\":{\"outlinewidth\":0,\"ticks\":\"\"}}}],\"scattercarpet\":[{\"type\":\"scattercarpet\",\"marker\":{\"colorbar\":{\"outlinewidth\":0,\"ticks\":\"\"}}}],\"carpet\":[{\"aaxis\":{\"endlinecolor\":\"#2a3f5f\",\"gridcolor\":\"white\",\"linecolor\":\"white\",\"minorgridcolor\":\"white\",\"startlinecolor\":\"#2a3f5f\"},\"baxis\":{\"endlinecolor\":\"#2a3f5f\",\"gridcolor\":\"white\",\"linecolor\":\"white\",\"minorgridcolor\":\"white\",\"startlinecolor\":\"#2a3f5f\"},\"type\":\"carpet\"}],\"table\":[{\"cells\":{\"fill\":{\"color\":\"#EBF0F8\"},\"line\":{\"color\":\"white\"}},\"header\":{\"fill\":{\"color\":\"#C8D4E3\"},\"line\":{\"color\":\"white\"}},\"type\":\"table\"}],\"barpolar\":[{\"marker\":{\"line\":{\"color\":\"#E5ECF6\",\"width\":0.5},\"pattern\":{\"fillmode\":\"overlay\",\"size\":10,\"solidity\":0.2}},\"type\":\"barpolar\"}],\"pie\":[{\"automargin\":true,\"type\":\"pie\"}]},\"layout\":{\"autotypenumbers\":\"strict\",\"colorway\":[\"#636efa\",\"#EF553B\",\"#00cc96\",\"#ab63fa\",\"#FFA15A\",\"#19d3f3\",\"#FF6692\",\"#B6E880\",\"#FF97FF\",\"#FECB52\"],\"font\":{\"color\":\"#2a3f5f\"},\"hovermode\":\"closest\",\"hoverlabel\":{\"align\":\"left\"},\"paper_bgcolor\":\"white\",\"plot_bgcolor\":\"#E5ECF6\",\"polar\":{\"bgcolor\":\"#E5ECF6\",\"angularaxis\":{\"gridcolor\":\"white\",\"linecolor\":\"white\",\"ticks\":\"\"},\"radialaxis\":{\"gridcolor\":\"white\",\"linecolor\":\"white\",\"ticks\":\"\"}},\"ternary\":{\"bgcolor\":\"#E5ECF6\",\"aaxis\":{\"gridcolor\":\"white\",\"linecolor\":\"white\",\"ticks\":\"\"},\"baxis\":{\"gridcolor\":\"white\",\"linecolor\":\"white\",\"ticks\":\"\"},\"caxis\":{\"gridcolor\":\"white\",\"linecolor\":\"white\",\"ticks\":\"\"}},\"coloraxis\":{\"colorbar\":{\"outlinewidth\":0,\"ticks\":\"\"}},\"colorscale\":{\"sequential\":[[0.0,\"#0d0887\"],[0.1111111111111111,\"#46039f\"],[0.2222222222222222,\"#7201a8\"],[0.3333333333333333,\"#9c179e\"],[0.4444444444444444,\"#bd3786\"],[0.5555555555555556,\"#d8576b\"],[0.6666666666666666,\"#ed7953\"],[0.7777777777777778,\"#fb9f3a\"],[0.8888888888888888,\"#fdca26\"],[1.0,\"#f0f921\"]],\"sequentialminus\":[[0.0,\"#0d0887\"],[0.1111111111111111,\"#46039f\"],[0.2222222222222222,\"#7201a8\"],[0.3333333333333333,\"#9c179e\"],[0.4444444444444444,\"#bd3786\"],[0.5555555555555556,\"#d8576b\"],[0.6666666666666666,\"#ed7953\"],[0.7777777777777778,\"#fb9f3a\"],[0.8888888888888888,\"#fdca26\"],[1.0,\"#f0f921\"]],\"diverging\":[[0,\"#8e0152\"],[0.1,\"#c51b7d\"],[0.2,\"#de77ae\"],[0.3,\"#f1b6da\"],[0.4,\"#fde0ef\"],[0.5,\"#f7f7f7\"],[0.6,\"#e6f5d0\"],[0.7,\"#b8e186\"],[0.8,\"#7fbc41\"],[0.9,\"#4d9221\"],[1,\"#276419\"]]},\"xaxis\":{\"gridcolor\":\"white\",\"linecolor\":\"white\",\"ticks\":\"\",\"title\":{\"standoff\":15},\"zerolinecolor\":\"white\",\"automargin\":true,\"zerolinewidth\":2},\"yaxis\":{\"gridcolor\":\"white\",\"linecolor\":\"white\",\"ticks\":\"\",\"title\":{\"standoff\":15},\"zerolinecolor\":\"white\",\"automargin\":true,\"zerolinewidth\":2},\"scene\":{\"xaxis\":{\"backgroundcolor\":\"#E5ECF6\",\"gridcolor\":\"white\",\"linecolor\":\"white\",\"showbackground\":true,\"ticks\":\"\",\"zerolinecolor\":\"white\",\"gridwidth\":2},\"yaxis\":{\"backgroundcolor\":\"#E5ECF6\",\"gridcolor\":\"white\",\"linecolor\":\"white\",\"showbackground\":true,\"ticks\":\"\",\"zerolinecolor\":\"white\",\"gridwidth\":2},\"zaxis\":{\"backgroundcolor\":\"#E5ECF6\",\"gridcolor\":\"white\",\"linecolor\":\"white\",\"showbackground\":true,\"ticks\":\"\",\"zerolinecolor\":\"white\",\"gridwidth\":2}},\"shapedefaults\":{\"line\":{\"color\":\"#2a3f5f\"}},\"annotationdefaults\":{\"arrowcolor\":\"#2a3f5f\",\"arrowhead\":0,\"arrowwidth\":1},\"geo\":{\"bgcolor\":\"white\",\"landcolor\":\"#E5ECF6\",\"subunitcolor\":\"white\",\"showland\":true,\"showlakes\":true,\"lakecolor\":\"white\"},\"title\":{\"x\":0.05},\"mapbox\":{\"style\":\"light\"}}},\"title\":{\"text\":\"\\u0412\\u043e\\u0440\\u043e\\u043d\\u043a\\u0430 \\u0441\\u043e\\u0431\\u044b\\u0442\\u0438\\u0439 \\u043f\\u043e \\u0433\\u0440\\u0443\\u043f\\u043f\\u0430\\u043c\"}},                        {\"responsive\": true}                    ).then(function(){\n",
       "                            \n",
       "var gd = document.getElementById('5d740091-4154-4cfe-9d78-241d6c777fdd');\n",
       "var x = new MutationObserver(function (mutations, observer) {{\n",
       "        var display = window.getComputedStyle(gd).display;\n",
       "        if (!display || display === 'none') {{\n",
       "            console.log([gd, 'removed!']);\n",
       "            Plotly.purge(gd);\n",
       "            observer.disconnect();\n",
       "        }}\n",
       "}});\n",
       "\n",
       "// Listen for the removal of the full notebook cells\n",
       "var notebookContainer = gd.closest('#notebook-container');\n",
       "if (notebookContainer) {{\n",
       "    x.observe(notebookContainer, {childList: true});\n",
       "}}\n",
       "\n",
       "// Listen for the clearing of the current output cell\n",
       "var outputEl = gd.closest('.output');\n",
       "if (outputEl) {{\n",
       "    x.observe(outputEl, {childList: true});\n",
       "}}\n",
       "\n",
       "                        })                };                });            </script>        </div>"
      ]
     },
     "metadata": {},
     "output_type": "display_data"
    }
   ],
   "source": [
    "fig = go.Figure()\n",
    "\n",
    "fig.add_trace(go.Funnel(\n",
    "    name = '246',\n",
    "    y = funnel_group.query('exp_id == 246')['event_name'],\n",
    "    x = funnel_group.query('exp_id == 246')['device_id'],\n",
    "    textinfo = \"value+percent previous\"))\n",
    "\n",
    "fig.add_trace(go.Funnel(\n",
    "    name = '247',\n",
    "    orientation = \"h\",\n",
    "    y = funnel_group.query('exp_id == 247')['event_name'],\n",
    "    x = funnel_group.query('exp_id == 247')['device_id'],\n",
    "    textposition = \"inside\",\n",
    "    textinfo = \"value+percent previous\"))\n",
    "\n",
    "fig.add_trace(go.Funnel(\n",
    "    name = '248',\n",
    "    orientation = \"h\",\n",
    "    y = funnel_group.query('exp_id == 248')['event_name'],\n",
    "    x = funnel_group.query('exp_id == 248')['device_id'],\n",
    "    textposition = \"inside\",\n",
    "    textinfo = \"value+percent previous\"))\n",
    "fig.update_layout(title_text='Воронка событий по группам')\n",
    "fig.show()\n",
    "pio.write_html(fig, file='figure.html', auto_open=True)"
   ]
  },
  {
   "cell_type": "code",
   "execution_count": 38,
   "metadata": {},
   "outputs": [],
   "source": [
    "# функция проверки гипотезы о равенстве долей с учётом поправки Бонферрони для множественого тестирования\n",
    "\n",
    "def z_test(data1, data2, event_name, alpha, n):\n",
    " \n",
    "    # критический уровень статистической значимости c поправкой Бонферрони\n",
    "    alpha_b = alpha / n\n",
    " \n",
    "    # число пользователей в группе 1 и группе 2:\n",
    "    users = np.array([data1['device_id'].nunique(), \n",
    "                        data2['device_id'].nunique()])\n",
    "\n",
    "    # число пользователей, совершивших событие в группе 1 и группе 2\n",
    "    success = np.array([data1[data1['event_name'] == event_name]['device_id'].nunique(), \n",
    "                        data2[data2['event_name'] == event_name]['device_id'].nunique()])\n",
    "\n",
    "    # пропорции успехов в группах:\n",
    "    p1 = success[0]/users[0]\n",
    "    p2 = success[1]/users[1]\n",
    "    \n",
    "    # пропорция успехов в комбинированном датасете:\n",
    "    p_combined = (success[0] + success[1]) / (users[0] + users[1])\n",
    "\n",
    "    # разница пропорций в датасетах\n",
    "    difference = p1 - p2 \n",
    "\n",
    "    # считаем статистику в ст.отклонениях стандартного нормального распределения\n",
    "    z_value = difference /  np.sqrt(p_combined * (1 - p_combined) * (1/users[0] + 1/users[1]))\n",
    "\n",
    "    # задаем стандартное нормальное распределение (среднее 0, ст.отклонение 1)\n",
    "    distr = st.norm(0, 1)  \n",
    "\n",
    "    # удваиваем результат, так как тест двусторонний \n",
    "    p_value = (1 - distr.cdf(abs(z_value))) * 2 \n",
    "    \n",
    "    print('Событие:', event_name)\n",
    "    print('p-value: ', p_value)\n",
    "\n",
    "    if p_value < alpha_b:\n",
    "        print('Отвергаем нулевую гипотезу: между долями есть разница')\n",
    "    else:\n",
    "        print(\n",
    "        'Не получилось отвергнуть нулевую гипотезу, нет оснований считать доли разными')"
   ]
  },
  {
   "cell_type": "markdown",
   "metadata": {},
   "source": [
    "<div style=\"border-radius: 15px; box-shadow: 4px 4px 4px; border: solid green 2px; padding: 20px\">\n",
    "\n",
    "У нас получается 4 события, соответственно увеличивается шанс ложнопозитивного результата, для это и используем поправку Бонферрон\n",
    "</div>"
   ]
  },
  {
   "cell_type": "markdown",
   "metadata": {},
   "source": [
    "<div style=\"border-radius: 15px; box-shadow: 4px 4px 4px; border: solid green 2px; padding: 20px\">\n",
    "\n",
    "**Cформулируем гипотезы для всех событий:**\n",
    "\n",
    "**Нулевая гипотеза H₀:** различий в долях уникальных пользователей между группами по событиям нет\n",
    "\n",
    "**Альтернативная гипотеза H₁:** различий в долях уникальных пользователей между группами по событиям есть\n",
    "    \n",
    "*α* = **5**% - уровень значимости\n",
    "\n",
    "**Метод проверки гипотез:** z-тест(z-критерий Фишера)\n",
    "</div>"
   ]
  },
  {
   "cell_type": "code",
   "execution_count": 39,
   "metadata": {},
   "outputs": [
    {
     "name": "stdout",
     "output_type": "stream",
     "text": [
      "Событие: MainScreenAppear\n",
      "p-value:  0.7570597232046099\n",
      "Не получилось отвергнуть нулевую гипотезу, нет оснований считать доли разными\n",
      "\n",
      "Событие: OffersScreenAppear\n",
      "p-value:  0.2480954578522181\n",
      "Не получилось отвергнуть нулевую гипотезу, нет оснований считать доли разными\n",
      "\n",
      "Событие: CartScreenAppear\n",
      "p-value:  0.22883372237997213\n",
      "Не получилось отвергнуть нулевую гипотезу, нет оснований считать доли разными\n",
      "\n",
      "Событие: PaymentScreenSuccessful\n",
      "p-value:  0.11456679313141849\n",
      "Не получилось отвергнуть нулевую гипотезу, нет оснований считать доли разными\n",
      "\n"
     ]
    }
   ],
   "source": [
    "# проверим, есть ли статистически значимая разница между группами 246 и 247\n",
    "for event_name in funnel_group['event_name'].unique():\n",
    "    z_test(data_clean[data_clean['exp_id'] == 246], data_clean[data_clean['exp_id'] == 247], event_name, 0.05, 4)\n",
    "    print()"
   ]
  },
  {
   "cell_type": "markdown",
   "metadata": {},
   "source": [
    "<div style=\"border-radius: 15px; box-shadow: 4px 4px 4px; border: solid green 2px; padding: 20px\">\n",
    "\n",
    "По результатам A/A-теста по событиям в группах `246` и `247`, видим, что статистически достоверного отличия при заданном уровне значимости c поправкой Бенферрони нет. Это значит, что можно приступать к A/B-тестированию\n",
    "</div>"
   ]
  },
  {
   "cell_type": "markdown",
   "metadata": {},
   "source": [
    "### A/B-тестирование"
   ]
  },
  {
   "cell_type": "markdown",
   "metadata": {},
   "source": [
    "<div style=\"border-radius: 15px; box-shadow: 4px 4px 4px; border: solid green 2px; padding: 20px\">\n",
    "\n",
    "**Cформулируем гипотезы для всех событий A/B-теста:**\n",
    "\n",
    "**Нулевая гипотеза H₀:** различий в долях уникальных пользователей между группами по событиям нет\n",
    "\n",
    "**Альтернативная гипотеза H₁:** различий в долях уникальных пользователей между группами по событиям есть\n",
    "    \n",
    "*α* = **5**% - уровень значимости\n",
    "\n",
    "**Метод проверки гипотез:** z-тест(z-критерий Фишера)\n",
    "</div>"
   ]
  },
  {
   "cell_type": "code",
   "execution_count": 40,
   "metadata": {},
   "outputs": [
    {
     "name": "stdout",
     "output_type": "stream",
     "text": [
      "Событие: MainScreenAppear\n",
      "p-value:  0.2949721933554552\n",
      "Не получилось отвергнуть нулевую гипотезу, нет оснований считать доли разными\n",
      "\n",
      "Событие: OffersScreenAppear\n",
      "p-value:  0.20836205402738917\n",
      "Не получилось отвергнуть нулевую гипотезу, нет оснований считать доли разными\n",
      "\n",
      "Событие: CartScreenAppear\n",
      "p-value:  0.07842923237520116\n",
      "Не получилось отвергнуть нулевую гипотезу, нет оснований считать доли разными\n",
      "\n",
      "Событие: PaymentScreenSuccessful\n",
      "p-value:  0.2122553275697796\n",
      "Не получилось отвергнуть нулевую гипотезу, нет оснований считать доли разными\n",
      "\n"
     ]
    }
   ],
   "source": [
    "# проверим, есть ли статистически значимая разница по событиям между группами 246 и 248\n",
    "for event_name in funnel_group['event_name'].unique():\n",
    "    z_test(data_clean[data_clean['exp_id'] == 246], data_clean[data_clean['exp_id'] == 248], event_name, 0.05, 12)\n",
    "    print()"
   ]
  },
  {
   "cell_type": "code",
   "execution_count": 41,
   "metadata": {},
   "outputs": [
    {
     "name": "stdout",
     "output_type": "stream",
     "text": [
      "Событие: MainScreenAppear\n",
      "p-value:  0.4587053616621515\n",
      "Не получилось отвергнуть нулевую гипотезу, нет оснований считать доли разными\n",
      "\n",
      "Событие: OffersScreenAppear\n",
      "p-value:  0.9197817830592261\n",
      "Не получилось отвергнуть нулевую гипотезу, нет оснований считать доли разными\n",
      "\n",
      "Событие: CartScreenAppear\n",
      "p-value:  0.5786197879539783\n",
      "Не получилось отвергнуть нулевую гипотезу, нет оснований считать доли разными\n",
      "\n",
      "Событие: PaymentScreenSuccessful\n",
      "p-value:  0.7373415053803964\n",
      "Не получилось отвергнуть нулевую гипотезу, нет оснований считать доли разными\n",
      "\n"
     ]
    }
   ],
   "source": [
    "# проверим, есть ли статистически значимая разница по событиям между группами 247 и 248\n",
    "for event_name in funnel_group['event_name'].unique():\n",
    "    z_test(data_clean[data_clean['exp_id'] == 247], data_clean[data_clean['exp_id'] == 248], event_name, 0.05, 12)\n",
    "    print()"
   ]
  },
  {
   "cell_type": "code",
   "execution_count": 42,
   "metadata": {},
   "outputs": [
    {
     "name": "stdout",
     "output_type": "stream",
     "text": [
      "Событие: MainScreenAppear\n",
      "p-value:  0.29424526837179577\n",
      "Не получилось отвергнуть нулевую гипотезу, нет оснований считать доли разными\n",
      "\n",
      "Событие: OffersScreenAppear\n",
      "p-value:  0.43425549655188256\n",
      "Не получилось отвергнуть нулевую гипотезу, нет оснований считать доли разными\n",
      "\n",
      "Событие: CartScreenAppear\n",
      "p-value:  0.18175875284404386\n",
      "Не получилось отвергнуть нулевую гипотезу, нет оснований считать доли разными\n",
      "\n",
      "Событие: PaymentScreenSuccessful\n",
      "p-value:  0.6004294282308704\n",
      "Не получилось отвергнуть нулевую гипотезу, нет оснований считать доли разными\n",
      "\n"
     ]
    }
   ],
   "source": [
    "# проверим, есть ли статистически значимая разница по событиям между обьедененными группами 247 и 248\n",
    "for event_name in funnel_group['event_name'].unique():\n",
    "    z_test(data_clean[data_clean['exp_id'] != 248], data_clean[data_clean['exp_id'] == 248], event_name, 0.05, 12)\n",
    "    print()"
   ]
  },
  {
   "cell_type": "markdown",
   "metadata": {},
   "source": [
    "<div style=\"border-radius: 15px; box-shadow: 4px 4px 4px; border: solid green 2px; padding: 20px\">\n",
    "    \n",
    "Видим, что по итогу всех A/B-тестов статистически достоверного отличия при заданном уровне значимости c поправкой Бенферрони нет, а это значит, что новый шрифт не повлиял никаким образом на приложение. Применение критического уровня статистической значимости в 0.05 даст более значимый результат, так при тестирование групп 246 и 248 в событие CartScreenAppear при статистической значимости в 0.1, результат был бы разницой между долями\n",
    "</div>"
   ]
  },
  {
   "cell_type": "markdown",
   "metadata": {},
   "source": [
    "## **Вывод**"
   ]
  },
  {
   "cell_type": "markdown",
   "metadata": {},
   "source": [
    "<div style=\"border-radius: 15px; box-shadow: 4px 4px 4px; border: solid green 2px; padding: 20px\">\n",
    "<br>\n",
    "<b>1. Открыли файлы и изучили данные</b>\n",
    "    \n",
    "- пропусков обнаружено не было\n",
    "- были обнаружены дубликаты\n",
    "- названия колонок не соответсвует хорошему стилю\n",
    "- обнаружен некорректный тип данных EventTimestamp\n",
    "\n",
    "<b>2. Провели предобработку</b>\n",
    "    \n",
    "- привели названия колонок к нижнему регистру и переименовали как удобно\n",
    "- изменили тип данных у EventTimestamp\n",
    "- добавили новый столбец с датой\n",
    "- выявили посетителей, которые состоят в обоих группах AB-теста\n",
    "    \n",
    "<b>3. Изучили и проверили данные</b>\n",
    "\n",
    "- выяснили количества событий, пользователей, сколько событий приходится на пользователя\n",
    "- узнали минимальную и максимальную дату и отрезок проведения эксперимента\n",
    "- отсеяли неполные данные\n",
    "- вычислили сколько было потеряно данных в ходе очистки\n",
    "- убедились, что нет пользователей находящихся в нескольких группах сразу\n",
    "    \n",
    "<b>4. Построили воронку событий</b>\n",
    "    \n",
    "- построили воронку событий\n",
    "- убрали событие `Tutorial`, которое могло бы исказить результаты A/A/B-тестирования\n",
    "- определили какие доли пользователей проходят на следующий этап и долю пользователей дошедших с певого этапа до последнего\n",
    "    \n",
    "<b>5. Изучили результаты эксперимента</b>\n",
    "\n",
    "- провели A/A-тестирование\n",
    "- провели A/B-тестирование\n",
    "- провели A/A/B-тестирование\n",
    "\n",
    "<br>\n",
    "<br>\n",
    "<b>Целью исследования было выяснить при помощи A/A/B-тестирования какой шрифт лучше</b>\n",
    "    \n",
    "\n",
    "<br>\n",
    "<br>\n",
    "<b>В ходе проведения A/A/B-тестирования результаты показали, что при:</b>\n",
    "\n",
    "1. A/A-тестирование статистически достоверного отличия не было, что позволило приступить к дальнейшим действиям\n",
    "2. A/B-тестирование статистически достоверного отличия не было\n",
    "3. A/A/B-тестирование статистически достоверного отличия не было\n",
    "    \n",
    "<b>Вывод напрашивается сам, что новый шрифт не повлиял на приложение.</b>\n",
    "\n",
    "<br>\n",
    "<br>\n",
    "\n",
    "<div style=\"border-radius: 15px; box-shadow: 4px 4px 4px; border: solid orange 2px; padding: 20px\">\n",
    "<b>Рекомендации:</b>\n",
    "\n",
    "Завершить проведение теста, признать его успешным. Признать отсутствие различий между группами.\n",
    "\n",
    "Изменение шрифтов можно провести, однако это не увеличит показатели\n",
    "</div>    \n",
    "</div>"
   ]
  }
 ],
 "metadata": {
  "ExecuteTimeLog": [
   {
    "duration": 1245,
    "start_time": "2023-01-06T11:54:19.297Z"
   },
   {
    "duration": 1551,
    "start_time": "2023-01-06T11:54:20.544Z"
   },
   {
    "duration": 10,
    "start_time": "2023-01-06T11:54:30.540Z"
   },
   {
    "duration": 72,
    "start_time": "2023-01-06T11:54:43.749Z"
   },
   {
    "duration": 518,
    "start_time": "2023-01-06T11:56:05.373Z"
   },
   {
    "duration": 6,
    "start_time": "2023-01-06T11:56:09.422Z"
   },
   {
    "duration": 574,
    "start_time": "2023-01-06T11:56:48.086Z"
   },
   {
    "duration": 139,
    "start_time": "2023-01-06T11:57:08.760Z"
   },
   {
    "duration": 7,
    "start_time": "2023-01-06T11:57:11.481Z"
   },
   {
    "duration": 17,
    "start_time": "2023-01-06T11:58:16.485Z"
   },
   {
    "duration": 3,
    "start_time": "2023-01-06T11:58:40.546Z"
   },
   {
    "duration": 55,
    "start_time": "2023-01-06T12:08:23.665Z"
   },
   {
    "duration": 42,
    "start_time": "2023-01-06T12:08:44.976Z"
   },
   {
    "duration": 18,
    "start_time": "2023-01-06T12:09:12.367Z"
   },
   {
    "duration": 42,
    "start_time": "2023-01-06T12:09:13.290Z"
   },
   {
    "duration": 3,
    "start_time": "2023-01-06T12:17:32.497Z"
   },
   {
    "duration": 4,
    "start_time": "2023-01-06T12:17:38.408Z"
   },
   {
    "duration": 4,
    "start_time": "2023-01-06T12:18:06.879Z"
   },
   {
    "duration": 4,
    "start_time": "2023-01-06T12:18:07.255Z"
   },
   {
    "duration": 5,
    "start_time": "2023-01-06T12:21:15.423Z"
   },
   {
    "duration": 3,
    "start_time": "2023-01-06T12:21:19.299Z"
   },
   {
    "duration": 4,
    "start_time": "2023-01-06T12:22:39.376Z"
   },
   {
    "duration": 25,
    "start_time": "2023-01-06T12:24:11.348Z"
   },
   {
    "duration": 7,
    "start_time": "2023-01-06T12:24:19.917Z"
   },
   {
    "duration": 10,
    "start_time": "2023-01-06T12:25:36.466Z"
   },
   {
    "duration": 6,
    "start_time": "2023-01-06T12:25:36.853Z"
   },
   {
    "duration": 9,
    "start_time": "2023-01-06T12:27:50.419Z"
   },
   {
    "duration": 1314,
    "start_time": "2023-01-06T12:28:51.785Z"
   },
   {
    "duration": 136,
    "start_time": "2023-01-06T12:28:53.100Z"
   },
   {
    "duration": 11,
    "start_time": "2023-01-06T12:28:53.238Z"
   },
   {
    "duration": 30,
    "start_time": "2023-01-06T12:28:53.250Z"
   },
   {
    "duration": 4,
    "start_time": "2023-01-06T12:28:53.283Z"
   },
   {
    "duration": 57,
    "start_time": "2023-01-06T12:28:53.288Z"
   },
   {
    "duration": 56,
    "start_time": "2023-01-06T12:28:53.347Z"
   },
   {
    "duration": 4,
    "start_time": "2023-01-06T12:28:53.413Z"
   },
   {
    "duration": 29,
    "start_time": "2023-01-06T12:28:53.419Z"
   },
   {
    "duration": 14,
    "start_time": "2023-01-06T12:28:53.450Z"
   },
   {
    "duration": 13,
    "start_time": "2023-01-06T12:28:53.466Z"
   },
   {
    "duration": 10,
    "start_time": "2023-01-06T12:28:53.481Z"
   },
   {
    "duration": 53,
    "start_time": "2023-01-06T12:32:49.787Z"
   },
   {
    "duration": 63,
    "start_time": "2023-01-06T12:32:50.582Z"
   },
   {
    "duration": 49,
    "start_time": "2023-01-06T12:32:58.671Z"
   },
   {
    "duration": 57,
    "start_time": "2023-01-06T12:33:08.788Z"
   },
   {
    "duration": 52,
    "start_time": "2023-01-06T12:33:17.245Z"
   },
   {
    "duration": 100,
    "start_time": "2023-01-06T12:33:58.013Z"
   },
   {
    "duration": 122,
    "start_time": "2023-01-06T12:38:00.407Z"
   },
   {
    "duration": 1129,
    "start_time": "2023-01-06T12:38:08.679Z"
   },
   {
    "duration": 0,
    "start_time": "2023-01-06T12:38:09.810Z"
   },
   {
    "duration": 139,
    "start_time": "2023-01-06T12:38:22.580Z"
   },
   {
    "duration": 9,
    "start_time": "2023-01-06T12:38:24.105Z"
   },
   {
    "duration": 63,
    "start_time": "2023-01-06T12:38:50.543Z"
   },
   {
    "duration": 8,
    "start_time": "2023-01-06T12:38:50.955Z"
   },
   {
    "duration": 1081,
    "start_time": "2023-01-06T12:39:18.800Z"
   },
   {
    "duration": 136,
    "start_time": "2023-01-06T12:39:19.883Z"
   },
   {
    "duration": 11,
    "start_time": "2023-01-06T12:39:20.021Z"
   },
   {
    "duration": 18,
    "start_time": "2023-01-06T12:39:20.034Z"
   },
   {
    "duration": 4,
    "start_time": "2023-01-06T12:39:20.054Z"
   },
   {
    "duration": 71,
    "start_time": "2023-01-06T12:39:20.060Z"
   },
   {
    "duration": 53,
    "start_time": "2023-01-06T12:39:20.134Z"
   },
   {
    "duration": 3,
    "start_time": "2023-01-06T12:39:20.188Z"
   },
   {
    "duration": 34,
    "start_time": "2023-01-06T12:39:20.193Z"
   },
   {
    "duration": 8,
    "start_time": "2023-01-06T12:39:20.229Z"
   },
   {
    "duration": 22,
    "start_time": "2023-01-06T12:39:20.239Z"
   },
   {
    "duration": 84,
    "start_time": "2023-01-06T12:39:20.263Z"
   },
   {
    "duration": 11,
    "start_time": "2023-01-06T12:39:20.349Z"
   },
   {
    "duration": 169,
    "start_time": "2023-01-06T12:39:20.362Z"
   },
   {
    "duration": 23,
    "start_time": "2023-01-06T12:39:33.174Z"
   },
   {
    "duration": 96,
    "start_time": "2023-01-06T12:40:21.806Z"
   },
   {
    "duration": 9,
    "start_time": "2023-01-06T12:40:22.236Z"
   },
   {
    "duration": 18,
    "start_time": "2023-01-06T12:41:00.376Z"
   },
   {
    "duration": 27,
    "start_time": "2023-01-06T12:52:48.455Z"
   },
   {
    "duration": 26,
    "start_time": "2023-01-06T12:53:49.140Z"
   },
   {
    "duration": 26,
    "start_time": "2023-01-06T12:54:03.452Z"
   },
   {
    "duration": 26,
    "start_time": "2023-01-06T12:54:41.432Z"
   },
   {
    "duration": 5,
    "start_time": "2023-01-06T12:59:00.009Z"
   },
   {
    "duration": 6,
    "start_time": "2023-01-06T12:59:09.942Z"
   },
   {
    "duration": 7,
    "start_time": "2023-01-06T12:59:18.654Z"
   },
   {
    "duration": 90,
    "start_time": "2023-01-06T13:01:48.514Z"
   },
   {
    "duration": 7,
    "start_time": "2023-01-06T13:01:52.199Z"
   },
   {
    "duration": 7,
    "start_time": "2023-01-06T13:03:59.243Z"
   },
   {
    "duration": 68,
    "start_time": "2023-01-06T13:04:17.625Z"
   },
   {
    "duration": 8,
    "start_time": "2023-01-06T13:04:27.539Z"
   },
   {
    "duration": 1091,
    "start_time": "2023-01-06T13:05:44.386Z"
   },
   {
    "duration": 138,
    "start_time": "2023-01-06T13:05:45.479Z"
   },
   {
    "duration": 11,
    "start_time": "2023-01-06T13:05:45.619Z"
   },
   {
    "duration": 20,
    "start_time": "2023-01-06T13:05:45.631Z"
   },
   {
    "duration": 4,
    "start_time": "2023-01-06T13:05:45.653Z"
   },
   {
    "duration": 72,
    "start_time": "2023-01-06T13:05:45.659Z"
   },
   {
    "duration": 59,
    "start_time": "2023-01-06T13:05:45.732Z"
   },
   {
    "duration": 3,
    "start_time": "2023-01-06T13:05:45.792Z"
   },
   {
    "duration": 23,
    "start_time": "2023-01-06T13:05:45.797Z"
   },
   {
    "duration": 3,
    "start_time": "2023-01-06T13:05:45.822Z"
   },
   {
    "duration": 13,
    "start_time": "2023-01-06T13:05:45.827Z"
   },
   {
    "duration": 113,
    "start_time": "2023-01-06T13:05:45.841Z"
   },
   {
    "duration": 8,
    "start_time": "2023-01-06T13:05:45.956Z"
   },
   {
    "duration": 128,
    "start_time": "2023-01-06T13:05:45.966Z"
   },
   {
    "duration": 29,
    "start_time": "2023-01-06T13:05:46.096Z"
   },
   {
    "duration": 6,
    "start_time": "2023-01-06T13:05:46.127Z"
   },
   {
    "duration": 6,
    "start_time": "2023-01-06T13:05:46.134Z"
   },
   {
    "duration": 6,
    "start_time": "2023-01-06T13:07:25.277Z"
   },
   {
    "duration": 272,
    "start_time": "2023-01-06T13:09:04.454Z"
   },
   {
    "duration": 252,
    "start_time": "2023-01-06T13:09:58.898Z"
   },
   {
    "duration": 311,
    "start_time": "2023-01-06T13:10:07.667Z"
   },
   {
    "duration": 366,
    "start_time": "2023-01-06T13:12:11.549Z"
   },
   {
    "duration": 308,
    "start_time": "2023-01-06T13:13:47.961Z"
   },
   {
    "duration": 306,
    "start_time": "2023-01-06T13:14:04.884Z"
   },
   {
    "duration": 350,
    "start_time": "2023-01-06T13:44:59.981Z"
   },
   {
    "duration": 92,
    "start_time": "2023-01-06T13:48:12.349Z"
   },
   {
    "duration": 36,
    "start_time": "2023-01-06T13:48:17.616Z"
   },
   {
    "duration": 5,
    "start_time": "2023-01-06T13:49:43.288Z"
   },
   {
    "duration": 6,
    "start_time": "2023-01-06T13:51:08.295Z"
   },
   {
    "duration": 11,
    "start_time": "2023-01-06T13:56:00.694Z"
   },
   {
    "duration": 285,
    "start_time": "2023-01-06T13:56:11.268Z"
   },
   {
    "duration": 11,
    "start_time": "2023-01-06T13:56:50.987Z"
   },
   {
    "duration": 359,
    "start_time": "2023-01-06T13:56:51.439Z"
   },
   {
    "duration": 60,
    "start_time": "2023-01-06T14:09:25.636Z"
   },
   {
    "duration": 55,
    "start_time": "2023-01-06T14:09:59.716Z"
   },
   {
    "duration": 1169,
    "start_time": "2023-01-06T14:10:22.722Z"
   },
   {
    "duration": 155,
    "start_time": "2023-01-06T14:10:23.894Z"
   },
   {
    "duration": 13,
    "start_time": "2023-01-06T14:10:24.050Z"
   },
   {
    "duration": 18,
    "start_time": "2023-01-06T14:10:24.065Z"
   },
   {
    "duration": 4,
    "start_time": "2023-01-06T14:10:24.085Z"
   },
   {
    "duration": 53,
    "start_time": "2023-01-06T14:10:24.113Z"
   },
   {
    "duration": 73,
    "start_time": "2023-01-06T14:10:24.167Z"
   },
   {
    "duration": 3,
    "start_time": "2023-01-06T14:10:24.242Z"
   },
   {
    "duration": 18,
    "start_time": "2023-01-06T14:10:24.247Z"
   },
   {
    "duration": 5,
    "start_time": "2023-01-06T14:10:24.266Z"
   },
   {
    "duration": 13,
    "start_time": "2023-01-06T14:10:24.272Z"
   },
   {
    "duration": 115,
    "start_time": "2023-01-06T14:10:24.287Z"
   },
   {
    "duration": 17,
    "start_time": "2023-01-06T14:10:24.404Z"
   },
   {
    "duration": 143,
    "start_time": "2023-01-06T14:10:24.424Z"
   },
   {
    "duration": 25,
    "start_time": "2023-01-06T14:10:24.568Z"
   },
   {
    "duration": 25,
    "start_time": "2023-01-06T14:10:24.594Z"
   },
   {
    "duration": 17,
    "start_time": "2023-01-06T14:10:24.621Z"
   },
   {
    "duration": 6,
    "start_time": "2023-01-06T14:10:24.639Z"
   },
   {
    "duration": 8,
    "start_time": "2023-01-06T14:10:24.646Z"
   },
   {
    "duration": 406,
    "start_time": "2023-01-06T14:10:24.656Z"
   },
   {
    "duration": 27,
    "start_time": "2023-01-06T14:10:25.063Z"
   },
   {
    "duration": 26,
    "start_time": "2023-01-06T14:10:25.092Z"
   },
   {
    "duration": 311,
    "start_time": "2023-01-06T14:10:25.120Z"
   },
   {
    "duration": 3,
    "start_time": "2023-01-06T14:10:25.433Z"
   },
   {
    "duration": 61,
    "start_time": "2023-01-06T14:10:25.437Z"
   },
   {
    "duration": 118,
    "start_time": "2023-01-06T14:11:29.415Z"
   },
   {
    "duration": 82,
    "start_time": "2023-01-06T14:11:48.053Z"
   },
   {
    "duration": 84,
    "start_time": "2023-01-06T14:14:08.218Z"
   },
   {
    "duration": 71,
    "start_time": "2023-01-06T14:14:18.179Z"
   },
   {
    "duration": 72,
    "start_time": "2023-01-06T14:14:25.492Z"
   },
   {
    "duration": 150,
    "start_time": "2023-01-06T14:15:02.335Z"
   },
   {
    "duration": 68,
    "start_time": "2023-01-06T14:15:16.765Z"
   },
   {
    "duration": 71,
    "start_time": "2023-01-06T14:16:44.164Z"
   },
   {
    "duration": 72,
    "start_time": "2023-01-06T14:17:49.418Z"
   },
   {
    "duration": 78,
    "start_time": "2023-01-06T14:18:02.761Z"
   },
   {
    "duration": 70,
    "start_time": "2023-01-06T14:18:36.622Z"
   },
   {
    "duration": 70,
    "start_time": "2023-01-06T14:18:47.895Z"
   },
   {
    "duration": 74,
    "start_time": "2023-01-06T14:19:57.687Z"
   },
   {
    "duration": 89,
    "start_time": "2023-01-06T14:20:23.315Z"
   },
   {
    "duration": 1147,
    "start_time": "2023-01-06T14:20:30.072Z"
   },
   {
    "duration": 145,
    "start_time": "2023-01-06T14:20:31.221Z"
   },
   {
    "duration": 11,
    "start_time": "2023-01-06T14:20:31.370Z"
   },
   {
    "duration": 24,
    "start_time": "2023-01-06T14:20:31.383Z"
   },
   {
    "duration": 4,
    "start_time": "2023-01-06T14:20:31.413Z"
   },
   {
    "duration": 59,
    "start_time": "2023-01-06T14:20:31.419Z"
   },
   {
    "duration": 76,
    "start_time": "2023-01-06T14:20:31.480Z"
   },
   {
    "duration": 3,
    "start_time": "2023-01-06T14:20:31.558Z"
   },
   {
    "duration": 12,
    "start_time": "2023-01-06T14:20:31.562Z"
   },
   {
    "duration": 3,
    "start_time": "2023-01-06T14:20:31.576Z"
   },
   {
    "duration": 18,
    "start_time": "2023-01-06T14:20:31.581Z"
   },
   {
    "duration": 120,
    "start_time": "2023-01-06T14:20:31.601Z"
   },
   {
    "duration": 9,
    "start_time": "2023-01-06T14:20:31.723Z"
   },
   {
    "duration": 151,
    "start_time": "2023-01-06T14:20:31.734Z"
   },
   {
    "duration": 32,
    "start_time": "2023-01-06T14:20:31.887Z"
   },
   {
    "duration": 8,
    "start_time": "2023-01-06T14:20:31.921Z"
   },
   {
    "duration": 37,
    "start_time": "2023-01-06T14:20:31.931Z"
   },
   {
    "duration": 8,
    "start_time": "2023-01-06T14:20:31.970Z"
   },
   {
    "duration": 17,
    "start_time": "2023-01-06T14:20:31.979Z"
   },
   {
    "duration": 374,
    "start_time": "2023-01-06T14:20:31.998Z"
   },
   {
    "duration": 39,
    "start_time": "2023-01-06T14:20:32.374Z"
   },
   {
    "duration": 10,
    "start_time": "2023-01-06T14:20:32.414Z"
   },
   {
    "duration": 323,
    "start_time": "2023-01-06T14:20:32.425Z"
   },
   {
    "duration": 81,
    "start_time": "2023-01-06T14:20:32.749Z"
   },
   {
    "duration": 70,
    "start_time": "2023-01-06T14:20:40.679Z"
   },
   {
    "duration": 74,
    "start_time": "2023-01-06T14:27:03.799Z"
   },
   {
    "duration": 77,
    "start_time": "2023-01-06T14:27:55.917Z"
   },
   {
    "duration": 93,
    "start_time": "2023-01-06T14:28:10.380Z"
   },
   {
    "duration": 84,
    "start_time": "2023-01-06T14:28:15.102Z"
   },
   {
    "duration": 81,
    "start_time": "2023-01-06T14:28:37.478Z"
   },
   {
    "duration": 77,
    "start_time": "2023-01-06T14:31:44.756Z"
   },
   {
    "duration": 69,
    "start_time": "2023-01-06T14:32:09.112Z"
   },
   {
    "duration": 37,
    "start_time": "2023-01-06T14:32:15.828Z"
   },
   {
    "duration": 19,
    "start_time": "2023-01-06T14:35:07.425Z"
   },
   {
    "duration": 20,
    "start_time": "2023-01-06T14:36:10.088Z"
   },
   {
    "duration": 26,
    "start_time": "2023-01-06T14:38:03.450Z"
   },
   {
    "duration": 73,
    "start_time": "2023-01-06T14:38:21.678Z"
   },
   {
    "duration": 20,
    "start_time": "2023-01-06T14:38:28.288Z"
   },
   {
    "duration": 23,
    "start_time": "2023-01-06T14:38:34.461Z"
   },
   {
    "duration": 20,
    "start_time": "2023-01-06T14:38:56.600Z"
   },
   {
    "duration": 39,
    "start_time": "2023-01-06T14:39:21.808Z"
   },
   {
    "duration": 11,
    "start_time": "2023-01-06T14:41:33.275Z"
   },
   {
    "duration": 12,
    "start_time": "2023-01-06T14:42:02.449Z"
   },
   {
    "duration": 23,
    "start_time": "2023-01-06T14:43:19.102Z"
   },
   {
    "duration": 35,
    "start_time": "2023-01-06T14:43:27.999Z"
   },
   {
    "duration": 91,
    "start_time": "2023-01-06T14:45:33.408Z"
   },
   {
    "duration": 71,
    "start_time": "2023-01-06T14:46:18.540Z"
   },
   {
    "duration": 74,
    "start_time": "2023-01-06T14:46:22.686Z"
   },
   {
    "duration": 11,
    "start_time": "2023-01-06T14:46:29.441Z"
   },
   {
    "duration": 35,
    "start_time": "2023-01-06T14:51:39.546Z"
   },
   {
    "duration": 28,
    "start_time": "2023-01-06T14:53:05.230Z"
   },
   {
    "duration": 12,
    "start_time": "2023-01-06T14:55:37.994Z"
   },
   {
    "duration": 17,
    "start_time": "2023-01-06T15:00:32.710Z"
   },
   {
    "duration": 7,
    "start_time": "2023-01-06T15:02:00.834Z"
   },
   {
    "duration": 39,
    "start_time": "2023-01-06T15:03:13.282Z"
   },
   {
    "duration": 10,
    "start_time": "2023-01-06T15:06:14.865Z"
   },
   {
    "duration": 100,
    "start_time": "2023-01-06T15:08:19.792Z"
   },
   {
    "duration": 383,
    "start_time": "2023-01-06T15:08:33.643Z"
   },
   {
    "duration": 360,
    "start_time": "2023-01-06T15:08:50.992Z"
   },
   {
    "duration": 11,
    "start_time": "2023-01-06T15:17:13.403Z"
   },
   {
    "duration": 18,
    "start_time": "2023-01-06T15:30:17.237Z"
   },
   {
    "duration": 18,
    "start_time": "2023-01-06T15:31:39.032Z"
   },
   {
    "duration": 18,
    "start_time": "2023-01-06T15:31:52.581Z"
   },
   {
    "duration": 16,
    "start_time": "2023-01-06T15:32:11.042Z"
   },
   {
    "duration": 18,
    "start_time": "2023-01-06T15:32:17.160Z"
   },
   {
    "duration": 30,
    "start_time": "2023-01-06T15:32:35.794Z"
   },
   {
    "duration": 29,
    "start_time": "2023-01-06T15:35:17.604Z"
   },
   {
    "duration": 20,
    "start_time": "2023-01-06T15:40:57.591Z"
   },
   {
    "duration": 53,
    "start_time": "2023-01-06T15:49:32.934Z"
   },
   {
    "duration": 56,
    "start_time": "2023-01-06T15:49:39.531Z"
   },
   {
    "duration": 75,
    "start_time": "2023-01-06T15:50:47.376Z"
   },
   {
    "duration": 73,
    "start_time": "2023-01-06T15:50:51.252Z"
   },
   {
    "duration": 61,
    "start_time": "2023-01-06T15:51:39.430Z"
   },
   {
    "duration": 69,
    "start_time": "2023-01-06T15:53:35.487Z"
   },
   {
    "duration": 70,
    "start_time": "2023-01-06T15:53:44.182Z"
   },
   {
    "duration": 8,
    "start_time": "2023-01-06T15:58:01.337Z"
   },
   {
    "duration": 10,
    "start_time": "2023-01-06T15:58:09.176Z"
   },
   {
    "duration": 8,
    "start_time": "2023-01-06T16:00:55.461Z"
   },
   {
    "duration": 1258,
    "start_time": "2023-01-06T16:01:07.435Z"
   },
   {
    "duration": 1040,
    "start_time": "2023-01-06T16:01:17.241Z"
   },
   {
    "duration": 144,
    "start_time": "2023-01-06T16:01:18.282Z"
   },
   {
    "duration": 11,
    "start_time": "2023-01-06T16:01:18.428Z"
   },
   {
    "duration": 20,
    "start_time": "2023-01-06T16:01:18.441Z"
   },
   {
    "duration": 3,
    "start_time": "2023-01-06T16:01:18.463Z"
   },
   {
    "duration": 62,
    "start_time": "2023-01-06T16:01:18.468Z"
   },
   {
    "duration": 55,
    "start_time": "2023-01-06T16:01:18.532Z"
   },
   {
    "duration": 3,
    "start_time": "2023-01-06T16:01:18.588Z"
   },
   {
    "duration": 32,
    "start_time": "2023-01-06T16:01:18.592Z"
   },
   {
    "duration": 5,
    "start_time": "2023-01-06T16:01:18.626Z"
   },
   {
    "duration": 14,
    "start_time": "2023-01-06T16:01:18.632Z"
   },
   {
    "duration": 112,
    "start_time": "2023-01-06T16:01:18.648Z"
   },
   {
    "duration": 9,
    "start_time": "2023-01-06T16:01:18.761Z"
   },
   {
    "duration": 133,
    "start_time": "2023-01-06T16:01:18.772Z"
   },
   {
    "duration": 24,
    "start_time": "2023-01-06T16:01:18.906Z"
   },
   {
    "duration": 24,
    "start_time": "2023-01-06T16:01:18.932Z"
   },
   {
    "duration": 8,
    "start_time": "2023-01-06T16:01:18.958Z"
   },
   {
    "duration": 5,
    "start_time": "2023-01-06T16:01:18.967Z"
   },
   {
    "duration": 7,
    "start_time": "2023-01-06T16:01:18.974Z"
   },
   {
    "duration": 395,
    "start_time": "2023-01-06T16:01:18.982Z"
   },
   {
    "duration": 47,
    "start_time": "2023-01-06T16:01:19.378Z"
   },
   {
    "duration": 9,
    "start_time": "2023-01-06T16:01:19.426Z"
   },
   {
    "duration": 289,
    "start_time": "2023-01-06T16:01:19.437Z"
   },
   {
    "duration": 35,
    "start_time": "2023-01-06T16:01:19.728Z"
   },
   {
    "duration": 17,
    "start_time": "2023-01-06T16:01:19.764Z"
   },
   {
    "duration": 9,
    "start_time": "2023-01-06T16:01:19.782Z"
   },
   {
    "duration": 65,
    "start_time": "2023-01-06T16:01:19.792Z"
   },
   {
    "duration": 439,
    "start_time": "2023-01-06T16:01:19.859Z"
   },
   {
    "duration": 29,
    "start_time": "2023-01-06T16:01:20.300Z"
   },
   {
    "duration": 79,
    "start_time": "2023-01-06T16:01:20.330Z"
   },
   {
    "duration": 14,
    "start_time": "2023-01-06T16:01:20.411Z"
   },
   {
    "duration": 9,
    "start_time": "2023-01-06T16:01:33.039Z"
   },
   {
    "duration": 8,
    "start_time": "2023-01-06T16:02:32.899Z"
   },
   {
    "duration": 9,
    "start_time": "2023-01-06T16:02:40.699Z"
   },
   {
    "duration": 8,
    "start_time": "2023-01-06T16:02:47.598Z"
   },
   {
    "duration": 10,
    "start_time": "2023-01-06T16:03:54.526Z"
   },
   {
    "duration": 1069,
    "start_time": "2023-01-06T16:04:15.226Z"
   },
   {
    "duration": 154,
    "start_time": "2023-01-06T16:04:16.297Z"
   },
   {
    "duration": 11,
    "start_time": "2023-01-06T16:04:16.452Z"
   },
   {
    "duration": 20,
    "start_time": "2023-01-06T16:04:16.464Z"
   },
   {
    "duration": 4,
    "start_time": "2023-01-06T16:04:16.486Z"
   },
   {
    "duration": 70,
    "start_time": "2023-01-06T16:04:16.491Z"
   },
   {
    "duration": 67,
    "start_time": "2023-01-06T16:04:16.563Z"
   },
   {
    "duration": 3,
    "start_time": "2023-01-06T16:04:16.631Z"
   },
   {
    "duration": 13,
    "start_time": "2023-01-06T16:04:16.635Z"
   },
   {
    "duration": 3,
    "start_time": "2023-01-06T16:04:16.650Z"
   },
   {
    "duration": 16,
    "start_time": "2023-01-06T16:04:16.655Z"
   },
   {
    "duration": 115,
    "start_time": "2023-01-06T16:04:16.672Z"
   },
   {
    "duration": 8,
    "start_time": "2023-01-06T16:04:16.789Z"
   },
   {
    "duration": 157,
    "start_time": "2023-01-06T16:04:16.799Z"
   },
   {
    "duration": 9,
    "start_time": "2023-01-06T16:04:16.958Z"
   },
   {
    "duration": 9,
    "start_time": "2023-01-06T16:04:16.969Z"
   },
   {
    "duration": 6,
    "start_time": "2023-01-06T16:04:16.979Z"
   },
   {
    "duration": 4,
    "start_time": "2023-01-06T16:04:16.987Z"
   },
   {
    "duration": 32,
    "start_time": "2023-01-06T16:04:16.992Z"
   },
   {
    "duration": 372,
    "start_time": "2023-01-06T16:04:17.026Z"
   },
   {
    "duration": 33,
    "start_time": "2023-01-06T16:04:17.400Z"
   },
   {
    "duration": 9,
    "start_time": "2023-01-06T16:04:17.435Z"
   },
   {
    "duration": 321,
    "start_time": "2023-01-06T16:04:17.445Z"
   },
   {
    "duration": 35,
    "start_time": "2023-01-06T16:04:17.767Z"
   },
   {
    "duration": 26,
    "start_time": "2023-01-06T16:04:17.803Z"
   },
   {
    "duration": 10,
    "start_time": "2023-01-06T16:04:17.831Z"
   },
   {
    "duration": 38,
    "start_time": "2023-01-06T16:04:17.842Z"
   },
   {
    "duration": 475,
    "start_time": "2023-01-06T16:04:17.882Z"
   },
   {
    "duration": 21,
    "start_time": "2023-01-06T16:04:18.359Z"
   },
   {
    "duration": 67,
    "start_time": "2023-01-06T16:04:18.381Z"
   },
   {
    "duration": 9,
    "start_time": "2023-01-06T16:04:18.450Z"
   },
   {
    "duration": 9,
    "start_time": "2023-01-06T16:06:35.842Z"
   },
   {
    "duration": 102,
    "start_time": "2023-01-06T16:07:17.908Z"
   },
   {
    "duration": 10,
    "start_time": "2023-01-06T16:07:24.860Z"
   },
   {
    "duration": 14,
    "start_time": "2023-01-06T16:08:33.720Z"
   },
   {
    "duration": 346,
    "start_time": "2023-01-06T16:09:36.777Z"
   },
   {
    "duration": 67,
    "start_time": "2023-01-06T16:09:49.492Z"
   },
   {
    "duration": 12,
    "start_time": "2023-01-06T16:10:56.955Z"
   },
   {
    "duration": 60,
    "start_time": "2023-01-06T16:11:13.035Z"
   },
   {
    "duration": 64,
    "start_time": "2023-01-06T16:11:18.733Z"
   },
   {
    "duration": 70,
    "start_time": "2023-01-06T16:11:21.749Z"
   },
   {
    "duration": 6,
    "start_time": "2023-01-06T16:11:40.831Z"
   },
   {
    "duration": 8,
    "start_time": "2023-01-06T16:11:47.528Z"
   },
   {
    "duration": 11,
    "start_time": "2023-01-06T16:11:49.926Z"
   },
   {
    "duration": 16,
    "start_time": "2023-01-06T16:12:30.146Z"
   },
   {
    "duration": 120,
    "start_time": "2023-01-06T16:12:56.979Z"
   },
   {
    "duration": 216,
    "start_time": "2023-01-06T16:13:30.672Z"
   },
   {
    "duration": 124,
    "start_time": "2023-01-06T16:13:49.950Z"
   },
   {
    "duration": 12,
    "start_time": "2023-01-06T16:14:07.798Z"
   },
   {
    "duration": 158,
    "start_time": "2023-01-06T16:14:17.460Z"
   },
   {
    "duration": 166,
    "start_time": "2023-01-06T16:15:43.668Z"
   },
   {
    "duration": 166,
    "start_time": "2023-01-06T16:15:55.365Z"
   },
   {
    "duration": 159,
    "start_time": "2023-01-06T16:16:02.768Z"
   },
   {
    "duration": 151,
    "start_time": "2023-01-06T16:16:11.064Z"
   },
   {
    "duration": 188,
    "start_time": "2023-01-06T16:16:20.355Z"
   },
   {
    "duration": 11,
    "start_time": "2023-01-06T16:38:53.651Z"
   },
   {
    "duration": 11,
    "start_time": "2023-01-06T16:41:03.338Z"
   },
   {
    "duration": 11,
    "start_time": "2023-01-06T16:41:12.469Z"
   },
   {
    "duration": 103,
    "start_time": "2023-01-06T16:41:23.338Z"
   },
   {
    "duration": 10,
    "start_time": "2023-01-06T16:41:29.676Z"
   },
   {
    "duration": 147,
    "start_time": "2023-01-06T16:41:36.377Z"
   },
   {
    "duration": 12,
    "start_time": "2023-01-06T16:42:54.084Z"
   },
   {
    "duration": 114,
    "start_time": "2023-01-06T16:43:16.098Z"
   },
   {
    "duration": 156,
    "start_time": "2023-01-06T16:43:29.942Z"
   },
   {
    "duration": 1327,
    "start_time": "2023-01-07T14:34:21.829Z"
   },
   {
    "duration": 706,
    "start_time": "2023-01-07T14:34:23.159Z"
   },
   {
    "duration": 13,
    "start_time": "2023-01-07T14:34:23.869Z"
   },
   {
    "duration": 23,
    "start_time": "2023-01-07T14:34:23.884Z"
   },
   {
    "duration": 5,
    "start_time": "2023-01-07T14:34:23.908Z"
   },
   {
    "duration": 80,
    "start_time": "2023-01-07T14:34:23.914Z"
   },
   {
    "duration": 78,
    "start_time": "2023-01-07T14:34:23.995Z"
   },
   {
    "duration": 3,
    "start_time": "2023-01-07T14:34:24.075Z"
   },
   {
    "duration": 23,
    "start_time": "2023-01-07T14:34:24.080Z"
   },
   {
    "duration": 10,
    "start_time": "2023-01-07T14:34:24.106Z"
   },
   {
    "duration": 20,
    "start_time": "2023-01-07T14:34:24.117Z"
   },
   {
    "duration": 141,
    "start_time": "2023-01-07T14:34:24.139Z"
   },
   {
    "duration": 14,
    "start_time": "2023-01-07T14:34:24.282Z"
   },
   {
    "duration": 158,
    "start_time": "2023-01-07T14:34:24.298Z"
   },
   {
    "duration": 12,
    "start_time": "2023-01-07T14:34:24.458Z"
   },
   {
    "duration": 30,
    "start_time": "2023-01-07T14:34:24.472Z"
   },
   {
    "duration": 19,
    "start_time": "2023-01-07T14:34:24.504Z"
   },
   {
    "duration": 10,
    "start_time": "2023-01-07T14:34:24.525Z"
   },
   {
    "duration": 28,
    "start_time": "2023-01-07T14:34:24.537Z"
   },
   {
    "duration": 431,
    "start_time": "2023-01-07T14:34:24.567Z"
   },
   {
    "duration": 39,
    "start_time": "2023-01-07T14:34:25.000Z"
   },
   {
    "duration": 12,
    "start_time": "2023-01-07T14:34:25.041Z"
   },
   {
    "duration": 342,
    "start_time": "2023-01-07T14:34:25.054Z"
   },
   {
    "duration": 61,
    "start_time": "2023-01-07T14:34:25.398Z"
   },
   {
    "duration": 20,
    "start_time": "2023-01-07T14:34:25.461Z"
   },
   {
    "duration": 21,
    "start_time": "2023-01-07T14:34:25.483Z"
   },
   {
    "duration": 88,
    "start_time": "2023-01-07T14:34:25.506Z"
   },
   {
    "duration": 552,
    "start_time": "2023-01-07T14:34:25.595Z"
   },
   {
    "duration": 27,
    "start_time": "2023-01-07T14:34:26.149Z"
   },
   {
    "duration": 92,
    "start_time": "2023-01-07T14:34:26.177Z"
   },
   {
    "duration": 9,
    "start_time": "2023-01-07T14:34:26.271Z"
   },
   {
    "duration": 208,
    "start_time": "2023-01-07T14:34:26.281Z"
   },
   {
    "duration": 1201,
    "start_time": "2023-01-07T14:34:26.490Z"
   },
   {
    "duration": 5,
    "start_time": "2023-01-07T14:35:13.094Z"
   },
   {
    "duration": 10,
    "start_time": "2023-01-07T14:35:20.730Z"
   },
   {
    "duration": 10,
    "start_time": "2023-01-07T14:35:38.021Z"
   },
   {
    "duration": 10,
    "start_time": "2023-01-07T14:35:54.915Z"
   },
   {
    "duration": 11,
    "start_time": "2023-01-07T14:36:05.576Z"
   },
   {
    "duration": 11,
    "start_time": "2023-01-07T14:36:24.909Z"
   },
   {
    "duration": 11,
    "start_time": "2023-01-07T14:36:53.275Z"
   },
   {
    "duration": 10,
    "start_time": "2023-01-07T14:37:10.477Z"
   },
   {
    "duration": 1214,
    "start_time": "2023-01-07T14:37:17.443Z"
   },
   {
    "duration": 181,
    "start_time": "2023-01-07T14:37:18.659Z"
   },
   {
    "duration": 16,
    "start_time": "2023-01-07T14:37:18.842Z"
   },
   {
    "duration": 30,
    "start_time": "2023-01-07T14:37:18.860Z"
   },
   {
    "duration": 6,
    "start_time": "2023-01-07T14:37:18.893Z"
   },
   {
    "duration": 98,
    "start_time": "2023-01-07T14:37:18.901Z"
   },
   {
    "duration": 85,
    "start_time": "2023-01-07T14:37:19.001Z"
   },
   {
    "duration": 3,
    "start_time": "2023-01-07T14:37:19.088Z"
   },
   {
    "duration": 17,
    "start_time": "2023-01-07T14:37:19.093Z"
   },
   {
    "duration": 18,
    "start_time": "2023-01-07T14:37:19.113Z"
   },
   {
    "duration": 14,
    "start_time": "2023-01-07T14:37:19.137Z"
   },
   {
    "duration": 135,
    "start_time": "2023-01-07T14:37:19.153Z"
   },
   {
    "duration": 10,
    "start_time": "2023-01-07T14:37:19.290Z"
   },
   {
    "duration": 163,
    "start_time": "2023-01-07T14:37:19.303Z"
   },
   {
    "duration": 12,
    "start_time": "2023-01-07T14:37:19.468Z"
   },
   {
    "duration": 18,
    "start_time": "2023-01-07T14:37:19.482Z"
   },
   {
    "duration": 14,
    "start_time": "2023-01-07T14:37:19.502Z"
   },
   {
    "duration": 15,
    "start_time": "2023-01-07T14:37:19.518Z"
   },
   {
    "duration": 10,
    "start_time": "2023-01-07T14:37:19.536Z"
   },
   {
    "duration": 418,
    "start_time": "2023-01-07T14:37:19.547Z"
   },
   {
    "duration": 30,
    "start_time": "2023-01-07T14:37:19.966Z"
   },
   {
    "duration": 12,
    "start_time": "2023-01-07T14:37:19.997Z"
   },
   {
    "duration": 372,
    "start_time": "2023-01-07T14:37:20.010Z"
   },
   {
    "duration": 61,
    "start_time": "2023-01-07T14:37:20.384Z"
   },
   {
    "duration": 22,
    "start_time": "2023-01-07T14:37:20.447Z"
   },
   {
    "duration": 15,
    "start_time": "2023-01-07T14:37:20.471Z"
   },
   {
    "duration": 77,
    "start_time": "2023-01-07T14:37:20.488Z"
   },
   {
    "duration": 472,
    "start_time": "2023-01-07T14:37:20.567Z"
   },
   {
    "duration": 30,
    "start_time": "2023-01-07T14:37:21.041Z"
   },
   {
    "duration": 85,
    "start_time": "2023-01-07T14:37:21.073Z"
   },
   {
    "duration": 9,
    "start_time": "2023-01-07T14:37:21.159Z"
   },
   {
    "duration": 197,
    "start_time": "2023-01-07T14:37:21.170Z"
   },
   {
    "duration": 10,
    "start_time": "2023-01-07T14:37:21.369Z"
   },
   {
    "duration": 5,
    "start_time": "2023-01-07T14:45:50.600Z"
   },
   {
    "duration": 5,
    "start_time": "2023-01-07T14:46:09.112Z"
   },
   {
    "duration": 5,
    "start_time": "2023-01-07T14:46:12.879Z"
   },
   {
    "duration": 5,
    "start_time": "2023-01-07T14:49:55.882Z"
   },
   {
    "duration": 4,
    "start_time": "2023-01-07T14:50:14.544Z"
   },
   {
    "duration": 4,
    "start_time": "2023-01-07T14:50:28.204Z"
   },
   {
    "duration": 4,
    "start_time": "2023-01-07T14:50:32.958Z"
   },
   {
    "duration": 4,
    "start_time": "2023-01-07T14:59:17.963Z"
   },
   {
    "duration": 4,
    "start_time": "2023-01-07T15:01:01.340Z"
   },
   {
    "duration": 6,
    "start_time": "2023-01-07T15:01:22.409Z"
   },
   {
    "duration": 247,
    "start_time": "2023-01-07T15:05:17.847Z"
   },
   {
    "duration": 101,
    "start_time": "2023-01-07T15:12:12.424Z"
   },
   {
    "duration": 307,
    "start_time": "2023-01-07T15:12:25.599Z"
   },
   {
    "duration": 175,
    "start_time": "2023-01-07T15:12:30.845Z"
   },
   {
    "duration": 164,
    "start_time": "2023-01-07T15:14:30.258Z"
   },
   {
    "duration": 251,
    "start_time": "2023-01-07T15:14:38.765Z"
   },
   {
    "duration": 170,
    "start_time": "2023-01-07T15:15:29.556Z"
   },
   {
    "duration": 187,
    "start_time": "2023-01-07T15:15:36.470Z"
   },
   {
    "duration": 178,
    "start_time": "2023-01-07T15:15:43.478Z"
   },
   {
    "duration": 197,
    "start_time": "2023-01-07T15:15:49.010Z"
   },
   {
    "duration": 171,
    "start_time": "2023-01-07T15:17:04.312Z"
   },
   {
    "duration": 10,
    "start_time": "2023-01-07T15:24:00.415Z"
   },
   {
    "duration": 166,
    "start_time": "2023-01-07T15:24:05.044Z"
   },
   {
    "duration": 259,
    "start_time": "2023-01-07T15:26:30.711Z"
   },
   {
    "duration": 66,
    "start_time": "2023-01-07T15:26:34.114Z"
   },
   {
    "duration": 94,
    "start_time": "2023-01-07T15:28:31.568Z"
   },
   {
    "duration": 92,
    "start_time": "2023-01-07T15:28:50.912Z"
   },
   {
    "duration": 78,
    "start_time": "2023-01-07T15:29:48.944Z"
   },
   {
    "duration": 74,
    "start_time": "2023-01-07T15:31:36.323Z"
   },
   {
    "duration": 74,
    "start_time": "2023-01-07T15:32:05.451Z"
   },
   {
    "duration": 12,
    "start_time": "2023-01-07T15:32:13.262Z"
   },
   {
    "duration": 10,
    "start_time": "2023-01-07T15:33:59.882Z"
   },
   {
    "duration": 160,
    "start_time": "2023-01-07T15:34:04.813Z"
   },
   {
    "duration": 167,
    "start_time": "2023-01-07T15:34:22.472Z"
   },
   {
    "duration": 167,
    "start_time": "2023-01-07T15:35:37.342Z"
   },
   {
    "duration": 164,
    "start_time": "2023-01-07T15:35:43.157Z"
   },
   {
    "duration": 5,
    "start_time": "2023-01-07T15:36:10.914Z"
   },
   {
    "duration": 162,
    "start_time": "2023-01-07T15:36:12.412Z"
   },
   {
    "duration": 1241,
    "start_time": "2023-01-07T15:36:18.545Z"
   },
   {
    "duration": 170,
    "start_time": "2023-01-07T15:36:19.789Z"
   },
   {
    "duration": 12,
    "start_time": "2023-01-07T15:36:19.961Z"
   },
   {
    "duration": 28,
    "start_time": "2023-01-07T15:36:19.975Z"
   },
   {
    "duration": 4,
    "start_time": "2023-01-07T15:36:20.006Z"
   },
   {
    "duration": 82,
    "start_time": "2023-01-07T15:36:20.012Z"
   },
   {
    "duration": 83,
    "start_time": "2023-01-07T15:36:20.096Z"
   },
   {
    "duration": 4,
    "start_time": "2023-01-07T15:36:20.181Z"
   },
   {
    "duration": 22,
    "start_time": "2023-01-07T15:36:20.187Z"
   },
   {
    "duration": 5,
    "start_time": "2023-01-07T15:36:20.211Z"
   },
   {
    "duration": 28,
    "start_time": "2023-01-07T15:36:20.218Z"
   },
   {
    "duration": 124,
    "start_time": "2023-01-07T15:36:20.249Z"
   },
   {
    "duration": 10,
    "start_time": "2023-01-07T15:36:20.375Z"
   },
   {
    "duration": 155,
    "start_time": "2023-01-07T15:36:20.388Z"
   },
   {
    "duration": 12,
    "start_time": "2023-01-07T15:36:20.545Z"
   },
   {
    "duration": 16,
    "start_time": "2023-01-07T15:36:20.559Z"
   },
   {
    "duration": 14,
    "start_time": "2023-01-07T15:36:20.577Z"
   },
   {
    "duration": 6,
    "start_time": "2023-01-07T15:36:20.593Z"
   },
   {
    "duration": 8,
    "start_time": "2023-01-07T15:36:20.601Z"
   },
   {
    "duration": 448,
    "start_time": "2023-01-07T15:36:20.610Z"
   },
   {
    "duration": 31,
    "start_time": "2023-01-07T15:36:21.060Z"
   },
   {
    "duration": 9,
    "start_time": "2023-01-07T15:36:21.093Z"
   },
   {
    "duration": 356,
    "start_time": "2023-01-07T15:36:21.104Z"
   },
   {
    "duration": 49,
    "start_time": "2023-01-07T15:36:21.461Z"
   },
   {
    "duration": 38,
    "start_time": "2023-01-07T15:36:21.512Z"
   },
   {
    "duration": 13,
    "start_time": "2023-01-07T15:36:21.551Z"
   },
   {
    "duration": 45,
    "start_time": "2023-01-07T15:36:21.566Z"
   },
   {
    "duration": 501,
    "start_time": "2023-01-07T15:36:21.613Z"
   },
   {
    "duration": 31,
    "start_time": "2023-01-07T15:36:22.115Z"
   },
   {
    "duration": 82,
    "start_time": "2023-01-07T15:36:22.148Z"
   },
   {
    "duration": 9,
    "start_time": "2023-01-07T15:36:22.238Z"
   },
   {
    "duration": 192,
    "start_time": "2023-01-07T15:36:22.249Z"
   },
   {
    "duration": 11,
    "start_time": "2023-01-07T15:36:22.442Z"
   },
   {
    "duration": 111,
    "start_time": "2023-01-07T15:36:22.455Z"
   },
   {
    "duration": 192,
    "start_time": "2023-01-07T15:36:22.568Z"
   },
   {
    "duration": 4,
    "start_time": "2023-01-07T15:36:22.762Z"
   },
   {
    "duration": 6,
    "start_time": "2023-01-07T15:36:36.031Z"
   },
   {
    "duration": 170,
    "start_time": "2023-01-07T15:36:37.628Z"
   },
   {
    "duration": 272,
    "start_time": "2023-01-07T15:36:47.450Z"
   },
   {
    "duration": 167,
    "start_time": "2023-01-07T15:36:59.980Z"
   },
   {
    "duration": 103,
    "start_time": "2023-01-07T15:37:13.951Z"
   },
   {
    "duration": 6,
    "start_time": "2023-01-07T15:37:18.616Z"
   },
   {
    "duration": 172,
    "start_time": "2023-01-07T15:37:20.010Z"
   },
   {
    "duration": 32,
    "start_time": "2023-01-07T15:37:38.835Z"
   },
   {
    "duration": 184,
    "start_time": "2023-01-07T15:38:05.777Z"
   },
   {
    "duration": 185,
    "start_time": "2023-01-07T15:38:34.114Z"
   },
   {
    "duration": 185,
    "start_time": "2023-01-07T15:38:44.079Z"
   },
   {
    "duration": 166,
    "start_time": "2023-01-07T15:38:48.746Z"
   },
   {
    "duration": 6,
    "start_time": "2023-01-07T15:39:17.536Z"
   },
   {
    "duration": 166,
    "start_time": "2023-01-07T15:39:20.077Z"
   },
   {
    "duration": 173,
    "start_time": "2023-01-07T15:39:53.655Z"
   },
   {
    "duration": 6,
    "start_time": "2023-01-07T15:39:57.460Z"
   },
   {
    "duration": 176,
    "start_time": "2023-01-07T15:39:57.965Z"
   },
   {
    "duration": 6,
    "start_time": "2023-01-07T15:40:41.058Z"
   },
   {
    "duration": 253,
    "start_time": "2023-01-07T15:40:41.721Z"
   },
   {
    "duration": 158,
    "start_time": "2023-01-07T15:42:39.245Z"
   },
   {
    "duration": 162,
    "start_time": "2023-01-07T15:43:02.846Z"
   },
   {
    "duration": 185,
    "start_time": "2023-01-07T15:45:05.743Z"
   },
   {
    "duration": 160,
    "start_time": "2023-01-07T15:45:16.806Z"
   },
   {
    "duration": 161,
    "start_time": "2023-01-07T15:46:59.051Z"
   },
   {
    "duration": 179,
    "start_time": "2023-01-07T15:47:04.836Z"
   },
   {
    "duration": 163,
    "start_time": "2023-01-07T15:48:26.178Z"
   },
   {
    "duration": 179,
    "start_time": "2023-01-07T15:48:51.506Z"
   },
   {
    "duration": 75,
    "start_time": "2023-01-07T15:58:00.256Z"
   },
   {
    "duration": 71,
    "start_time": "2023-01-07T15:58:18.196Z"
   },
   {
    "duration": 78,
    "start_time": "2023-01-07T15:58:30.949Z"
   },
   {
    "duration": 74,
    "start_time": "2023-01-07T15:58:43.473Z"
   },
   {
    "duration": 12,
    "start_time": "2023-01-07T16:17:50.739Z"
   },
   {
    "duration": 11,
    "start_time": "2023-01-07T16:18:09.300Z"
   },
   {
    "duration": 12,
    "start_time": "2023-01-07T16:18:16.876Z"
   },
   {
    "duration": 13,
    "start_time": "2023-01-07T16:18:34.877Z"
   },
   {
    "duration": 13,
    "start_time": "2023-01-07T16:18:43.707Z"
   },
   {
    "duration": 12,
    "start_time": "2023-01-07T16:18:58.459Z"
   },
   {
    "duration": 13,
    "start_time": "2023-01-07T16:19:05.275Z"
   },
   {
    "duration": 11,
    "start_time": "2023-01-07T16:19:13.869Z"
   },
   {
    "duration": 1254,
    "start_time": "2023-01-07T16:19:18.315Z"
   },
   {
    "duration": 168,
    "start_time": "2023-01-07T16:19:19.572Z"
   },
   {
    "duration": 11,
    "start_time": "2023-01-07T16:19:19.742Z"
   },
   {
    "duration": 21,
    "start_time": "2023-01-07T16:19:19.755Z"
   },
   {
    "duration": 4,
    "start_time": "2023-01-07T16:19:19.777Z"
   },
   {
    "duration": 84,
    "start_time": "2023-01-07T16:19:19.782Z"
   },
   {
    "duration": 71,
    "start_time": "2023-01-07T16:19:19.867Z"
   },
   {
    "duration": 3,
    "start_time": "2023-01-07T16:19:19.940Z"
   },
   {
    "duration": 12,
    "start_time": "2023-01-07T16:19:19.945Z"
   },
   {
    "duration": 4,
    "start_time": "2023-01-07T16:19:19.960Z"
   },
   {
    "duration": 19,
    "start_time": "2023-01-07T16:19:19.965Z"
   },
   {
    "duration": 138,
    "start_time": "2023-01-07T16:19:19.986Z"
   },
   {
    "duration": 19,
    "start_time": "2023-01-07T16:19:20.126Z"
   },
   {
    "duration": 155,
    "start_time": "2023-01-07T16:19:20.147Z"
   },
   {
    "duration": 13,
    "start_time": "2023-01-07T16:19:20.303Z"
   },
   {
    "duration": 26,
    "start_time": "2023-01-07T16:19:20.318Z"
   },
   {
    "duration": 12,
    "start_time": "2023-01-07T16:19:20.346Z"
   },
   {
    "duration": 6,
    "start_time": "2023-01-07T16:19:20.360Z"
   },
   {
    "duration": 8,
    "start_time": "2023-01-07T16:19:20.367Z"
   },
   {
    "duration": 441,
    "start_time": "2023-01-07T16:19:20.377Z"
   },
   {
    "duration": 40,
    "start_time": "2023-01-07T16:19:20.821Z"
   },
   {
    "duration": 11,
    "start_time": "2023-01-07T16:19:20.863Z"
   },
   {
    "duration": 379,
    "start_time": "2023-01-07T16:19:20.875Z"
   },
   {
    "duration": 53,
    "start_time": "2023-01-07T16:19:21.256Z"
   },
   {
    "duration": 44,
    "start_time": "2023-01-07T16:19:21.311Z"
   },
   {
    "duration": 13,
    "start_time": "2023-01-07T16:19:21.357Z"
   },
   {
    "duration": 68,
    "start_time": "2023-01-07T16:19:21.371Z"
   },
   {
    "duration": 466,
    "start_time": "2023-01-07T16:19:21.443Z"
   },
   {
    "duration": 36,
    "start_time": "2023-01-07T16:19:21.911Z"
   },
   {
    "duration": 69,
    "start_time": "2023-01-07T16:19:21.950Z"
   },
   {
    "duration": 17,
    "start_time": "2023-01-07T16:19:22.021Z"
   },
   {
    "duration": 192,
    "start_time": "2023-01-07T16:19:22.040Z"
   },
   {
    "duration": 12,
    "start_time": "2023-01-07T16:19:22.233Z"
   },
   {
    "duration": 253,
    "start_time": "2023-01-07T16:19:22.246Z"
   },
   {
    "duration": 5,
    "start_time": "2023-01-07T16:19:22.501Z"
   },
   {
    "duration": 16,
    "start_time": "2023-01-07T16:45:59.361Z"
   },
   {
    "duration": 43,
    "start_time": "2023-01-07T16:46:31.670Z"
   },
   {
    "duration": 106,
    "start_time": "2023-01-07T16:46:40.426Z"
   },
   {
    "duration": 44,
    "start_time": "2023-01-07T16:46:43.888Z"
   },
   {
    "duration": 53,
    "start_time": "2023-01-08T16:40:18.939Z"
   },
   {
    "duration": 66,
    "start_time": "2023-01-08T16:40:24.907Z"
   },
   {
    "duration": 1384,
    "start_time": "2023-01-08T16:40:32.489Z"
   },
   {
    "duration": 886,
    "start_time": "2023-01-08T16:40:33.876Z"
   },
   {
    "duration": 12,
    "start_time": "2023-01-08T16:40:34.764Z"
   },
   {
    "duration": 19,
    "start_time": "2023-01-08T16:40:34.778Z"
   },
   {
    "duration": 5,
    "start_time": "2023-01-08T16:40:34.799Z"
   },
   {
    "duration": 132,
    "start_time": "2023-01-08T16:40:34.805Z"
   },
   {
    "duration": 74,
    "start_time": "2023-01-08T16:40:34.947Z"
   },
   {
    "duration": 6,
    "start_time": "2023-01-08T16:40:35.023Z"
   },
   {
    "duration": 34,
    "start_time": "2023-01-08T16:40:35.031Z"
   },
   {
    "duration": 4,
    "start_time": "2023-01-08T16:40:35.068Z"
   },
   {
    "duration": 18,
    "start_time": "2023-01-08T16:40:35.074Z"
   },
   {
    "duration": 157,
    "start_time": "2023-01-08T16:40:35.094Z"
   },
   {
    "duration": 10,
    "start_time": "2023-01-08T16:40:35.253Z"
   },
   {
    "duration": 157,
    "start_time": "2023-01-08T16:40:35.266Z"
   },
   {
    "duration": 21,
    "start_time": "2023-01-08T16:40:35.431Z"
   },
   {
    "duration": 12,
    "start_time": "2023-01-08T16:40:35.454Z"
   },
   {
    "duration": 8,
    "start_time": "2023-01-08T16:40:35.468Z"
   },
   {
    "duration": 14,
    "start_time": "2023-01-08T16:40:35.478Z"
   },
   {
    "duration": 8,
    "start_time": "2023-01-08T16:40:35.494Z"
   },
   {
    "duration": 473,
    "start_time": "2023-01-08T16:40:35.516Z"
   },
   {
    "duration": 40,
    "start_time": "2023-01-08T16:40:35.991Z"
   },
   {
    "duration": 19,
    "start_time": "2023-01-08T16:40:36.033Z"
   },
   {
    "duration": 410,
    "start_time": "2023-01-08T16:40:36.054Z"
   },
   {
    "duration": 60,
    "start_time": "2023-01-08T16:40:36.467Z"
   },
   {
    "duration": 62,
    "start_time": "2023-01-08T16:40:36.532Z"
   },
   {
    "duration": 28,
    "start_time": "2023-01-08T16:40:36.597Z"
   },
   {
    "duration": 78,
    "start_time": "2023-01-08T16:40:36.627Z"
   },
   {
    "duration": 539,
    "start_time": "2023-01-08T16:40:36.707Z"
   },
   {
    "duration": 26,
    "start_time": "2023-01-08T16:40:37.248Z"
   },
   {
    "duration": 103,
    "start_time": "2023-01-08T16:40:37.276Z"
   },
   {
    "duration": 10,
    "start_time": "2023-01-08T16:40:37.381Z"
   },
   {
    "duration": 239,
    "start_time": "2023-01-08T16:40:37.393Z"
   },
   {
    "duration": 25,
    "start_time": "2023-01-08T16:40:37.635Z"
   },
   {
    "duration": 248,
    "start_time": "2023-01-08T16:40:37.663Z"
   },
   {
    "duration": 8,
    "start_time": "2023-01-08T16:40:37.921Z"
   },
   {
    "duration": 138,
    "start_time": "2023-01-08T16:40:37.934Z"
   },
   {
    "duration": 33,
    "start_time": "2023-01-08T16:41:19.633Z"
   },
   {
    "duration": 19,
    "start_time": "2023-01-08T16:45:23.891Z"
   },
   {
    "duration": 78,
    "start_time": "2023-01-08T16:46:19.260Z"
   },
   {
    "duration": 103,
    "start_time": "2023-01-08T16:46:49.793Z"
   },
   {
    "duration": 11,
    "start_time": "2023-01-08T16:54:23.683Z"
   },
   {
    "duration": 80,
    "start_time": "2023-01-08T16:54:31.013Z"
   },
   {
    "duration": 72,
    "start_time": "2023-01-08T16:54:40.495Z"
   },
   {
    "duration": 45,
    "start_time": "2023-01-08T16:56:14.354Z"
   },
   {
    "duration": 91,
    "start_time": "2023-01-08T16:57:58.654Z"
   },
   {
    "duration": 78,
    "start_time": "2023-01-08T16:58:05.967Z"
   },
   {
    "duration": 92,
    "start_time": "2023-01-08T16:58:13.063Z"
   },
   {
    "duration": 82,
    "start_time": "2023-01-08T16:58:59.567Z"
   },
   {
    "duration": 83,
    "start_time": "2023-01-08T16:59:07.874Z"
   },
   {
    "duration": 81,
    "start_time": "2023-01-08T16:59:15.277Z"
   },
   {
    "duration": 77,
    "start_time": "2023-01-08T16:59:26.817Z"
   },
   {
    "duration": 79,
    "start_time": "2023-01-08T16:59:37.697Z"
   },
   {
    "duration": 1082,
    "start_time": "2023-01-08T17:12:57.344Z"
   },
   {
    "duration": 147,
    "start_time": "2023-01-08T17:12:58.428Z"
   },
   {
    "duration": 11,
    "start_time": "2023-01-08T17:12:58.577Z"
   },
   {
    "duration": 26,
    "start_time": "2023-01-08T17:12:58.590Z"
   },
   {
    "duration": 4,
    "start_time": "2023-01-08T17:12:58.619Z"
   },
   {
    "duration": 56,
    "start_time": "2023-01-08T17:12:58.625Z"
   },
   {
    "duration": 82,
    "start_time": "2023-01-08T17:12:58.683Z"
   },
   {
    "duration": 4,
    "start_time": "2023-01-08T17:12:58.767Z"
   },
   {
    "duration": 13,
    "start_time": "2023-01-08T17:12:58.773Z"
   },
   {
    "duration": 5,
    "start_time": "2023-01-08T17:12:58.788Z"
   },
   {
    "duration": 24,
    "start_time": "2023-01-08T17:12:58.794Z"
   },
   {
    "duration": 116,
    "start_time": "2023-01-08T17:12:58.820Z"
   },
   {
    "duration": 9,
    "start_time": "2023-01-08T17:12:58.937Z"
   },
   {
    "duration": 132,
    "start_time": "2023-01-08T17:12:58.949Z"
   },
   {
    "duration": 10,
    "start_time": "2023-01-08T17:12:59.083Z"
   },
   {
    "duration": 18,
    "start_time": "2023-01-08T17:12:59.095Z"
   },
   {
    "duration": 7,
    "start_time": "2023-01-08T17:12:59.114Z"
   },
   {
    "duration": 9,
    "start_time": "2023-01-08T17:12:59.122Z"
   },
   {
    "duration": 10,
    "start_time": "2023-01-08T17:12:59.133Z"
   },
   {
    "duration": 425,
    "start_time": "2023-01-08T17:12:59.144Z"
   },
   {
    "duration": 28,
    "start_time": "2023-01-08T17:12:59.571Z"
   },
   {
    "duration": 18,
    "start_time": "2023-01-08T17:12:59.601Z"
   },
   {
    "duration": 344,
    "start_time": "2023-01-08T17:12:59.621Z"
   },
   {
    "duration": 45,
    "start_time": "2023-01-08T17:12:59.967Z"
   },
   {
    "duration": 21,
    "start_time": "2023-01-08T17:13:00.014Z"
   },
   {
    "duration": 12,
    "start_time": "2023-01-08T17:13:00.037Z"
   },
   {
    "duration": 69,
    "start_time": "2023-01-08T17:13:00.050Z"
   },
   {
    "duration": 464,
    "start_time": "2023-01-08T17:13:00.121Z"
   },
   {
    "duration": 28,
    "start_time": "2023-01-08T17:13:00.587Z"
   },
   {
    "duration": 63,
    "start_time": "2023-01-08T17:13:00.616Z"
   },
   {
    "duration": 8,
    "start_time": "2023-01-08T17:13:00.680Z"
   },
   {
    "duration": 186,
    "start_time": "2023-01-08T17:13:00.689Z"
   },
   {
    "duration": 10,
    "start_time": "2023-01-08T17:13:00.877Z"
   },
   {
    "duration": 240,
    "start_time": "2023-01-08T17:13:00.889Z"
   },
   {
    "duration": 4,
    "start_time": "2023-01-08T17:13:01.130Z"
   },
   {
    "duration": 46,
    "start_time": "2023-01-08T17:13:01.136Z"
   },
   {
    "duration": 86,
    "start_time": "2023-01-08T17:13:01.183Z"
   },
   {
    "duration": 49,
    "start_time": "2023-01-09T14:10:52.856Z"
   },
   {
    "duration": 1450,
    "start_time": "2023-01-09T14:11:00.327Z"
   },
   {
    "duration": 886,
    "start_time": "2023-01-09T14:11:01.780Z"
   },
   {
    "duration": 12,
    "start_time": "2023-01-09T14:11:02.667Z"
   },
   {
    "duration": 21,
    "start_time": "2023-01-09T14:11:02.680Z"
   },
   {
    "duration": 5,
    "start_time": "2023-01-09T14:11:02.703Z"
   },
   {
    "duration": 72,
    "start_time": "2023-01-09T14:11:02.709Z"
   },
   {
    "duration": 76,
    "start_time": "2023-01-09T14:11:02.783Z"
   },
   {
    "duration": 4,
    "start_time": "2023-01-09T14:11:02.861Z"
   },
   {
    "duration": 31,
    "start_time": "2023-01-09T14:11:02.867Z"
   },
   {
    "duration": 8,
    "start_time": "2023-01-09T14:11:02.900Z"
   },
   {
    "duration": 37,
    "start_time": "2023-01-09T14:11:02.910Z"
   },
   {
    "duration": 125,
    "start_time": "2023-01-09T14:11:02.948Z"
   },
   {
    "duration": 10,
    "start_time": "2023-01-09T14:11:03.075Z"
   },
   {
    "duration": 166,
    "start_time": "2023-01-09T14:11:03.088Z"
   },
   {
    "duration": 14,
    "start_time": "2023-01-09T14:11:03.256Z"
   },
   {
    "duration": 14,
    "start_time": "2023-01-09T14:11:03.271Z"
   },
   {
    "duration": 9,
    "start_time": "2023-01-09T14:11:03.286Z"
   },
   {
    "duration": 7,
    "start_time": "2023-01-09T14:11:03.297Z"
   },
   {
    "duration": 37,
    "start_time": "2023-01-09T14:11:03.305Z"
   },
   {
    "duration": 446,
    "start_time": "2023-01-09T14:11:03.343Z"
   },
   {
    "duration": 49,
    "start_time": "2023-01-09T14:11:03.792Z"
   },
   {
    "duration": 13,
    "start_time": "2023-01-09T14:11:03.843Z"
   },
   {
    "duration": 397,
    "start_time": "2023-01-09T14:11:03.858Z"
   },
   {
    "duration": 50,
    "start_time": "2023-01-09T14:11:04.257Z"
   },
   {
    "duration": 36,
    "start_time": "2023-01-09T14:11:04.309Z"
   },
   {
    "duration": 15,
    "start_time": "2023-01-09T14:11:04.346Z"
   },
   {
    "duration": 44,
    "start_time": "2023-01-09T14:11:04.363Z"
   },
   {
    "duration": 488,
    "start_time": "2023-01-09T14:11:04.409Z"
   },
   {
    "duration": 27,
    "start_time": "2023-01-09T14:11:04.899Z"
   },
   {
    "duration": 76,
    "start_time": "2023-01-09T14:11:04.927Z"
   },
   {
    "duration": 11,
    "start_time": "2023-01-09T14:11:05.004Z"
   },
   {
    "duration": 214,
    "start_time": "2023-01-09T14:11:05.017Z"
   },
   {
    "duration": 13,
    "start_time": "2023-01-09T14:11:05.233Z"
   },
   {
    "duration": 275,
    "start_time": "2023-01-09T14:11:05.248Z"
   },
   {
    "duration": 4,
    "start_time": "2023-01-09T14:11:05.525Z"
   },
   {
    "duration": 64,
    "start_time": "2023-01-09T14:11:05.537Z"
   },
   {
    "duration": 120,
    "start_time": "2023-01-09T14:11:05.603Z"
   },
   {
    "duration": 0,
    "start_time": "2023-01-09T14:11:05.725Z"
   },
   {
    "duration": 85,
    "start_time": "2023-01-09T14:11:24.111Z"
   },
   {
    "duration": 84,
    "start_time": "2023-01-09T14:11:32.690Z"
   },
   {
    "duration": 90,
    "start_time": "2023-01-09T14:11:53.577Z"
   },
   {
    "duration": 80,
    "start_time": "2023-01-09T14:11:59.302Z"
   },
   {
    "duration": 80,
    "start_time": "2023-01-09T14:12:26.373Z"
   },
   {
    "duration": 97,
    "start_time": "2023-01-09T14:15:09.305Z"
   },
   {
    "duration": 91,
    "start_time": "2023-01-09T14:15:19.623Z"
   },
   {
    "duration": 89,
    "start_time": "2023-01-09T14:15:25.901Z"
   },
   {
    "duration": 84,
    "start_time": "2023-01-09T14:15:32.016Z"
   },
   {
    "duration": 99,
    "start_time": "2023-01-09T14:17:06.131Z"
   },
   {
    "duration": 99,
    "start_time": "2023-01-09T14:19:18.780Z"
   },
   {
    "duration": 103,
    "start_time": "2023-01-09T14:19:49.201Z"
   },
   {
    "duration": 120,
    "start_time": "2023-01-09T14:22:49.562Z"
   },
   {
    "duration": 89,
    "start_time": "2023-01-09T14:23:41.518Z"
   },
   {
    "duration": 89,
    "start_time": "2023-01-09T14:23:53.760Z"
   },
   {
    "duration": 101,
    "start_time": "2023-01-09T14:26:52.046Z"
   },
   {
    "duration": 87,
    "start_time": "2023-01-09T14:26:58.762Z"
   },
   {
    "duration": 85,
    "start_time": "2023-01-09T14:27:40.709Z"
   },
   {
    "duration": 9,
    "start_time": "2023-01-09T14:27:53.104Z"
   },
   {
    "duration": 86,
    "start_time": "2023-01-09T14:28:32.428Z"
   },
   {
    "duration": 86,
    "start_time": "2023-01-09T14:29:17.330Z"
   },
   {
    "duration": 108,
    "start_time": "2023-01-09T14:31:49.069Z"
   },
   {
    "duration": 99,
    "start_time": "2023-01-09T14:32:03.623Z"
   },
   {
    "duration": 87,
    "start_time": "2023-01-09T14:32:09.312Z"
   },
   {
    "duration": 97,
    "start_time": "2023-01-09T14:52:44.978Z"
   },
   {
    "duration": 11,
    "start_time": "2023-01-09T15:01:19.952Z"
   },
   {
    "duration": 1323,
    "start_time": "2023-01-09T15:01:26.177Z"
   },
   {
    "duration": 213,
    "start_time": "2023-01-09T15:01:27.502Z"
   },
   {
    "duration": 14,
    "start_time": "2023-01-09T15:01:27.717Z"
   },
   {
    "duration": 34,
    "start_time": "2023-01-09T15:01:27.741Z"
   },
   {
    "duration": 6,
    "start_time": "2023-01-09T15:01:27.777Z"
   },
   {
    "duration": 92,
    "start_time": "2023-01-09T15:01:27.785Z"
   },
   {
    "duration": 79,
    "start_time": "2023-01-09T15:01:27.879Z"
   },
   {
    "duration": 3,
    "start_time": "2023-01-09T15:01:27.960Z"
   },
   {
    "duration": 11,
    "start_time": "2023-01-09T15:01:27.965Z"
   },
   {
    "duration": 10,
    "start_time": "2023-01-09T15:01:27.978Z"
   },
   {
    "duration": 24,
    "start_time": "2023-01-09T15:01:27.990Z"
   },
   {
    "duration": 156,
    "start_time": "2023-01-09T15:01:28.016Z"
   },
   {
    "duration": 15,
    "start_time": "2023-01-09T15:01:28.174Z"
   },
   {
    "duration": 173,
    "start_time": "2023-01-09T15:01:28.191Z"
   },
   {
    "duration": 13,
    "start_time": "2023-01-09T15:01:28.366Z"
   },
   {
    "duration": 22,
    "start_time": "2023-01-09T15:01:28.381Z"
   },
   {
    "duration": 15,
    "start_time": "2023-01-09T15:01:28.405Z"
   },
   {
    "duration": 24,
    "start_time": "2023-01-09T15:01:28.422Z"
   },
   {
    "duration": 24,
    "start_time": "2023-01-09T15:01:28.451Z"
   },
   {
    "duration": 525,
    "start_time": "2023-01-09T15:01:28.476Z"
   },
   {
    "duration": 54,
    "start_time": "2023-01-09T15:01:29.003Z"
   },
   {
    "duration": 14,
    "start_time": "2023-01-09T15:01:29.061Z"
   },
   {
    "duration": 391,
    "start_time": "2023-01-09T15:01:29.077Z"
   },
   {
    "duration": 49,
    "start_time": "2023-01-09T15:01:29.470Z"
   },
   {
    "duration": 43,
    "start_time": "2023-01-09T15:01:29.521Z"
   },
   {
    "duration": 12,
    "start_time": "2023-01-09T15:01:29.566Z"
   },
   {
    "duration": 64,
    "start_time": "2023-01-09T15:01:29.580Z"
   },
   {
    "duration": 601,
    "start_time": "2023-01-09T15:01:29.648Z"
   },
   {
    "duration": 31,
    "start_time": "2023-01-09T15:01:30.251Z"
   },
   {
    "duration": 122,
    "start_time": "2023-01-09T15:01:30.283Z"
   },
   {
    "duration": 10,
    "start_time": "2023-01-09T15:01:30.407Z"
   },
   {
    "duration": 237,
    "start_time": "2023-01-09T15:01:30.419Z"
   },
   {
    "duration": 11,
    "start_time": "2023-01-09T15:01:30.658Z"
   },
   {
    "duration": 225,
    "start_time": "2023-01-09T15:01:30.671Z"
   },
   {
    "duration": 4,
    "start_time": "2023-01-09T15:01:30.898Z"
   },
   {
    "duration": 92,
    "start_time": "2023-01-09T15:01:30.904Z"
   },
   {
    "duration": 127,
    "start_time": "2023-01-09T15:01:30.997Z"
   },
   {
    "duration": 167,
    "start_time": "2023-01-09T15:01:31.126Z"
   },
   {
    "duration": 0,
    "start_time": "2023-01-09T15:01:31.295Z"
   },
   {
    "duration": 126,
    "start_time": "2023-01-09T15:04:54.059Z"
   },
   {
    "duration": 93,
    "start_time": "2023-01-09T15:05:05.168Z"
   },
   {
    "duration": 83,
    "start_time": "2023-01-09T15:07:00.709Z"
   },
   {
    "duration": 100,
    "start_time": "2023-01-09T15:07:29.027Z"
   },
   {
    "duration": 82,
    "start_time": "2023-01-09T15:08:38.099Z"
   },
   {
    "duration": 77,
    "start_time": "2023-01-09T15:08:47.497Z"
   },
   {
    "duration": 79,
    "start_time": "2023-01-09T15:11:27.938Z"
   },
   {
    "duration": 80,
    "start_time": "2023-01-09T15:11:34.567Z"
   },
   {
    "duration": 85,
    "start_time": "2023-01-09T15:11:52.206Z"
   },
   {
    "duration": 98,
    "start_time": "2023-01-09T15:12:16.630Z"
   },
   {
    "duration": 82,
    "start_time": "2023-01-09T15:13:15.296Z"
   },
   {
    "duration": 78,
    "start_time": "2023-01-09T15:14:00.633Z"
   },
   {
    "duration": 92,
    "start_time": "2023-01-09T15:14:09.085Z"
   },
   {
    "duration": 80,
    "start_time": "2023-01-09T15:17:04.304Z"
   },
   {
    "duration": 81,
    "start_time": "2023-01-09T15:19:01.178Z"
   },
   {
    "duration": 136,
    "start_time": "2023-01-09T15:24:38.913Z"
   },
   {
    "duration": 85,
    "start_time": "2023-01-09T15:24:49.583Z"
   },
   {
    "duration": 76,
    "start_time": "2023-01-09T15:25:04.651Z"
   },
   {
    "duration": 92,
    "start_time": "2023-01-09T15:26:45.325Z"
   },
   {
    "duration": 80,
    "start_time": "2023-01-09T15:27:14.173Z"
   },
   {
    "duration": 92,
    "start_time": "2023-01-09T15:31:36.566Z"
   },
   {
    "duration": 82,
    "start_time": "2023-01-09T15:33:48.982Z"
   },
   {
    "duration": 73,
    "start_time": "2023-01-09T15:34:47.555Z"
   },
   {
    "duration": 94,
    "start_time": "2023-01-09T15:44:12.057Z"
   },
   {
    "duration": 87,
    "start_time": "2023-01-09T15:44:25.138Z"
   },
   {
    "duration": 87,
    "start_time": "2023-01-09T15:44:58.066Z"
   },
   {
    "duration": 74,
    "start_time": "2023-01-09T15:45:58.551Z"
   },
   {
    "duration": 88,
    "start_time": "2023-01-09T15:46:03.390Z"
   },
   {
    "duration": 91,
    "start_time": "2023-01-09T15:46:11.017Z"
   },
   {
    "duration": 101,
    "start_time": "2023-01-09T15:46:22.171Z"
   },
   {
    "duration": 91,
    "start_time": "2023-01-09T15:46:46.731Z"
   },
   {
    "duration": 93,
    "start_time": "2023-01-09T15:46:57.097Z"
   },
   {
    "duration": 86,
    "start_time": "2023-01-09T15:47:45.933Z"
   },
   {
    "duration": 87,
    "start_time": "2023-01-09T15:47:50.895Z"
   },
   {
    "duration": 65,
    "start_time": "2023-01-09T15:48:07.681Z"
   },
   {
    "duration": 88,
    "start_time": "2023-01-09T15:48:15.040Z"
   },
   {
    "duration": 90,
    "start_time": "2023-01-09T15:48:30.946Z"
   },
   {
    "duration": 97,
    "start_time": "2023-01-09T15:48:46.441Z"
   },
   {
    "duration": 107,
    "start_time": "2023-01-09T15:49:28.912Z"
   },
   {
    "duration": 120,
    "start_time": "2023-01-09T15:49:38.935Z"
   },
   {
    "duration": 90,
    "start_time": "2023-01-09T15:49:54.690Z"
   },
   {
    "duration": 90,
    "start_time": "2023-01-09T15:50:05.455Z"
   },
   {
    "duration": 91,
    "start_time": "2023-01-09T15:50:26.218Z"
   },
   {
    "duration": 91,
    "start_time": "2023-01-09T15:50:51.995Z"
   },
   {
    "duration": 72,
    "start_time": "2023-01-09T15:52:25.901Z"
   },
   {
    "duration": 105,
    "start_time": "2023-01-09T15:52:39.037Z"
   },
   {
    "duration": 88,
    "start_time": "2023-01-09T15:52:59.179Z"
   },
   {
    "duration": 95,
    "start_time": "2023-01-09T15:53:16.345Z"
   },
   {
    "duration": 91,
    "start_time": "2023-01-09T15:55:04.351Z"
   },
   {
    "duration": 94,
    "start_time": "2023-01-09T15:56:16.744Z"
   },
   {
    "duration": 124,
    "start_time": "2023-01-09T15:56:21.768Z"
   },
   {
    "duration": 90,
    "start_time": "2023-01-09T15:56:47.080Z"
   },
   {
    "duration": 86,
    "start_time": "2023-01-09T15:57:01.388Z"
   },
   {
    "duration": 86,
    "start_time": "2023-01-09T15:57:42.280Z"
   },
   {
    "duration": 79,
    "start_time": "2023-01-09T15:57:50.324Z"
   },
   {
    "duration": 83,
    "start_time": "2023-01-09T15:57:59.400Z"
   },
   {
    "duration": 77,
    "start_time": "2023-01-09T15:58:28.498Z"
   },
   {
    "duration": 80,
    "start_time": "2023-01-09T15:58:39.354Z"
   },
   {
    "duration": 92,
    "start_time": "2023-01-09T15:58:57.238Z"
   },
   {
    "duration": 72,
    "start_time": "2023-01-09T15:59:08.075Z"
   },
   {
    "duration": 84,
    "start_time": "2023-01-09T16:01:32.677Z"
   },
   {
    "duration": 76,
    "start_time": "2023-01-09T16:01:37.735Z"
   },
   {
    "duration": 92,
    "start_time": "2023-01-09T16:01:52.983Z"
   },
   {
    "duration": 74,
    "start_time": "2023-01-09T16:02:07.138Z"
   },
   {
    "duration": 79,
    "start_time": "2023-01-09T16:02:22.892Z"
   },
   {
    "duration": 11,
    "start_time": "2023-01-09T16:02:47.331Z"
   },
   {
    "duration": 1281,
    "start_time": "2023-01-09T16:02:58.806Z"
   },
   {
    "duration": 174,
    "start_time": "2023-01-09T16:03:00.089Z"
   },
   {
    "duration": 12,
    "start_time": "2023-01-09T16:03:00.268Z"
   },
   {
    "duration": 33,
    "start_time": "2023-01-09T16:03:00.282Z"
   },
   {
    "duration": 21,
    "start_time": "2023-01-09T16:03:00.317Z"
   },
   {
    "duration": 60,
    "start_time": "2023-01-09T16:03:00.341Z"
   },
   {
    "duration": 90,
    "start_time": "2023-01-09T16:03:00.403Z"
   },
   {
    "duration": 3,
    "start_time": "2023-01-09T16:03:00.495Z"
   },
   {
    "duration": 28,
    "start_time": "2023-01-09T16:03:00.502Z"
   },
   {
    "duration": 15,
    "start_time": "2023-01-09T16:03:00.532Z"
   },
   {
    "duration": 30,
    "start_time": "2023-01-09T16:03:00.548Z"
   },
   {
    "duration": 143,
    "start_time": "2023-01-09T16:03:00.580Z"
   },
   {
    "duration": 13,
    "start_time": "2023-01-09T16:03:00.725Z"
   },
   {
    "duration": 161,
    "start_time": "2023-01-09T16:03:00.739Z"
   },
   {
    "duration": 13,
    "start_time": "2023-01-09T16:03:00.902Z"
   },
   {
    "duration": 32,
    "start_time": "2023-01-09T16:03:00.917Z"
   },
   {
    "duration": 21,
    "start_time": "2023-01-09T16:03:00.951Z"
   },
   {
    "duration": 18,
    "start_time": "2023-01-09T16:03:00.974Z"
   },
   {
    "duration": 27,
    "start_time": "2023-01-09T16:03:00.994Z"
   },
   {
    "duration": 448,
    "start_time": "2023-01-09T16:03:01.023Z"
   },
   {
    "duration": 30,
    "start_time": "2023-01-09T16:03:01.473Z"
   },
   {
    "duration": 13,
    "start_time": "2023-01-09T16:03:01.505Z"
   },
   {
    "duration": 376,
    "start_time": "2023-01-09T16:03:01.520Z"
   },
   {
    "duration": 60,
    "start_time": "2023-01-09T16:03:01.897Z"
   },
   {
    "duration": 21,
    "start_time": "2023-01-09T16:03:01.959Z"
   },
   {
    "duration": 12,
    "start_time": "2023-01-09T16:03:01.982Z"
   },
   {
    "duration": 69,
    "start_time": "2023-01-09T16:03:01.997Z"
   },
   {
    "duration": 492,
    "start_time": "2023-01-09T16:03:02.068Z"
   },
   {
    "duration": 28,
    "start_time": "2023-01-09T16:03:02.562Z"
   },
   {
    "duration": 84,
    "start_time": "2023-01-09T16:03:02.592Z"
   },
   {
    "duration": 10,
    "start_time": "2023-01-09T16:03:02.678Z"
   },
   {
    "duration": 212,
    "start_time": "2023-01-09T16:03:02.690Z"
   },
   {
    "duration": 11,
    "start_time": "2023-01-09T16:03:02.904Z"
   },
   {
    "duration": 275,
    "start_time": "2023-01-09T16:03:02.916Z"
   },
   {
    "duration": 5,
    "start_time": "2023-01-09T16:03:03.193Z"
   },
   {
    "duration": 80,
    "start_time": "2023-01-09T16:03:03.200Z"
   },
   {
    "duration": 100,
    "start_time": "2023-01-09T16:03:03.282Z"
   },
   {
    "duration": 141,
    "start_time": "2023-01-09T16:03:03.385Z"
   },
   {
    "duration": 0,
    "start_time": "2023-01-09T16:03:03.528Z"
   },
   {
    "duration": 93,
    "start_time": "2023-01-09T16:03:29.982Z"
   },
   {
    "duration": 21,
    "start_time": "2023-01-09T16:03:41.889Z"
   },
   {
    "duration": 95,
    "start_time": "2023-01-09T16:06:37.894Z"
   },
   {
    "duration": 19,
    "start_time": "2023-01-09T16:06:41.961Z"
   },
   {
    "duration": 24,
    "start_time": "2023-01-09T16:06:57.326Z"
   },
   {
    "duration": 20,
    "start_time": "2023-01-09T16:07:22.144Z"
   },
   {
    "duration": 20,
    "start_time": "2023-01-09T16:08:42.542Z"
   },
   {
    "duration": 72,
    "start_time": "2023-01-09T16:12:43.194Z"
   },
   {
    "duration": 20,
    "start_time": "2023-01-09T16:14:14.484Z"
   },
   {
    "duration": 19,
    "start_time": "2023-01-09T16:14:40.182Z"
   },
   {
    "duration": 20,
    "start_time": "2023-01-09T16:15:33.331Z"
   },
   {
    "duration": 19,
    "start_time": "2023-01-09T16:15:41.400Z"
   },
   {
    "duration": 18,
    "start_time": "2023-01-09T16:15:50.552Z"
   },
   {
    "duration": 86,
    "start_time": "2023-01-09T16:16:12.259Z"
   },
   {
    "duration": 20,
    "start_time": "2023-01-09T16:16:16.549Z"
   },
   {
    "duration": 1294,
    "start_time": "2023-01-09T16:16:25.465Z"
   },
   {
    "duration": 181,
    "start_time": "2023-01-09T16:16:26.761Z"
   },
   {
    "duration": 14,
    "start_time": "2023-01-09T16:16:26.943Z"
   },
   {
    "duration": 28,
    "start_time": "2023-01-09T16:16:26.958Z"
   },
   {
    "duration": 5,
    "start_time": "2023-01-09T16:16:26.988Z"
   },
   {
    "duration": 87,
    "start_time": "2023-01-09T16:16:26.994Z"
   },
   {
    "duration": 86,
    "start_time": "2023-01-09T16:16:27.082Z"
   },
   {
    "duration": 3,
    "start_time": "2023-01-09T16:16:27.171Z"
   },
   {
    "duration": 19,
    "start_time": "2023-01-09T16:16:27.176Z"
   },
   {
    "duration": 5,
    "start_time": "2023-01-09T16:16:27.197Z"
   },
   {
    "duration": 15,
    "start_time": "2023-01-09T16:16:27.204Z"
   },
   {
    "duration": 143,
    "start_time": "2023-01-09T16:16:27.221Z"
   },
   {
    "duration": 10,
    "start_time": "2023-01-09T16:16:27.365Z"
   },
   {
    "duration": 169,
    "start_time": "2023-01-09T16:16:27.378Z"
   },
   {
    "duration": 13,
    "start_time": "2023-01-09T16:16:27.548Z"
   },
   {
    "duration": 25,
    "start_time": "2023-01-09T16:16:27.563Z"
   },
   {
    "duration": 11,
    "start_time": "2023-01-09T16:16:27.590Z"
   },
   {
    "duration": 7,
    "start_time": "2023-01-09T16:16:27.602Z"
   },
   {
    "duration": 24,
    "start_time": "2023-01-09T16:16:27.611Z"
   },
   {
    "duration": 472,
    "start_time": "2023-01-09T16:16:27.637Z"
   },
   {
    "duration": 41,
    "start_time": "2023-01-09T16:16:28.111Z"
   },
   {
    "duration": 17,
    "start_time": "2023-01-09T16:16:28.153Z"
   },
   {
    "duration": 375,
    "start_time": "2023-01-09T16:16:28.172Z"
   },
   {
    "duration": 55,
    "start_time": "2023-01-09T16:16:28.549Z"
   },
   {
    "duration": 42,
    "start_time": "2023-01-09T16:16:28.606Z"
   },
   {
    "duration": 13,
    "start_time": "2023-01-09T16:16:28.649Z"
   },
   {
    "duration": 49,
    "start_time": "2023-01-09T16:16:28.664Z"
   },
   {
    "duration": 571,
    "start_time": "2023-01-09T16:16:28.715Z"
   },
   {
    "duration": 28,
    "start_time": "2023-01-09T16:16:29.288Z"
   },
   {
    "duration": 83,
    "start_time": "2023-01-09T16:16:29.318Z"
   },
   {
    "duration": 9,
    "start_time": "2023-01-09T16:16:29.403Z"
   },
   {
    "duration": 208,
    "start_time": "2023-01-09T16:16:29.413Z"
   },
   {
    "duration": 15,
    "start_time": "2023-01-09T16:16:29.623Z"
   },
   {
    "duration": 261,
    "start_time": "2023-01-09T16:16:29.640Z"
   },
   {
    "duration": 4,
    "start_time": "2023-01-09T16:16:29.903Z"
   },
   {
    "duration": 60,
    "start_time": "2023-01-09T16:16:29.908Z"
   },
   {
    "duration": 93,
    "start_time": "2023-01-09T16:16:29.970Z"
   },
   {
    "duration": 135,
    "start_time": "2023-01-09T16:16:30.065Z"
   },
   {
    "duration": 0,
    "start_time": "2023-01-09T16:16:30.202Z"
   },
   {
    "duration": 13,
    "start_time": "2023-01-09T16:17:51.267Z"
   },
   {
    "duration": 15,
    "start_time": "2023-01-09T16:18:11.645Z"
   },
   {
    "duration": 83,
    "start_time": "2023-01-09T16:18:22.676Z"
   },
   {
    "duration": 73,
    "start_time": "2023-01-09T16:18:42.582Z"
   },
   {
    "duration": 69,
    "start_time": "2023-01-09T16:19:13.876Z"
   },
   {
    "duration": 73,
    "start_time": "2023-01-09T16:22:54.524Z"
   },
   {
    "duration": 91,
    "start_time": "2023-01-09T16:23:03.214Z"
   },
   {
    "duration": 73,
    "start_time": "2023-01-09T16:26:29.338Z"
   },
   {
    "duration": 1136,
    "start_time": "2023-01-09T16:27:52.088Z"
   },
   {
    "duration": 1225,
    "start_time": "2023-01-09T16:28:40.483Z"
   },
   {
    "duration": 178,
    "start_time": "2023-01-09T16:28:41.710Z"
   },
   {
    "duration": 12,
    "start_time": "2023-01-09T16:28:41.889Z"
   },
   {
    "duration": 30,
    "start_time": "2023-01-09T16:28:41.902Z"
   },
   {
    "duration": 5,
    "start_time": "2023-01-09T16:28:41.938Z"
   },
   {
    "duration": 85,
    "start_time": "2023-01-09T16:28:41.945Z"
   },
   {
    "duration": 70,
    "start_time": "2023-01-09T16:28:42.031Z"
   },
   {
    "duration": 3,
    "start_time": "2023-01-09T16:28:42.103Z"
   },
   {
    "duration": 17,
    "start_time": "2023-01-09T16:28:42.108Z"
   },
   {
    "duration": 11,
    "start_time": "2023-01-09T16:28:42.127Z"
   },
   {
    "duration": 15,
    "start_time": "2023-01-09T16:28:42.140Z"
   },
   {
    "duration": 137,
    "start_time": "2023-01-09T16:28:42.156Z"
   },
   {
    "duration": 9,
    "start_time": "2023-01-09T16:28:42.295Z"
   },
   {
    "duration": 160,
    "start_time": "2023-01-09T16:28:42.307Z"
   },
   {
    "duration": 12,
    "start_time": "2023-01-09T16:28:42.468Z"
   },
   {
    "duration": 12,
    "start_time": "2023-01-09T16:28:42.482Z"
   },
   {
    "duration": 8,
    "start_time": "2023-01-09T16:28:42.496Z"
   },
   {
    "duration": 5,
    "start_time": "2023-01-09T16:28:42.505Z"
   },
   {
    "duration": 34,
    "start_time": "2023-01-09T16:28:42.511Z"
   },
   {
    "duration": 410,
    "start_time": "2023-01-09T16:28:42.546Z"
   },
   {
    "duration": 28,
    "start_time": "2023-01-09T16:28:42.958Z"
   },
   {
    "duration": 9,
    "start_time": "2023-01-09T16:28:42.988Z"
   },
   {
    "duration": 377,
    "start_time": "2023-01-09T16:28:42.998Z"
   },
   {
    "duration": 50,
    "start_time": "2023-01-09T16:28:43.376Z"
   },
   {
    "duration": 21,
    "start_time": "2023-01-09T16:28:43.438Z"
   },
   {
    "duration": 12,
    "start_time": "2023-01-09T16:28:43.461Z"
   },
   {
    "duration": 65,
    "start_time": "2023-01-09T16:28:43.475Z"
   },
   {
    "duration": 496,
    "start_time": "2023-01-09T16:28:43.541Z"
   },
   {
    "duration": 28,
    "start_time": "2023-01-09T16:28:44.039Z"
   },
   {
    "duration": 87,
    "start_time": "2023-01-09T16:28:44.069Z"
   },
   {
    "duration": 10,
    "start_time": "2023-01-09T16:28:44.158Z"
   },
   {
    "duration": 210,
    "start_time": "2023-01-09T16:28:44.170Z"
   },
   {
    "duration": 10,
    "start_time": "2023-01-09T16:28:44.382Z"
   },
   {
    "duration": 277,
    "start_time": "2023-01-09T16:28:44.394Z"
   },
   {
    "duration": 5,
    "start_time": "2023-01-09T16:28:44.673Z"
   },
   {
    "duration": 59,
    "start_time": "2023-01-09T16:28:44.679Z"
   },
   {
    "duration": 72,
    "start_time": "2023-01-09T16:28:44.740Z"
   },
   {
    "duration": 2,
    "start_time": "2023-01-09T16:28:44.814Z"
   },
   {
    "duration": 1244,
    "start_time": "2023-01-09T16:28:44.818Z"
   },
   {
    "duration": 0,
    "start_time": "2023-01-09T16:28:46.064Z"
   },
   {
    "duration": 72,
    "start_time": "2023-01-09T16:29:04.664Z"
   },
   {
    "duration": 166,
    "start_time": "2023-01-09T16:29:10.402Z"
   },
   {
    "duration": 12,
    "start_time": "2023-01-09T16:32:06.773Z"
   },
   {
    "duration": 95,
    "start_time": "2023-01-09T16:32:50.005Z"
   },
   {
    "duration": 1189,
    "start_time": "2023-01-09T16:32:57.843Z"
   },
   {
    "duration": 1228,
    "start_time": "2023-01-09T16:33:15.864Z"
   },
   {
    "duration": 181,
    "start_time": "2023-01-09T16:33:17.094Z"
   },
   {
    "duration": 11,
    "start_time": "2023-01-09T16:33:17.277Z"
   },
   {
    "duration": 24,
    "start_time": "2023-01-09T16:33:17.290Z"
   },
   {
    "duration": 22,
    "start_time": "2023-01-09T16:33:17.317Z"
   },
   {
    "duration": 63,
    "start_time": "2023-01-09T16:33:17.341Z"
   },
   {
    "duration": 86,
    "start_time": "2023-01-09T16:33:17.406Z"
   },
   {
    "duration": 4,
    "start_time": "2023-01-09T16:33:17.494Z"
   },
   {
    "duration": 15,
    "start_time": "2023-01-09T16:33:17.500Z"
   },
   {
    "duration": 22,
    "start_time": "2023-01-09T16:33:17.517Z"
   },
   {
    "duration": 13,
    "start_time": "2023-01-09T16:33:17.541Z"
   },
   {
    "duration": 146,
    "start_time": "2023-01-09T16:33:17.556Z"
   },
   {
    "duration": 11,
    "start_time": "2023-01-09T16:33:17.704Z"
   },
   {
    "duration": 192,
    "start_time": "2023-01-09T16:33:17.718Z"
   },
   {
    "duration": 13,
    "start_time": "2023-01-09T16:33:17.911Z"
   },
   {
    "duration": 8,
    "start_time": "2023-01-09T16:33:17.938Z"
   },
   {
    "duration": 8,
    "start_time": "2023-01-09T16:33:17.948Z"
   },
   {
    "duration": 12,
    "start_time": "2023-01-09T16:33:17.958Z"
   },
   {
    "duration": 17,
    "start_time": "2023-01-09T16:33:17.971Z"
   },
   {
    "duration": 451,
    "start_time": "2023-01-09T16:33:17.990Z"
   },
   {
    "duration": 30,
    "start_time": "2023-01-09T16:33:18.442Z"
   },
   {
    "duration": 10,
    "start_time": "2023-01-09T16:33:18.475Z"
   },
   {
    "duration": 392,
    "start_time": "2023-01-09T16:33:18.488Z"
   },
   {
    "duration": 63,
    "start_time": "2023-01-09T16:33:18.882Z"
   },
   {
    "duration": 20,
    "start_time": "2023-01-09T16:33:18.947Z"
   },
   {
    "duration": 12,
    "start_time": "2023-01-09T16:33:18.969Z"
   },
   {
    "duration": 69,
    "start_time": "2023-01-09T16:33:18.983Z"
   },
   {
    "duration": 525,
    "start_time": "2023-01-09T16:33:19.054Z"
   },
   {
    "duration": 39,
    "start_time": "2023-01-09T16:33:19.582Z"
   },
   {
    "duration": 88,
    "start_time": "2023-01-09T16:33:19.637Z"
   },
   {
    "duration": 23,
    "start_time": "2023-01-09T16:33:19.727Z"
   },
   {
    "duration": 1242,
    "start_time": "2023-01-09T16:33:19.752Z"
   },
   {
    "duration": 0,
    "start_time": "2023-01-09T16:33:20.996Z"
   },
   {
    "duration": 0,
    "start_time": "2023-01-09T16:33:20.997Z"
   },
   {
    "duration": 0,
    "start_time": "2023-01-09T16:33:20.998Z"
   },
   {
    "duration": 0,
    "start_time": "2023-01-09T16:33:20.999Z"
   },
   {
    "duration": 0,
    "start_time": "2023-01-09T16:33:21.001Z"
   },
   {
    "duration": 0,
    "start_time": "2023-01-09T16:33:21.002Z"
   },
   {
    "duration": 0,
    "start_time": "2023-01-09T16:33:21.003Z"
   },
   {
    "duration": 0,
    "start_time": "2023-01-09T16:33:21.004Z"
   },
   {
    "duration": 10,
    "start_time": "2023-01-09T16:41:12.823Z"
   },
   {
    "duration": 1108,
    "start_time": "2023-01-09T16:41:13.302Z"
   },
   {
    "duration": 76,
    "start_time": "2023-01-09T16:42:01.633Z"
   },
   {
    "duration": 88,
    "start_time": "2023-01-09T16:42:15.816Z"
   },
   {
    "duration": 1186,
    "start_time": "2023-01-09T16:42:22.380Z"
   },
   {
    "duration": 1163,
    "start_time": "2023-01-09T16:42:34.674Z"
   },
   {
    "duration": 1160,
    "start_time": "2023-01-09T16:44:37.930Z"
   },
   {
    "duration": 1192,
    "start_time": "2023-01-09T16:46:38.682Z"
   },
   {
    "duration": 169,
    "start_time": "2023-01-09T16:46:39.876Z"
   },
   {
    "duration": 11,
    "start_time": "2023-01-09T16:46:40.047Z"
   },
   {
    "duration": 22,
    "start_time": "2023-01-09T16:46:40.060Z"
   },
   {
    "duration": 3,
    "start_time": "2023-01-09T16:46:40.085Z"
   },
   {
    "duration": 85,
    "start_time": "2023-01-09T16:46:40.090Z"
   },
   {
    "duration": 69,
    "start_time": "2023-01-09T16:46:40.177Z"
   },
   {
    "duration": 3,
    "start_time": "2023-01-09T16:46:40.248Z"
   },
   {
    "duration": 14,
    "start_time": "2023-01-09T16:46:40.252Z"
   },
   {
    "duration": 4,
    "start_time": "2023-01-09T16:46:40.268Z"
   },
   {
    "duration": 18,
    "start_time": "2023-01-09T16:46:40.273Z"
   },
   {
    "duration": 134,
    "start_time": "2023-01-09T16:46:40.292Z"
   },
   {
    "duration": 17,
    "start_time": "2023-01-09T16:46:40.427Z"
   },
   {
    "duration": 161,
    "start_time": "2023-01-09T16:46:40.447Z"
   },
   {
    "duration": 16,
    "start_time": "2023-01-09T16:46:40.610Z"
   },
   {
    "duration": 16,
    "start_time": "2023-01-09T16:46:40.628Z"
   },
   {
    "duration": 8,
    "start_time": "2023-01-09T16:46:40.647Z"
   },
   {
    "duration": 6,
    "start_time": "2023-01-09T16:46:40.657Z"
   },
   {
    "duration": 7,
    "start_time": "2023-01-09T16:46:40.664Z"
   },
   {
    "duration": 448,
    "start_time": "2023-01-09T16:46:40.673Z"
   },
   {
    "duration": 39,
    "start_time": "2023-01-09T16:46:41.123Z"
   },
   {
    "duration": 9,
    "start_time": "2023-01-09T16:46:41.164Z"
   },
   {
    "duration": 354,
    "start_time": "2023-01-09T16:46:41.175Z"
   },
   {
    "duration": 55,
    "start_time": "2023-01-09T16:46:41.531Z"
   },
   {
    "duration": 23,
    "start_time": "2023-01-09T16:46:41.588Z"
   },
   {
    "duration": 36,
    "start_time": "2023-01-09T16:46:41.612Z"
   },
   {
    "duration": 46,
    "start_time": "2023-01-09T16:46:41.650Z"
   },
   {
    "duration": 544,
    "start_time": "2023-01-09T16:46:41.698Z"
   },
   {
    "duration": 28,
    "start_time": "2023-01-09T16:46:42.244Z"
   },
   {
    "duration": 82,
    "start_time": "2023-01-09T16:46:42.274Z"
   },
   {
    "duration": 10,
    "start_time": "2023-01-09T16:46:42.359Z"
   },
   {
    "duration": 1240,
    "start_time": "2023-01-09T16:46:42.370Z"
   },
   {
    "duration": 0,
    "start_time": "2023-01-09T16:46:43.611Z"
   },
   {
    "duration": 0,
    "start_time": "2023-01-09T16:46:43.613Z"
   },
   {
    "duration": 0,
    "start_time": "2023-01-09T16:46:43.614Z"
   },
   {
    "duration": 0,
    "start_time": "2023-01-09T16:46:43.615Z"
   },
   {
    "duration": 0,
    "start_time": "2023-01-09T16:46:43.616Z"
   },
   {
    "duration": 0,
    "start_time": "2023-01-09T16:46:43.617Z"
   },
   {
    "duration": 0,
    "start_time": "2023-01-09T16:46:43.618Z"
   },
   {
    "duration": 0,
    "start_time": "2023-01-09T16:46:43.619Z"
   },
   {
    "duration": 73,
    "start_time": "2023-01-09T16:47:48.725Z"
   },
   {
    "duration": 14,
    "start_time": "2023-01-09T16:48:01.091Z"
   },
   {
    "duration": 1158,
    "start_time": "2023-01-09T16:50:43.969Z"
   },
   {
    "duration": 1205,
    "start_time": "2023-01-09T16:51:00.716Z"
   },
   {
    "duration": 67,
    "start_time": "2023-01-09T16:51:14.090Z"
   },
   {
    "duration": 1110,
    "start_time": "2023-01-09T16:51:21.608Z"
   },
   {
    "duration": 183,
    "start_time": "2023-01-09T16:51:49.291Z"
   },
   {
    "duration": 279,
    "start_time": "2023-01-09T16:53:50.539Z"
   },
   {
    "duration": 1298,
    "start_time": "2023-01-09T16:54:19.548Z"
   },
   {
    "duration": 173,
    "start_time": "2023-01-09T16:54:20.848Z"
   },
   {
    "duration": 11,
    "start_time": "2023-01-09T16:54:21.023Z"
   },
   {
    "duration": 25,
    "start_time": "2023-01-09T16:54:21.037Z"
   },
   {
    "duration": 4,
    "start_time": "2023-01-09T16:54:21.064Z"
   },
   {
    "duration": 72,
    "start_time": "2023-01-09T16:54:21.070Z"
   },
   {
    "duration": 68,
    "start_time": "2023-01-09T16:54:21.144Z"
   },
   {
    "duration": 3,
    "start_time": "2023-01-09T16:54:21.214Z"
   },
   {
    "duration": 24,
    "start_time": "2023-01-09T16:54:21.219Z"
   },
   {
    "duration": 5,
    "start_time": "2023-01-09T16:54:21.245Z"
   },
   {
    "duration": 16,
    "start_time": "2023-01-09T16:54:21.252Z"
   },
   {
    "duration": 136,
    "start_time": "2023-01-09T16:54:21.269Z"
   },
   {
    "duration": 10,
    "start_time": "2023-01-09T16:54:21.407Z"
   },
   {
    "duration": 159,
    "start_time": "2023-01-09T16:54:21.420Z"
   },
   {
    "duration": 14,
    "start_time": "2023-01-09T16:54:21.582Z"
   },
   {
    "duration": 12,
    "start_time": "2023-01-09T16:54:21.598Z"
   },
   {
    "duration": 46,
    "start_time": "2023-01-09T16:54:21.612Z"
   },
   {
    "duration": 45,
    "start_time": "2023-01-09T16:54:21.660Z"
   },
   {
    "duration": 47,
    "start_time": "2023-01-09T16:54:21.707Z"
   },
   {
    "duration": 464,
    "start_time": "2023-01-09T16:54:21.756Z"
   },
   {
    "duration": 43,
    "start_time": "2023-01-09T16:54:22.221Z"
   },
   {
    "duration": 17,
    "start_time": "2023-01-09T16:54:22.266Z"
   },
   {
    "duration": 455,
    "start_time": "2023-01-09T16:54:22.285Z"
   },
   {
    "duration": 100,
    "start_time": "2023-01-09T16:54:22.742Z"
   },
   {
    "duration": 21,
    "start_time": "2023-01-09T16:54:22.844Z"
   },
   {
    "duration": 70,
    "start_time": "2023-01-09T16:54:22.867Z"
   },
   {
    "duration": 99,
    "start_time": "2023-01-09T16:54:22.939Z"
   },
   {
    "duration": 1311,
    "start_time": "2023-01-09T16:54:23.040Z"
   },
   {
    "duration": 101,
    "start_time": "2023-01-09T16:54:24.353Z"
   },
   {
    "duration": 121,
    "start_time": "2023-01-09T16:54:24.457Z"
   },
   {
    "duration": 62,
    "start_time": "2023-01-09T16:54:24.580Z"
   },
   {
    "duration": 336,
    "start_time": "2023-01-09T16:54:24.644Z"
   },
   {
    "duration": 0,
    "start_time": "2023-01-09T16:54:24.982Z"
   },
   {
    "duration": 0,
    "start_time": "2023-01-09T16:54:24.983Z"
   },
   {
    "duration": 0,
    "start_time": "2023-01-09T16:54:24.985Z"
   },
   {
    "duration": 0,
    "start_time": "2023-01-09T16:54:24.986Z"
   },
   {
    "duration": 0,
    "start_time": "2023-01-09T16:54:24.988Z"
   },
   {
    "duration": 0,
    "start_time": "2023-01-09T16:54:24.989Z"
   },
   {
    "duration": 0,
    "start_time": "2023-01-09T16:54:24.991Z"
   },
   {
    "duration": 0,
    "start_time": "2023-01-09T16:54:24.994Z"
   },
   {
    "duration": 11,
    "start_time": "2023-01-09T16:55:50.620Z"
   },
   {
    "duration": 204,
    "start_time": "2023-01-09T16:55:51.791Z"
   },
   {
    "duration": 14,
    "start_time": "2023-01-09T17:00:14.285Z"
   },
   {
    "duration": 16,
    "start_time": "2023-01-09T17:00:31.238Z"
   },
   {
    "duration": 9,
    "start_time": "2023-01-09T17:01:10.787Z"
   },
   {
    "duration": 16,
    "start_time": "2023-01-09T17:01:40.004Z"
   },
   {
    "duration": 192,
    "start_time": "2023-01-09T17:02:23.938Z"
   },
   {
    "duration": 1311,
    "start_time": "2023-01-09T17:04:00.055Z"
   },
   {
    "duration": 1425,
    "start_time": "2023-01-09T17:04:23.180Z"
   },
   {
    "duration": 11,
    "start_time": "2023-01-09T17:04:38.447Z"
   },
   {
    "duration": 1299,
    "start_time": "2023-01-09T17:04:38.758Z"
   },
   {
    "duration": 1346,
    "start_time": "2023-01-09T17:04:45.399Z"
   },
   {
    "duration": 174,
    "start_time": "2023-01-09T17:04:46.747Z"
   },
   {
    "duration": 17,
    "start_time": "2023-01-09T17:04:46.922Z"
   },
   {
    "duration": 23,
    "start_time": "2023-01-09T17:04:46.941Z"
   },
   {
    "duration": 5,
    "start_time": "2023-01-09T17:04:46.965Z"
   },
   {
    "duration": 76,
    "start_time": "2023-01-09T17:04:46.971Z"
   },
   {
    "duration": 71,
    "start_time": "2023-01-09T17:04:47.048Z"
   },
   {
    "duration": 17,
    "start_time": "2023-01-09T17:04:47.121Z"
   },
   {
    "duration": 10,
    "start_time": "2023-01-09T17:04:47.139Z"
   },
   {
    "duration": 3,
    "start_time": "2023-01-09T17:04:47.152Z"
   },
   {
    "duration": 15,
    "start_time": "2023-01-09T17:04:47.157Z"
   },
   {
    "duration": 140,
    "start_time": "2023-01-09T17:04:47.174Z"
   },
   {
    "duration": 10,
    "start_time": "2023-01-09T17:04:47.316Z"
   },
   {
    "duration": 156,
    "start_time": "2023-01-09T17:04:47.338Z"
   },
   {
    "duration": 13,
    "start_time": "2023-01-09T17:04:47.496Z"
   },
   {
    "duration": 12,
    "start_time": "2023-01-09T17:04:47.510Z"
   },
   {
    "duration": 9,
    "start_time": "2023-01-09T17:04:47.537Z"
   },
   {
    "duration": 14,
    "start_time": "2023-01-09T17:04:47.548Z"
   },
   {
    "duration": 5,
    "start_time": "2023-01-09T17:04:47.563Z"
   },
   {
    "duration": 446,
    "start_time": "2023-01-09T17:04:47.570Z"
   },
   {
    "duration": 45,
    "start_time": "2023-01-09T17:04:48.018Z"
   },
   {
    "duration": 12,
    "start_time": "2023-01-09T17:04:48.065Z"
   },
   {
    "duration": 383,
    "start_time": "2023-01-09T17:04:48.079Z"
   },
   {
    "duration": 53,
    "start_time": "2023-01-09T17:04:48.464Z"
   },
   {
    "duration": 35,
    "start_time": "2023-01-09T17:04:48.519Z"
   },
   {
    "duration": 12,
    "start_time": "2023-01-09T17:04:48.556Z"
   },
   {
    "duration": 75,
    "start_time": "2023-01-09T17:04:48.570Z"
   },
   {
    "duration": 712,
    "start_time": "2023-01-09T17:04:48.649Z"
   },
   {
    "duration": 30,
    "start_time": "2023-01-09T17:04:49.362Z"
   },
   {
    "duration": 84,
    "start_time": "2023-01-09T17:04:49.394Z"
   },
   {
    "duration": 10,
    "start_time": "2023-01-09T17:04:49.479Z"
   },
   {
    "duration": 1552,
    "start_time": "2023-01-09T17:04:49.490Z"
   },
   {
    "duration": 0,
    "start_time": "2023-01-09T17:04:51.044Z"
   },
   {
    "duration": 0,
    "start_time": "2023-01-09T17:04:51.045Z"
   },
   {
    "duration": 0,
    "start_time": "2023-01-09T17:04:51.047Z"
   },
   {
    "duration": 0,
    "start_time": "2023-01-09T17:04:51.048Z"
   },
   {
    "duration": 0,
    "start_time": "2023-01-09T17:04:51.050Z"
   },
   {
    "duration": 0,
    "start_time": "2023-01-09T17:04:51.051Z"
   },
   {
    "duration": 0,
    "start_time": "2023-01-09T17:04:51.053Z"
   },
   {
    "duration": 0,
    "start_time": "2023-01-09T17:04:51.053Z"
   },
   {
    "duration": 58,
    "start_time": "2023-01-09T17:09:36.004Z"
   },
   {
    "duration": 74,
    "start_time": "2023-01-09T17:09:43.862Z"
   },
   {
    "duration": 63,
    "start_time": "2023-01-09T17:10:12.703Z"
   },
   {
    "duration": 70,
    "start_time": "2023-01-09T17:10:24.986Z"
   },
   {
    "duration": 13,
    "start_time": "2023-01-09T17:11:46.512Z"
   },
   {
    "duration": 83,
    "start_time": "2023-01-09T17:12:13.225Z"
   },
   {
    "duration": 71,
    "start_time": "2023-01-09T17:13:15.210Z"
   },
   {
    "duration": 14,
    "start_time": "2023-01-09T17:13:15.972Z"
   },
   {
    "duration": 72,
    "start_time": "2023-01-09T17:13:28.645Z"
   },
   {
    "duration": 14,
    "start_time": "2023-01-09T17:13:29.335Z"
   },
   {
    "duration": 13,
    "start_time": "2023-01-09T17:13:44.076Z"
   },
   {
    "duration": 76,
    "start_time": "2023-01-09T17:13:54.609Z"
   },
   {
    "duration": 14,
    "start_time": "2023-01-09T17:13:55.302Z"
   },
   {
    "duration": 79,
    "start_time": "2023-01-09T17:14:15.880Z"
   },
   {
    "duration": 14,
    "start_time": "2023-01-09T17:14:20.473Z"
   },
   {
    "duration": 154,
    "start_time": "2023-01-09T17:14:30.457Z"
   },
   {
    "duration": 11,
    "start_time": "2023-01-09T17:16:27.457Z"
   },
   {
    "duration": 1167,
    "start_time": "2023-01-09T17:28:32.482Z"
   },
   {
    "duration": 158,
    "start_time": "2023-01-09T17:28:33.651Z"
   },
   {
    "duration": 13,
    "start_time": "2023-01-09T17:28:33.812Z"
   },
   {
    "duration": 29,
    "start_time": "2023-01-09T17:28:33.827Z"
   },
   {
    "duration": 4,
    "start_time": "2023-01-09T17:28:33.859Z"
   },
   {
    "duration": 74,
    "start_time": "2023-01-09T17:28:33.864Z"
   },
   {
    "duration": 72,
    "start_time": "2023-01-09T17:28:33.940Z"
   },
   {
    "duration": 3,
    "start_time": "2023-01-09T17:28:34.014Z"
   },
   {
    "duration": 18,
    "start_time": "2023-01-09T17:28:34.018Z"
   },
   {
    "duration": 5,
    "start_time": "2023-01-09T17:28:34.038Z"
   },
   {
    "duration": 23,
    "start_time": "2023-01-09T17:28:34.045Z"
   },
   {
    "duration": 139,
    "start_time": "2023-01-09T17:28:34.070Z"
   },
   {
    "duration": 11,
    "start_time": "2023-01-09T17:28:34.211Z"
   },
   {
    "duration": 145,
    "start_time": "2023-01-09T17:28:34.226Z"
   },
   {
    "duration": 11,
    "start_time": "2023-01-09T17:28:34.373Z"
   },
   {
    "duration": 17,
    "start_time": "2023-01-09T17:28:34.385Z"
   },
   {
    "duration": 9,
    "start_time": "2023-01-09T17:28:34.403Z"
   },
   {
    "duration": 6,
    "start_time": "2023-01-09T17:28:34.413Z"
   },
   {
    "duration": 10,
    "start_time": "2023-01-09T17:28:34.420Z"
   },
   {
    "duration": 449,
    "start_time": "2023-01-09T17:28:34.431Z"
   },
   {
    "duration": 35,
    "start_time": "2023-01-09T17:28:34.881Z"
   },
   {
    "duration": 8,
    "start_time": "2023-01-09T17:28:34.917Z"
   },
   {
    "duration": 316,
    "start_time": "2023-01-09T17:28:34.926Z"
   },
   {
    "duration": 60,
    "start_time": "2023-01-09T17:28:35.244Z"
   },
   {
    "duration": 18,
    "start_time": "2023-01-09T17:28:35.306Z"
   },
   {
    "duration": 10,
    "start_time": "2023-01-09T17:28:35.326Z"
   },
   {
    "duration": 63,
    "start_time": "2023-01-09T17:28:35.338Z"
   },
   {
    "duration": 507,
    "start_time": "2023-01-09T17:28:35.402Z"
   },
   {
    "duration": 23,
    "start_time": "2023-01-09T17:28:35.910Z"
   },
   {
    "duration": 82,
    "start_time": "2023-01-09T17:28:35.935Z"
   },
   {
    "duration": 11,
    "start_time": "2023-01-09T17:28:36.019Z"
   },
   {
    "duration": 138,
    "start_time": "2023-01-09T17:28:36.032Z"
   },
   {
    "duration": 883,
    "start_time": "2023-01-09T17:28:36.172Z"
   },
   {
    "duration": 0,
    "start_time": "2023-01-09T17:28:37.057Z"
   },
   {
    "duration": 0,
    "start_time": "2023-01-09T17:28:37.058Z"
   },
   {
    "duration": 0,
    "start_time": "2023-01-09T17:28:37.058Z"
   },
   {
    "duration": 0,
    "start_time": "2023-01-09T17:28:37.059Z"
   },
   {
    "duration": 0,
    "start_time": "2023-01-09T17:28:37.060Z"
   },
   {
    "duration": 0,
    "start_time": "2023-01-09T17:28:37.061Z"
   },
   {
    "duration": 0,
    "start_time": "2023-01-09T17:28:37.063Z"
   },
   {
    "duration": 10,
    "start_time": "2023-01-09T17:29:19.547Z"
   },
   {
    "duration": 13,
    "start_time": "2023-01-09T17:29:29.933Z"
   },
   {
    "duration": 325,
    "start_time": "2023-01-09T17:31:04.666Z"
   },
   {
    "duration": 46,
    "start_time": "2023-01-09T17:32:12.681Z"
   },
   {
    "duration": 86,
    "start_time": "2023-01-09T17:32:28.650Z"
   },
   {
    "duration": 14,
    "start_time": "2023-01-09T17:32:53.630Z"
   },
   {
    "duration": 10,
    "start_time": "2023-01-09T17:32:59.236Z"
   },
   {
    "duration": 1188,
    "start_time": "2023-01-09T17:33:06.269Z"
   },
   {
    "duration": 153,
    "start_time": "2023-01-09T17:33:07.459Z"
   },
   {
    "duration": 11,
    "start_time": "2023-01-09T17:33:07.615Z"
   },
   {
    "duration": 25,
    "start_time": "2023-01-09T17:33:07.628Z"
   },
   {
    "duration": 4,
    "start_time": "2023-01-09T17:33:07.655Z"
   },
   {
    "duration": 64,
    "start_time": "2023-01-09T17:33:07.660Z"
   },
   {
    "duration": 90,
    "start_time": "2023-01-09T17:33:07.726Z"
   },
   {
    "duration": 3,
    "start_time": "2023-01-09T17:33:07.818Z"
   },
   {
    "duration": 18,
    "start_time": "2023-01-09T17:33:07.823Z"
   },
   {
    "duration": 4,
    "start_time": "2023-01-09T17:33:07.843Z"
   },
   {
    "duration": 55,
    "start_time": "2023-01-09T17:33:07.848Z"
   },
   {
    "duration": 130,
    "start_time": "2023-01-09T17:33:07.904Z"
   },
   {
    "duration": 9,
    "start_time": "2023-01-09T17:33:08.037Z"
   },
   {
    "duration": 136,
    "start_time": "2023-01-09T17:33:08.047Z"
   },
   {
    "duration": 15,
    "start_time": "2023-01-09T17:33:08.185Z"
   },
   {
    "duration": 16,
    "start_time": "2023-01-09T17:33:08.202Z"
   },
   {
    "duration": 13,
    "start_time": "2023-01-09T17:33:08.220Z"
   },
   {
    "duration": 11,
    "start_time": "2023-01-09T17:33:08.234Z"
   },
   {
    "duration": 5,
    "start_time": "2023-01-09T17:33:08.247Z"
   },
   {
    "duration": 408,
    "start_time": "2023-01-09T17:33:08.253Z"
   },
   {
    "duration": 35,
    "start_time": "2023-01-09T17:33:08.662Z"
   },
   {
    "duration": 8,
    "start_time": "2023-01-09T17:33:08.699Z"
   },
   {
    "duration": 325,
    "start_time": "2023-01-09T17:33:08.709Z"
   },
   {
    "duration": 45,
    "start_time": "2023-01-09T17:33:09.036Z"
   },
   {
    "duration": 38,
    "start_time": "2023-01-09T17:33:09.082Z"
   },
   {
    "duration": 10,
    "start_time": "2023-01-09T17:33:09.122Z"
   },
   {
    "duration": 39,
    "start_time": "2023-01-09T17:33:09.133Z"
   },
   {
    "duration": 500,
    "start_time": "2023-01-09T17:33:09.173Z"
   },
   {
    "duration": 28,
    "start_time": "2023-01-09T17:33:09.675Z"
   },
   {
    "duration": 76,
    "start_time": "2023-01-09T17:33:09.704Z"
   },
   {
    "duration": 29,
    "start_time": "2023-01-09T17:33:09.781Z"
   },
   {
    "duration": 135,
    "start_time": "2023-01-09T17:33:09.812Z"
   },
   {
    "duration": 10,
    "start_time": "2023-01-09T17:33:09.949Z"
   },
   {
    "duration": 253,
    "start_time": "2023-01-09T17:33:09.961Z"
   },
   {
    "duration": 4,
    "start_time": "2023-01-09T17:33:10.215Z"
   },
   {
    "duration": 42,
    "start_time": "2023-01-09T17:33:10.220Z"
   },
   {
    "duration": 80,
    "start_time": "2023-01-09T17:33:10.264Z"
   },
   {
    "duration": 3,
    "start_time": "2023-01-09T17:33:10.346Z"
   },
   {
    "duration": 23,
    "start_time": "2023-01-09T17:33:10.350Z"
   },
   {
    "duration": 22,
    "start_time": "2023-01-09T17:33:10.376Z"
   },
   {
    "duration": 21,
    "start_time": "2023-01-09T17:41:45.091Z"
   },
   {
    "duration": 1322,
    "start_time": "2023-01-09T17:50:31.955Z"
   },
   {
    "duration": 835,
    "start_time": "2023-01-09T17:50:33.279Z"
   },
   {
    "duration": 10,
    "start_time": "2023-01-09T17:50:34.116Z"
   },
   {
    "duration": 18,
    "start_time": "2023-01-09T17:50:34.127Z"
   },
   {
    "duration": 3,
    "start_time": "2023-01-09T17:50:34.147Z"
   },
   {
    "duration": 56,
    "start_time": "2023-01-09T17:50:34.151Z"
   },
   {
    "duration": 82,
    "start_time": "2023-01-09T17:50:34.209Z"
   },
   {
    "duration": 4,
    "start_time": "2023-01-09T17:50:34.293Z"
   },
   {
    "duration": 31,
    "start_time": "2023-01-09T17:50:34.298Z"
   },
   {
    "duration": 3,
    "start_time": "2023-01-09T17:50:34.331Z"
   },
   {
    "duration": 16,
    "start_time": "2023-01-09T17:50:34.336Z"
   },
   {
    "duration": 111,
    "start_time": "2023-01-09T17:50:34.353Z"
   },
   {
    "duration": 9,
    "start_time": "2023-01-09T17:50:34.466Z"
   },
   {
    "duration": 134,
    "start_time": "2023-01-09T17:50:34.477Z"
   },
   {
    "duration": 15,
    "start_time": "2023-01-09T17:50:34.613Z"
   },
   {
    "duration": 13,
    "start_time": "2023-01-09T17:50:34.629Z"
   },
   {
    "duration": 7,
    "start_time": "2023-01-09T17:50:34.643Z"
   },
   {
    "duration": 5,
    "start_time": "2023-01-09T17:50:34.651Z"
   },
   {
    "duration": 5,
    "start_time": "2023-01-09T17:50:34.658Z"
   },
   {
    "duration": 400,
    "start_time": "2023-01-09T17:50:34.665Z"
   },
   {
    "duration": 27,
    "start_time": "2023-01-09T17:50:35.067Z"
   },
   {
    "duration": 9,
    "start_time": "2023-01-09T17:50:35.096Z"
   },
   {
    "duration": 303,
    "start_time": "2023-01-09T17:50:35.126Z"
   },
   {
    "duration": 45,
    "start_time": "2023-01-09T17:50:35.431Z"
   },
   {
    "duration": 22,
    "start_time": "2023-01-09T17:50:35.478Z"
   },
   {
    "duration": 37,
    "start_time": "2023-01-09T17:50:35.501Z"
   },
   {
    "duration": 59,
    "start_time": "2023-01-09T17:50:35.540Z"
   },
   {
    "duration": 531,
    "start_time": "2023-01-09T17:50:35.601Z"
   },
   {
    "duration": 20,
    "start_time": "2023-01-09T17:50:36.134Z"
   },
   {
    "duration": 77,
    "start_time": "2023-01-09T17:50:36.156Z"
   },
   {
    "duration": 11,
    "start_time": "2023-01-09T17:50:36.235Z"
   },
   {
    "duration": 107,
    "start_time": "2023-01-09T17:50:36.248Z"
   },
   {
    "duration": 10,
    "start_time": "2023-01-09T17:50:36.356Z"
   },
   {
    "duration": 11,
    "start_time": "2023-01-09T17:50:36.368Z"
   },
   {
    "duration": 3,
    "start_time": "2023-01-09T17:50:36.426Z"
   },
   {
    "duration": 41,
    "start_time": "2023-01-09T17:50:36.431Z"
   },
   {
    "duration": 104,
    "start_time": "2023-01-09T17:50:36.474Z"
   },
   {
    "duration": 2,
    "start_time": "2023-01-09T17:50:36.579Z"
   },
   {
    "duration": 24,
    "start_time": "2023-01-09T17:50:36.627Z"
   },
   {
    "duration": 7,
    "start_time": "2023-01-09T17:50:36.653Z"
   },
   {
    "duration": 109,
    "start_time": "2023-01-09T17:52:03.541Z"
   },
   {
    "duration": 9,
    "start_time": "2023-01-09T17:52:10.275Z"
   },
   {
    "duration": 8,
    "start_time": "2023-01-09T17:52:47.095Z"
   },
   {
    "duration": 11,
    "start_time": "2023-01-09T17:53:19.874Z"
   },
   {
    "duration": 10,
    "start_time": "2023-01-09T17:53:50.497Z"
   },
   {
    "duration": 9,
    "start_time": "2023-01-09T17:55:46.990Z"
   },
   {
    "duration": 9,
    "start_time": "2023-01-09T17:57:02.055Z"
   },
   {
    "duration": 1223,
    "start_time": "2023-01-09T18:28:46.578Z"
   },
   {
    "duration": 18,
    "start_time": "2023-01-09T18:29:00.382Z"
   },
   {
    "duration": 13,
    "start_time": "2023-01-09T18:29:15.006Z"
   },
   {
    "duration": 24,
    "start_time": "2023-01-09T18:29:15.472Z"
   },
   {
    "duration": 1204,
    "start_time": "2023-01-09T18:31:50.770Z"
   },
   {
    "duration": 155,
    "start_time": "2023-01-09T18:31:51.976Z"
   },
   {
    "duration": 13,
    "start_time": "2023-01-09T18:31:52.133Z"
   },
   {
    "duration": 19,
    "start_time": "2023-01-09T18:31:52.148Z"
   },
   {
    "duration": 5,
    "start_time": "2023-01-09T18:31:52.168Z"
   },
   {
    "duration": 89,
    "start_time": "2023-01-09T18:31:52.174Z"
   },
   {
    "duration": 77,
    "start_time": "2023-01-09T18:31:52.265Z"
   },
   {
    "duration": 4,
    "start_time": "2023-01-09T18:31:52.343Z"
   },
   {
    "duration": 15,
    "start_time": "2023-01-09T18:31:52.348Z"
   },
   {
    "duration": 11,
    "start_time": "2023-01-09T18:31:52.366Z"
   },
   {
    "duration": 22,
    "start_time": "2023-01-09T18:31:52.378Z"
   },
   {
    "duration": 126,
    "start_time": "2023-01-09T18:31:52.401Z"
   },
   {
    "duration": 11,
    "start_time": "2023-01-09T18:31:52.529Z"
   },
   {
    "duration": 149,
    "start_time": "2023-01-09T18:31:52.542Z"
   },
   {
    "duration": 10,
    "start_time": "2023-01-09T18:31:52.693Z"
   },
   {
    "duration": 27,
    "start_time": "2023-01-09T18:31:52.704Z"
   },
   {
    "duration": 12,
    "start_time": "2023-01-09T18:31:52.733Z"
   },
   {
    "duration": 13,
    "start_time": "2023-01-09T18:31:52.747Z"
   },
   {
    "duration": 6,
    "start_time": "2023-01-09T18:31:52.762Z"
   },
   {
    "duration": 493,
    "start_time": "2023-01-09T18:31:52.770Z"
   },
   {
    "duration": 27,
    "start_time": "2023-01-09T18:31:53.265Z"
   },
   {
    "duration": 32,
    "start_time": "2023-01-09T18:31:53.294Z"
   },
   {
    "duration": 353,
    "start_time": "2023-01-09T18:31:53.328Z"
   },
   {
    "duration": 50,
    "start_time": "2023-01-09T18:31:53.683Z"
   },
   {
    "duration": 27,
    "start_time": "2023-01-09T18:31:53.736Z"
   },
   {
    "duration": 12,
    "start_time": "2023-01-09T18:31:53.766Z"
   },
   {
    "duration": 79,
    "start_time": "2023-01-09T18:31:53.780Z"
   },
   {
    "duration": 583,
    "start_time": "2023-01-09T18:31:53.864Z"
   },
   {
    "duration": 29,
    "start_time": "2023-01-09T18:31:54.449Z"
   },
   {
    "duration": 92,
    "start_time": "2023-01-09T18:31:54.480Z"
   },
   {
    "duration": 11,
    "start_time": "2023-01-09T18:31:54.574Z"
   },
   {
    "duration": 124,
    "start_time": "2023-01-09T18:31:54.587Z"
   },
   {
    "duration": 19,
    "start_time": "2023-01-09T18:31:54.712Z"
   },
   {
    "duration": 12,
    "start_time": "2023-01-09T18:31:54.733Z"
   },
   {
    "duration": 4,
    "start_time": "2023-01-09T18:31:54.747Z"
   },
   {
    "duration": 90,
    "start_time": "2023-01-09T18:31:54.753Z"
   },
   {
    "duration": 112,
    "start_time": "2023-01-09T18:31:54.845Z"
   },
   {
    "duration": 73,
    "start_time": "2023-01-09T18:31:54.959Z"
   },
   {
    "duration": 0,
    "start_time": "2023-01-09T18:31:55.034Z"
   },
   {
    "duration": 0,
    "start_time": "2023-01-09T18:31:55.036Z"
   },
   {
    "duration": 106,
    "start_time": "2023-01-09T18:32:13.575Z"
   },
   {
    "duration": 11,
    "start_time": "2023-01-09T18:32:24.636Z"
   },
   {
    "duration": 10,
    "start_time": "2023-01-09T18:32:27.621Z"
   },
   {
    "duration": 1296,
    "start_time": "2023-01-09T18:32:54.015Z"
   },
   {
    "duration": 151,
    "start_time": "2023-01-09T18:32:55.313Z"
   },
   {
    "duration": 11,
    "start_time": "2023-01-09T18:32:55.466Z"
   },
   {
    "duration": 19,
    "start_time": "2023-01-09T18:32:55.479Z"
   },
   {
    "duration": 4,
    "start_time": "2023-01-09T18:32:55.499Z"
   },
   {
    "duration": 88,
    "start_time": "2023-01-09T18:32:55.527Z"
   },
   {
    "duration": 91,
    "start_time": "2023-01-09T18:32:55.616Z"
   },
   {
    "duration": 17,
    "start_time": "2023-01-09T18:32:55.709Z"
   },
   {
    "duration": 33,
    "start_time": "2023-01-09T18:32:55.729Z"
   },
   {
    "duration": 12,
    "start_time": "2023-01-09T18:32:55.766Z"
   },
   {
    "duration": 17,
    "start_time": "2023-01-09T18:32:55.782Z"
   },
   {
    "duration": 111,
    "start_time": "2023-01-09T18:32:55.801Z"
   },
   {
    "duration": 10,
    "start_time": "2023-01-09T18:32:55.913Z"
   },
   {
    "duration": 153,
    "start_time": "2023-01-09T18:32:55.924Z"
   },
   {
    "duration": 11,
    "start_time": "2023-01-09T18:32:56.079Z"
   },
   {
    "duration": 17,
    "start_time": "2023-01-09T18:32:56.092Z"
   },
   {
    "duration": 19,
    "start_time": "2023-01-09T18:32:56.111Z"
   },
   {
    "duration": 6,
    "start_time": "2023-01-09T18:32:56.132Z"
   },
   {
    "duration": 9,
    "start_time": "2023-01-09T18:32:56.140Z"
   },
   {
    "duration": 424,
    "start_time": "2023-01-09T18:32:56.151Z"
   },
   {
    "duration": 27,
    "start_time": "2023-01-09T18:32:56.577Z"
   },
   {
    "duration": 41,
    "start_time": "2023-01-09T18:32:56.606Z"
   },
   {
    "duration": 313,
    "start_time": "2023-01-09T18:32:56.649Z"
   },
   {
    "duration": 37,
    "start_time": "2023-01-09T18:32:56.964Z"
   },
   {
    "duration": 39,
    "start_time": "2023-01-09T18:32:57.003Z"
   },
   {
    "duration": 13,
    "start_time": "2023-01-09T18:32:57.045Z"
   },
   {
    "duration": 68,
    "start_time": "2023-01-09T18:32:57.060Z"
   },
   {
    "duration": 511,
    "start_time": "2023-01-09T18:32:57.131Z"
   },
   {
    "duration": 35,
    "start_time": "2023-01-09T18:32:57.644Z"
   },
   {
    "duration": 79,
    "start_time": "2023-01-09T18:32:57.681Z"
   },
   {
    "duration": 12,
    "start_time": "2023-01-09T18:32:57.762Z"
   },
   {
    "duration": 132,
    "start_time": "2023-01-09T18:32:57.775Z"
   },
   {
    "duration": 21,
    "start_time": "2023-01-09T18:32:57.910Z"
   },
   {
    "duration": 16,
    "start_time": "2023-01-09T18:32:57.932Z"
   },
   {
    "duration": 6,
    "start_time": "2023-01-09T18:32:57.950Z"
   },
   {
    "duration": 84,
    "start_time": "2023-01-09T18:32:57.957Z"
   },
   {
    "duration": 122,
    "start_time": "2023-01-09T18:32:58.043Z"
   },
   {
    "duration": 75,
    "start_time": "2023-01-09T18:32:58.167Z"
   },
   {
    "duration": 0,
    "start_time": "2023-01-09T18:32:58.244Z"
   },
   {
    "duration": 0,
    "start_time": "2023-01-09T18:32:58.245Z"
   },
   {
    "duration": 5,
    "start_time": "2023-01-09T18:35:07.619Z"
   },
   {
    "duration": 151,
    "start_time": "2023-01-09T18:35:07.940Z"
   },
   {
    "duration": 6,
    "start_time": "2023-01-09T18:35:13.447Z"
   },
   {
    "duration": 103,
    "start_time": "2023-01-09T18:35:13.741Z"
   },
   {
    "duration": 32,
    "start_time": "2023-01-09T18:43:55.560Z"
   },
   {
    "duration": 1257,
    "start_time": "2023-01-09T18:48:13.341Z"
   },
   {
    "duration": 142,
    "start_time": "2023-01-09T18:48:14.601Z"
   },
   {
    "duration": 12,
    "start_time": "2023-01-09T18:48:14.744Z"
   },
   {
    "duration": 33,
    "start_time": "2023-01-09T18:48:14.758Z"
   },
   {
    "duration": 4,
    "start_time": "2023-01-09T18:48:14.795Z"
   },
   {
    "duration": 57,
    "start_time": "2023-01-09T18:48:14.826Z"
   },
   {
    "duration": 81,
    "start_time": "2023-01-09T18:48:14.885Z"
   },
   {
    "duration": 3,
    "start_time": "2023-01-09T18:48:14.968Z"
   },
   {
    "duration": 27,
    "start_time": "2023-01-09T18:48:14.973Z"
   },
   {
    "duration": 4,
    "start_time": "2023-01-09T18:48:15.002Z"
   },
   {
    "duration": 39,
    "start_time": "2023-01-09T18:48:15.007Z"
   },
   {
    "duration": 120,
    "start_time": "2023-01-09T18:48:15.048Z"
   },
   {
    "duration": 9,
    "start_time": "2023-01-09T18:48:15.170Z"
   },
   {
    "duration": 202,
    "start_time": "2023-01-09T18:48:15.184Z"
   },
   {
    "duration": 19,
    "start_time": "2023-01-09T18:48:15.389Z"
   },
   {
    "duration": 23,
    "start_time": "2023-01-09T18:48:15.410Z"
   },
   {
    "duration": 11,
    "start_time": "2023-01-09T18:48:15.436Z"
   },
   {
    "duration": 6,
    "start_time": "2023-01-09T18:48:15.449Z"
   },
   {
    "duration": 10,
    "start_time": "2023-01-09T18:48:15.456Z"
   },
   {
    "duration": 567,
    "start_time": "2023-01-09T18:48:15.467Z"
   },
   {
    "duration": 42,
    "start_time": "2023-01-09T18:48:16.036Z"
   },
   {
    "duration": 57,
    "start_time": "2023-01-09T18:48:16.080Z"
   },
   {
    "duration": 391,
    "start_time": "2023-01-09T18:48:16.139Z"
   },
   {
    "duration": 37,
    "start_time": "2023-01-09T18:48:16.531Z"
   },
   {
    "duration": 18,
    "start_time": "2023-01-09T18:48:16.569Z"
   },
   {
    "duration": 46,
    "start_time": "2023-01-09T18:48:16.589Z"
   },
   {
    "duration": 43,
    "start_time": "2023-01-09T18:48:16.636Z"
   },
   {
    "duration": 524,
    "start_time": "2023-01-09T18:48:16.681Z"
   },
   {
    "duration": 41,
    "start_time": "2023-01-09T18:48:17.208Z"
   },
   {
    "duration": 101,
    "start_time": "2023-01-09T18:48:17.251Z"
   },
   {
    "duration": 18,
    "start_time": "2023-01-09T18:48:17.353Z"
   },
   {
    "duration": 133,
    "start_time": "2023-01-09T18:48:17.373Z"
   },
   {
    "duration": 21,
    "start_time": "2023-01-09T18:48:17.508Z"
   },
   {
    "duration": 23,
    "start_time": "2023-01-09T18:48:17.531Z"
   },
   {
    "duration": 29,
    "start_time": "2023-01-09T18:48:17.556Z"
   },
   {
    "duration": 81,
    "start_time": "2023-01-09T18:48:17.590Z"
   },
   {
    "duration": 183,
    "start_time": "2023-01-09T18:48:17.673Z"
   },
   {
    "duration": 68,
    "start_time": "2023-01-09T18:48:17.858Z"
   },
   {
    "duration": 94,
    "start_time": "2023-01-09T18:48:17.929Z"
   },
   {
    "duration": 1,
    "start_time": "2023-01-09T18:48:18.025Z"
   },
   {
    "duration": 0,
    "start_time": "2023-01-09T18:48:18.028Z"
   },
   {
    "duration": 7,
    "start_time": "2023-01-09T18:48:52.095Z"
   },
   {
    "duration": 74,
    "start_time": "2023-01-09T18:48:52.735Z"
   },
   {
    "duration": 109,
    "start_time": "2023-01-09T18:49:00.102Z"
   },
   {
    "duration": 1475,
    "start_time": "2023-01-10T13:33:28.358Z"
   },
   {
    "duration": 279,
    "start_time": "2023-01-10T13:33:29.836Z"
   },
   {
    "duration": 12,
    "start_time": "2023-01-10T13:33:30.117Z"
   },
   {
    "duration": 46,
    "start_time": "2023-01-10T13:33:30.131Z"
   },
   {
    "duration": 7,
    "start_time": "2023-01-10T13:33:30.180Z"
   },
   {
    "duration": 109,
    "start_time": "2023-01-10T13:33:30.189Z"
   },
   {
    "duration": 89,
    "start_time": "2023-01-10T13:33:30.301Z"
   },
   {
    "duration": 4,
    "start_time": "2023-01-10T13:33:30.393Z"
   },
   {
    "duration": 25,
    "start_time": "2023-01-10T13:33:30.398Z"
   },
   {
    "duration": 45,
    "start_time": "2023-01-10T13:33:30.426Z"
   },
   {
    "duration": 47,
    "start_time": "2023-01-10T13:33:30.473Z"
   },
   {
    "duration": 152,
    "start_time": "2023-01-10T13:33:30.521Z"
   },
   {
    "duration": 10,
    "start_time": "2023-01-10T13:33:30.674Z"
   },
   {
    "duration": 176,
    "start_time": "2023-01-10T13:33:30.697Z"
   },
   {
    "duration": 10,
    "start_time": "2023-01-10T13:33:30.874Z"
   },
   {
    "duration": 37,
    "start_time": "2023-01-10T13:33:30.897Z"
   },
   {
    "duration": 66,
    "start_time": "2023-01-10T13:33:30.936Z"
   },
   {
    "duration": 32,
    "start_time": "2023-01-10T13:33:31.003Z"
   },
   {
    "duration": 35,
    "start_time": "2023-01-10T13:33:31.037Z"
   },
   {
    "duration": 477,
    "start_time": "2023-01-10T13:33:31.074Z"
   },
   {
    "duration": 28,
    "start_time": "2023-01-10T13:33:31.553Z"
   },
   {
    "duration": 13,
    "start_time": "2023-01-10T13:33:31.595Z"
   },
   {
    "duration": 371,
    "start_time": "2023-01-10T13:33:31.610Z"
   },
   {
    "duration": 48,
    "start_time": "2023-01-10T13:33:31.983Z"
   },
   {
    "duration": 28,
    "start_time": "2023-01-10T13:33:32.034Z"
   },
   {
    "duration": 41,
    "start_time": "2023-01-10T13:33:32.065Z"
   },
   {
    "duration": 48,
    "start_time": "2023-01-10T13:33:32.108Z"
   },
   {
    "duration": 617,
    "start_time": "2023-01-10T13:33:32.160Z"
   },
   {
    "duration": 28,
    "start_time": "2023-01-10T13:33:32.779Z"
   },
   {
    "duration": 93,
    "start_time": "2023-01-10T13:33:32.809Z"
   },
   {
    "duration": 14,
    "start_time": "2023-01-10T13:33:32.903Z"
   },
   {
    "duration": 184,
    "start_time": "2023-01-10T13:33:32.919Z"
   },
   {
    "duration": 16,
    "start_time": "2023-01-10T13:33:33.105Z"
   },
   {
    "duration": 16,
    "start_time": "2023-01-10T13:33:33.123Z"
   },
   {
    "duration": 59,
    "start_time": "2023-01-10T13:33:33.141Z"
   },
   {
    "duration": 64,
    "start_time": "2023-01-10T13:33:33.202Z"
   },
   {
    "duration": 69,
    "start_time": "2023-01-10T13:33:33.297Z"
   },
   {
    "duration": 44,
    "start_time": "2023-01-10T13:33:33.368Z"
   },
   {
    "duration": 6,
    "start_time": "2023-01-10T13:33:33.414Z"
   },
   {
    "duration": 110,
    "start_time": "2023-01-10T13:33:33.422Z"
   },
   {
    "duration": 21,
    "start_time": "2023-01-10T13:51:52.970Z"
   },
   {
    "duration": 50,
    "start_time": "2023-01-10T14:02:33.121Z"
   },
   {
    "duration": 62,
    "start_time": "2023-01-10T14:03:14.156Z"
   },
   {
    "duration": 73,
    "start_time": "2023-01-10T14:03:28.195Z"
   },
   {
    "duration": 47,
    "start_time": "2023-01-10T14:04:13.125Z"
   },
   {
    "duration": 109,
    "start_time": "2023-01-10T14:04:57.475Z"
   },
   {
    "duration": 17,
    "start_time": "2023-01-10T14:05:28.648Z"
   },
   {
    "duration": 1185,
    "start_time": "2023-01-10T14:08:40.611Z"
   },
   {
    "duration": 156,
    "start_time": "2023-01-10T14:08:41.798Z"
   },
   {
    "duration": 12,
    "start_time": "2023-01-10T14:08:41.956Z"
   },
   {
    "duration": 29,
    "start_time": "2023-01-10T14:08:41.970Z"
   },
   {
    "duration": 4,
    "start_time": "2023-01-10T14:08:42.002Z"
   },
   {
    "duration": 69,
    "start_time": "2023-01-10T14:08:42.007Z"
   },
   {
    "duration": 68,
    "start_time": "2023-01-10T14:08:42.077Z"
   },
   {
    "duration": 3,
    "start_time": "2023-01-10T14:08:42.146Z"
   },
   {
    "duration": 14,
    "start_time": "2023-01-10T14:08:42.151Z"
   },
   {
    "duration": 4,
    "start_time": "2023-01-10T14:08:42.166Z"
   },
   {
    "duration": 31,
    "start_time": "2023-01-10T14:08:42.171Z"
   },
   {
    "duration": 122,
    "start_time": "2023-01-10T14:08:42.204Z"
   },
   {
    "duration": 10,
    "start_time": "2023-01-10T14:08:42.327Z"
   },
   {
    "duration": 150,
    "start_time": "2023-01-10T14:08:42.340Z"
   },
   {
    "duration": 10,
    "start_time": "2023-01-10T14:08:42.495Z"
   },
   {
    "duration": 11,
    "start_time": "2023-01-10T14:08:42.507Z"
   },
   {
    "duration": 8,
    "start_time": "2023-01-10T14:08:42.519Z"
   },
   {
    "duration": 8,
    "start_time": "2023-01-10T14:08:42.529Z"
   },
   {
    "duration": 9,
    "start_time": "2023-01-10T14:08:42.539Z"
   },
   {
    "duration": 434,
    "start_time": "2023-01-10T14:08:42.550Z"
   },
   {
    "duration": 37,
    "start_time": "2023-01-10T14:08:42.986Z"
   },
   {
    "duration": 9,
    "start_time": "2023-01-10T14:08:43.025Z"
   },
   {
    "duration": 360,
    "start_time": "2023-01-10T14:08:43.036Z"
   },
   {
    "duration": 41,
    "start_time": "2023-01-10T14:08:43.398Z"
   },
   {
    "duration": 20,
    "start_time": "2023-01-10T14:08:43.441Z"
   },
   {
    "duration": 33,
    "start_time": "2023-01-10T14:08:43.463Z"
   },
   {
    "duration": 43,
    "start_time": "2023-01-10T14:08:43.498Z"
   },
   {
    "duration": 549,
    "start_time": "2023-01-10T14:08:43.543Z"
   },
   {
    "duration": 22,
    "start_time": "2023-01-10T14:08:44.094Z"
   },
   {
    "duration": 84,
    "start_time": "2023-01-10T14:08:44.117Z"
   },
   {
    "duration": 14,
    "start_time": "2023-01-10T14:08:44.202Z"
   },
   {
    "duration": 145,
    "start_time": "2023-01-10T14:08:44.217Z"
   },
   {
    "duration": 11,
    "start_time": "2023-01-10T14:08:44.364Z"
   },
   {
    "duration": 26,
    "start_time": "2023-01-10T14:08:44.377Z"
   },
   {
    "duration": 4,
    "start_time": "2023-01-10T14:08:44.404Z"
   },
   {
    "duration": 90,
    "start_time": "2023-01-10T14:08:44.409Z"
   },
   {
    "duration": 64,
    "start_time": "2023-01-10T14:08:44.501Z"
   },
   {
    "duration": 38,
    "start_time": "2023-01-10T14:08:44.566Z"
   },
   {
    "duration": 15,
    "start_time": "2023-01-10T14:08:44.605Z"
   },
   {
    "duration": 5,
    "start_time": "2023-01-10T14:08:44.622Z"
   },
   {
    "duration": 118,
    "start_time": "2023-01-10T14:08:44.631Z"
   },
   {
    "duration": 1204,
    "start_time": "2023-01-10T14:18:57.878Z"
   },
   {
    "duration": 157,
    "start_time": "2023-01-10T14:18:59.084Z"
   },
   {
    "duration": 11,
    "start_time": "2023-01-10T14:18:59.243Z"
   },
   {
    "duration": 19,
    "start_time": "2023-01-10T14:18:59.255Z"
   },
   {
    "duration": 22,
    "start_time": "2023-01-10T14:18:59.276Z"
   },
   {
    "duration": 60,
    "start_time": "2023-01-10T14:18:59.300Z"
   },
   {
    "duration": 74,
    "start_time": "2023-01-10T14:18:59.362Z"
   },
   {
    "duration": 3,
    "start_time": "2023-01-10T14:18:59.437Z"
   },
   {
    "duration": 17,
    "start_time": "2023-01-10T14:18:59.442Z"
   },
   {
    "duration": 4,
    "start_time": "2023-01-10T14:18:59.461Z"
   },
   {
    "duration": 18,
    "start_time": "2023-01-10T14:18:59.466Z"
   },
   {
    "duration": 120,
    "start_time": "2023-01-10T14:18:59.486Z"
   },
   {
    "duration": 10,
    "start_time": "2023-01-10T14:18:59.607Z"
   },
   {
    "duration": 150,
    "start_time": "2023-01-10T14:18:59.618Z"
   },
   {
    "duration": 11,
    "start_time": "2023-01-10T14:18:59.769Z"
   },
   {
    "duration": 20,
    "start_time": "2023-01-10T14:18:59.781Z"
   },
   {
    "duration": 7,
    "start_time": "2023-01-10T14:18:59.803Z"
   },
   {
    "duration": 15,
    "start_time": "2023-01-10T14:18:59.811Z"
   },
   {
    "duration": 6,
    "start_time": "2023-01-10T14:18:59.828Z"
   },
   {
    "duration": 427,
    "start_time": "2023-01-10T14:18:59.836Z"
   },
   {
    "duration": 39,
    "start_time": "2023-01-10T14:19:00.266Z"
   },
   {
    "duration": 10,
    "start_time": "2023-01-10T14:19:00.307Z"
   },
   {
    "duration": 359,
    "start_time": "2023-01-10T14:19:00.319Z"
   },
   {
    "duration": 50,
    "start_time": "2023-01-10T14:19:00.680Z"
   },
   {
    "duration": 22,
    "start_time": "2023-01-10T14:19:00.732Z"
   },
   {
    "duration": 16,
    "start_time": "2023-01-10T14:19:00.757Z"
   },
   {
    "duration": 87,
    "start_time": "2023-01-10T14:19:00.775Z"
   },
   {
    "duration": 531,
    "start_time": "2023-01-10T14:19:00.866Z"
   },
   {
    "duration": 25,
    "start_time": "2023-01-10T14:19:01.399Z"
   },
   {
    "duration": 113,
    "start_time": "2023-01-10T14:19:01.426Z"
   },
   {
    "duration": 14,
    "start_time": "2023-01-10T14:19:01.541Z"
   },
   {
    "duration": 163,
    "start_time": "2023-01-10T14:19:01.556Z"
   },
   {
    "duration": 12,
    "start_time": "2023-01-10T14:19:01.720Z"
   },
   {
    "duration": 33,
    "start_time": "2023-01-10T14:19:01.733Z"
   },
   {
    "duration": 30,
    "start_time": "2023-01-10T14:19:01.768Z"
   },
   {
    "duration": 65,
    "start_time": "2023-01-10T14:19:01.800Z"
   },
   {
    "duration": 85,
    "start_time": "2023-01-10T14:19:01.866Z"
   },
   {
    "duration": 28,
    "start_time": "2023-01-10T14:19:01.953Z"
   },
   {
    "duration": 59,
    "start_time": "2023-01-10T14:19:01.983Z"
   },
   {
    "duration": 6,
    "start_time": "2023-01-10T14:19:02.044Z"
   },
   {
    "duration": 103,
    "start_time": "2023-01-10T14:19:02.052Z"
   },
   {
    "duration": 7,
    "start_time": "2023-01-10T15:08:25.135Z"
   },
   {
    "duration": 10,
    "start_time": "2023-01-10T15:08:39.676Z"
   },
   {
    "duration": 27,
    "start_time": "2023-01-10T15:08:49.230Z"
   },
   {
    "duration": 41,
    "start_time": "2023-01-10T15:36:37.952Z"
   },
   {
    "duration": 821,
    "start_time": "2023-01-10T15:47:11.605Z"
   },
   {
    "duration": 836,
    "start_time": "2023-01-10T15:48:07.643Z"
   },
   {
    "duration": 743,
    "start_time": "2023-01-10T15:51:41.480Z"
   },
   {
    "duration": 914,
    "start_time": "2023-01-10T15:51:52.871Z"
   },
   {
    "duration": 729,
    "start_time": "2023-01-10T15:52:11.662Z"
   },
   {
    "duration": 4,
    "start_time": "2023-01-10T15:52:31.438Z"
   },
   {
    "duration": 744,
    "start_time": "2023-01-10T15:54:00.741Z"
   },
   {
    "duration": 38,
    "start_time": "2023-01-10T15:55:53.877Z"
   },
   {
    "duration": 5,
    "start_time": "2023-01-10T15:55:59.700Z"
   },
   {
    "duration": 6,
    "start_time": "2023-01-10T15:56:50.558Z"
   },
   {
    "duration": 11,
    "start_time": "2023-01-10T15:57:07.188Z"
   },
   {
    "duration": 11,
    "start_time": "2023-01-10T15:57:17.537Z"
   },
   {
    "duration": 51,
    "start_time": "2023-01-10T16:01:19.913Z"
   },
   {
    "duration": 54,
    "start_time": "2023-01-10T16:02:05.895Z"
   },
   {
    "duration": 11,
    "start_time": "2023-01-10T16:04:30.333Z"
   },
   {
    "duration": 46,
    "start_time": "2023-01-10T16:04:52.623Z"
   },
   {
    "duration": 9,
    "start_time": "2023-01-10T16:05:00.883Z"
   },
   {
    "duration": 6,
    "start_time": "2023-01-10T16:05:21.864Z"
   },
   {
    "duration": 6,
    "start_time": "2023-01-10T16:05:42.694Z"
   },
   {
    "duration": 6,
    "start_time": "2023-01-10T16:05:50.161Z"
   },
   {
    "duration": 6,
    "start_time": "2023-01-10T16:06:14.736Z"
   },
   {
    "duration": 5,
    "start_time": "2023-01-10T16:06:26.641Z"
   },
   {
    "duration": 25,
    "start_time": "2023-01-10T16:06:27.569Z"
   },
   {
    "duration": 6,
    "start_time": "2023-01-10T16:06:39.809Z"
   },
   {
    "duration": 6,
    "start_time": "2023-01-10T16:06:56.986Z"
   },
   {
    "duration": 6,
    "start_time": "2023-01-10T16:07:01.833Z"
   },
   {
    "duration": 6,
    "start_time": "2023-01-10T16:07:56.650Z"
   },
   {
    "duration": 8,
    "start_time": "2023-01-10T16:08:10.293Z"
   },
   {
    "duration": 7,
    "start_time": "2023-01-10T16:14:18.390Z"
   },
   {
    "duration": 7,
    "start_time": "2023-01-10T16:14:26.347Z"
   },
   {
    "duration": 1426,
    "start_time": "2023-01-11T15:17:07.506Z"
   },
   {
    "duration": 948,
    "start_time": "2023-01-11T15:17:08.934Z"
   },
   {
    "duration": 12,
    "start_time": "2023-01-11T15:17:09.893Z"
   },
   {
    "duration": 19,
    "start_time": "2023-01-11T15:17:09.907Z"
   },
   {
    "duration": 4,
    "start_time": "2023-01-11T15:17:09.929Z"
   },
   {
    "duration": 71,
    "start_time": "2023-01-11T15:17:09.934Z"
   },
   {
    "duration": 88,
    "start_time": "2023-01-11T15:17:10.007Z"
   },
   {
    "duration": 3,
    "start_time": "2023-01-11T15:17:10.097Z"
   },
   {
    "duration": 13,
    "start_time": "2023-01-11T15:17:10.102Z"
   },
   {
    "duration": 5,
    "start_time": "2023-01-11T15:17:10.117Z"
   },
   {
    "duration": 19,
    "start_time": "2023-01-11T15:17:10.123Z"
   },
   {
    "duration": 118,
    "start_time": "2023-01-11T15:17:10.144Z"
   },
   {
    "duration": 16,
    "start_time": "2023-01-11T15:17:10.263Z"
   },
   {
    "duration": 152,
    "start_time": "2023-01-11T15:17:10.285Z"
   },
   {
    "duration": 10,
    "start_time": "2023-01-11T15:17:10.439Z"
   },
   {
    "duration": 10,
    "start_time": "2023-01-11T15:17:10.451Z"
   },
   {
    "duration": 32,
    "start_time": "2023-01-11T15:17:10.463Z"
   },
   {
    "duration": 8,
    "start_time": "2023-01-11T15:17:10.497Z"
   },
   {
    "duration": 16,
    "start_time": "2023-01-11T15:17:10.507Z"
   },
   {
    "duration": 448,
    "start_time": "2023-01-11T15:17:10.524Z"
   },
   {
    "duration": 35,
    "start_time": "2023-01-11T15:17:10.979Z"
   },
   {
    "duration": 9,
    "start_time": "2023-01-11T15:17:11.016Z"
   },
   {
    "duration": 371,
    "start_time": "2023-01-11T15:17:11.027Z"
   },
   {
    "duration": 41,
    "start_time": "2023-01-11T15:17:11.400Z"
   },
   {
    "duration": 19,
    "start_time": "2023-01-11T15:17:11.443Z"
   },
   {
    "duration": 30,
    "start_time": "2023-01-11T15:17:11.464Z"
   },
   {
    "duration": 57,
    "start_time": "2023-01-11T15:17:11.496Z"
   },
   {
    "duration": 538,
    "start_time": "2023-01-11T15:17:11.555Z"
   },
   {
    "duration": 24,
    "start_time": "2023-01-11T15:17:12.095Z"
   },
   {
    "duration": 88,
    "start_time": "2023-01-11T15:17:12.120Z"
   },
   {
    "duration": 13,
    "start_time": "2023-01-11T15:17:12.210Z"
   },
   {
    "duration": 176,
    "start_time": "2023-01-11T15:17:12.225Z"
   },
   {
    "duration": 13,
    "start_time": "2023-01-11T15:17:12.402Z"
   },
   {
    "duration": 32,
    "start_time": "2023-01-11T15:17:12.417Z"
   },
   {
    "duration": 39,
    "start_time": "2023-01-11T15:17:12.450Z"
   },
   {
    "duration": 45,
    "start_time": "2023-01-11T15:17:12.493Z"
   },
   {
    "duration": 7,
    "start_time": "2023-01-11T15:17:12.540Z"
   },
   {
    "duration": 29,
    "start_time": "2023-01-11T15:17:12.578Z"
   },
   {
    "duration": 90,
    "start_time": "2023-01-11T15:17:12.608Z"
   },
   {
    "duration": 24,
    "start_time": "2023-01-11T15:17:12.700Z"
   },
   {
    "duration": 6,
    "start_time": "2023-01-11T15:17:12.728Z"
   },
   {
    "duration": 128,
    "start_time": "2023-01-11T15:17:12.736Z"
   },
   {
    "duration": 101,
    "start_time": "2023-01-11T16:47:11.482Z"
   },
   {
    "duration": 24,
    "start_time": "2023-01-11T16:51:19.003Z"
   },
   {
    "duration": 29,
    "start_time": "2023-01-11T16:51:43.935Z"
   },
   {
    "duration": 98,
    "start_time": "2023-01-11T17:17:43.294Z"
   },
   {
    "duration": 66,
    "start_time": "2023-01-11T17:21:04.787Z"
   },
   {
    "duration": 111,
    "start_time": "2023-01-11T17:33:34.029Z"
   },
   {
    "duration": 132,
    "start_time": "2023-01-11T17:34:07.707Z"
   },
   {
    "duration": 93,
    "start_time": "2023-01-11T17:45:12.331Z"
   },
   {
    "duration": 1289,
    "start_time": "2023-01-11T17:50:00.110Z"
   },
   {
    "duration": 166,
    "start_time": "2023-01-11T17:50:01.401Z"
   },
   {
    "duration": 14,
    "start_time": "2023-01-11T17:50:01.569Z"
   },
   {
    "duration": 69,
    "start_time": "2023-01-11T17:50:01.585Z"
   },
   {
    "duration": 4,
    "start_time": "2023-01-11T17:50:01.656Z"
   },
   {
    "duration": 146,
    "start_time": "2023-01-11T17:50:01.661Z"
   },
   {
    "duration": 79,
    "start_time": "2023-01-11T17:50:01.809Z"
   },
   {
    "duration": 3,
    "start_time": "2023-01-11T17:50:01.890Z"
   },
   {
    "duration": 65,
    "start_time": "2023-01-11T17:50:01.895Z"
   },
   {
    "duration": 21,
    "start_time": "2023-01-11T17:50:01.962Z"
   },
   {
    "duration": 20,
    "start_time": "2023-01-11T17:50:01.984Z"
   },
   {
    "duration": 110,
    "start_time": "2023-01-11T17:50:02.006Z"
   },
   {
    "duration": 10,
    "start_time": "2023-01-11T17:50:02.117Z"
   },
   {
    "duration": 154,
    "start_time": "2023-01-11T17:50:02.130Z"
   },
   {
    "duration": 11,
    "start_time": "2023-01-11T17:50:02.286Z"
   },
   {
    "duration": 24,
    "start_time": "2023-01-11T17:50:02.299Z"
   },
   {
    "duration": 27,
    "start_time": "2023-01-11T17:50:02.325Z"
   },
   {
    "duration": 19,
    "start_time": "2023-01-11T17:50:02.354Z"
   },
   {
    "duration": 7,
    "start_time": "2023-01-11T17:50:02.374Z"
   },
   {
    "duration": 468,
    "start_time": "2023-01-11T17:50:02.383Z"
   },
   {
    "duration": 51,
    "start_time": "2023-01-11T17:50:02.853Z"
   },
   {
    "duration": 13,
    "start_time": "2023-01-11T17:50:02.906Z"
   },
   {
    "duration": 425,
    "start_time": "2023-01-11T17:50:02.921Z"
   },
   {
    "duration": 51,
    "start_time": "2023-01-11T17:50:03.348Z"
   },
   {
    "duration": 23,
    "start_time": "2023-01-11T17:50:03.401Z"
   },
   {
    "duration": 12,
    "start_time": "2023-01-11T17:50:03.426Z"
   },
   {
    "duration": 73,
    "start_time": "2023-01-11T17:50:03.440Z"
   },
   {
    "duration": 647,
    "start_time": "2023-01-11T17:50:03.514Z"
   },
   {
    "duration": 42,
    "start_time": "2023-01-11T17:50:04.163Z"
   },
   {
    "duration": 105,
    "start_time": "2023-01-11T17:50:04.207Z"
   },
   {
    "duration": 15,
    "start_time": "2023-01-11T17:50:04.313Z"
   },
   {
    "duration": 155,
    "start_time": "2023-01-11T17:50:04.330Z"
   },
   {
    "duration": 12,
    "start_time": "2023-01-11T17:50:04.487Z"
   },
   {
    "duration": 21,
    "start_time": "2023-01-11T17:50:04.502Z"
   },
   {
    "duration": 53,
    "start_time": "2023-01-11T17:50:04.525Z"
   },
   {
    "duration": 43,
    "start_time": "2023-01-11T17:50:04.580Z"
   },
   {
    "duration": 7,
    "start_time": "2023-01-11T17:50:04.624Z"
   },
   {
    "duration": 65,
    "start_time": "2023-01-11T17:50:04.632Z"
   },
   {
    "duration": 78,
    "start_time": "2023-01-11T17:50:04.700Z"
   },
   {
    "duration": 24,
    "start_time": "2023-01-11T17:50:04.780Z"
   },
   {
    "duration": 7,
    "start_time": "2023-01-11T17:50:04.807Z"
   },
   {
    "duration": 119,
    "start_time": "2023-01-11T17:50:04.816Z"
   },
   {
    "duration": 119,
    "start_time": "2023-01-11T17:50:04.937Z"
   },
   {
    "duration": 122,
    "start_time": "2023-01-11T17:50:05.058Z"
   },
   {
    "duration": 175,
    "start_time": "2023-01-11T17:50:05.182Z"
   },
   {
    "duration": 1282,
    "start_time": "2023-01-11T17:52:32.689Z"
   },
   {
    "duration": 190,
    "start_time": "2023-01-11T17:52:33.974Z"
   },
   {
    "duration": 14,
    "start_time": "2023-01-11T17:52:34.167Z"
   },
   {
    "duration": 23,
    "start_time": "2023-01-11T17:52:34.183Z"
   },
   {
    "duration": 4,
    "start_time": "2023-01-11T17:52:34.209Z"
   },
   {
    "duration": 75,
    "start_time": "2023-01-11T17:52:34.215Z"
   },
   {
    "duration": 67,
    "start_time": "2023-01-11T17:52:34.292Z"
   },
   {
    "duration": 18,
    "start_time": "2023-01-11T17:52:34.361Z"
   },
   {
    "duration": 13,
    "start_time": "2023-01-11T17:52:34.381Z"
   },
   {
    "duration": 4,
    "start_time": "2023-01-11T17:52:34.396Z"
   },
   {
    "duration": 14,
    "start_time": "2023-01-11T17:52:34.402Z"
   },
   {
    "duration": 119,
    "start_time": "2023-01-11T17:52:34.418Z"
   },
   {
    "duration": 21,
    "start_time": "2023-01-11T17:52:34.538Z"
   },
   {
    "duration": 149,
    "start_time": "2023-01-11T17:52:34.562Z"
   },
   {
    "duration": 11,
    "start_time": "2023-01-11T17:52:34.713Z"
   },
   {
    "duration": 18,
    "start_time": "2023-01-11T17:52:34.727Z"
   },
   {
    "duration": 11,
    "start_time": "2023-01-11T17:52:34.747Z"
   },
   {
    "duration": 21,
    "start_time": "2023-01-11T17:52:34.760Z"
   },
   {
    "duration": 6,
    "start_time": "2023-01-11T17:52:34.784Z"
   },
   {
    "duration": 458,
    "start_time": "2023-01-11T17:52:34.792Z"
   },
   {
    "duration": 34,
    "start_time": "2023-01-11T17:52:35.252Z"
   },
   {
    "duration": 9,
    "start_time": "2023-01-11T17:52:35.288Z"
   },
   {
    "duration": 332,
    "start_time": "2023-01-11T17:52:35.299Z"
   },
   {
    "duration": 49,
    "start_time": "2023-01-11T17:52:35.632Z"
   },
   {
    "duration": 20,
    "start_time": "2023-01-11T17:52:35.683Z"
   },
   {
    "duration": 16,
    "start_time": "2023-01-11T17:52:35.705Z"
   },
   {
    "duration": 73,
    "start_time": "2023-01-11T17:52:35.722Z"
   },
   {
    "duration": 573,
    "start_time": "2023-01-11T17:52:35.796Z"
   },
   {
    "duration": 27,
    "start_time": "2023-01-11T17:52:36.370Z"
   },
   {
    "duration": 82,
    "start_time": "2023-01-11T17:52:36.398Z"
   },
   {
    "duration": 14,
    "start_time": "2023-01-11T17:52:36.482Z"
   },
   {
    "duration": 143,
    "start_time": "2023-01-11T17:52:36.498Z"
   },
   {
    "duration": 11,
    "start_time": "2023-01-11T17:52:36.643Z"
   },
   {
    "duration": 22,
    "start_time": "2023-01-11T17:52:36.656Z"
   },
   {
    "duration": 3,
    "start_time": "2023-01-11T17:52:36.680Z"
   },
   {
    "duration": 53,
    "start_time": "2023-01-11T17:52:36.685Z"
   },
   {
    "duration": 7,
    "start_time": "2023-01-11T17:52:36.778Z"
   },
   {
    "duration": 34,
    "start_time": "2023-01-11T17:52:36.787Z"
   },
   {
    "duration": 83,
    "start_time": "2023-01-11T17:52:36.823Z"
   },
   {
    "duration": 30,
    "start_time": "2023-01-11T17:52:36.908Z"
   },
   {
    "duration": 10,
    "start_time": "2023-01-11T17:52:36.943Z"
   },
   {
    "duration": 126,
    "start_time": "2023-01-11T17:52:36.955Z"
   },
   {
    "duration": 110,
    "start_time": "2023-01-11T17:52:37.082Z"
   },
   {
    "duration": 112,
    "start_time": "2023-01-11T17:52:37.194Z"
   },
   {
    "duration": 170,
    "start_time": "2023-01-11T17:52:37.308Z"
   },
   {
    "duration": 9,
    "start_time": "2023-01-11T18:21:10.656Z"
   },
   {
    "duration": 16,
    "start_time": "2023-01-11T18:21:29.894Z"
   },
   {
    "duration": 1350,
    "start_time": "2023-01-11T19:20:46.497Z"
   },
   {
    "duration": 267,
    "start_time": "2023-01-11T19:20:47.849Z"
   },
   {
    "duration": 12,
    "start_time": "2023-01-11T19:20:48.118Z"
   },
   {
    "duration": 19,
    "start_time": "2023-01-11T19:20:48.131Z"
   },
   {
    "duration": 4,
    "start_time": "2023-01-11T19:20:48.151Z"
   },
   {
    "duration": 79,
    "start_time": "2023-01-11T19:20:48.156Z"
   },
   {
    "duration": 76,
    "start_time": "2023-01-11T19:20:48.237Z"
   },
   {
    "duration": 3,
    "start_time": "2023-01-11T19:20:48.315Z"
   },
   {
    "duration": 13,
    "start_time": "2023-01-11T19:20:48.319Z"
   },
   {
    "duration": 4,
    "start_time": "2023-01-11T19:20:48.334Z"
   },
   {
    "duration": 15,
    "start_time": "2023-01-11T19:20:48.340Z"
   },
   {
    "duration": 147,
    "start_time": "2023-01-11T19:20:48.378Z"
   },
   {
    "duration": 13,
    "start_time": "2023-01-11T19:20:48.527Z"
   },
   {
    "duration": 186,
    "start_time": "2023-01-11T19:20:48.542Z"
   },
   {
    "duration": 15,
    "start_time": "2023-01-11T19:20:48.730Z"
   },
   {
    "duration": 15,
    "start_time": "2023-01-11T19:20:48.746Z"
   },
   {
    "duration": 33,
    "start_time": "2023-01-11T19:20:48.763Z"
   },
   {
    "duration": 19,
    "start_time": "2023-01-11T19:20:48.798Z"
   },
   {
    "duration": 211,
    "start_time": "2023-01-11T19:20:48.819Z"
   },
   {
    "duration": 455,
    "start_time": "2023-01-11T19:20:49.032Z"
   },
   {
    "duration": 29,
    "start_time": "2023-01-11T19:20:49.489Z"
   },
   {
    "duration": 10,
    "start_time": "2023-01-11T19:20:49.520Z"
   },
   {
    "duration": 367,
    "start_time": "2023-01-11T19:20:49.531Z"
   },
   {
    "duration": 42,
    "start_time": "2023-01-11T19:20:49.900Z"
   },
   {
    "duration": 35,
    "start_time": "2023-01-11T19:20:49.943Z"
   },
   {
    "duration": 12,
    "start_time": "2023-01-11T19:20:49.980Z"
   },
   {
    "duration": 46,
    "start_time": "2023-01-11T19:20:49.993Z"
   },
   {
    "duration": 477,
    "start_time": "2023-01-11T19:20:50.042Z"
   },
   {
    "duration": 25,
    "start_time": "2023-01-11T19:20:50.521Z"
   },
   {
    "duration": 99,
    "start_time": "2023-01-11T19:20:50.548Z"
   },
   {
    "duration": 14,
    "start_time": "2023-01-11T19:20:50.649Z"
   },
   {
    "duration": 404,
    "start_time": "2023-01-11T19:20:50.665Z"
   },
   {
    "duration": 11,
    "start_time": "2023-01-11T19:20:51.071Z"
   },
   {
    "duration": 14,
    "start_time": "2023-01-11T19:20:51.084Z"
   },
   {
    "duration": 9,
    "start_time": "2023-01-11T19:20:51.100Z"
   },
   {
    "duration": 86,
    "start_time": "2023-01-11T19:20:51.111Z"
   },
   {
    "duration": 7,
    "start_time": "2023-01-11T19:20:51.199Z"
   },
   {
    "duration": 29,
    "start_time": "2023-01-11T19:20:51.207Z"
   },
   {
    "duration": 102,
    "start_time": "2023-01-11T19:20:51.238Z"
   },
   {
    "duration": 38,
    "start_time": "2023-01-11T19:20:51.342Z"
   },
   {
    "duration": 6,
    "start_time": "2023-01-11T19:20:51.382Z"
   },
   {
    "duration": 118,
    "start_time": "2023-01-11T19:20:51.390Z"
   },
   {
    "duration": 115,
    "start_time": "2023-01-11T19:20:51.510Z"
   },
   {
    "duration": 110,
    "start_time": "2023-01-11T19:20:51.627Z"
   },
   {
    "duration": 175,
    "start_time": "2023-01-11T19:20:51.739Z"
   },
   {
    "duration": 51,
    "start_time": "2023-01-11T20:38:08.913Z"
   },
   {
    "duration": 1253,
    "start_time": "2023-01-11T20:39:42.018Z"
   },
   {
    "duration": 263,
    "start_time": "2023-01-11T20:39:43.273Z"
   },
   {
    "duration": 12,
    "start_time": "2023-01-11T20:39:43.538Z"
   },
   {
    "duration": 23,
    "start_time": "2023-01-11T20:39:43.551Z"
   },
   {
    "duration": 4,
    "start_time": "2023-01-11T20:39:43.576Z"
   },
   {
    "duration": 60,
    "start_time": "2023-01-11T20:39:43.581Z"
   },
   {
    "duration": 77,
    "start_time": "2023-01-11T20:39:43.642Z"
   },
   {
    "duration": 4,
    "start_time": "2023-01-11T20:39:43.721Z"
   },
   {
    "duration": 12,
    "start_time": "2023-01-11T20:39:43.727Z"
   },
   {
    "duration": 5,
    "start_time": "2023-01-11T20:39:43.740Z"
   },
   {
    "duration": 38,
    "start_time": "2023-01-11T20:39:43.746Z"
   },
   {
    "duration": 117,
    "start_time": "2023-01-11T20:39:43.786Z"
   },
   {
    "duration": 9,
    "start_time": "2023-01-11T20:39:43.905Z"
   },
   {
    "duration": 141,
    "start_time": "2023-01-11T20:39:43.917Z"
   },
   {
    "duration": 16,
    "start_time": "2023-01-11T20:39:44.060Z"
   },
   {
    "duration": 7,
    "start_time": "2023-01-11T20:39:44.077Z"
   },
   {
    "duration": 7,
    "start_time": "2023-01-11T20:39:44.086Z"
   },
   {
    "duration": 5,
    "start_time": "2023-01-11T20:39:44.095Z"
   },
   {
    "duration": 5,
    "start_time": "2023-01-11T20:39:44.101Z"
   },
   {
    "duration": 412,
    "start_time": "2023-01-11T20:39:44.108Z"
   },
   {
    "duration": 27,
    "start_time": "2023-01-11T20:39:44.522Z"
   },
   {
    "duration": 26,
    "start_time": "2023-01-11T20:39:44.550Z"
   },
   {
    "duration": 333,
    "start_time": "2023-01-11T20:39:44.578Z"
   },
   {
    "duration": 76,
    "start_time": "2023-01-11T20:39:44.913Z"
   },
   {
    "duration": 23,
    "start_time": "2023-01-11T20:39:44.990Z"
   },
   {
    "duration": 13,
    "start_time": "2023-01-11T20:39:45.015Z"
   },
   {
    "duration": 74,
    "start_time": "2023-01-11T20:39:45.030Z"
   },
   {
    "duration": 440,
    "start_time": "2023-01-11T20:39:45.106Z"
   },
   {
    "duration": 30,
    "start_time": "2023-01-11T20:39:45.547Z"
   },
   {
    "duration": 66,
    "start_time": "2023-01-11T20:39:45.578Z"
   },
   {
    "duration": 13,
    "start_time": "2023-01-11T20:39:45.645Z"
   },
   {
    "duration": 206,
    "start_time": "2023-01-11T20:39:45.676Z"
   },
   {
    "duration": 10,
    "start_time": "2023-01-11T20:39:45.883Z"
   },
   {
    "duration": 13,
    "start_time": "2023-01-11T20:39:45.895Z"
   },
   {
    "duration": 4,
    "start_time": "2023-01-11T20:39:45.909Z"
   },
   {
    "duration": 89,
    "start_time": "2023-01-11T20:39:45.914Z"
   },
   {
    "duration": 5,
    "start_time": "2023-01-11T20:39:46.005Z"
   },
   {
    "duration": 75,
    "start_time": "2023-01-11T20:39:46.012Z"
   },
   {
    "duration": 61,
    "start_time": "2023-01-11T20:39:46.088Z"
   },
   {
    "duration": 36,
    "start_time": "2023-01-11T20:39:46.151Z"
   },
   {
    "duration": 5,
    "start_time": "2023-01-11T20:39:46.192Z"
   },
   {
    "duration": 145,
    "start_time": "2023-01-11T20:39:46.199Z"
   },
   {
    "duration": 102,
    "start_time": "2023-01-11T20:39:46.346Z"
   },
   {
    "duration": 103,
    "start_time": "2023-01-11T20:39:46.450Z"
   },
   {
    "duration": 158,
    "start_time": "2023-01-11T20:39:46.554Z"
   },
   {
    "duration": 69,
    "start_time": "2023-01-11T20:43:52.009Z"
   },
   {
    "duration": 79,
    "start_time": "2023-01-11T20:45:02.033Z"
   },
   {
    "duration": 200,
    "start_time": "2023-01-11T20:45:05.810Z"
   },
   {
    "duration": 88,
    "start_time": "2023-01-11T20:45:16.788Z"
   },
   {
    "duration": 92,
    "start_time": "2023-01-11T20:45:20.996Z"
   },
   {
    "duration": 47,
    "start_time": "2023-01-11T20:45:31.342Z"
   },
   {
    "duration": 91,
    "start_time": "2023-01-11T20:45:35.924Z"
   },
   {
    "duration": 92,
    "start_time": "2023-01-11T20:45:41.252Z"
   },
   {
    "duration": 94,
    "start_time": "2023-01-11T20:45:58.963Z"
   },
   {
    "duration": 97,
    "start_time": "2023-01-11T20:46:44.640Z"
   },
   {
    "duration": 106,
    "start_time": "2023-01-11T20:47:04.173Z"
   },
   {
    "duration": 23,
    "start_time": "2023-01-11T20:54:46.097Z"
   },
   {
    "duration": 1337,
    "start_time": "2023-01-12T07:09:00.043Z"
   },
   {
    "duration": 272,
    "start_time": "2023-01-12T07:09:01.382Z"
   },
   {
    "duration": 11,
    "start_time": "2023-01-12T07:09:01.656Z"
   },
   {
    "duration": 108,
    "start_time": "2023-01-12T07:09:01.668Z"
   },
   {
    "duration": 44,
    "start_time": "2023-01-12T07:09:01.777Z"
   },
   {
    "duration": 99,
    "start_time": "2023-01-12T07:09:01.822Z"
   },
   {
    "duration": 82,
    "start_time": "2023-01-12T07:09:01.924Z"
   },
   {
    "duration": 57,
    "start_time": "2023-01-12T07:09:02.008Z"
   },
   {
    "duration": 35,
    "start_time": "2023-01-12T07:09:02.066Z"
   },
   {
    "duration": 22,
    "start_time": "2023-01-12T07:09:02.103Z"
   },
   {
    "duration": 40,
    "start_time": "2023-01-12T07:09:02.126Z"
   },
   {
    "duration": 136,
    "start_time": "2023-01-12T07:09:02.168Z"
   },
   {
    "duration": 9,
    "start_time": "2023-01-12T07:09:02.306Z"
   },
   {
    "duration": 151,
    "start_time": "2023-01-12T07:09:02.316Z"
   },
   {
    "duration": 14,
    "start_time": "2023-01-12T07:09:02.469Z"
   },
   {
    "duration": 40,
    "start_time": "2023-01-12T07:09:02.485Z"
   },
   {
    "duration": 38,
    "start_time": "2023-01-12T07:09:02.527Z"
   },
   {
    "duration": 34,
    "start_time": "2023-01-12T07:09:02.567Z"
   },
   {
    "duration": 15,
    "start_time": "2023-01-12T07:09:02.603Z"
   },
   {
    "duration": 433,
    "start_time": "2023-01-12T07:09:02.621Z"
   },
   {
    "duration": 59,
    "start_time": "2023-01-12T07:09:03.056Z"
   },
   {
    "duration": 10,
    "start_time": "2023-01-12T07:09:03.117Z"
   },
   {
    "duration": 357,
    "start_time": "2023-01-12T07:09:03.129Z"
   },
   {
    "duration": 55,
    "start_time": "2023-01-12T07:09:03.488Z"
   },
   {
    "duration": 23,
    "start_time": "2023-01-12T07:09:03.545Z"
   },
   {
    "duration": 35,
    "start_time": "2023-01-12T07:09:03.570Z"
   },
   {
    "duration": 85,
    "start_time": "2023-01-12T07:09:03.607Z"
   },
   {
    "duration": 458,
    "start_time": "2023-01-12T07:09:03.695Z"
   },
   {
    "duration": 46,
    "start_time": "2023-01-12T07:09:04.155Z"
   },
   {
    "duration": 75,
    "start_time": "2023-01-12T07:09:04.202Z"
   },
   {
    "duration": 25,
    "start_time": "2023-01-12T07:09:04.278Z"
   },
   {
    "duration": 373,
    "start_time": "2023-01-12T07:09:04.305Z"
   },
   {
    "duration": 20,
    "start_time": "2023-01-12T07:09:04.680Z"
   },
   {
    "duration": 19,
    "start_time": "2023-01-12T07:09:04.702Z"
   },
   {
    "duration": 4,
    "start_time": "2023-01-12T07:09:04.723Z"
   },
   {
    "duration": 120,
    "start_time": "2023-01-12T07:09:04.728Z"
   },
   {
    "duration": 8,
    "start_time": "2023-01-12T07:09:04.898Z"
   },
   {
    "duration": 88,
    "start_time": "2023-01-12T07:09:04.909Z"
   },
   {
    "duration": 123,
    "start_time": "2023-01-12T07:09:04.999Z"
   },
   {
    "duration": 26,
    "start_time": "2023-01-12T07:09:05.124Z"
   },
   {
    "duration": 31,
    "start_time": "2023-01-12T07:09:05.152Z"
   },
   {
    "duration": 193,
    "start_time": "2023-01-12T07:09:05.186Z"
   },
   {
    "duration": 138,
    "start_time": "2023-01-12T07:09:05.380Z"
   },
   {
    "duration": 135,
    "start_time": "2023-01-12T07:09:05.520Z"
   },
   {
    "duration": 204,
    "start_time": "2023-01-12T07:09:05.657Z"
   },
   {
    "duration": 4,
    "start_time": "2023-01-12T07:09:05.863Z"
   },
   {
    "duration": 0,
    "start_time": "2023-01-12T07:09:05.869Z"
   },
   {
    "duration": 0,
    "start_time": "2023-01-12T07:09:05.871Z"
   },
   {
    "duration": 186,
    "start_time": "2023-01-12T07:09:12.564Z"
   },
   {
    "duration": 90,
    "start_time": "2023-01-12T07:09:25.331Z"
   },
   {
    "duration": 67,
    "start_time": "2023-01-12T07:09:26.454Z"
   },
   {
    "duration": 22,
    "start_time": "2023-01-12T07:09:27.074Z"
   },
   {
    "duration": 9,
    "start_time": "2023-01-12T07:09:56.202Z"
   },
   {
    "duration": 10,
    "start_time": "2023-01-12T07:10:05.043Z"
   },
   {
    "duration": 1262,
    "start_time": "2023-01-12T07:10:10.368Z"
   },
   {
    "duration": 1743,
    "start_time": "2023-01-12T07:10:14.772Z"
   },
   {
    "duration": 5,
    "start_time": "2023-01-12T07:10:21.759Z"
   },
   {
    "duration": 4,
    "start_time": "2023-01-12T07:10:43.911Z"
   },
   {
    "duration": 18,
    "start_time": "2023-01-12T07:11:05.536Z"
   },
   {
    "duration": 12,
    "start_time": "2023-01-12T07:11:40.352Z"
   },
   {
    "duration": 12,
    "start_time": "2023-01-12T07:11:48.092Z"
   },
   {
    "duration": 12,
    "start_time": "2023-01-12T07:11:53.079Z"
   },
   {
    "duration": 1781,
    "start_time": "2023-01-20T14:54:22.521Z"
   },
   {
    "duration": 764,
    "start_time": "2023-01-20T14:54:24.304Z"
   },
   {
    "duration": 15,
    "start_time": "2023-01-20T14:54:25.070Z"
   },
   {
    "duration": 42,
    "start_time": "2023-01-20T14:54:25.088Z"
   },
   {
    "duration": 5,
    "start_time": "2023-01-20T14:54:25.131Z"
   },
   {
    "duration": 98,
    "start_time": "2023-01-20T14:54:25.138Z"
   },
   {
    "duration": 101,
    "start_time": "2023-01-20T14:54:25.238Z"
   },
   {
    "duration": 12,
    "start_time": "2023-01-20T14:54:25.342Z"
   },
   {
    "duration": 13,
    "start_time": "2023-01-20T14:54:25.356Z"
   },
   {
    "duration": 5,
    "start_time": "2023-01-20T14:54:25.372Z"
   },
   {
    "duration": 16,
    "start_time": "2023-01-20T14:54:25.379Z"
   },
   {
    "duration": 188,
    "start_time": "2023-01-20T14:54:25.398Z"
   },
   {
    "duration": 13,
    "start_time": "2023-01-20T14:54:25.589Z"
   },
   {
    "duration": 205,
    "start_time": "2023-01-20T14:54:25.604Z"
   },
   {
    "duration": 15,
    "start_time": "2023-01-20T14:54:25.811Z"
   },
   {
    "duration": 17,
    "start_time": "2023-01-20T14:54:25.828Z"
   },
   {
    "duration": 15,
    "start_time": "2023-01-20T14:54:25.853Z"
   },
   {
    "duration": 12,
    "start_time": "2023-01-20T14:54:25.872Z"
   },
   {
    "duration": 9,
    "start_time": "2023-01-20T14:54:25.887Z"
   },
   {
    "duration": 580,
    "start_time": "2023-01-20T14:54:25.899Z"
   },
   {
    "duration": 41,
    "start_time": "2023-01-20T14:54:26.482Z"
   },
   {
    "duration": 27,
    "start_time": "2023-01-20T14:54:26.527Z"
   },
   {
    "duration": 457,
    "start_time": "2023-01-20T14:54:26.556Z"
   },
   {
    "duration": 62,
    "start_time": "2023-01-20T14:54:27.015Z"
   },
   {
    "duration": 33,
    "start_time": "2023-01-20T14:54:27.079Z"
   },
   {
    "duration": 39,
    "start_time": "2023-01-20T14:54:27.115Z"
   },
   {
    "duration": 47,
    "start_time": "2023-01-20T14:54:27.156Z"
   },
   {
    "duration": 679,
    "start_time": "2023-01-20T14:54:27.208Z"
   },
   {
    "duration": 28,
    "start_time": "2023-01-20T14:54:27.889Z"
   },
   {
    "duration": 92,
    "start_time": "2023-01-20T14:54:27.919Z"
   },
   {
    "duration": 19,
    "start_time": "2023-01-20T14:54:28.013Z"
   },
   {
    "duration": 365,
    "start_time": "2023-01-20T14:54:28.036Z"
   },
   {
    "duration": 16,
    "start_time": "2023-01-20T14:54:28.403Z"
   },
   {
    "duration": 52,
    "start_time": "2023-01-20T14:54:28.421Z"
   },
   {
    "duration": 5,
    "start_time": "2023-01-20T14:54:28.478Z"
   },
   {
    "duration": 104,
    "start_time": "2023-01-20T14:54:28.486Z"
   },
   {
    "duration": 8,
    "start_time": "2023-01-20T14:54:28.592Z"
   },
   {
    "duration": 80,
    "start_time": "2023-01-20T14:54:28.602Z"
   },
   {
    "duration": 108,
    "start_time": "2023-01-20T14:54:28.684Z"
   },
   {
    "duration": 98,
    "start_time": "2023-01-20T14:54:28.794Z"
   },
   {
    "duration": 63,
    "start_time": "2023-01-20T14:54:28.895Z"
   },
   {
    "duration": 240,
    "start_time": "2023-01-20T14:54:28.961Z"
   },
   {
    "duration": 243,
    "start_time": "2023-01-20T14:54:29.254Z"
   },
   {
    "duration": 304,
    "start_time": "2023-01-20T14:54:29.556Z"
   },
   {
    "duration": 494,
    "start_time": "2023-01-20T14:54:29.862Z"
   },
   {
    "duration": 302,
    "start_time": "2023-01-20T14:54:30.358Z"
   },
   {
    "duration": 206,
    "start_time": "2023-01-20T14:54:30.663Z"
   },
   {
    "duration": 90,
    "start_time": "2023-01-20T14:54:30.872Z"
   },
   {
    "duration": 104,
    "start_time": "2023-01-20T14:54:30.964Z"
   },
   {
    "duration": 1345,
    "start_time": "2023-01-27T14:09:28.276Z"
   },
   {
    "duration": 745,
    "start_time": "2023-01-27T14:09:29.623Z"
   },
   {
    "duration": 12,
    "start_time": "2023-01-27T14:09:30.372Z"
   },
   {
    "duration": 41,
    "start_time": "2023-01-27T14:09:30.385Z"
   },
   {
    "duration": 11,
    "start_time": "2023-01-27T14:09:30.428Z"
   },
   {
    "duration": 93,
    "start_time": "2023-01-27T14:09:30.441Z"
   },
   {
    "duration": 73,
    "start_time": "2023-01-27T14:09:30.536Z"
   },
   {
    "duration": 3,
    "start_time": "2023-01-27T14:09:30.611Z"
   },
   {
    "duration": 30,
    "start_time": "2023-01-27T14:09:30.617Z"
   },
   {
    "duration": 22,
    "start_time": "2023-01-27T14:09:30.649Z"
   },
   {
    "duration": 39,
    "start_time": "2023-01-27T14:09:30.672Z"
   },
   {
    "duration": 120,
    "start_time": "2023-01-27T14:09:30.713Z"
   },
   {
    "duration": 10,
    "start_time": "2023-01-27T14:09:30.835Z"
   },
   {
    "duration": 178,
    "start_time": "2023-01-27T14:09:30.846Z"
   },
   {
    "duration": 20,
    "start_time": "2023-01-27T14:09:31.025Z"
   },
   {
    "duration": 46,
    "start_time": "2023-01-27T14:09:31.047Z"
   },
   {
    "duration": 41,
    "start_time": "2023-01-27T14:09:31.095Z"
   },
   {
    "duration": 30,
    "start_time": "2023-01-27T14:09:31.138Z"
   },
   {
    "duration": 47,
    "start_time": "2023-01-27T14:09:31.170Z"
   },
   {
    "duration": 437,
    "start_time": "2023-01-27T14:09:31.219Z"
   },
   {
    "duration": 34,
    "start_time": "2023-01-27T14:09:31.658Z"
   },
   {
    "duration": 9,
    "start_time": "2023-01-27T14:09:31.704Z"
   },
   {
    "duration": 396,
    "start_time": "2023-01-27T14:09:31.715Z"
   },
   {
    "duration": 75,
    "start_time": "2023-01-27T14:09:32.113Z"
   },
   {
    "duration": 21,
    "start_time": "2023-01-27T14:09:32.204Z"
   },
   {
    "duration": 12,
    "start_time": "2023-01-27T14:09:32.227Z"
   },
   {
    "duration": 64,
    "start_time": "2023-01-27T14:09:32.243Z"
   },
   {
    "duration": 466,
    "start_time": "2023-01-27T14:09:32.309Z"
   },
   {
    "duration": 39,
    "start_time": "2023-01-27T14:09:32.777Z"
   },
   {
    "duration": 86,
    "start_time": "2023-01-27T14:09:32.817Z"
   },
   {
    "duration": 15,
    "start_time": "2023-01-27T14:09:32.905Z"
   },
   {
    "duration": 250,
    "start_time": "2023-01-27T14:09:32.922Z"
   },
   {
    "duration": 14,
    "start_time": "2023-01-27T14:09:33.174Z"
   },
   {
    "duration": 18,
    "start_time": "2023-01-27T14:09:33.189Z"
   },
   {
    "duration": 4,
    "start_time": "2023-01-27T14:09:33.209Z"
   },
   {
    "duration": 111,
    "start_time": "2023-01-27T14:09:33.215Z"
   },
   {
    "duration": 7,
    "start_time": "2023-01-27T14:09:33.329Z"
   },
   {
    "duration": 83,
    "start_time": "2023-01-27T14:09:33.337Z"
   },
   {
    "duration": 69,
    "start_time": "2023-01-27T14:09:33.422Z"
   },
   {
    "duration": 24,
    "start_time": "2023-01-27T14:09:33.503Z"
   },
   {
    "duration": 6,
    "start_time": "2023-01-27T14:09:33.529Z"
   },
   {
    "duration": 120,
    "start_time": "2023-01-27T14:09:33.536Z"
   },
   {
    "duration": 111,
    "start_time": "2023-01-27T14:09:33.658Z"
   },
   {
    "duration": 107,
    "start_time": "2023-01-27T14:09:33.771Z"
   },
   {
    "duration": 161,
    "start_time": "2023-01-27T14:09:33.879Z"
   },
   {
    "duration": 123,
    "start_time": "2023-01-27T14:09:34.041Z"
   },
   {
    "duration": 87,
    "start_time": "2023-01-27T14:09:34.166Z"
   },
   {
    "duration": 29,
    "start_time": "2023-01-27T14:09:34.256Z"
   },
   {
    "duration": 18,
    "start_time": "2023-01-27T14:09:34.303Z"
   },
   {
    "duration": 1325,
    "start_time": "2023-01-27T16:24:18.574Z"
   },
   {
    "duration": 1037,
    "start_time": "2023-01-27T16:24:19.901Z"
   },
   {
    "duration": 11,
    "start_time": "2023-01-27T16:24:20.939Z"
   },
   {
    "duration": 24,
    "start_time": "2023-01-27T16:24:20.951Z"
   },
   {
    "duration": 4,
    "start_time": "2023-01-27T16:24:20.977Z"
   },
   {
    "duration": 59,
    "start_time": "2023-01-27T16:24:20.982Z"
   },
   {
    "duration": 63,
    "start_time": "2023-01-27T16:24:21.065Z"
   },
   {
    "duration": 3,
    "start_time": "2023-01-27T16:24:21.130Z"
   },
   {
    "duration": 15,
    "start_time": "2023-01-27T16:24:21.135Z"
   },
   {
    "duration": 14,
    "start_time": "2023-01-27T16:24:21.152Z"
   },
   {
    "duration": 22,
    "start_time": "2023-01-27T16:24:21.168Z"
   },
   {
    "duration": 118,
    "start_time": "2023-01-27T16:24:21.192Z"
   },
   {
    "duration": 9,
    "start_time": "2023-01-27T16:24:21.312Z"
   },
   {
    "duration": 143,
    "start_time": "2023-01-27T16:24:21.324Z"
   },
   {
    "duration": 12,
    "start_time": "2023-01-27T16:24:21.469Z"
   },
   {
    "duration": 14,
    "start_time": "2023-01-27T16:24:21.483Z"
   },
   {
    "duration": 12,
    "start_time": "2023-01-27T16:24:21.499Z"
   },
   {
    "duration": 8,
    "start_time": "2023-01-27T16:24:21.512Z"
   },
   {
    "duration": 9,
    "start_time": "2023-01-27T16:24:21.521Z"
   },
   {
    "duration": 459,
    "start_time": "2023-01-27T16:24:21.532Z"
   },
   {
    "duration": 28,
    "start_time": "2023-01-27T16:24:21.993Z"
   },
   {
    "duration": 34,
    "start_time": "2023-01-27T16:24:22.023Z"
   },
   {
    "duration": 325,
    "start_time": "2023-01-27T16:24:22.066Z"
   },
   {
    "duration": 70,
    "start_time": "2023-01-27T16:24:22.393Z"
   },
   {
    "duration": 20,
    "start_time": "2023-01-27T16:24:22.467Z"
   },
   {
    "duration": 12,
    "start_time": "2023-01-27T16:24:22.489Z"
   },
   {
    "duration": 59,
    "start_time": "2023-01-27T16:24:22.503Z"
   },
   {
    "duration": 447,
    "start_time": "2023-01-27T16:24:22.568Z"
   },
   {
    "duration": 48,
    "start_time": "2023-01-27T16:24:23.017Z"
   },
   {
    "duration": 69,
    "start_time": "2023-01-27T16:24:23.067Z"
   },
   {
    "duration": 18,
    "start_time": "2023-01-27T16:24:23.138Z"
   },
   {
    "duration": 244,
    "start_time": "2023-01-27T16:24:23.158Z"
   },
   {
    "duration": 11,
    "start_time": "2023-01-27T16:24:23.404Z"
   },
   {
    "duration": 17,
    "start_time": "2023-01-27T16:24:23.416Z"
   },
   {
    "duration": 3,
    "start_time": "2023-01-27T16:24:23.435Z"
   },
   {
    "duration": 54,
    "start_time": "2023-01-27T16:24:23.440Z"
   },
   {
    "duration": 61,
    "start_time": "2023-01-27T16:24:23.497Z"
   },
   {
    "duration": 35,
    "start_time": "2023-01-27T16:24:23.561Z"
   },
   {
    "duration": 69,
    "start_time": "2023-01-27T16:24:23.597Z"
   },
   {
    "duration": 21,
    "start_time": "2023-01-27T16:24:23.668Z"
   },
   {
    "duration": 6,
    "start_time": "2023-01-27T16:24:23.692Z"
   },
   {
    "duration": 122,
    "start_time": "2023-01-27T16:24:23.700Z"
   },
   {
    "duration": 109,
    "start_time": "2023-01-27T16:24:23.823Z"
   },
   {
    "duration": 122,
    "start_time": "2023-01-27T16:24:23.934Z"
   },
   {
    "duration": 140,
    "start_time": "2023-01-27T16:24:24.063Z"
   },
   {
    "duration": 105,
    "start_time": "2023-01-27T16:24:24.205Z"
   },
   {
    "duration": 82,
    "start_time": "2023-01-27T16:24:24.312Z"
   },
   {
    "duration": 19,
    "start_time": "2023-01-27T16:24:24.395Z"
   },
   {
    "duration": 17,
    "start_time": "2023-01-27T16:24:24.416Z"
   },
   {
    "duration": 1254,
    "start_time": "2023-03-07T02:07:40.992Z"
   },
   {
    "duration": 473,
    "start_time": "2023-03-07T02:07:42.249Z"
   },
   {
    "duration": 11,
    "start_time": "2023-03-07T02:07:42.724Z"
   },
   {
    "duration": 18,
    "start_time": "2023-03-07T02:07:42.736Z"
   },
   {
    "duration": 4,
    "start_time": "2023-03-07T02:07:42.755Z"
   },
   {
    "duration": 56,
    "start_time": "2023-03-07T02:07:42.760Z"
   },
   {
    "duration": 60,
    "start_time": "2023-03-07T02:07:42.831Z"
   },
   {
    "duration": 4,
    "start_time": "2023-03-07T02:07:42.892Z"
   },
   {
    "duration": 13,
    "start_time": "2023-03-07T02:07:42.898Z"
   },
   {
    "duration": 18,
    "start_time": "2023-03-07T02:07:42.913Z"
   },
   {
    "duration": 11,
    "start_time": "2023-03-07T02:07:42.932Z"
   },
   {
    "duration": 111,
    "start_time": "2023-03-07T02:07:42.944Z"
   },
   {
    "duration": 9,
    "start_time": "2023-03-07T02:07:43.056Z"
   },
   {
    "duration": 143,
    "start_time": "2023-03-07T02:07:43.067Z"
   },
   {
    "duration": 10,
    "start_time": "2023-03-07T02:07:43.211Z"
   },
   {
    "duration": 26,
    "start_time": "2023-03-07T02:07:43.231Z"
   },
   {
    "duration": 17,
    "start_time": "2023-03-07T02:07:43.258Z"
   },
   {
    "duration": 10,
    "start_time": "2023-03-07T02:07:43.277Z"
   },
   {
    "duration": 35,
    "start_time": "2023-03-07T02:07:43.288Z"
   },
   {
    "duration": 365,
    "start_time": "2023-03-07T02:07:43.325Z"
   },
   {
    "duration": 27,
    "start_time": "2023-03-07T02:07:43.691Z"
   },
   {
    "duration": 11,
    "start_time": "2023-03-07T02:07:43.730Z"
   },
   {
    "duration": 297,
    "start_time": "2023-03-07T02:07:43.742Z"
   },
   {
    "duration": 38,
    "start_time": "2023-03-07T02:07:44.040Z"
   },
   {
    "duration": 18,
    "start_time": "2023-03-07T02:07:44.080Z"
   },
   {
    "duration": 31,
    "start_time": "2023-03-07T02:07:44.100Z"
   },
   {
    "duration": 42,
    "start_time": "2023-03-07T02:07:44.133Z"
   },
   {
    "duration": 447,
    "start_time": "2023-03-07T02:07:44.178Z"
   },
   {
    "duration": 19,
    "start_time": "2023-03-07T02:07:44.627Z"
   },
   {
    "duration": 68,
    "start_time": "2023-03-07T02:07:44.648Z"
   },
   {
    "duration": 23,
    "start_time": "2023-03-07T02:07:44.718Z"
   },
   {
    "duration": 226,
    "start_time": "2023-03-07T02:07:44.743Z"
   },
   {
    "duration": 12,
    "start_time": "2023-03-07T02:07:44.971Z"
   },
   {
    "duration": 49,
    "start_time": "2023-03-07T02:07:44.985Z"
   },
   {
    "duration": 4,
    "start_time": "2023-03-07T02:07:45.036Z"
   },
   {
    "duration": 101,
    "start_time": "2023-03-07T02:07:45.042Z"
   },
   {
    "duration": 5,
    "start_time": "2023-03-07T02:07:45.145Z"
   },
   {
    "duration": 39,
    "start_time": "2023-03-07T02:07:45.152Z"
   },
   {
    "duration": 75,
    "start_time": "2023-03-07T02:07:45.193Z"
   },
   {
    "duration": 20,
    "start_time": "2023-03-07T02:07:45.270Z"
   },
   {
    "duration": 6,
    "start_time": "2023-03-07T02:07:45.291Z"
   },
   {
    "duration": 115,
    "start_time": "2023-03-07T02:07:45.298Z"
   },
   {
    "duration": 105,
    "start_time": "2023-03-07T02:07:45.415Z"
   },
   {
    "duration": 114,
    "start_time": "2023-03-07T02:07:45.521Z"
   },
   {
    "duration": 163,
    "start_time": "2023-03-07T02:07:45.636Z"
   },
   {
    "duration": 120,
    "start_time": "2023-03-07T02:07:45.801Z"
   },
   {
    "duration": 72,
    "start_time": "2023-03-07T02:07:45.923Z"
   },
   {
    "duration": 34,
    "start_time": "2023-03-07T02:07:45.997Z"
   },
   {
    "duration": 16,
    "start_time": "2023-03-07T02:07:46.033Z"
   }
  ],
  "kernelspec": {
   "display_name": "Python 3 (ipykernel)",
   "language": "python",
   "name": "python3"
  },
  "language_info": {
   "codemirror_mode": {
    "name": "ipython",
    "version": 3
   },
   "file_extension": ".py",
   "mimetype": "text/x-python",
   "name": "python",
   "nbconvert_exporter": "python",
   "pygments_lexer": "ipython3",
   "version": "3.9.12"
  },
  "toc": {
   "base_numbering": 1,
   "nav_menu": {},
   "number_sections": true,
   "sideBar": true,
   "skip_h1_title": true,
   "title_cell": "Table of Contents",
   "title_sidebar": "Contents",
   "toc_cell": false,
   "toc_position": {
    "height": "700px",
    "left": "52px",
    "top": "180px",
    "width": "408.875px"
   },
   "toc_section_display": true,
   "toc_window_display": true
  }
 },
 "nbformat": 4,
 "nbformat_minor": 2
}
